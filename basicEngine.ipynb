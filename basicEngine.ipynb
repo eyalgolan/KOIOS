{
 "cells": [
  {
   "cell_type": "markdown",
   "metadata": {
    "collapsed": true,
    "pycharm": {
     "name": "#%% md\n"
    }
   },
   "source": [
    "# Basic engine implementation"
   ]
  },
  {
   "cell_type": "markdown",
   "metadata": {},
   "source": [
    "#### setup"
   ]
  },
  {
   "cell_type": "code",
   "execution_count": 19,
   "metadata": {
    "pycharm": {
     "is_executing": false,
     "name": "#%%\n"
    },
    "scrolled": true
   },
   "outputs": [
    {
     "name": "stderr",
     "output_type": "stream",
     "text": [
      "[2021-03-19 19:03:59,780] [INFO] [<module>] [13] : Starting ...\n"
     ]
    }
   ],
   "source": [
    "import face_recognition, PIL.Image, PIL.ImageDraw,math\n",
    "import numpy as np\n",
    "import logging\n",
    "import cv2\n",
    "import platform\n",
    "from matplotlib import pyplot as plt\n",
    "from PIL import Image\n",
    "import scipy.signal as sig\n",
    "\n",
    "FORMAT = '[%(asctime)s] [%(levelname)s] [%(funcName)s] [%(lineno)d] : %(message)s'\n",
    "logging.basicConfig(format=FORMAT, level=logging.INFO)\n",
    "\n",
    "logging.info(\"Starting ...\")\n",
    "if platform.system() == \"Windows\":\n",
    "    seperator = \"\\\\\"\n",
    "else:\n",
    "    seperator = \"/\"\n",
    "\n",
    "dir = \"perry-all-2\"\n",
    "# should be a parameter of the engine\n",
    "dataset_location = \"..\" + seperator + \"dataset\" + seperator + \"good_sync\" + seperator\n",
    "specific_dir = dir\n",
    "video_location = dataset_location + specific_dir + seperator + \"test.mp4\"\n"
   ]
  },
  {
   "cell_type": "markdown",
   "metadata": {},
   "source": [
    "#### Detecting the face landmarks and parsing the ROI"
   ]
  },
  {
   "cell_type": "code",
   "execution_count": 20,
   "metadata": {
    "pycharm": {
     "is_executing": false,
     "name": "#%%\n"
    },
    "scrolled": true
   },
   "outputs": [],
   "source": [
    "def parse_roi(frame):\n",
    "    # image = face_recognition.load_image_file(frame) # read image.\n",
    "    face_locations = face_recognition.face_locations(frame,model = 'hog') # detects all the faces in image\n",
    "    face_landmarks_list = face_recognition.face_landmarks(image)\n",
    "    \n",
    "    # iterate through all the faces.\n",
    "    for face_location in face_locations:\n",
    "#         img = PIL.Image.open(frame)\n",
    "        img = PIL.Image.fromarray(frame)\n",
    "        top,right,bottom,left = face_location # extract all face square points.\n",
    "        diff = math.floor((top - bottom) * 0.2) # 30 percent of the face len (toadd eyebrow top point).\n",
    "        # Finding the forehead.\n",
    "        right_eyebrow_landmarks = np.asarray(face_landmarks_list[0]['right_eyebrow']) # right eyebrow points.\n",
    "        right_eyebrow_landmarks.sort(axis=0)\n",
    "        rightest_point = right_eyebrow_landmarks[-1] # The most right point of the ROI(according to x).\n",
    "        top_right_eyebrow = right_eyebrow_landmarks.min(axis = 0)[1]\n",
    "        left_eyebrow_landmarks = np.asarray(face_landmarks_list[0]['left_eyebrow'])\n",
    "        left_eyebrow_landmarks.sort(axis=0)\n",
    "        leftest_point = left_eyebrow_landmarks[0] # the most left point of ROI.(according to x)\n",
    "        top_left_eyebrow = left_eyebrow_landmarks.min(axis = 0)[1]\n",
    "        bottom = min(top_right_eyebrow,top_left_eyebrow).item(0) # bottom point of the forehead.\n",
    "        bottom = bottom - (0.05 * bottom) # improve bottom location by 2 percent.\n",
    "        forehead = img.crop((leftest_point[0], leftest_point[1]+diff, rightest_point[0],bottom)) # adding diff to top to make the forehead bigger.\n",
    "\n",
    "        # Finding the second ROI:\n",
    "        upper_mouth = np.asarray(face_landmarks_list[0]['top_lip']) # top_lip landmarks\n",
    "        upper_mouth_min = upper_mouth.min(axis = 0)[1] # The  top - lip upper point.\n",
    "        upper_nose = np.asarray(face_landmarks_list[0]['nose_bridge'])\n",
    "        upper_nose_min = upper_nose.min(axis = 0)[1]  # noise bridge upper point.\n",
    "        upper_nose_min += upper_mouth_min * 0.1 # improving the noise bridge upper point.\n",
    "        nose_to_upper_lip = img.crop((leftest_point[0], upper_nose_min, rightest_point[0], upper_mouth_min))\n",
    "#         try:\n",
    "#             concat_roi_areas = np.concatenate((forehead, nose_to_upper_lip), axis=0)\n",
    "#             cv2.imwrite('frame_roi_output.jpg', concat_roi_areas)\n",
    "        return (forehead, nose_to_upper_lip)\n",
    "#         except:\n",
    "#             logging.warning(\"concat of roi areas failed\")\n",
    "#             return None\n",
    "    return None # in case of which no face was detected"
   ]
  },
  {
   "cell_type": "markdown",
   "metadata": {},
   "source": [
    "### Check for bad frames\n",
    "##### R > 95 and G > 40 and B > 20 and R > G and R > B\n",
    "##### Based on https://arxiv.org/ftp/arxiv/papers/1708/1708.02694.pdf page 5"
   ]
  },
  {
   "cell_type": "code",
   "execution_count": 21,
   "metadata": {
    "pycharm": {
     "is_executing": true,
     "name": "#%%s\n"
    },
    "scrolled": true
   },
   "outputs": [],
   "source": [
    "def bad_frame(blue, green, red):\n",
    "    if red > 95 and green > 40 and blue > 20 and red >green and red > blue:\n",
    "        return False\n",
    "    logging.warning(\"bad frame detected\")\n",
    "    return True"
   ]
  },
  {
   "cell_type": "markdown",
   "metadata": {},
   "source": [
    "#### Getting RGB values from a frame and adding them to arrays"
   ]
  },
  {
   "cell_type": "code",
   "execution_count": 22,
   "metadata": {
    "pycharm": {
     "is_executing": true,
     "name": "#%%s\n"
    },
    "scrolled": true
   },
   "outputs": [],
   "source": [
    "def parse_RGB(roi, color_sig):\n",
    "    \"\"\"\n",
    "    Parses an image to its RGB channels\n",
    "    :param image: the image to be parsed\n",
    "    :param vidcap:\n",
    "    :param greens: array containing green channel values\n",
    "    :param blues: array containing blue channel values\n",
    "    :param reds: array containing red channel values\n",
    "    :param frame_number - is the number of the frame of the video.\n",
    "    :return: a flag indicating if there is a next image, and the next image\n",
    "    \"\"\"\n",
    "    im = cv2.cvtColor(roi, cv2.COLOR_RGB2BGR) # inorder to use cv2.split() we need to address the image as BGR (instead of RGB)\n",
    "    blue, green, red = cv2.split(im)\n",
    "    b_mean,g_mean,r_mean = np.mean(blue),np.mean(green),np.mean(red)\n",
    "    if not bad_frame(b_mean,g_mean,r_mean):\n",
    "        color_channels = roi.reshape(-1, roi.shape[-1])\n",
    "        avg_color = color_channels.mean(axis=0) \n",
    "        color_sig.append(avg_color)\n",
    "        return True, color_sig\n",
    "    return False, color_sig"
   ]
  },
  {
   "cell_type": "code",
   "execution_count": 23,
   "metadata": {
    "pycharm": {
     "is_executing": true,
     "name": "#%%s\n"
    },
    "scrolled": true
   },
   "outputs": [],
   "source": [
    "def get_new_frame(vidcap):\n",
    "    success, image = vidcap.read()\n",
    "    return success, image"
   ]
  },
  {
   "cell_type": "markdown",
   "metadata": {},
   "source": [
    "#### Plotting RGB arrays results"
   ]
  },
  {
   "cell_type": "code",
   "execution_count": 24,
   "metadata": {
    "pycharm": {
     "is_executing": true,
     "name": "#%%\n"
    },
    "scrolled": true
   },
   "outputs": [],
   "source": [
    "def plot_result(greens, reds, blues, x_value, title=\"\"):\n",
    "    logging.info(\"Plotting results ...\" + title)\n",
    "    plt.figure(figsize=(6, 5))\n",
    "    plt.title(title)\n",
    "    plt.xlabel(\"Time\")\n",
    "    plt.ylabel(\"Value\")\n",
    "    plt.subplot(3, 1, 1)\n",
    "    plt.plot(x_value, greens, color=\"green\")\n",
    "    plt.subplot(3, 1, 2)\n",
    "    plt.plot(x_value, reds, color=\"red\")\n",
    "    plt.subplot(3, 1, 3)\n",
    "    plt.plot(x_value, blues, color=\"blue\")\n",
    "    plt.show()\n",
    "    logging.info(\"Showing result\")"
   ]
  },
  {
   "cell_type": "markdown",
   "metadata": {},
   "source": [
    "#### Filtering:"
   ]
  },
  {
   "cell_type": "code",
   "execution_count": 25,
   "metadata": {
    "pycharm": {
     "is_executing": true
    },
    "scrolled": true
   },
   "outputs": [],
   "source": [
    "def filter_channel(channel,fs):\n",
    "    \"\"\"\n",
    "    This method apply filter on a channel between 0.75HZ to 4HZ.\n",
    "    :param channel: Is a signal to apply the filter to.\n",
    "    :param fs: Is the sampling rate of channel.\n",
    "    :return: The filtered channel.\n",
    "    \"\"\"\n",
    "    bh, ah = sig.butter(4, 0.75 / (fs / 2), 'highpass')\n",
    "    bl, al = sig.butter(4, 4 / (fs / 2), 'lowpass')\n",
    "    channel = sig.filtfilt(bh, ah, channel) # applying the filter coefficient on the sig\n",
    "    channel = np.absolute(channel)\n",
    "    channel_after_filter = sig.filtfilt(bl, al, channel) # applying the filter coefficient on the sig\n",
    "    return channel_after_filter"
   ]
  },
  {
   "cell_type": "markdown",
   "metadata": {},
   "source": [
    "#### Main loop - going over all the frames of the video"
   ]
  },
  {
   "cell_type": "code",
   "execution_count": 26,
   "metadata": {
    "pycharm": {
     "is_executing": true,
     "name": "#%%\n"
    },
    "scrolled": true
   },
   "outputs": [],
   "source": [
    "def plotSignals(signals, label):\n",
    "    seconds = np.arange(0, WINDOW_TIME_SEC, 1.0 / FPS)\n",
    "    colors = [\"r\", \"g\", \"b\"]\n",
    "    fig = plt.figure()\n",
    "    fig.patch.set_facecolor('white')\n",
    "    for i in range(3):\n",
    "        plt.plot(seconds, signals[:,i], colors[i])\n",
    "    plt.xlabel('Time (sec)', fontsize=17)\n",
    "    plt.ylabel(label, fontsize=17)\n",
    "    plt.tick_params(axis='x', labelsize=17)\n",
    "    plt.tick_params(axis='y', labelsize=17)\n",
    "    plt.show()\n",
    "\n",
    "def plotSpectrum(freqs, powerSpec):\n",
    "    idx = np.argsort(freqs)\n",
    "    fig = plt.figure()\n",
    "    fig.patch.set_facecolor('white')\n",
    "    for i in range(3):\n",
    "        plt.plot(freqs[idx], powerSpec[idx,i])\n",
    "    plt.xlabel(\"Frequency (Hz)\", fontsize=17)\n",
    "    plt.ylabel(\"Power\", fontsize=17)\n",
    "    plt.tick_params(axis='x', labelsize=17)\n",
    "    plt.tick_params(axis='y', labelsize=17)\n",
    "    plt.xlim([0.75, 4])\n",
    "    plt.show()"
   ]
  },
  {
   "cell_type": "code",
   "execution_count": 27,
   "metadata": {
    "pycharm": {
     "is_executing": true,
     "name": "#%%\n"
    },
    "scrolled": true
   },
   "outputs": [],
   "source": [
    "from sklearn.decomposition import FastICA\n",
    "MIN_HR_BPM = 45.0\n",
    "MAX_HR_BMP = 240.0\n",
    "SEC_PER_MIN = 60\n",
    "FPS = 14.99\n",
    "WINDOW_TIME_SEC = 30\n",
    "WINDOW_SIZE = int(np.ceil(WINDOW_TIME_SEC * FPS))\n",
    "\n",
    "def getHeartRate(window):\n",
    "    # Normalize across the window to have zero-mean and unit variance\n",
    "    mean = np.mean(window, axis=0)\n",
    "    std = np.std(window, axis=0)\n",
    "    normalized = (window - mean) / std\n",
    "\n",
    "    # Separate into three source signals using ICA\n",
    "    ica = FastICA()\n",
    "    srcSig = ica.fit_transform(normalized)\n",
    "\n",
    "    # Find power spectrum\n",
    "    powerSpec = np.abs(np.fft.fft(srcSig, axis=0))**2\n",
    "    freqs = np.fft.fftfreq(WINDOW_SIZE, 1.0 / FPS)\n",
    "\n",
    "    # Find heart rate\n",
    "    maxPwrSrc = np.max(powerSpec, axis=1)\n",
    "    validIdx = np.where((freqs >= MIN_HR_BPM / SEC_PER_MIN) & (freqs <= MAX_HR_BMP / SEC_PER_MIN))\n",
    "    validPwr = maxPwrSrc[validIdx]\n",
    "    validFreqs = freqs[validIdx]\n",
    "    maxPwrIdx = np.argmax(validPwr)\n",
    "    hr = validFreqs[maxPwrIdx]\n",
    "    print(hr)\n",
    "\n",
    "    plotSignals(normalized, \"Normalized color intensity\")\n",
    "    plotSignals(srcSig, \"Source signal strength\")\n",
    "    plotSpectrum(freqs, powerSpec)\n",
    "\n",
    "    return hr"
   ]
  },
  {
   "cell_type": "code",
   "execution_count": 33,
   "metadata": {
    "pycharm": {
     "is_executing": true,
     "name": "#%%\n"
    },
    "scrolled": true
   },
   "outputs": [
    {
     "name": "stderr",
     "output_type": "stream",
     "text": [
      "[2021-03-19 19:08:07,182] [INFO] [<module>] [2] : Working on video ../dataset/good_sync/perry-all-2/test.mp4\n",
      "[2021-03-19 19:08:07,206] [INFO] [<module>] [12] : Parsing images ...\n",
      "[2021-03-19 19:08:07,207] [INFO] [<module>] [14] : parsing frame 0/179.0\n",
      "[2021-03-19 19:08:07,614] [INFO] [<module>] [14] : parsing frame 1/179.0\n",
      "[2021-03-19 19:08:08,012] [INFO] [<module>] [14] : parsing frame 2/179.0\n",
      "[2021-03-19 19:08:08,428] [INFO] [<module>] [14] : parsing frame 3/179.0\n",
      "[2021-03-19 19:08:08,838] [INFO] [<module>] [14] : parsing frame 4/179.0\n",
      "[2021-03-19 19:08:09,238] [INFO] [<module>] [14] : parsing frame 5/179.0\n",
      "[2021-03-19 19:08:09,631] [INFO] [<module>] [14] : parsing frame 6/179.0\n",
      "[2021-03-19 19:08:10,045] [INFO] [<module>] [14] : parsing frame 7/179.0\n",
      "[2021-03-19 19:08:10,433] [INFO] [<module>] [14] : parsing frame 8/179.0\n",
      "[2021-03-19 19:08:10,844] [INFO] [<module>] [14] : parsing frame 9/179.0\n",
      "[2021-03-19 19:08:11,246] [INFO] [<module>] [14] : parsing frame 10/179.0\n",
      "[2021-03-19 19:08:11,652] [INFO] [<module>] [14] : parsing frame 11/179.0\n",
      "[2021-03-19 19:08:12,043] [INFO] [<module>] [14] : parsing frame 12/179.0\n",
      "[2021-03-19 19:08:12,446] [INFO] [<module>] [14] : parsing frame 13/179.0\n",
      "[2021-03-19 19:08:12,837] [INFO] [<module>] [14] : parsing frame 14/179.0\n",
      "[2021-03-19 19:08:13,226] [INFO] [<module>] [14] : parsing frame 15/179.0\n",
      "[2021-03-19 19:08:13,624] [INFO] [<module>] [14] : parsing frame 16/179.0\n",
      "[2021-03-19 19:08:14,008] [INFO] [<module>] [14] : parsing frame 17/179.0\n",
      "[2021-03-19 19:08:14,400] [INFO] [<module>] [14] : parsing frame 18/179.0\n",
      "[2021-03-19 19:08:14,796] [INFO] [<module>] [14] : parsing frame 19/179.0\n",
      "[2021-03-19 19:08:15,190] [INFO] [<module>] [14] : parsing frame 20/179.0\n",
      "[2021-03-19 19:08:15,581] [INFO] [<module>] [14] : parsing frame 21/179.0\n",
      "[2021-03-19 19:08:15,970] [INFO] [<module>] [14] : parsing frame 22/179.0\n",
      "[2021-03-19 19:08:16,362] [INFO] [<module>] [14] : parsing frame 23/179.0\n",
      "[2021-03-19 19:08:16,749] [INFO] [<module>] [14] : parsing frame 24/179.0\n",
      "[2021-03-19 19:08:17,137] [INFO] [<module>] [14] : parsing frame 25/179.0\n",
      "[2021-03-19 19:08:17,526] [INFO] [<module>] [14] : parsing frame 26/179.0\n",
      "[2021-03-19 19:08:17,914] [INFO] [<module>] [14] : parsing frame 27/179.0\n",
      "[2021-03-19 19:08:18,302] [INFO] [<module>] [14] : parsing frame 28/179.0\n",
      "[2021-03-19 19:08:18,689] [INFO] [<module>] [14] : parsing frame 29/179.0\n",
      "[2021-03-19 19:08:19,080] [INFO] [<module>] [14] : parsing frame 30/179.0\n",
      "[2021-03-19 19:08:19,477] [INFO] [<module>] [14] : parsing frame 31/179.0\n",
      "[2021-03-19 19:08:19,892] [INFO] [<module>] [14] : parsing frame 32/179.0\n",
      "[2021-03-19 19:08:20,282] [INFO] [<module>] [14] : parsing frame 33/179.0\n",
      "[2021-03-19 19:08:20,670] [INFO] [<module>] [14] : parsing frame 34/179.0\n",
      "[2021-03-19 19:08:21,056] [INFO] [<module>] [14] : parsing frame 35/179.0\n",
      "[2021-03-19 19:08:21,447] [INFO] [<module>] [14] : parsing frame 36/179.0\n",
      "[2021-03-19 19:08:21,836] [INFO] [<module>] [14] : parsing frame 37/179.0\n",
      "[2021-03-19 19:08:22,225] [INFO] [<module>] [14] : parsing frame 38/179.0\n",
      "[2021-03-19 19:08:22,612] [INFO] [<module>] [14] : parsing frame 39/179.0\n",
      "[2021-03-19 19:08:23,002] [INFO] [<module>] [14] : parsing frame 40/179.0\n",
      "[2021-03-19 19:08:23,390] [INFO] [<module>] [14] : parsing frame 41/179.0\n",
      "[2021-03-19 19:08:23,780] [INFO] [<module>] [14] : parsing frame 42/179.0\n",
      "[2021-03-19 19:08:24,169] [INFO] [<module>] [14] : parsing frame 43/179.0\n",
      "[2021-03-19 19:08:24,555] [INFO] [<module>] [14] : parsing frame 44/179.0\n",
      "[2021-03-19 19:08:24,947] [INFO] [<module>] [14] : parsing frame 45/179.0\n",
      "[2021-03-19 19:08:25,334] [INFO] [<module>] [14] : parsing frame 46/179.0\n",
      "[2021-03-19 19:08:25,729] [INFO] [<module>] [14] : parsing frame 47/179.0\n",
      "[2021-03-19 19:08:26,116] [INFO] [<module>] [14] : parsing frame 48/179.0\n",
      "[2021-03-19 19:08:26,503] [INFO] [<module>] [14] : parsing frame 49/179.0\n",
      "[2021-03-19 19:08:26,897] [INFO] [<module>] [14] : parsing frame 50/179.0\n",
      "[2021-03-19 19:08:27,291] [INFO] [<module>] [14] : parsing frame 51/179.0\n",
      "[2021-03-19 19:08:27,680] [INFO] [<module>] [14] : parsing frame 52/179.0\n",
      "[2021-03-19 19:08:28,072] [INFO] [<module>] [14] : parsing frame 53/179.0\n",
      "[2021-03-19 19:08:28,462] [INFO] [<module>] [14] : parsing frame 54/179.0\n",
      "[2021-03-19 19:08:28,849] [INFO] [<module>] [14] : parsing frame 55/179.0\n",
      "[2021-03-19 19:08:29,241] [INFO] [<module>] [14] : parsing frame 56/179.0\n",
      "[2021-03-19 19:08:29,636] [INFO] [<module>] [14] : parsing frame 57/179.0\n",
      "[2021-03-19 19:08:30,021] [INFO] [<module>] [14] : parsing frame 58/179.0\n",
      "[2021-03-19 19:08:30,408] [INFO] [<module>] [14] : parsing frame 59/179.0\n",
      "[2021-03-19 19:08:30,801] [INFO] [<module>] [14] : parsing frame 60/179.0\n",
      "[2021-03-19 19:08:31,186] [INFO] [<module>] [14] : parsing frame 61/179.0\n",
      "[2021-03-19 19:08:31,574] [INFO] [<module>] [14] : parsing frame 62/179.0\n",
      "[2021-03-19 19:08:31,969] [INFO] [<module>] [14] : parsing frame 63/179.0\n",
      "[2021-03-19 19:08:32,361] [INFO] [<module>] [14] : parsing frame 64/179.0\n",
      "[2021-03-19 19:08:32,749] [INFO] [<module>] [14] : parsing frame 65/179.0\n",
      "[2021-03-19 19:08:33,138] [INFO] [<module>] [14] : parsing frame 66/179.0\n",
      "[2021-03-19 19:08:33,525] [INFO] [<module>] [14] : parsing frame 67/179.0\n",
      "[2021-03-19 19:08:33,915] [INFO] [<module>] [14] : parsing frame 68/179.0\n",
      "[2021-03-19 19:08:34,305] [INFO] [<module>] [14] : parsing frame 69/179.0\n",
      "[2021-03-19 19:08:34,695] [INFO] [<module>] [14] : parsing frame 70/179.0\n",
      "[2021-03-19 19:08:35,093] [INFO] [<module>] [14] : parsing frame 71/179.0\n",
      "[2021-03-19 19:08:35,477] [INFO] [<module>] [14] : parsing frame 72/179.0\n",
      "[2021-03-19 19:08:35,869] [INFO] [<module>] [14] : parsing frame 73/179.0\n",
      "[2021-03-19 19:08:36,255] [INFO] [<module>] [14] : parsing frame 74/179.0\n",
      "[2021-03-19 19:08:36,646] [INFO] [<module>] [14] : parsing frame 75/179.0\n",
      "[2021-03-19 19:08:37,036] [INFO] [<module>] [14] : parsing frame 76/179.0\n",
      "[2021-03-19 19:08:37,431] [INFO] [<module>] [14] : parsing frame 77/179.0\n",
      "[2021-03-19 19:08:37,823] [INFO] [<module>] [14] : parsing frame 78/179.0\n",
      "[2021-03-19 19:08:38,216] [INFO] [<module>] [14] : parsing frame 79/179.0\n",
      "[2021-03-19 19:08:38,605] [INFO] [<module>] [14] : parsing frame 80/179.0\n",
      "[2021-03-19 19:08:38,995] [INFO] [<module>] [14] : parsing frame 81/179.0\n",
      "[2021-03-19 19:08:39,391] [INFO] [<module>] [14] : parsing frame 82/179.0\n",
      "[2021-03-19 19:08:39,781] [INFO] [<module>] [14] : parsing frame 83/179.0\n",
      "[2021-03-19 19:08:40,175] [INFO] [<module>] [14] : parsing frame 84/179.0\n",
      "[2021-03-19 19:08:40,563] [INFO] [<module>] [14] : parsing frame 85/179.0\n",
      "[2021-03-19 19:08:40,952] [INFO] [<module>] [14] : parsing frame 86/179.0\n",
      "[2021-03-19 19:08:41,337] [INFO] [<module>] [14] : parsing frame 87/179.0\n",
      "[2021-03-19 19:08:41,731] [INFO] [<module>] [14] : parsing frame 88/179.0\n",
      "[2021-03-19 19:08:42,138] [INFO] [<module>] [14] : parsing frame 89/179.0\n",
      "[2021-03-19 19:08:42,529] [INFO] [<module>] [14] : parsing frame 90/179.0\n",
      "[2021-03-19 19:08:42,925] [INFO] [<module>] [14] : parsing frame 91/179.0\n",
      "[2021-03-19 19:08:43,323] [INFO] [<module>] [14] : parsing frame 92/179.0\n",
      "[2021-03-19 19:08:43,715] [INFO] [<module>] [14] : parsing frame 93/179.0\n",
      "[2021-03-19 19:08:44,121] [INFO] [<module>] [14] : parsing frame 94/179.0\n",
      "[2021-03-19 19:08:44,514] [INFO] [<module>] [14] : parsing frame 95/179.0\n",
      "[2021-03-19 19:08:44,910] [INFO] [<module>] [14] : parsing frame 96/179.0\n",
      "[2021-03-19 19:08:45,299] [INFO] [<module>] [14] : parsing frame 97/179.0\n",
      "[2021-03-19 19:08:45,684] [INFO] [<module>] [14] : parsing frame 98/179.0\n",
      "[2021-03-19 19:08:46,080] [INFO] [<module>] [14] : parsing frame 99/179.0\n",
      "[2021-03-19 19:08:46,467] [INFO] [<module>] [14] : parsing frame 100/179.0\n",
      "[2021-03-19 19:08:46,856] [INFO] [<module>] [14] : parsing frame 101/179.0\n",
      "[2021-03-19 19:08:47,248] [INFO] [<module>] [14] : parsing frame 102/179.0\n",
      "[2021-03-19 19:08:47,640] [INFO] [<module>] [14] : parsing frame 103/179.0\n",
      "[2021-03-19 19:08:48,031] [INFO] [<module>] [14] : parsing frame 104/179.0\n",
      "[2021-03-19 19:08:48,421] [INFO] [<module>] [14] : parsing frame 105/179.0\n",
      "[2021-03-19 19:08:48,814] [INFO] [<module>] [14] : parsing frame 106/179.0\n",
      "[2021-03-19 19:08:49,203] [INFO] [<module>] [14] : parsing frame 107/179.0\n",
      "[2021-03-19 19:08:49,594] [INFO] [<module>] [14] : parsing frame 108/179.0\n"
     ]
    },
    {
     "name": "stderr",
     "output_type": "stream",
     "text": [
      "[2021-03-19 19:08:49,993] [INFO] [<module>] [14] : parsing frame 109/179.0\n",
      "[2021-03-19 19:08:50,396] [INFO] [<module>] [14] : parsing frame 110/179.0\n",
      "[2021-03-19 19:08:50,794] [INFO] [<module>] [14] : parsing frame 111/179.0\n",
      "[2021-03-19 19:08:51,194] [INFO] [<module>] [14] : parsing frame 112/179.0\n",
      "[2021-03-19 19:08:51,599] [INFO] [<module>] [14] : parsing frame 113/179.0\n",
      "[2021-03-19 19:08:51,997] [INFO] [<module>] [14] : parsing frame 114/179.0\n",
      "[2021-03-19 19:08:52,394] [INFO] [<module>] [14] : parsing frame 115/179.0\n",
      "[2021-03-19 19:08:52,792] [INFO] [<module>] [14] : parsing frame 116/179.0\n",
      "[2021-03-19 19:08:53,183] [INFO] [<module>] [14] : parsing frame 117/179.0\n",
      "[2021-03-19 19:08:53,596] [INFO] [<module>] [14] : parsing frame 118/179.0\n",
      "[2021-03-19 19:08:54,001] [INFO] [<module>] [14] : parsing frame 119/179.0\n",
      "[2021-03-19 19:08:54,412] [INFO] [<module>] [14] : parsing frame 120/179.0\n",
      "[2021-03-19 19:08:54,812] [INFO] [<module>] [14] : parsing frame 121/179.0\n",
      "[2021-03-19 19:08:55,207] [INFO] [<module>] [14] : parsing frame 122/179.0\n",
      "[2021-03-19 19:08:55,603] [INFO] [<module>] [14] : parsing frame 123/179.0\n",
      "[2021-03-19 19:08:56,007] [INFO] [<module>] [14] : parsing frame 124/179.0\n",
      "[2021-03-19 19:08:56,399] [INFO] [<module>] [14] : parsing frame 125/179.0\n",
      "[2021-03-19 19:08:56,792] [INFO] [<module>] [14] : parsing frame 126/179.0\n",
      "[2021-03-19 19:08:57,192] [INFO] [<module>] [14] : parsing frame 127/179.0\n",
      "[2021-03-19 19:08:57,589] [INFO] [<module>] [14] : parsing frame 128/179.0\n",
      "[2021-03-19 19:08:57,990] [INFO] [<module>] [14] : parsing frame 129/179.0\n",
      "[2021-03-19 19:08:58,382] [INFO] [<module>] [14] : parsing frame 130/179.0\n",
      "[2021-03-19 19:08:58,775] [INFO] [<module>] [14] : parsing frame 131/179.0\n",
      "[2021-03-19 19:08:59,164] [INFO] [<module>] [14] : parsing frame 132/179.0\n",
      "[2021-03-19 19:08:59,553] [INFO] [<module>] [14] : parsing frame 133/179.0\n",
      "[2021-03-19 19:08:59,944] [INFO] [<module>] [14] : parsing frame 134/179.0\n",
      "[2021-03-19 19:09:00,337] [INFO] [<module>] [14] : parsing frame 135/179.0\n",
      "[2021-03-19 19:09:00,729] [INFO] [<module>] [14] : parsing frame 136/179.0\n",
      "[2021-03-19 19:09:01,123] [INFO] [<module>] [14] : parsing frame 137/179.0\n",
      "[2021-03-19 19:09:01,510] [INFO] [<module>] [14] : parsing frame 138/179.0\n",
      "[2021-03-19 19:09:01,905] [INFO] [<module>] [14] : parsing frame 139/179.0\n",
      "[2021-03-19 19:09:02,294] [INFO] [<module>] [14] : parsing frame 140/179.0\n",
      "[2021-03-19 19:09:02,684] [INFO] [<module>] [14] : parsing frame 141/179.0\n",
      "[2021-03-19 19:09:03,073] [INFO] [<module>] [14] : parsing frame 142/179.0\n",
      "[2021-03-19 19:09:03,466] [INFO] [<module>] [14] : parsing frame 143/179.0\n",
      "[2021-03-19 19:09:03,864] [INFO] [<module>] [14] : parsing frame 144/179.0\n",
      "[2021-03-19 19:09:04,272] [INFO] [<module>] [14] : parsing frame 145/179.0\n",
      "[2021-03-19 19:09:04,671] [INFO] [<module>] [14] : parsing frame 146/179.0\n",
      "[2021-03-19 19:09:05,159] [INFO] [<module>] [14] : parsing frame 147/179.0\n",
      "[2021-03-19 19:09:05,630] [INFO] [<module>] [14] : parsing frame 148/179.0\n",
      "[2021-03-19 19:09:06,044] [INFO] [<module>] [14] : parsing frame 149/179.0\n",
      "[2021-03-19 19:09:06,435] [INFO] [<module>] [14] : parsing frame 150/179.0\n",
      "[2021-03-19 19:09:06,838] [INFO] [<module>] [14] : parsing frame 151/179.0\n",
      "[2021-03-19 19:09:07,247] [INFO] [<module>] [14] : parsing frame 152/179.0\n",
      "[2021-03-19 19:09:07,707] [INFO] [<module>] [14] : parsing frame 153/179.0\n",
      "[2021-03-19 19:09:08,166] [INFO] [<module>] [14] : parsing frame 154/179.0\n",
      "[2021-03-19 19:09:08,613] [INFO] [<module>] [14] : parsing frame 155/179.0\n",
      "[2021-03-19 19:09:09,136] [INFO] [<module>] [14] : parsing frame 156/179.0\n",
      "[2021-03-19 19:09:09,937] [INFO] [<module>] [14] : parsing frame 157/179.0\n",
      "[2021-03-19 19:09:10,425] [INFO] [<module>] [14] : parsing frame 158/179.0\n",
      "[2021-03-19 19:09:10,878] [INFO] [<module>] [14] : parsing frame 159/179.0\n",
      "[2021-03-19 19:09:11,332] [INFO] [<module>] [14] : parsing frame 160/179.0\n",
      "[2021-03-19 19:09:11,785] [INFO] [<module>] [14] : parsing frame 161/179.0\n",
      "[2021-03-19 19:09:12,256] [INFO] [<module>] [14] : parsing frame 162/179.0\n",
      "[2021-03-19 19:09:12,714] [INFO] [<module>] [14] : parsing frame 163/179.0\n",
      "[2021-03-19 19:09:13,191] [INFO] [<module>] [14] : parsing frame 164/179.0\n",
      "[2021-03-19 19:09:13,654] [INFO] [<module>] [14] : parsing frame 165/179.0\n",
      "[2021-03-19 19:09:14,103] [INFO] [<module>] [14] : parsing frame 166/179.0\n",
      "[2021-03-19 19:09:14,533] [INFO] [<module>] [14] : parsing frame 167/179.0\n",
      "[2021-03-19 19:09:14,961] [INFO] [<module>] [14] : parsing frame 168/179.0\n",
      "[2021-03-19 19:09:15,379] [INFO] [<module>] [14] : parsing frame 169/179.0\n",
      "[2021-03-19 19:09:15,787] [INFO] [<module>] [14] : parsing frame 170/179.0\n",
      "[2021-03-19 19:09:16,207] [INFO] [<module>] [14] : parsing frame 171/179.0\n",
      "[2021-03-19 19:09:16,644] [INFO] [<module>] [14] : parsing frame 172/179.0\n",
      "[2021-03-19 19:09:17,134] [INFO] [<module>] [14] : parsing frame 173/179.0\n",
      "[2021-03-19 19:09:17,691] [INFO] [<module>] [14] : parsing frame 174/179.0\n",
      "[2021-03-19 19:09:18,197] [INFO] [<module>] [14] : parsing frame 175/179.0\n",
      "[2021-03-19 19:09:18,714] [INFO] [<module>] [14] : parsing frame 176/179.0\n",
      "[2021-03-19 19:09:19,205] [INFO] [<module>] [14] : parsing frame 177/179.0\n",
      "[2021-03-19 19:09:19,684] [INFO] [<module>] [14] : parsing frame 178/179.0\n"
     ]
    }
   ],
   "source": [
    "# Parsing video:\n",
    "logging.info(\"Working on video \" + video_location)\n",
    "vidcap = cv2.VideoCapture(video_location)\n",
    "success, image = vidcap.read()\n",
    "fps = vidcap.get(cv2.CAP_PROP_FPS) # fs == sampling rate\n",
    "round_fps = np.round(fps)\n",
    "number_of_frames = vidcap.get(cv2.CAP_PROP_FRAME_COUNT)\n",
    "window_size = 30\n",
    "color_sig = []\n",
    "frame_number = 0\n",
    "heart_rates = []\n",
    "logging.info(\"Parsing images ...\")\n",
    "while success:\n",
    "    logging.info(\"parsing frame \" + str(frame_number) + \"/\" + str(number_of_frames))\n",
    "    # im.save(\"your_file.jpeg\")\n",
    "    rois = parse_roi(cv2.cvtColor(image, cv2.COLOR_BGR2RGB))  # build image ROI (rois is a tuple contains two regions)\n",
    "    if rois is not None : \n",
    "#     image = cv2.imread(\"frame_roi_output.jpg\") # possible BUG: read the same image twice if face not detected.(FIXED)\n",
    "#         roi = np.vstack((rois[0],rois[1]))\n",
    "        roi = np.asarray(rois[0])\n",
    "        is_good_frame,color_sig = parse_RGB(roi, color_sig)\n",
    "    if is_good_frame:\n",
    "        frame_number += 1\n",
    "    success, image = get_new_frame(vidcap)"
   ]
  },
  {
   "cell_type": "code",
   "execution_count": 34,
   "metadata": {
    "scrolled": true
   },
   "outputs": [
    {
     "name": "stdout",
     "output_type": "stream",
     "text": [
      "[73.80798368 73.75903263 74.47973364 73.62625418 70.4025917  74.2340176\n",
      " 70.28113332 74.39722061 70.20122217 74.55190616 70.64419064 74.43618881\n",
      " 74.28856305 69.85679772 70.84024443 74.67110596 73.92964679 74.84551208\n",
      " 74.56876457 69.95307856 73.99501466 70.63987342 74.53904429 69.66730361\n",
      " 69.89681529 70.09303797 69.83409239 70.22679325 70.33839662 70.18726115\n",
      " 69.97612903 70.07749469 69.53868258 70.14585987 69.90940171 70.08280255\n",
      " 70.07558386 70.27484277 70.24578059 70.33987342 69.59309922 71.20190848\n",
      " 71.50738397 71.08053252 71.05303361 70.22616034 70.89633485 70.97540083\n",
      " 70.17106918 70.84735339 70.872458   70.37600849 70.45838641 70.22632696\n",
      " 71.05739852 69.55041467 71.06634657 70.82671872 71.00834615 71.20995199\n",
      " 69.61410059 69.78628692 71.02342225 69.72677356 70.15881104 69.86877637\n",
      " 70.12165605 70.73336262 71.03927813 70.90571803 70.24774874 70.26290358\n",
      " 70.40986469 70.53459119 70.64927979 69.60293501 70.12579618 69.4965812\n",
      " 69.78312236 69.99780365 69.88438819 69.78386412 70.41401274 69.45738397\n",
      " 70.73227176 69.51835443 70.48752982 69.49508547 70.72738854 70.41581197\n",
      " 69.61624473 70.14583791 69.93987622 70.07291895 69.44883227 69.88483643\n",
      " 70.08785416 70.14320228 70.22358884 70.18756864 70.12643678 70.28393715\n",
      " 70.37625491 69.71308576 69.6767787  69.93564683 69.59703802 70.05392781\n",
      " 69.46131742 69.46507515 69.53669319 69.85599653 69.93564683 68.85548523\n",
      " 68.90675105 69.78095858 69.8538278  69.42064545 69.80423396 69.80903536\n",
      " 70.48728448 69.67505241 69.21750663 70.09266247 69.90461216 69.9675\n",
      " 69.72284483 69.36556089 69.75993016 69.41986554 69.39226883 70.12903925\n",
      " 69.11113552 69.06245934 69.20084388 70.21238744 69.31385899 70.03841117\n",
      " 70.28388636 70.17966176 69.60886076 69.39129512 68.95902335 69.57200855\n",
      " 69.97943038 70.50337553 69.52373418 70.41704619 69.65063291 70.1342442\n",
      " 70.05783501 69.1524109  68.98586498 70.33670886 69.47067511 69.2373673\n",
      " 70.01581375 69.96727432 70.26957276 69.81012658 70.15408119 69.21719745\n",
      " 69.5907173  68.88815208 70.42514186 70.34897425 70.09711916 70.1045395\n",
      " 70.41663029 69.66624473 69.79767932 69.3814928  70.28991873 69.30969421\n",
      " 69.81252654 69.58987342 70.49793971 69.48164557 70.52514825]\n"
     ]
    },
    {
     "data": {
      "image/png": "[encoded data removed]",
      "text/plain": [
       "<Figure size 432x288 with 1 Axes>"
      ]
     },
     "metadata": {
      "needs_background": "light"
     },
     "output_type": "display_data"
    },
    {
     "data": {
      "image/png": "[encoded data removed]",
      "text/plain": [
       "<Figure size 432x288 with 1 Axes>"
      ]
     },
     "metadata": {
      "needs_background": "light"
     },
     "output_type": "display_data"
    },
    {
     "data": {
      "image/png": "[encoded data removed]",
      "text/plain": [
       "<Figure size 432x288 with 1 Axes>"
      ]
     },
     "metadata": {
      "needs_background": "light"
     },
     "output_type": "display_data"
    },
    {
     "data": {
      "image/png": "[encoded data removed]",
      "text/plain": [
       "<Figure size 432x288 with 1 Axes>"
      ]
     },
     "metadata": {
      "needs_background": "light"
     },
     "output_type": "display_data"
    },
    {
     "name": "stdout",
     "output_type": "stream",
     "text": [
      "0.16759776536312848\n"
     ]
    }
   ],
   "source": [
    "a = np.asarray(color_sig)\n",
    "red = a[:,0]\n",
    "green = a[:,1]\n",
    "blue = a[:,2]\n",
    "print(green)\n",
    "x = np.arange(green.size/fps,step= (1/30))\n",
    "plt.plot(x,green,color ='green')\n",
    "plt.show()\n",
    "\n",
    "\n",
    "green = green - np.mean(green)\n",
    "green = green / np.std(green)\n",
    "plt.plot(x,green,color ='green')\n",
    "plt.show()\n",
    "\n",
    "g = filter_channel(green,round_fps)\n",
    "\n",
    "\n",
    "plt.plot(x,g,color ='green')\n",
    "plt.show()\n",
    "\n",
    "f, Pxx_den = sig.periodogram(g, round_fps)\n",
    "plt.semilogy(f, Pxx_den)\n",
    "plt.ylim([1e-7, 1e2])\n",
    "plt.xlabel('frequency [Hz]')\n",
    "plt.ylabel('PSD [V**2/Hz]')\n",
    "plt.show()\n",
    "\n",
    "max_val = Pxx_den.argmax()\n",
    "print(f[max_val])\n"
   ]
  },
  {
   "cell_type": "code",
   "execution_count": null,
   "metadata": {
    "pycharm": {
     "is_executing": true,
     "name": "#%%\n"
    },
    "scrolled": true
   },
   "outputs": [],
   "source": [
    "window_time_sec = 1\n",
    "window_size = int(np.ceil(window_time_sec * round_fps))\n",
    "\n",
    "window_start = color_sig.shape[1]\n",
    "while window_start > window_size :\n",
    "    window_start -= window_size\n",
    "    window = color_sig[window_start : window_start + window_size]\n",
    "    last_hr = heart_rates[-1] if len(heart_rates) > 0 else None\n",
    "    heart_rates.append(getHeartRate(window))"
   ]
  },
  {
   "cell_type": "code",
   "execution_count": null,
   "metadata": {
    "pycharm": {
     "is_executing": true,
     "name": "#%%\n"
    },
    "scrolled": true
   },
   "outputs": [],
   "source": [
    "getHeartRate(color_sig)"
   ]
  },
  {
   "cell_type": "code",
   "execution_count": null,
   "metadata": {
    "pycharm": {
     "is_executing": true,
     "name": "#%%\n"
    },
    "scrolled": true
   },
   "outputs": [],
   "source": [
    "if frame_number != greens.size: # TO BE REVIEW BY EYAL, POSSIBLE BUG FIX HERE!\n",
    "    frame_number = greens.size\n",
    "axis = np.arange((frame_number / round_fps), step=(1 / 30)) # axis is Time\n",
    "plot_result(greens, reds, blues, axis, \"All 3 channels\") # original signals\n",
    "# apply filtering on all the channels:\n",
    "green_buttered = filter_channel(greens,round_fps)\n",
    "red_buttered = filter_channel(reds,round_fps)\n",
    "blue_buttered = filter_channel(blues,round_fps)\n",
    "# plotting the channels after apllying the filter\n",
    "plot_result(green_buttered, red_buttered, blue_buttered, axis, \"After Filter\") # after filtering"
   ]
  },
  {
   "cell_type": "code",
   "execution_count": null,
   "metadata": {
    "pycharm": {
     "is_executing": true,
     "name": "#%%\n"
    },
    "scrolled": true
   },
   "outputs": [],
   "source": [
    "### PSD estimation using 'Welch' or 'Periodogram'\n"
   ]
  },
  {
   "cell_type": "code",
   "execution_count": null,
   "metadata": {
    "pycharm": {
     "is_executing": true,
     "name": "#%%\n"
    },
    "scrolled": true
   },
   "outputs": [],
   "source": [
    "window_time_sec = 1\n",
    "window_size = int(np.ceil(window_time_sec * round_fps))\n",
    "\n",
    "window_start = color_sig.shape[1]\n",
    "while window_start > window_size :\n",
    "    window_start -= window_size\n",
    "    window = color_sig[window_start : window_start + window_size]\n",
    "    last_hr = heart_rates[-1] if len(heart_rates) > 0 else None\n",
    "    heart_rates.append(getHeartRate(window))"
   ]
  },
  {
   "cell_type": "code",
   "execution_count": null,
   "metadata": {
    "pycharm": {
     "is_executing": true,
     "name": "#%%\n"
    },
    "scrolled": true
   },
   "outputs": [],
   "source": [
    "getHeartRate(color_sig)"
   ]
  },
  {
   "cell_type": "code",
   "execution_count": null,
   "metadata": {
    "pycharm": {
     "is_executing": true,
     "name": "#%%\n"
    },
    "scrolled": true
   },
   "outputs": [],
   "source": [
    "if frame_number != greens.size: # TO BE REVIEW BY EYAL, POSSIBLE BUG FIX HERE!\n",
    "    frame_number = greens.size\n",
    "axis = np.arange((frame_number / round_fps), step=(1 / 30)) # axis is Time\n",
    "plot_result(greens, reds, blues, axis, \"All 3 channels\") # original signals\n",
    "# apply filtering on all the channels:\n",
    "green_buttered = filter_channel(greens,round_fps)\n",
    "red_buttered = filter_channel(reds,round_fps)\n",
    "blue_buttered = filter_channel(blues,round_fps)\n",
    "# plotting the channels after apllying the filter\n",
    "plot_result(green_buttered, red_buttered, blue_buttered, axis, \"After Filter\") # after filtering"
   ]
  },
  {
   "cell_type": "markdown",
   "metadata": {},
   "source": [
    "### PSD estimation using 'Welch' or 'Periodogram'\n",
    "\n"
   ]
  },
  {
   "cell_type": "code",
   "execution_count": null,
   "metadata": {
    "pycharm": {
     "name": "#%%\n"
    },
    "scrolled": true
   },
   "outputs": [],
   "source": [
    "#flattop\n",
    "# Welch method:\n",
    "f, Pxx_den = sig.welch(green_buttered, round_fps,'hamming', 1024, scaling='spectrum')"
   ]
  },
  {
   "cell_type": "markdown",
   "metadata": {
    "pycharm": {
     "name": "#%% md\n"
    }
   },
   "source": [
    "### Plot final results"
   ]
  },
  {
   "cell_type": "code",
   "execution_count": null,
   "metadata": {
    "pycharm": {
     "name": "#%%\n"
    },
    "scrolled": true
   },
   "outputs": [],
   "source": [
    "plt.semilogy(f, Pxx_den)\n",
    "plt.ylim([1e-7, 1e2])\n",
    "plt.xlabel('frequency [Hz]')\n",
    "plt.ylabel('PSD [V**2/Hz]')\n",
    "plt.show()\n",
    "# periodogram method:\n",
    "f, Pxx_den = sig.periodogram(green_buttered, round_fps)\n",
    "plt.semilogy(f, Pxx_den)\n",
    "plt.ylim([1e-7, 1e2])\n",
    "plt.xlabel('frequency [Hz]')\n",
    "plt.ylabel('PSD [V**2/Hz]')\n",
    "plt.show()"
   ]
  }
 ],
 "metadata": {
  "kernelspec": {
   "display_name": "Python 3",
   "language": "python",
   "name": "python3"
  },
  "language_info": {
   "codemirror_mode": {
    "name": "ipython",
    "version": 3
   },
   "file_extension": ".py",
   "mimetype": "text/x-python",
   "name": "python",
   "nbconvert_exporter": "python",
   "pygments_lexer": "ipython3",
   "version": "3.8.5"
  },
  "pycharm": {
   "stem_cell": {
    "cell_type": "raw",
    "source": [],
    "metadata": {
     "collapsed": false
    }
   }
  }
 },
 "nbformat": 4,
 "nbformat_minor": 1
}