{
 "cells": [
  {
   "cell_type": "markdown",
   "metadata": {
    "pycharm": {
     "name": "#%% md\n"
    }
   },
   "source": [
    "# Basic engine implementation"
   ]
  },
  {
   "cell_type": "markdown",
   "metadata": {},
   "source": [
    "#### setup"
   ]
  },
  {
   "cell_type": "code",
   "execution_count": null,
   "metadata": {
    "pycharm": {
     "name": "#%%\n"
    },
    "scrolled": true
   },
   "outputs": [],
   "source": [
    "import face_recognition, PIL.Image, PIL.ImageDraw,math\n",
    "import numpy as np\n",
    "import logging\n",
    "import cv2\n",
    "import platform\n",
    "from matplotlib import pyplot as plt\n",
    "from PIL import Image\n",
    "import scipy.signal as sig\n",
    "\n",
    "FORMAT = '[%(asctime)s] [%(levelname)s] [%(funcName)s] [%(lineno)d] : %(message)s'\n",
    "logging.basicConfig(format=FORMAT, level=logging.INFO)\n",
    "\n",
    "logging.info(\"Starting ...\")\n",
    "if platform.system() == \"Windows\":\n",
    "    seperator = \"\\\\\"\n",
    "else:\n",
    "    seperator = \"/\"\n",
    "\n",
    "dir = \"perry-all-2\"\n",
    "# should be a parameter of the engine\n",
    "dataset_location = \"..\" + seperator + \"dataset\" + seperator + \"good_sync\" + seperator\n",
    "specific_dir = dir\n",
    "video_location = dataset_location + specific_dir + seperator + \"out2.avi\"\n",
    "video_location = '/Users/perrytubul/Desktop/computerscience/year3/Kiois/OurOwnRepo/DATASET_2/subject1/vid.avi'"
   ]
  },
  {
   "cell_type": "markdown",
   "metadata": {},
   "source": [
    "## evm pre-processing"
   ]
  },
  {
   "cell_type": "code",
   "execution_count": null,
   "metadata": {
    "pycharm": {
     "is_executing": false,
     "name": "#%%\n"
    }
   },
   "outputs": [],
   "source": [
    "%run ./evm_preprocessing.ipynb\n",
    "# video_location = dataset_location + specific_dir + seperator + \"out.avi\"\n",
    "video_location=\"out2.avi\""
   ]
  },
  {
   "cell_type": "markdown",
   "metadata": {},
   "source": [
    "#### Detecting the face landmarks and parsing the ROI"
   ]
  },
  {
   "cell_type": "code",
   "execution_count": 1,
   "metadata": {
    "pycharm": {
     "is_executing": false,
     "name": "#%%\n"
    },
    "scrolled": true
   },
   "outputs": [],
   "source": [
    "def parse_roi(frame):\n",
    "    \"\"\"\n",
    "    Find a face and its region of interests.  \n",
    "    @param frame: A video frame\n",
    "    @return: None in case of which no face was detected. A tuple in a form of (forehead, nose_to_upper_lip) \n",
    "    forehead is ndarray that represents the subject's forehead, nose_to_upper_lip is ndarray that represents the region\n",
    "    between the upper lip and the nose of the subject. \n",
    "    \"\"\"\n",
    "    # image = face_recognition.load_image_file(frame) # read image.\n",
    "    face_locations = face_recognition.face_locations(frame,model = 'hog') # detects all the faces in image\n",
    "    face_landmarks_list = face_recognition.face_landmarks(image)\n",
    "    \n",
    "    # iterate through all the faces.\n",
    "    for face_location in face_locations:\n",
    "        img = PIL.Image.fromarray(frame)\n",
    "        top,right,bottom,left = face_location # extract all face square points.\n",
    "        diff = math.floor((top - bottom) * 0.15) # 20 percent of the face len (to add eyebrow top point).\n",
    "        \n",
    "        # finding the forehead\n",
    "        try:\n",
    "            right_eyebrow_landmarks = np.asarray(face_landmarks_list[0]['right_eyebrow']) # right eyebrow points.\n",
    "        except:\n",
    "            return None\n",
    "        right_eyebrow_landmarks.sort(axis=0)\n",
    "        rightest_point = right_eyebrow_landmarks[-1] # The most right point of the ROI(according to x).\n",
    "        top_right_eyebrow = right_eyebrow_landmarks.min(axis = 0)[1]\n",
    "        try:\n",
    "            left_eyebrow_landmarks = np.asarray(face_landmarks_list[0]['left_eyebrow'])\n",
    "        except:\n",
    "            return None\n",
    "        left_eyebrow_landmarks.sort(axis=0)\n",
    "        leftest_point = left_eyebrow_landmarks[0] # the most left point of ROI.(according to x)\n",
    "        top_left_eyebrow = left_eyebrow_landmarks.min(axis = 0)[1]\n",
    "        bottom = min(top_right_eyebrow,top_left_eyebrow).item(0) # bottom point of the forehead.\n",
    "        bottom = bottom - (0.05 * bottom) # improve bottom location by 2 percent.\n",
    "        forehead = img.crop((leftest_point[0], leftest_point[1]+diff, rightest_point[0],bottom+10)) # adding diff to top to make the forehead bigger.\n",
    "\n",
    "        # finding the second ROI:\n",
    "        try:\n",
    "            upper_mouth = np.asarray(face_landmarks_list[0]['top_lip']) # top_lip landmarks\n",
    "        except:\n",
    "            return None\n",
    "        upper_mouth_min = upper_mouth.min(axis = 0)[1] # The  top - lip upper point.\n",
    "        try:\n",
    "            upper_nose = np.asarray(face_landmarks_list[0]['nose_bridge'])\n",
    "        except:\n",
    "            return None\n",
    "        upper_nose_min = upper_nose.min(axis = 0)[1]  # noise bridge upper point.\n",
    "        upper_nose_min += upper_mouth_min * 0.1 # improving the noise bridge upper point.\n",
    "        nose_to_upper_lip = img.crop((leftest_point[0], upper_nose_min, rightest_point[0], upper_mouth_min))\n",
    "\n",
    "        return forehead, nose_to_upper_lip\n",
    "    return None # in case of which no face was detected"
   ]
  },
  {
   "cell_type": "markdown",
   "metadata": {},
   "source": [
    "### Check for bad frames\n",
    "##### R > 95 and G > 40 and B > 20 and R > G and R > B\n",
    "##### Based on https://arxiv.org/ftp/arxiv/papers/1708/1708.02694.pdf page 5"
   ]
  },
  {
   "cell_type": "code",
   "execution_count": null,
   "metadata": {
    "pycharm": {
     "name": "#%%s\n"
    },
    "scrolled": true
   },
   "outputs": [],
   "source": [
    "red_min_val = 95\n",
    "green_min_val = 40\n",
    "blue_min_val = 20\n",
    "red_green_max_diff = 15\n",
    "def good_frame(blue, green, red):\n",
    "    \"\"\"\n",
    "        Checks the light conditions \n",
    "        @param: blue Is the mean of all the blue pixels in one frame\n",
    "        @param: green Is the mean  of all the green pixels in one frame\n",
    "        @param: red Is the mean of all the red pixels in one frame\n",
    "        return False 0 meaning the lightning are bad, True when the lightning condition are OK\n",
    "    \"\"\"\n",
    "    if red <= red_min_val:\n",
    "        logging.warning(\"bad frame detected, reason: red > red_min_val\")\n",
    "        return False\n",
    "    if green <= green_min_val:\n",
    "        logging.warning(\"bad frame detected, reason: green > green_min_val\")\n",
    "        return False\n",
    "    if blue <= blue_min_val:\n",
    "        logging.warning(\"bad frame detected, reason: blue > blue_min_val\")\n",
    "        return False\n",
    "    if red <= green:\n",
    "        logging.warning(\"bad frame detected, reason: red > green\")\n",
    "        return False\n",
    "    if red <= blue:\n",
    "        logging.warning(\"bad frame detected, reason: red > blue\")\n",
    "        return False\n",
    "    if abs(red - green) <= red_green_max_diff:\n",
    "        logging.warning(\"bad frame detected, reason: abs(red - green) > red_green_max_diff\")\n",
    "        return False\n",
    "    return True"
   ]
  },
  {
   "cell_type": "code",
   "execution_count": null,
   "metadata": {
    "pycharm": {
     "name": "#%%\n"
    },
    "scrolled": true
   },
   "outputs": [],
   "source": [
    "def get_new_frame(vidcap):\n",
    "    \"\"\"\n",
    "    Reads new video frame and return it.\n",
    "    @param vidcap: Pointer to the video \n",
    "    @return True, Image where there is more frames in the video to be read else False, None \n",
    "    \"\"\"\n",
    "    success, next_image = vidcap.read()\n",
    "    return success, next_image"
   ]
  },
  {
   "cell_type": "markdown",
   "metadata": {},
   "source": [
    "#### Plotting RGB arrays results"
   ]
  },
  {
   "cell_type": "code",
   "execution_count": null,
   "metadata": {
    "pycharm": {
     "name": "#%%\n"
    },
    "scrolled": true
   },
   "outputs": [],
   "source": [
    "def plot_result(greens, reds, blues, x_value, title=\"\"):\n",
    "    \"\"\"\n",
    "    Generic function to plot graphs.\n",
    "    @param greens: 1D array, greens[i] is the mean of all the green color in frame i \n",
    "    @param reds: 1D array, reds[i] is the mean of all the red color in frame i\n",
    "    @param blues:1D array, blues[i] is the mean of all the blue color in frame i\n",
    "    @param x_value: 1D array for the X- axis\n",
    "    @param title: Title of the plot default is \"\"\n",
    "    @return: None\n",
    "    \"\"\"\n",
    "    logging.info(\"Plotting results ...\" + title)\n",
    "    plt.figure(figsize=(6, 5))\n",
    "    plt.title(title)\n",
    "    plt.xlabel(\"Time\")\n",
    "    plt.ylabel(\"Value\")\n",
    "    plt.subplot(3, 1, 1)\n",
    "    plt.plot(x_value, greens, color=\"green\")\n",
    "    plt.subplot(3, 1, 2)\n",
    "    plt.plot(x_value, reds, color=\"red\")\n",
    "    plt.subplot(3, 1, 3)\n",
    "    plt.plot(x_value, blues, color=\"blue\")\n",
    "    plt.show()\n",
    "    logging.info(\"Showing result\")"
   ]
  },
  {
   "cell_type": "markdown",
   "metadata": {},
   "source": [
    "#### Filtering:"
   ]
  },
  {
   "cell_type": "code",
   "execution_count": null,
   "metadata": {
    "scrolled": true
   },
   "outputs": [],
   "source": [
    "def filter_channel(channel,fs):\n",
    "    \"\"\"\n",
    "    This method apply filter on a channel between 0.75HZ to 4HZ.\n",
    "    :param channel: Is a signal to apply the filter to.\n",
    "    :param fs: Is the sampling rate of channel.\n",
    "    :return: The filtered channel.\n",
    "    \"\"\"\n",
    "    bh, ah = sig.butter(4, 0.75 / (fs / 2), 'highpass')\n",
    "    bl, al = sig.butter(4, 4 / (fs / 2), 'lowpass')\n",
    "    channel = sig.filtfilt(bh, ah, channel) # applying the filter coefficient on the sig\n",
    "    channel_after_filter = sig.filtfilt(bl, al, channel) # applying the filter coefficient on the sig\n",
    "    return channel_after_filter"
   ]
  },
  {
   "cell_type": "markdown",
   "metadata": {},
   "source": [
    "### Get RGB values from a frame\n",
    "#### Check light frame light condition"
   ]
  },
  {
   "cell_type": "code",
   "execution_count": null,
   "metadata": {},
   "outputs": [],
   "source": [
    "def parse_luminace(red, green, blue):\n",
    "    \"\"\"\n",
    "    Calculate frame's luminace\n",
    "    :param red: Mean value of all pixels in the red channel\n",
    "    :param green: Mean value of all pixels in the green channel\n",
    "    :param blue: Mean value of all pixels in the blue channel\n",
    "    :return: The luminace value\n",
    "    \"\"\"\n",
    "    luminance_level = 0.2126 * red + 0.7152 * green + 0.0722 * blue\n",
    "    return luminance_level\n",
    "\n",
    "def parse_RGB(roi, color_sig):\n",
    "    \"\"\"\n",
    "    Calculate all the mean value of the green channel in ROI.\n",
    "    :param roi: Area that we used to extract HR\n",
    "    :param color_sig: is the \n",
    "    :return: False in case there is an error, color_sig and luminace value\n",
    "    \"\"\"\n",
    "    try:\n",
    "        roi = cv2.cvtColor(roi, cv2.COLOR_RGB2BGR)\n",
    "    except:\n",
    "        return False, color_sig\n",
    "    new_blue,new_green,new_red = cv2.split(roi) # get all the colors of the frame\n",
    "    b_mean,g_mean,r_mean = np.mean(new_blue),np.mean(new_green),np.mean(new_red) # calculate the of each array\n",
    "    luminance_level = parse_luminace(r_mean, g_mean, b_mean) \n",
    "    if good_frame(b_mean,g_mean,r_mean): # check the lightinig condition\n",
    "        color_channels = roi.reshape(-1, roi.shape[-1])\n",
    "        avg_color = color_channels.mean(axis=0)\n",
    "        color_sig.append(avg_color)\n",
    "        return True, color_sig, luminance_level\n",
    "    return False, color_sig, luminance_level"
   ]
  },
  {
   "cell_type": "markdown",
   "metadata": {},
   "source": [
    "# Main loop - Heart rate signal extraction"
   ]
  },
  {
   "cell_type": "code",
   "execution_count": null,
   "metadata": {
    "pycharm": {
     "name": "#%%\n"
    },
    "scrolled": true
   },
   "outputs": [],
   "source": [
    "color_sig = [] \n",
    "heart_rates = [] \n",
    "good_frame_number = 0\n",
    "total_frame_number = 0\n",
    "\n",
    "# Parsing video:\n",
    "logging.info(\"Working on video \" + video_location)\n",
    "vidcap = cv2.VideoCapture(video_location) # get video object\n",
    "success, image = vidcap.read() # read the first video frame\n",
    "fps = vidcap.get(cv2.CAP_PROP_FPS) # fs == sampling rate\n",
    "round_fps = np.round(fps)\n",
    "number_of_frames = vidcap.get(cv2.CAP_PROP_FRAME_COUNT)\n",
    "logging.info(\"Parsing images ...\")\n",
    "while success: # iterate as long as there is a frame to process\n",
    "    logging.info(\"parsing frame \" + str(total_frame_number) + \"/\" + str(number_of_frames))\n",
    "    rois = parse_roi(cv2.cvtColor(image, cv2.COLOR_BGR2RGB))  # build image ROI (rois is a tuple contains two regions)\n",
    "    if rois is not None : \n",
    "        roi = np.asarray(rois[0]) # Just the forehead - we decided that it's best to choose the forehead more consistent results.\n",
    "        is_good_frame,color_sig, luminance_level = parse_RGB(roi, color_sig)\n",
    "        if is_good_frame:\n",
    "            good_frame_number += 1 # keep track of the goof frames, for plotting later\n",
    "            logging.info(\"luminance level: \" + str(luminance_level))\n",
    "    total_frame_number += 1\n",
    "    success, image = get_new_frame(vidcap) # read next frame"
   ]
  },
  {
   "cell_type": "code",
   "execution_count": null,
   "metadata": {
    "scrolled": true
   },
   "outputs": [],
   "source": [
    "def print_results(frames_window, window, xlabel, ylabel, change_range):\n",
    "    \"\"\"\n",
    "    Generic function that plots signals for a 30 seconds window\n",
    "    @param frames_window: 1D array represent the seconds in the window \n",
    "    @param window:HR 30 seconds signal \n",
    "    @param xlabel: label to be shown in the X - axis\n",
    "    @param ylabel: label to be shown in the Y - axis\n",
    "    @param change_range:\n",
    "    @return: None\n",
    "    \"\"\"\n",
    "    fig = plt.figure(figsize=(20,6))\n",
    "    ax = fig.subplots()\n",
    "    while len(frames_window) > len(window):\n",
    "        frames_window = frames_window[-1]\n",
    "    ax.plot(frames_window,window,color ='green')\n",
    "    if change_range:\n",
    "        plt.xlim([0, 5])\n",
    "    # add some data to the signal \n",
    "    ax.set_xlabel(xlabel)\n",
    "    ax.set_ylabel(ylabel)\n",
    "    ax.set_xscale('linear')\n",
    "    ax.spines['bottom'].set_color('red')\n",
    "    ax.spines['left'].set_color('red')\n",
    "    ax.xaxis.label.set_color('red')\n",
    "    ax.yaxis.label.set_color('red')\n",
    "    ax.tick_params(axis='x', colors='red')\n",
    "    ax.tick_params(axis='y', colors='red')\n",
    "    plt.show()\n",
    "\n",
    "def find_hr_in_window(green, window_start, round_fps, window_id, window_size):\n",
    "    \"\"\"\n",
    "    Split the signal into windows and find HR in each window\n",
    "    :param green: is the signal of the all video\n",
    "    :param window_start: index of where the window start in green\n",
    "    :param round_fps: round frames per seconds\n",
    "    :param window_id: window number\n",
    "    :param window_size: size of the window - 30 seconds or less if there are not enough frames\n",
    "    :return: None\n",
    "    \"\"\"\n",
    "    round_fps = int(round_fps)\n",
    "    # find the window:\n",
    "    if window_start + round_fps * window_size > len(green):\n",
    "        window = green[window_start : ]\n",
    "    else:\n",
    "        window = green[window_start : window_start + round_fps * window_size]\n",
    "    frames_window = np.arange(window.size/round_fps,step= (1/round_fps))\n",
    "    #plot the window:\n",
    "    print_results(frames_window, window, 'X-axis', 'Y-axis', False)\n",
    "    # normalize window signal\n",
    "    window = window - np.mean(window)\n",
    "    window = window / np.std(window)\n",
    "    print_results(frames_window, window, 'X-axis', 'Y-axis', False)\n",
    "    # filter the signal and plot results\n",
    "    g = filter_channel(window,round_fps)\n",
    "    print_results(frames_window, g, 'X-axis', 'Y-axis', False)\n",
    "    f, Pxx_den = sig.periodogram(g, round_fps) # find the frequencies in the signal\n",
    "    #plot the frequencies:\n",
    "    print_results(f, Pxx_den, 'frequency [Hz]', 'PSD [V**2/Hz]', True) \n",
    "    # find the maximum freq.\n",
    "    max_val = Pxx_den.argmax()\n",
    "    logging.info(\"Heart rate of window \" + str(window_id) +\n",
    "                 \": \" + str(f[max_val]))"
   ]
  },
  {
   "cell_type": "code",
   "execution_count": null,
   "metadata": {
    "pycharm": {
     "name": "#%%\n"
    }
   },
   "outputs": [],
   "source": [
    "color_sig_array = np.asarray(color_sig)\n",
    "red = color_sig_array[:,0]\n",
    "green = color_sig_array[:,1]\n",
    "blue = color_sig_array[:,2]\n",
    "\n",
    "window_start = 0\n",
    "window_size = 30\n",
    "window_id = 0\n",
    "limit = good_frame_number - int(round_fps) * window_size\n",
    "while window_start < limit :\n",
    "    find_hr_in_window(green, window_start, round_fps, window_id, window_size)\n",
    "    window_start += int(round_fps) * window_size\n",
    "    window_id += 1\n",
    "if window_start < good_frame_number:\n",
    "    window_id += 1\n",
    "    find_hr_in_window(green, window_start, round_fps, window_id, good_frame_number - window_start)"
   ]
  },
  {
   "cell_type": "markdown",
   "metadata": {},
   "source": [
    "# Peaks detection + write to csv the times"
   ]
  },
  {
   "cell_type": "code",
   "execution_count": null,
   "metadata": {},
   "outputs": [],
   "source": [
    "def indexes(y, thres=0.3, min_dist=1, thres_abs=False):\n",
    "    \"\"\"\n",
    "    Finds the peaks in the signal\n",
    "    :param y:  is the signal\n",
    "    :param thres: minimum height of the peaks\n",
    "    :param min_dist: minimum distance between each peek \n",
    "    :param thres_abs: \n",
    "    :return: array of all the peaks\n",
    "    \"\"\"\n",
    "    if isinstance(y, np.ndarray) and np.issubdtype(y.dtype, np.unsignedinteger):\n",
    "        raise ValueError(\"y must be signed\")\n",
    "\n",
    "    if not thres_abs:\n",
    "        thres = thres * (np.max(y) - np.min(y)) + np.min(y)\n",
    "\n",
    "    min_dist = int(min_dist)\n",
    "\n",
    "    # compute first order difference\n",
    "    dy = np.diff(y)\n",
    "\n",
    "    # propagate left and right values successively to fill all plateau pixels (0-value)\n",
    "    zeros, = np.where(dy == 0)\n",
    "\n",
    "    # check if the signal is totally flat\n",
    "    if len(zeros) == len(y) - 1:\n",
    "        return np.array([])\n",
    "\n",
    "    if len(zeros):\n",
    "        # compute first order difference of zero indexes\n",
    "        zeros_diff = np.diff(zeros)\n",
    "        # check when zeros are not chained together\n",
    "        zeros_diff_not_one, = np.add(np.where(zeros_diff != 1), 1)\n",
    "        # make an array of the chained zero indexes\n",
    "        zero_plateaus = np.split(zeros, zeros_diff_not_one)\n",
    "\n",
    "        # fix if leftmost value in dy is zero\n",
    "        if zero_plateaus[0][0] == 0:\n",
    "            dy[zero_plateaus[0]] = dy[zero_plateaus[0][-1] + 1]\n",
    "            zero_plateaus.pop(0)\n",
    "\n",
    "        # fix if rightmost value of dy is zero\n",
    "        if len(zero_plateaus) and zero_plateaus[-1][-1] == len(dy) - 1:\n",
    "            dy[zero_plateaus[-1]] = dy[zero_plateaus[-1][0] - 1]\n",
    "            zero_plateaus.pop(-1)\n",
    "\n",
    "        # for each chain of zero indexes\n",
    "        for plateau in zero_plateaus:\n",
    "            median = np.median(plateau)\n",
    "            # set leftmost values to leftmost non zero values\n",
    "            dy[plateau[plateau < median]] = dy[plateau[0] - 1]\n",
    "            # set rightmost and middle values to rightmost non zero values\n",
    "            dy[plateau[plateau >= median]] = dy[plateau[-1] + 1]\n",
    "\n",
    "    # find the peaks by using the first order difference\n",
    "    peaks = np.where(\n",
    "        (np.hstack([dy, 0.0]) < 0.0)\n",
    "        & (np.hstack([0.0, dy]) > 0.0)\n",
    "        & (np.greater(y, thres))\n",
    "    )[0]\n",
    "\n",
    "    # handle multiple peaks, respecting the minimum distance\n",
    "    if peaks.size > 1 and min_dist > 1:\n",
    "        highest = peaks[np.argsort(y[peaks])][::-1]\n",
    "        rem = np.ones(y.size, dtype=bool)\n",
    "        rem[peaks] = False\n",
    "\n",
    "        for peak in highest:\n",
    "            if not rem[peak]:\n",
    "                sl = slice(max(0, peak - min_dist), peak + min_dist + 1)\n",
    "                rem[sl] = True\n",
    "                rem[peak] = False\n",
    "\n",
    "        peaks = np.arange(y.size)[~rem]\n",
    "    return peaks\n",
    "\n",
    "green_buttered = filter_channel(green,round_fps)\n",
    "peaks = indexes(green_buttered,min_dist=20)\n",
    "x = np.arange(window_size,step=1/round_fps)\n",
    "plt.plot(x,green_buttered,'-go',markerfacecolor='red',markevery=peaks)\n",
    "plt.show() \n",
    "print(x[peaks])\n",
    "np.savetxt(\"time_of_peaks.csv\", x[peaks], delimiter=\",\")"
   ]
  },
  {
   "cell_type": "code",
   "execution_count": null,
   "metadata": {},
   "outputs": [],
   "source": [
    "# a = Pxx_den\n",
    "# ind = np.argsort(a)\n",
    "# max_ind = ind[-5:]\n",
    "# print(f[max_ind])\n",
    "# print(\"HR for this video is: \" +str(f[max_ind].mean()))"
   ]
  },
  {
   "cell_type": "code",
   "execution_count": null,
   "metadata": {
    "pycharm": {
     "name": "#%%\n"
    },
    "scrolled": true
   },
   "outputs": [],
   "source": [
    "# if good_frame_number != greens.size: # TO BE REVIEW BY EYAL, POSSIBLE BUG FIX HERE!\n",
    "#     frame_number = greens.size\n",
    "# axis = np.arange((good_frame_number / round_fps), step=(1 / 30)) # axis is Time\n",
    "# plot_result(greens, reds, blues, axis, \"All 3 channels\") # original signals\n",
    "# # apply filtering on all the channels:\n",
    "# green_buttered = filter_channel(greens,round_fps)\n",
    "# red_buttered = filter_channel(reds,round_fps)\n",
    "# blue_buttered = filter_channel(blues,round_fps)\n",
    "# # plotting the channels after apllying the filter\n",
    "# plot_result(green_buttered, red_buttered, blue_buttered, axis, \"After Filter\") # after filtering"
   ]
  },
  {
   "cell_type": "code",
   "execution_count": null,
   "metadata": {
    "pycharm": {
     "name": "#%%\n"
    },
    "scrolled": true
   },
   "outputs": [],
   "source": [
    "# if good_frame_number != greens.size: # TO BE REVIEW BY EYAL, POSSIBLE BUG FIX HERE!\n",
    "#     frame_number = greens.size\n",
    "# axis = np.arange((good_frame_number / round_fps), step=(1 / 30)) # axis is Time\n",
    "# plot_result(greens, reds, blues, axis, \"All 3 channels\") # original signals\n",
    "# # apply filtering on all the channels:\n",
    "# green_buttered = filter_channel(greens,round_fps)\n",
    "# red_buttered = filter_channel(reds,round_fps)\n",
    "# blue_buttered = filter_channel(blues,round_fps)\n",
    "# # plotting the channels after apllying the filter\n",
    "# plot_result(green_buttered, red_buttered, blue_buttered, axis, \"After Filter\") # after filtering"
   ]
  },
  {
   "cell_type": "markdown",
   "metadata": {},
   "source": [
    "### PSD estimation using 'Welch' or 'Periodogram'"
   ]
  },
  {
   "cell_type": "code",
   "execution_count": null,
   "metadata": {
    "pycharm": {
     "name": "#%%\n"
    },
    "scrolled": true
   },
   "outputs": [],
   "source": [
    "# f, Pxx_den = sig.welch(green_buttered, round_fps,'flattop', 1024, scaling='spectrum')"
   ]
  },
  {
   "cell_type": "markdown",
   "metadata": {
    "pycharm": {
     "name": "#%% md\n"
    }
   },
   "source": [
    "### Plot final results"
   ]
  },
  {
   "cell_type": "code",
   "execution_count": null,
   "metadata": {
    "pycharm": {
     "name": "#%%\n"
    },
    "scrolled": true
   },
   "outputs": [],
   "source": [
    "# plt.figure(f, Pxx_den)\n",
    "# #plt.semilogy(f, Pxx_den)\n",
    "# plt.ylim([1e-7, 1e2])\n",
    "# plt.xlabel('frequency [Hz]')\n",
    "# plt.ylabel('PSD [V**2/Hz]')\n",
    "# plt.show()\n",
    "# # periodogram method:\n",
    "# f, Pxx_den = sig.periodogram(green_buttered, round_fps)\n",
    "# plt.semilogy(f, Pxx_den)\n",
    "# plt.ylim([1e-7, 1e2])\n",
    "# plt.xlabel('frequency [Hz]')\n",
    "# plt.ylabel('PSD [V**2/Hz]')\n",
    "# plt.show()"
   ]
  }
 ],
 "metadata": {
  "kernelspec": {
   "display_name": "PyCharm (Koios)",
   "language": "python",
   "name": "pycharm-6ecb3927"
  },
  "language_info": {
   "codemirror_mode": {
    "name": "ipython",
    "version": 3
   },
   "file_extension": ".py",
   "mimetype": "text/x-python",
   "name": "python",
   "nbconvert_exporter": "python",
   "pygments_lexer": "ipython3",
   "version": "3.8.5"
  },
  "pycharm": {
   "stem_cell": {
    "cell_type": "raw",
    "source": [],
    "metadata": {
     "collapsed": false
    }
   }
  }
 },
 "nbformat": 4,
 "nbformat_minor": 4
}