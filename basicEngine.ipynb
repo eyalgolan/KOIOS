{
 "cells": [
  {
   "cell_type": "markdown",
   "metadata": {
    "collapsed": true,
    "pycharm": {
     "name": "#%% md\n"
    }
   },
   "source": [
    "# Basic engine implementation"
   ]
  },
  {
   "cell_type": "markdown",
   "metadata": {},
   "source": [
    "#### setup"
   ]
  },
  {
   "cell_type": "code",
   "execution_count": 12,
   "metadata": {
    "pycharm": {
     "name": "#%%\n"
    },
    "scrolled": true
   },
   "outputs": [
    {
     "name": "stderr",
     "output_type": "stream",
     "text": [
      "[2021-04-17 10:36:30,020] [INFO] [<module>] [13] : Starting ...\n"
     ]
    }
   ],
   "source": [
    "import face_recognition, PIL.Image, PIL.ImageDraw,math\n",
    "import numpy as np\n",
    "import logging\n",
    "import cv2\n",
    "import platform\n",
    "from matplotlib import pyplot as plt\n",
    "from PIL import Image\n",
    "import scipy.signal as sig\n",
    "\n",
    "FORMAT = '[%(asctime)s] [%(levelname)s] [%(funcName)s] [%(lineno)d] : %(message)s'\n",
    "logging.basicConfig(format=FORMAT, level=logging.INFO)\n",
    "\n",
    "logging.info(\"Starting ...\")\n",
    "if platform.system() == \"Windows\":\n",
    "    seperator = \"\\\\\"\n",
    "else:\n",
    "    seperator = \"/\"\n",
    "\n",
    "dir = \"perry-all-2\"\n",
    "# should be a parameter of the engine\n",
    "dataset_location = \"..\" + seperator + \"dataset\" + seperator + \"good_sync\" + seperator\n",
    "specific_dir = dir\n",
    "video_location = dataset_location + specific_dir + seperator + \"lab1.mp4\""
   ]
  },
  {
   "cell_type": "markdown",
   "metadata": {},
   "source": [
    "## running evm pre-processing"
   ]
  },
  {
   "cell_type": "code",
   "execution_count": 1,
   "metadata": {
    "pycharm": {
     "name": "#%%\n",
     "is_executing": false
    }
   },
   "outputs": [
    {
     "name": "stderr",
     "text": [
      "[2021-04-17 10:41:45,357] [INFO] [<module>] [4] : Starting ...\n",
      "[2021-04-17 10:41:45,358] [INFO] [<module>] [25] : libpath:/Library/Frameworks/Python.framework/Versions/3.8/lib/python3.8/site-packages/pyrtools/pyramids/c/wrapConv.cpython-38-darwin.so\n",
      "[2021-04-17 10:41:45,370] [INFO] [amplify_spatial_Gdown_temporal_ideal] [21] : Spatial filtering...\n"
     ],
     "output_type": "stream"
    },
    {
     "traceback": [
      "\u001b[0;31m---------------------------------------------------------------------------\u001b[0m",
      "\u001b[0;31merror\u001b[0m                                     Traceback (most recent call last)",
      "\u001b[0;32m~/PycharmProjects/Koios/evm_preprocessing.ipynb\u001b[0m in \u001b[0;36m<module>\u001b[0;34m\u001b[0m\n\u001b[1;32m     32\u001b[0m \u001b[0;34m\u001b[0m\u001b[0m\n\u001b[1;32m     33\u001b[0m \u001b[0;31m# hpyer params here were taken from the matlab implementation but might need to be changed (there were several options and I took the face option)\u001b[0m\u001b[0;34m\u001b[0m\u001b[0;34m\u001b[0m\u001b[0;34m\u001b[0m\u001b[0m\n\u001b[0;32m---> 34\u001b[0;31m \u001b[0mamplify_spatial_Gdown_temporal_ideal\u001b[0m\u001b[0;34m(\u001b[0m\u001b[0mvideo_location\u001b[0m\u001b[0;34m,\u001b[0m \u001b[0;34m\"/\"\u001b[0m\u001b[0;34m,\u001b[0m \u001b[0;36m50\u001b[0m\u001b[0;34m,\u001b[0m \u001b[0;36m4\u001b[0m\u001b[0;34m,\u001b[0m \u001b[0;36m50\u001b[0m \u001b[0;34m/\u001b[0m \u001b[0;36m60\u001b[0m\u001b[0;34m,\u001b[0m \u001b[0;36m60\u001b[0m \u001b[0;34m/\u001b[0m \u001b[0;36m60\u001b[0m\u001b[0;34m,\u001b[0m \u001b[0;36m30\u001b[0m\u001b[0;34m,\u001b[0m \u001b[0;36m1\u001b[0m\u001b[0;34m)\u001b[0m\u001b[0;34m\u001b[0m\u001b[0;34m\u001b[0m\u001b[0m\n\u001b[0m\u001b[1;32m     35\u001b[0m \u001b[0;34m\u001b[0m\u001b[0m\n\u001b[1;32m     36\u001b[0m \u001b[0;34m\u001b[0m\u001b[0m\n",
      "\u001b[0;32m~/PycharmProjects/Koios/evm_preprocessing.ipynb\u001b[0m in \u001b[0;36mamplify_spatial_Gdown_temporal_ideal\u001b[0;34m(vid_file, out_file, alpha, level, fl, fh, fs, chrom_attenuation)\u001b[0m\n\u001b[1;32m     20\u001b[0m \u001b[0;34m\u001b[0m\u001b[0m\n\u001b[1;32m     21\u001b[0m     \u001b[0mlogging\u001b[0m\u001b[0;34m.\u001b[0m\u001b[0minfo\u001b[0m\u001b[0;34m(\u001b[0m\u001b[0;34m'Spatial filtering...'\u001b[0m\u001b[0;34m)\u001b[0m\u001b[0;34m\u001b[0m\u001b[0;34m\u001b[0m\u001b[0m\n\u001b[0;32m---> 22\u001b[0;31m     \u001b[0mgdown_stack\u001b[0m \u001b[0;34m=\u001b[0m \u001b[0mbuild_gdown_stack\u001b[0m\u001b[0;34m(\u001b[0m\u001b[0mvid_file\u001b[0m\u001b[0;34m,\u001b[0m \u001b[0mstart_index\u001b[0m\u001b[0;34m,\u001b[0m \u001b[0mend_index\u001b[0m\u001b[0;34m,\u001b[0m \u001b[0mlevel\u001b[0m\u001b[0;34m)\u001b[0m\u001b[0;34m\u001b[0m\u001b[0;34m\u001b[0m\u001b[0m\n\u001b[0m\u001b[1;32m     23\u001b[0m     \u001b[0mlogging\u001b[0m\u001b[0;34m.\u001b[0m\u001b[0minfo\u001b[0m\u001b[0;34m(\u001b[0m\u001b[0;34m'Finished'\u001b[0m\u001b[0;34m)\u001b[0m\u001b[0;34m\u001b[0m\u001b[0;34m\u001b[0m\u001b[0m\n\u001b[1;32m     24\u001b[0m \u001b[0;34m\u001b[0m\u001b[0m\n",
      "\u001b[0;32m~/PycharmProjects/Koios/evm_preprocessing.ipynb\u001b[0m in \u001b[0;36mbuild_gdown_stack\u001b[0;34m(vid_file, start_index, end_index, level)\u001b[0m\n\u001b[1;32m      6\u001b[0m \u001b[0;34m\u001b[0m\u001b[0m\n\u001b[1;32m      7\u001b[0m     \u001b[0msuc\u001b[0m\u001b[0;34m,\u001b[0m \u001b[0mtemp\u001b[0m \u001b[0;34m=\u001b[0m \u001b[0mvid\u001b[0m\u001b[0;34m.\u001b[0m\u001b[0mread\u001b[0m\u001b[0;34m(\u001b[0m\u001b[0;34m)\u001b[0m\u001b[0;34m\u001b[0m\u001b[0;34m\u001b[0m\u001b[0m\n\u001b[0;32m----> 8\u001b[0;31m     \u001b[0mtemp\u001b[0m \u001b[0;34m=\u001b[0m \u001b[0mcv2\u001b[0m\u001b[0;34m.\u001b[0m\u001b[0mcvtColor\u001b[0m\u001b[0;34m(\u001b[0m\u001b[0mtemp\u001b[0m\u001b[0;34m,\u001b[0m \u001b[0mcv2\u001b[0m\u001b[0;34m.\u001b[0m\u001b[0mCOLOR_BGR2RGB\u001b[0m\u001b[0;34m)\u001b[0m\u001b[0;34m\u001b[0m\u001b[0;34m\u001b[0m\u001b[0m\n\u001b[0m\u001b[1;32m      9\u001b[0m     \u001b[0;31m# frame = cv2.normalize(temp.astype('float'), None, 0.0, 1.0, cv2.NORM_MINMAX)  # im2double\u001b[0m\u001b[0;34m\u001b[0m\u001b[0;34m\u001b[0m\u001b[0;34m\u001b[0m\u001b[0m\n\u001b[1;32m     10\u001b[0m     \u001b[0mframe\u001b[0m \u001b[0;34m=\u001b[0m \u001b[0mim2double\u001b[0m\u001b[0;34m(\u001b[0m\u001b[0mtemp\u001b[0m\u001b[0;34m)\u001b[0m\u001b[0;34m\u001b[0m\u001b[0;34m\u001b[0m\u001b[0m\n",
      "\u001b[0;31merror\u001b[0m: OpenCV(4.4.0) /private/var/folders/nz/vv4_9tw56nv9k3tkvyszvwg80000gn/T/pip-req-build-b4ibzwe2/opencv/modules/imgproc/src/color.cpp:182: error: (-215:Assertion failed) !_src.empty() in function 'cvtColor'\n"
     ],
     "ename": "error",
     "evalue": "OpenCV(4.4.0) /private/var/folders/nz/vv4_9tw56nv9k3tkvyszvwg80000gn/T/pip-req-build-b4ibzwe2/opencv/modules/imgproc/src/color.cpp:182: error: (-215:Assertion failed) !_src.empty() in function 'cvtColor'\n",
     "output_type": "error"
    },
    {
     "traceback": [
      "\u001b[0;31m---------------------------------------------------------------------------\u001b[0m",
      "\u001b[0;31merror\u001b[0m                                     Traceback (most recent call last)",
      "\u001b[0;32m<ipython-input-1-1ad21b853dca>\u001b[0m in \u001b[0;36m<module>\u001b[0;34m\u001b[0m\n\u001b[0;32m----> 1\u001b[0;31m \u001b[0mget_ipython\u001b[0m\u001b[0;34m(\u001b[0m\u001b[0;34m)\u001b[0m\u001b[0;34m.\u001b[0m\u001b[0mrun_line_magic\u001b[0m\u001b[0;34m(\u001b[0m\u001b[0;34m'run'\u001b[0m\u001b[0;34m,\u001b[0m \u001b[0;34m'./evm_preprocessing.ipynb fsfs'\u001b[0m\u001b[0;34m)\u001b[0m\u001b[0;34m\u001b[0m\u001b[0;34m\u001b[0m\u001b[0m\n\u001b[0m\u001b[1;32m      2\u001b[0m \u001b[0;31m# video_location = dataset_location + specific_dir + seperator + \"out.avi\"\u001b[0m\u001b[0;34m\u001b[0m\u001b[0;34m\u001b[0m\u001b[0;34m\u001b[0m\u001b[0m\n\u001b[1;32m      3\u001b[0m \u001b[0mvideo_location\u001b[0m\u001b[0;34m=\u001b[0m\u001b[0;34m\"out2.avi\"\u001b[0m\u001b[0;34m\u001b[0m\u001b[0;34m\u001b[0m\u001b[0m\n\u001b[1;32m      4\u001b[0m \u001b[0;34m\u001b[0m\u001b[0m\n",
      "\u001b[0;32m/Library/Frameworks/Python.framework/Versions/3.8/lib/python3.8/site-packages/IPython/core/interactiveshell.py\u001b[0m in \u001b[0;36mrun_line_magic\u001b[0;34m(self, magic_name, line, _stack_depth)\u001b[0m\n\u001b[1;32m   2325\u001b[0m                 \u001b[0mkwargs\u001b[0m\u001b[0;34m[\u001b[0m\u001b[0;34m'local_ns'\u001b[0m\u001b[0;34m]\u001b[0m \u001b[0;34m=\u001b[0m \u001b[0mself\u001b[0m\u001b[0;34m.\u001b[0m\u001b[0mget_local_scope\u001b[0m\u001b[0;34m(\u001b[0m\u001b[0mstack_depth\u001b[0m\u001b[0;34m)\u001b[0m\u001b[0;34m\u001b[0m\u001b[0;34m\u001b[0m\u001b[0m\n\u001b[1;32m   2326\u001b[0m             \u001b[0;32mwith\u001b[0m \u001b[0mself\u001b[0m\u001b[0;34m.\u001b[0m\u001b[0mbuiltin_trap\u001b[0m\u001b[0;34m:\u001b[0m\u001b[0;34m\u001b[0m\u001b[0;34m\u001b[0m\u001b[0m\n\u001b[0;32m-> 2327\u001b[0;31m                 \u001b[0mresult\u001b[0m \u001b[0;34m=\u001b[0m \u001b[0mfn\u001b[0m\u001b[0;34m(\u001b[0m\u001b[0;34m*\u001b[0m\u001b[0margs\u001b[0m\u001b[0;34m,\u001b[0m \u001b[0;34m**\u001b[0m\u001b[0mkwargs\u001b[0m\u001b[0;34m)\u001b[0m\u001b[0;34m\u001b[0m\u001b[0;34m\u001b[0m\u001b[0m\n\u001b[0m\u001b[1;32m   2328\u001b[0m             \u001b[0;32mreturn\u001b[0m \u001b[0mresult\u001b[0m\u001b[0;34m\u001b[0m\u001b[0;34m\u001b[0m\u001b[0m\n\u001b[1;32m   2329\u001b[0m \u001b[0;34m\u001b[0m\u001b[0m\n",
      "\u001b[0;32m<decorator-gen-52>\u001b[0m in \u001b[0;36mrun\u001b[0;34m(self, parameter_s, runner, file_finder)\u001b[0m\n",
      "\u001b[0;32m/Library/Frameworks/Python.framework/Versions/3.8/lib/python3.8/site-packages/IPython/core/magic.py\u001b[0m in \u001b[0;36m<lambda>\u001b[0;34m(f, *a, **k)\u001b[0m\n\u001b[1;32m    185\u001b[0m     \u001b[0;31m# but it's overkill for just that one bit of state.\u001b[0m\u001b[0;34m\u001b[0m\u001b[0;34m\u001b[0m\u001b[0;34m\u001b[0m\u001b[0m\n\u001b[1;32m    186\u001b[0m     \u001b[0;32mdef\u001b[0m \u001b[0mmagic_deco\u001b[0m\u001b[0;34m(\u001b[0m\u001b[0marg\u001b[0m\u001b[0;34m)\u001b[0m\u001b[0;34m:\u001b[0m\u001b[0;34m\u001b[0m\u001b[0;34m\u001b[0m\u001b[0m\n\u001b[0;32m--> 187\u001b[0;31m         \u001b[0mcall\u001b[0m \u001b[0;34m=\u001b[0m \u001b[0;32mlambda\u001b[0m \u001b[0mf\u001b[0m\u001b[0;34m,\u001b[0m \u001b[0;34m*\u001b[0m\u001b[0ma\u001b[0m\u001b[0;34m,\u001b[0m \u001b[0;34m**\u001b[0m\u001b[0mk\u001b[0m\u001b[0;34m:\u001b[0m \u001b[0mf\u001b[0m\u001b[0;34m(\u001b[0m\u001b[0;34m*\u001b[0m\u001b[0ma\u001b[0m\u001b[0;34m,\u001b[0m \u001b[0;34m**\u001b[0m\u001b[0mk\u001b[0m\u001b[0;34m)\u001b[0m\u001b[0;34m\u001b[0m\u001b[0;34m\u001b[0m\u001b[0m\n\u001b[0m\u001b[1;32m    188\u001b[0m \u001b[0;34m\u001b[0m\u001b[0m\n\u001b[1;32m    189\u001b[0m         \u001b[0;32mif\u001b[0m \u001b[0mcallable\u001b[0m\u001b[0;34m(\u001b[0m\u001b[0marg\u001b[0m\u001b[0;34m)\u001b[0m\u001b[0;34m:\u001b[0m\u001b[0;34m\u001b[0m\u001b[0;34m\u001b[0m\u001b[0m\n",
      "\u001b[0;32m/Library/Frameworks/Python.framework/Versions/3.8/lib/python3.8/site-packages/IPython/core/magics/execution.py\u001b[0m in \u001b[0;36mrun\u001b[0;34m(self, parameter_s, runner, file_finder)\u001b[0m\n\u001b[1;32m    722\u001b[0m             \u001b[0;32mwith\u001b[0m \u001b[0mpreserve_keys\u001b[0m\u001b[0;34m(\u001b[0m\u001b[0mself\u001b[0m\u001b[0;34m.\u001b[0m\u001b[0mshell\u001b[0m\u001b[0;34m.\u001b[0m\u001b[0muser_ns\u001b[0m\u001b[0;34m,\u001b[0m \u001b[0;34m'__file__'\u001b[0m\u001b[0;34m)\u001b[0m\u001b[0;34m:\u001b[0m\u001b[0;34m\u001b[0m\u001b[0;34m\u001b[0m\u001b[0m\n\u001b[1;32m    723\u001b[0m                 \u001b[0mself\u001b[0m\u001b[0;34m.\u001b[0m\u001b[0mshell\u001b[0m\u001b[0;34m.\u001b[0m\u001b[0muser_ns\u001b[0m\u001b[0;34m[\u001b[0m\u001b[0;34m'__file__'\u001b[0m\u001b[0;34m]\u001b[0m \u001b[0;34m=\u001b[0m \u001b[0mfilename\u001b[0m\u001b[0;34m\u001b[0m\u001b[0;34m\u001b[0m\u001b[0m\n\u001b[0;32m--> 724\u001b[0;31m                 \u001b[0mself\u001b[0m\u001b[0;34m.\u001b[0m\u001b[0mshell\u001b[0m\u001b[0;34m.\u001b[0m\u001b[0msafe_execfile_ipy\u001b[0m\u001b[0;34m(\u001b[0m\u001b[0mfilename\u001b[0m\u001b[0;34m,\u001b[0m \u001b[0mraise_exceptions\u001b[0m\u001b[0;34m=\u001b[0m\u001b[0;32mTrue\u001b[0m\u001b[0;34m)\u001b[0m\u001b[0;34m\u001b[0m\u001b[0;34m\u001b[0m\u001b[0m\n\u001b[0m\u001b[1;32m    725\u001b[0m             \u001b[0;32mreturn\u001b[0m\u001b[0;34m\u001b[0m\u001b[0;34m\u001b[0m\u001b[0m\n\u001b[1;32m    726\u001b[0m \u001b[0;34m\u001b[0m\u001b[0m\n",
      "\u001b[0;32m/Library/Frameworks/Python.framework/Versions/3.8/lib/python3.8/site-packages/IPython/core/interactiveshell.py\u001b[0m in \u001b[0;36msafe_execfile_ipy\u001b[0;34m(self, fname, shell_futures, raise_exceptions)\u001b[0m\n\u001b[1;32m   2812\u001b[0m                     \u001b[0mresult\u001b[0m \u001b[0;34m=\u001b[0m \u001b[0mself\u001b[0m\u001b[0;34m.\u001b[0m\u001b[0mrun_cell\u001b[0m\u001b[0;34m(\u001b[0m\u001b[0mcell\u001b[0m\u001b[0;34m,\u001b[0m \u001b[0msilent\u001b[0m\u001b[0;34m=\u001b[0m\u001b[0;32mTrue\u001b[0m\u001b[0;34m,\u001b[0m \u001b[0mshell_futures\u001b[0m\u001b[0;34m=\u001b[0m\u001b[0mshell_futures\u001b[0m\u001b[0;34m)\u001b[0m\u001b[0;34m\u001b[0m\u001b[0;34m\u001b[0m\u001b[0m\n\u001b[1;32m   2813\u001b[0m                     \u001b[0;32mif\u001b[0m \u001b[0mraise_exceptions\u001b[0m\u001b[0;34m:\u001b[0m\u001b[0;34m\u001b[0m\u001b[0;34m\u001b[0m\u001b[0m\n\u001b[0;32m-> 2814\u001b[0;31m                         \u001b[0mresult\u001b[0m\u001b[0;34m.\u001b[0m\u001b[0mraise_error\u001b[0m\u001b[0;34m(\u001b[0m\u001b[0;34m)\u001b[0m\u001b[0;34m\u001b[0m\u001b[0;34m\u001b[0m\u001b[0m\n\u001b[0m\u001b[1;32m   2815\u001b[0m                     \u001b[0;32melif\u001b[0m \u001b[0;32mnot\u001b[0m \u001b[0mresult\u001b[0m\u001b[0;34m.\u001b[0m\u001b[0msuccess\u001b[0m\u001b[0;34m:\u001b[0m\u001b[0;34m\u001b[0m\u001b[0;34m\u001b[0m\u001b[0m\n\u001b[1;32m   2816\u001b[0m                         \u001b[0;32mbreak\u001b[0m\u001b[0;34m\u001b[0m\u001b[0;34m\u001b[0m\u001b[0m\n",
      "\u001b[0;32m/Library/Frameworks/Python.framework/Versions/3.8/lib/python3.8/site-packages/IPython/core/interactiveshell.py\u001b[0m in \u001b[0;36mraise_error\u001b[0;34m(self)\u001b[0m\n\u001b[1;32m    329\u001b[0m             \u001b[0;32mraise\u001b[0m \u001b[0mself\u001b[0m\u001b[0;34m.\u001b[0m\u001b[0merror_before_exec\u001b[0m\u001b[0;34m\u001b[0m\u001b[0;34m\u001b[0m\u001b[0m\n\u001b[1;32m    330\u001b[0m         \u001b[0;32mif\u001b[0m \u001b[0mself\u001b[0m\u001b[0;34m.\u001b[0m\u001b[0merror_in_exec\u001b[0m \u001b[0;32mis\u001b[0m \u001b[0;32mnot\u001b[0m \u001b[0;32mNone\u001b[0m\u001b[0;34m:\u001b[0m\u001b[0;34m\u001b[0m\u001b[0;34m\u001b[0m\u001b[0m\n\u001b[0;32m--> 331\u001b[0;31m             \u001b[0;32mraise\u001b[0m \u001b[0mself\u001b[0m\u001b[0;34m.\u001b[0m\u001b[0merror_in_exec\u001b[0m\u001b[0;34m\u001b[0m\u001b[0;34m\u001b[0m\u001b[0m\n\u001b[0m\u001b[1;32m    332\u001b[0m \u001b[0;34m\u001b[0m\u001b[0m\n\u001b[1;32m    333\u001b[0m     \u001b[0;32mdef\u001b[0m \u001b[0m__repr__\u001b[0m\u001b[0;34m(\u001b[0m\u001b[0mself\u001b[0m\u001b[0;34m)\u001b[0m\u001b[0;34m:\u001b[0m\u001b[0;34m\u001b[0m\u001b[0;34m\u001b[0m\u001b[0m\n",
      "    \u001b[0;31m[... skipping hidden 1 frame]\u001b[0m\n",
      "\u001b[0;32m<ipython-input-1-e019918eceb0>\u001b[0m in \u001b[0;36m<module>\u001b[0;34m\u001b[0m\n\u001b[1;32m     32\u001b[0m \u001b[0;34m\u001b[0m\u001b[0m\n\u001b[1;32m     33\u001b[0m \u001b[0;31m# hpyer params here were taken from the matlab implementation but might need to be changed (there were several options and I took the face option)\u001b[0m\u001b[0;34m\u001b[0m\u001b[0;34m\u001b[0m\u001b[0;34m\u001b[0m\u001b[0m\n\u001b[0;32m---> 34\u001b[0;31m \u001b[0mamplify_spatial_Gdown_temporal_ideal\u001b[0m\u001b[0;34m(\u001b[0m\u001b[0mvideo_location\u001b[0m\u001b[0;34m,\u001b[0m \u001b[0;34m\"/\"\u001b[0m\u001b[0;34m,\u001b[0m \u001b[0;36m50\u001b[0m\u001b[0;34m,\u001b[0m \u001b[0;36m4\u001b[0m\u001b[0;34m,\u001b[0m \u001b[0;36m50\u001b[0m \u001b[0;34m/\u001b[0m \u001b[0;36m60\u001b[0m\u001b[0;34m,\u001b[0m \u001b[0;36m60\u001b[0m \u001b[0;34m/\u001b[0m \u001b[0;36m60\u001b[0m\u001b[0;34m,\u001b[0m \u001b[0;36m30\u001b[0m\u001b[0;34m,\u001b[0m \u001b[0;36m1\u001b[0m\u001b[0;34m)\u001b[0m\u001b[0;34m\u001b[0m\u001b[0;34m\u001b[0m\u001b[0m\n\u001b[0m\u001b[1;32m     35\u001b[0m \u001b[0;34m\u001b[0m\u001b[0m\n\u001b[1;32m     36\u001b[0m \u001b[0;34m\u001b[0m\u001b[0m\n",
      "\u001b[0;32m<ipython-input-1-e39fdf6cf943>\u001b[0m in \u001b[0;36mamplify_spatial_Gdown_temporal_ideal\u001b[0;34m(vid_file, out_file, alpha, level, fl, fh, fs, chrom_attenuation)\u001b[0m\n\u001b[1;32m     20\u001b[0m \u001b[0;34m\u001b[0m\u001b[0m\n\u001b[1;32m     21\u001b[0m     \u001b[0mlogging\u001b[0m\u001b[0;34m.\u001b[0m\u001b[0minfo\u001b[0m\u001b[0;34m(\u001b[0m\u001b[0;34m'Spatial filtering...'\u001b[0m\u001b[0;34m)\u001b[0m\u001b[0;34m\u001b[0m\u001b[0;34m\u001b[0m\u001b[0m\n\u001b[0;32m---> 22\u001b[0;31m     \u001b[0mgdown_stack\u001b[0m \u001b[0;34m=\u001b[0m \u001b[0mbuild_gdown_stack\u001b[0m\u001b[0;34m(\u001b[0m\u001b[0mvid_file\u001b[0m\u001b[0;34m,\u001b[0m \u001b[0mstart_index\u001b[0m\u001b[0;34m,\u001b[0m \u001b[0mend_index\u001b[0m\u001b[0;34m,\u001b[0m \u001b[0mlevel\u001b[0m\u001b[0;34m)\u001b[0m\u001b[0;34m\u001b[0m\u001b[0;34m\u001b[0m\u001b[0m\n\u001b[0m\u001b[1;32m     23\u001b[0m     \u001b[0mlogging\u001b[0m\u001b[0;34m.\u001b[0m\u001b[0minfo\u001b[0m\u001b[0;34m(\u001b[0m\u001b[0;34m'Finished'\u001b[0m\u001b[0;34m)\u001b[0m\u001b[0;34m\u001b[0m\u001b[0;34m\u001b[0m\u001b[0m\n\u001b[1;32m     24\u001b[0m \u001b[0;34m\u001b[0m\u001b[0m\n",
      "\u001b[0;32m<ipython-input-1-ee509d7fdd4c>\u001b[0m in \u001b[0;36mbuild_gdown_stack\u001b[0;34m(vid_file, start_index, end_index, level)\u001b[0m\n\u001b[1;32m      6\u001b[0m \u001b[0;34m\u001b[0m\u001b[0m\n\u001b[1;32m      7\u001b[0m     \u001b[0msuc\u001b[0m\u001b[0;34m,\u001b[0m \u001b[0mtemp\u001b[0m \u001b[0;34m=\u001b[0m \u001b[0mvid\u001b[0m\u001b[0;34m.\u001b[0m\u001b[0mread\u001b[0m\u001b[0;34m(\u001b[0m\u001b[0;34m)\u001b[0m\u001b[0;34m\u001b[0m\u001b[0;34m\u001b[0m\u001b[0m\n\u001b[0;32m----> 8\u001b[0;31m     \u001b[0mtemp\u001b[0m \u001b[0;34m=\u001b[0m \u001b[0mcv2\u001b[0m\u001b[0;34m.\u001b[0m\u001b[0mcvtColor\u001b[0m\u001b[0;34m(\u001b[0m\u001b[0mtemp\u001b[0m\u001b[0;34m,\u001b[0m \u001b[0mcv2\u001b[0m\u001b[0;34m.\u001b[0m\u001b[0mCOLOR_BGR2RGB\u001b[0m\u001b[0;34m)\u001b[0m\u001b[0;34m\u001b[0m\u001b[0;34m\u001b[0m\u001b[0m\n\u001b[0m\u001b[1;32m      9\u001b[0m     \u001b[0;31m# frame = cv2.normalize(temp.astype('float'), None, 0.0, 1.0, cv2.NORM_MINMAX)  # im2double\u001b[0m\u001b[0;34m\u001b[0m\u001b[0;34m\u001b[0m\u001b[0;34m\u001b[0m\u001b[0m\n\u001b[1;32m     10\u001b[0m     \u001b[0mframe\u001b[0m \u001b[0;34m=\u001b[0m \u001b[0mim2double\u001b[0m\u001b[0;34m(\u001b[0m\u001b[0mtemp\u001b[0m\u001b[0;34m)\u001b[0m\u001b[0;34m\u001b[0m\u001b[0;34m\u001b[0m\u001b[0m\n",
      "\u001b[0;31merror\u001b[0m: OpenCV(4.4.0) /private/var/folders/nz/vv4_9tw56nv9k3tkvyszvwg80000gn/T/pip-req-build-b4ibzwe2/opencv/modules/imgproc/src/color.cpp:182: error: (-215:Assertion failed) !_src.empty() in function 'cvtColor'\n"
     ],
     "ename": "error",
     "evalue": "OpenCV(4.4.0) /private/var/folders/nz/vv4_9tw56nv9k3tkvyszvwg80000gn/T/pip-req-build-b4ibzwe2/opencv/modules/imgproc/src/color.cpp:182: error: (-215:Assertion failed) !_src.empty() in function 'cvtColor'\n",
     "output_type": "error"
    }
   ],
   "source": [
    "%run ./evm_preprocessing.ipynb\n",
    "# video_location = dataset_location + specific_dir + seperator + \"out.avi\"\n",
    "video_location=\"out2.avi\""
   ]
  },
  {
   "cell_type": "markdown",
   "metadata": {},
   "source": [
    "#### Detecting the face landmarks and parsing the ROI"
   ]
  },
  {
   "cell_type": "code",
   "execution_count": null,
   "metadata": {
    "pycharm": {
     "name": "#%%\n",
     "is_executing": false
    },
    "scrolled": true
   },
   "outputs": [],
   "source": [
    "def parse_roi(frame):\n",
    "    # image = face_recognition.load_image_file(frame) # read image.\n",
    "    face_locations = face_recognition.face_locations(frame,model = 'hog') # detects all the faces in image\n",
    "    face_landmarks_list = face_recognition.face_landmarks(image)\n",
    "    \n",
    "    # iterate through all the faces.\n",
    "    for face_location in face_locations:\n",
    "        img = PIL.Image.fromarray(frame)\n",
    "        top,right,bottom,left = face_location # extract all face square points.\n",
    "        diff = math.floor((top - bottom) * 0.15) # 20 percent of the face len (toadd eyebrow top point).\n",
    "        \n",
    "        # finding the forehead\n",
    "        try:\n",
    "            right_eyebrow_landmarks = np.asarray(face_landmarks_list[0]['right_eyebrow']) # right eyebrow points.\n",
    "        except:\n",
    "            return None\n",
    "        right_eyebrow_landmarks.sort(axis=0)\n",
    "        rightest_point = right_eyebrow_landmarks[-1] # The most right point of the ROI(according to x).\n",
    "        top_right_eyebrow = right_eyebrow_landmarks.min(axis = 0)[1]\n",
    "        try:\n",
    "            left_eyebrow_landmarks = np.asarray(face_landmarks_list[0]['left_eyebrow'])\n",
    "        except:\n",
    "            return None\n",
    "        left_eyebrow_landmarks.sort(axis=0)\n",
    "        leftest_point = left_eyebrow_landmarks[0] # the most left point of ROI.(according to x)\n",
    "        top_left_eyebrow = left_eyebrow_landmarks.min(axis = 0)[1]\n",
    "        bottom = min(top_right_eyebrow,top_left_eyebrow).item(0) # bottom point of the forehead.\n",
    "        bottom = bottom - (0.05 * bottom) # improve bottom location by 2 percent.\n",
    "        forehead = img.crop((leftest_point[0], leftest_point[1]+diff, rightest_point[0],bottom+10)) # adding diff to top to make the forehead bigger.\n",
    "\n",
    "        # finding the second ROI:\n",
    "        try:\n",
    "            upper_mouth = np.asarray(face_landmarks_list[0]['top_lip']) # top_lip landmarks\n",
    "        except:\n",
    "            return None\n",
    "        upper_mouth_min = upper_mouth.min(axis = 0)[1] # The  top - lip upper point.\n",
    "        try:\n",
    "            upper_nose = np.asarray(face_landmarks_list[0]['nose_bridge'])\n",
    "        except:\n",
    "            return None\n",
    "        upper_nose_min = upper_nose.min(axis = 0)[1]  # noise bridge upper point.\n",
    "        upper_nose_min += upper_mouth_min * 0.1 # improving the noise bridge upper point.\n",
    "        nose_to_upper_lip = img.crop((leftest_point[0], upper_nose_min, rightest_point[0], upper_mouth_min))\n",
    "\n",
    "        return forehead, nose_to_upper_lip\n",
    "    return None # in case of which no face was detected"
   ]
  },
  {
   "cell_type": "markdown",
   "metadata": {},
   "source": [
    "### Check for bad frames\n",
    "##### R > 95 and G > 40 and B > 20 and R > G and R > B\n",
    "##### Based on https://arxiv.org/ftp/arxiv/papers/1708/1708.02694.pdf page 5"
   ]
  },
  {
   "cell_type": "code",
   "execution_count": 4,
   "metadata": {
    "pycharm": {
     "name": "#%%s\n"
    },
    "scrolled": true
   },
   "outputs": [],
   "source": [
    "red_min_val = 95\n",
    "green_min_val = 40\n",
    "blue_min_val = 20\n",
    "red_green_max_diff = 15\n",
    "def good_frame(blue, green, red):\n",
    "    if red <= red_min_val:\n",
    "        logging.warning(\"bad frame detected, reason: red > red_min_val\")\n",
    "        return False\n",
    "    if green <= green_min_val:\n",
    "        logging.warning(\"bad frame detected, reason: green > green_min_val\")\n",
    "        return False\n",
    "    if blue <= blue_min_val:\n",
    "        logging.warning(\"bad frame detected, reason: blue > blue_min_val\")\n",
    "        return False\n",
    "    if red <= green:\n",
    "        logging.warning(\"bad frame detected, reason: red > green\")\n",
    "        return False\n",
    "    if red <= blue:\n",
    "        logging.warning(\"bad frame detected, reason: red > blue\")\n",
    "        return False\n",
    "    if abs(red - green) <= red_green_max_diff:\n",
    "        logging.warning(\"bad frame detected, reason: abs(red - green) > red_green_max_diff\")\n",
    "        return False\n",
    "\n",
    "    return True"
   ]
  },
  {
   "cell_type": "code",
   "execution_count": 5,
   "metadata": {
    "pycharm": {
     "name": "#%%\n"
    },
    "scrolled": true
   },
   "outputs": [],
   "source": [
    "def get_new_frame(vidcap):\n",
    "    success, next_image = vidcap.read()\n",
    "    return success, next_image"
   ]
  },
  {
   "cell_type": "markdown",
   "metadata": {},
   "source": [
    "#### Plotting RGB arrays results"
   ]
  },
  {
   "cell_type": "code",
   "execution_count": 6,
   "metadata": {
    "pycharm": {
     "name": "#%%\n"
    },
    "scrolled": true
   },
   "outputs": [],
   "source": [
    "def plot_result(greens, reds, blues, x_value, title=\"\"):\n",
    "    logging.info(\"Plotting results ...\" + title)\n",
    "    plt.figure(figsize=(6, 5))\n",
    "    plt.title(title)\n",
    "    plt.xlabel(\"Time\")\n",
    "    plt.ylabel(\"Value\")\n",
    "    plt.subplot(3, 1, 1)\n",
    "    plt.plot(x_value, greens, color=\"green\")\n",
    "    plt.subplot(3, 1, 2)\n",
    "    plt.plot(x_value, reds, color=\"red\")\n",
    "    plt.subplot(3, 1, 3)\n",
    "    plt.plot(x_value, blues, color=\"blue\")\n",
    "    plt.show()\n",
    "    logging.info(\"Showing result\")"
   ]
  },
  {
   "cell_type": "markdown",
   "metadata": {},
   "source": [
    "#### Filtering:"
   ]
  },
  {
   "cell_type": "code",
   "execution_count": 7,
   "metadata": {
    "scrolled": true
   },
   "outputs": [],
   "source": [
    "def filter_channel(channel,fs):\n",
    "    \"\"\"\n",
    "    This method apply filter on a channel between 0.75HZ to 4HZ.\n",
    "    :param channel: Is a signal to apply the filter to.\n",
    "    :param fs: Is the sampling rate of channel.\n",
    "    :return: The filtered channel.\n",
    "    \"\"\"\n",
    "    bh, ah = sig.butter(4, 0.75 / (fs / 2), 'highpass')\n",
    "    bl, al = sig.butter(4, 4 / (fs / 2), 'lowpass')\n",
    "    channel = sig.filtfilt(bh, ah, channel) # applying the filter coefficient on the sig\n",
    "    #channel = np.absolute(channel)\n",
    "    channel_after_filter = sig.filtfilt(bl, al, channel) # applying the filter coefficient on the sig\n",
    "    return channel_after_filter"
   ]
  },
  {
   "cell_type": "markdown",
   "metadata": {},
   "source": [
    "#### Getting RGB values from a frame and adding them to arrays"
   ]
  },
  {
   "cell_type": "code",
   "execution_count": 13,
   "metadata": {},
   "outputs": [],
   "source": [
    "def parse_luminace(red, green, blue):\n",
    "    luminance_level = 0.2126 * red + 0.7152 * green + 0.0722 * blue\n",
    "    return luminance_level\n",
    "def parse_RGB(roi, color_sig):\n",
    "    \"\"\"\n",
    "    Parses an image to its RGB channels\n",
    "    :param image: the image to be parsed\n",
    "    :param vidcap:\n",
    "    :param greens: array containing green channel values\n",
    "    :param blues: array containing blue channel values\n",
    "    :param reds: array containing red channel values\n",
    "    :param frame_number - is the number of the frame of the video.\n",
    "    :return: a flag indicating if there is a next image, and the next image\n",
    "    \"\"\"\n",
    "#     plt.imshow(roi)\n",
    "#     plt.show()\n",
    "    try:\n",
    "        roi = cv2.cvtColor(roi, cv2.COLOR_RGB2BGR)\n",
    "    except:\n",
    "        return False, color_sig\n",
    "    new_blue,new_green,new_red = cv2.split(roi)\n",
    "    b_mean,g_mean,r_mean = np.mean(new_blue),np.mean(new_green),np.mean(new_red)\n",
    "    luminance_level = parse_luminace(r_mean, g_mean, b_mean)\n",
    "    if good_frame(b_mean,g_mean,r_mean):\n",
    "        color_channels = roi.reshape(-1, roi.shape[-1])\n",
    "        avg_color = color_channels.mean(axis=0)\n",
    "        color_sig.append(avg_color)\n",
    "        return True, color_sig, luminance_level\n",
    "    return False, color_sig, luminance_level"
   ]
  },
  {
   "cell_type": "markdown",
   "metadata": {},
   "source": [
    "#### Main loop - going over all the frames of the video"
   ]
  },
  {
   "cell_type": "code",
   "execution_count": 14,
   "metadata": {
    "pycharm": {
     "name": "#%%\n"
    },
    "scrolled": true
   },
   "outputs": [
    {
     "name": "stderr",
     "output_type": "stream",
     "text": [
      "[2021-04-17 10:36:38,240] [INFO] [<module>] [7] : Working on video ../dataset/good_sync/perry-all-2/lab1.mp4\n",
      "[2021-04-17 10:36:38,311] [INFO] [<module>] [13] : Parsing images ...\n",
      "[2021-04-17 10:36:38,312] [INFO] [<module>] [15] : parsing frame 0/3914.0\n",
      "[2021-04-17 10:36:38,794] [INFO] [<module>] [22] : luminance level: 107.0201574650913\n",
      "[2021-04-17 10:36:38,796] [INFO] [<module>] [15] : parsing frame 1/3914.0\n",
      "[2021-04-17 10:36:39,265] [INFO] [<module>] [22] : luminance level: 108.38618268041236\n",
      "[2021-04-17 10:36:39,267] [INFO] [<module>] [15] : parsing frame 2/3914.0\n",
      "[2021-04-17 10:36:39,733] [INFO] [<module>] [22] : luminance level: 105.75068836734692\n",
      "[2021-04-17 10:36:39,735] [INFO] [<module>] [15] : parsing frame 3/3914.0\n",
      "[2021-04-17 10:36:40,202] [INFO] [<module>] [22] : luminance level: 107.40325505154638\n",
      "[2021-04-17 10:36:40,204] [INFO] [<module>] [15] : parsing frame 4/3914.0\n",
      "[2021-04-17 10:36:40,674] [INFO] [<module>] [22] : luminance level: 108.16564081632653\n",
      "[2021-04-17 10:36:40,677] [INFO] [<module>] [15] : parsing frame 5/3914.0\n",
      "[2021-04-17 10:36:41,144] [INFO] [<module>] [22] : luminance level: 108.35710387755101\n",
      "[2021-04-17 10:36:41,146] [INFO] [<module>] [15] : parsing frame 6/3914.0\n",
      "[2021-04-17 10:36:41,607] [INFO] [<module>] [22] : luminance level: 109.41790448979592\n",
      "[2021-04-17 10:36:41,609] [INFO] [<module>] [15] : parsing frame 7/3914.0\n",
      "[2021-04-17 10:36:42,117] [INFO] [<module>] [22] : luminance level: 110.96951242022581\n",
      "[2021-04-17 10:36:42,119] [INFO] [<module>] [15] : parsing frame 8/3914.0\n",
      "[2021-04-17 10:36:42,608] [INFO] [<module>] [22] : luminance level: 111.71050721649485\n",
      "[2021-04-17 10:36:42,610] [INFO] [<module>] [15] : parsing frame 9/3914.0\n",
      "[2021-04-17 10:36:43,081] [INFO] [<module>] [22] : luminance level: 113.92664453608246\n",
      "[2021-04-17 10:36:43,083] [INFO] [<module>] [15] : parsing frame 10/3914.0\n",
      "[2021-04-17 10:36:43,561] [INFO] [<module>] [22] : luminance level: 113.598346185567\n",
      "[2021-04-17 10:36:43,565] [INFO] [<module>] [15] : parsing frame 11/3914.0\n",
      "[2021-04-17 10:36:44,036] [INFO] [<module>] [22] : luminance level: 114.14563463917524\n",
      "[2021-04-17 10:36:44,038] [INFO] [<module>] [15] : parsing frame 12/3914.0\n",
      "[2021-04-17 10:36:44,506] [INFO] [<module>] [22] : luminance level: 121.34039987871436\n",
      "[2021-04-17 10:36:44,509] [INFO] [<module>] [15] : parsing frame 13/3914.0\n",
      "[2021-04-17 10:36:44,979] [INFO] [<module>] [22] : luminance level: 123.60698316326531\n",
      "[2021-04-17 10:36:44,981] [INFO] [<module>] [15] : parsing frame 14/3914.0\n",
      "[2021-04-17 10:36:45,449] [INFO] [<module>] [22] : luminance level: 124.792148828125\n",
      "[2021-04-17 10:36:45,452] [INFO] [<module>] [15] : parsing frame 15/3914.0\n",
      "[2021-04-17 10:36:45,943] [INFO] [<module>] [22] : luminance level: 126.13376093750001\n",
      "[2021-04-17 10:36:45,945] [INFO] [<module>] [15] : parsing frame 16/3914.0\n",
      "[2021-04-17 10:36:46,443] [INFO] [<module>] [22] : luminance level: 127.24034350515464\n",
      "[2021-04-17 10:36:46,446] [INFO] [<module>] [15] : parsing frame 17/3914.0\n",
      "[2021-04-17 10:36:46,929] [INFO] [<module>] [22] : luminance level: 127.45856868556702\n",
      "[2021-04-17 10:36:46,931] [INFO] [<module>] [15] : parsing frame 18/3914.0\n",
      "[2021-04-17 10:36:47,409] [INFO] [<module>] [22] : luminance level: 127.76247205882352\n",
      "[2021-04-17 10:36:47,411] [INFO] [<module>] [15] : parsing frame 19/3914.0\n",
      "[2021-04-17 10:36:47,873] [INFO] [<module>] [22] : luminance level: 128.65475781249998\n",
      "[2021-04-17 10:36:47,877] [INFO] [<module>] [15] : parsing frame 20/3914.0\n",
      "[2021-04-17 10:36:48,344] [INFO] [<module>] [22] : luminance level: 128.28671030927833\n",
      "[2021-04-17 10:36:48,347] [INFO] [<module>] [15] : parsing frame 21/3914.0\n",
      "[2021-04-17 10:36:48,816] [INFO] [<module>] [22] : luminance level: 129.21060969387756\n",
      "[2021-04-17 10:36:48,818] [INFO] [<module>] [15] : parsing frame 22/3914.0\n",
      "[2021-04-17 10:36:49,279] [INFO] [<module>] [22] : luminance level: 130.53170644329896\n",
      "[2021-04-17 10:36:49,281] [INFO] [<module>] [15] : parsing frame 23/3914.0\n",
      "[2021-04-17 10:36:49,737] [INFO] [<module>] [22] : luminance level: 130.05890592783504\n",
      "[2021-04-17 10:36:49,739] [INFO] [<module>] [15] : parsing frame 24/3914.0\n",
      "[2021-04-17 10:36:50,212] [INFO] [<module>] [22] : luminance level: 130.51574149484537\n",
      "[2021-04-17 10:36:50,215] [INFO] [<module>] [15] : parsing frame 25/3914.0\n",
      "[2021-04-17 10:36:50,689] [INFO] [<module>] [22] : luminance level: 132.09667638888888\n",
      "[2021-04-17 10:36:50,692] [INFO] [<module>] [15] : parsing frame 26/3914.0\n",
      "[2021-04-17 10:36:51,180] [INFO] [<module>] [22] : luminance level: 129.91038503401361\n",
      "[2021-04-17 10:36:51,182] [INFO] [<module>] [15] : parsing frame 27/3914.0\n",
      "[2021-04-17 10:36:51,662] [INFO] [<module>] [22] : luminance level: 130.94719941690963\n",
      "[2021-04-17 10:36:51,664] [INFO] [<module>] [15] : parsing frame 28/3914.0\n",
      "[2021-04-17 10:36:52,134] [INFO] [<module>] [22] : luminance level: 131.57783549337262\n",
      "[2021-04-17 10:36:52,137] [INFO] [<module>] [15] : parsing frame 29/3914.0\n",
      "[2021-04-17 10:36:52,603] [INFO] [<module>] [22] : luminance level: 127.12534514619882\n",
      "[2021-04-17 10:36:52,605] [INFO] [<module>] [15] : parsing frame 30/3914.0\n",
      "[2021-04-17 10:36:53,081] [INFO] [<module>] [22] : luminance level: 125.49363182870368\n",
      "[2021-04-17 10:36:53,083] [INFO] [<module>] [15] : parsing frame 31/3914.0\n",
      "[2021-04-17 10:36:53,550] [INFO] [<module>] [22] : luminance level: 126.36880243055555\n",
      "[2021-04-17 10:36:53,552] [INFO] [<module>] [15] : parsing frame 32/3914.0\n",
      "[2021-04-17 10:36:54,026] [INFO] [<module>] [22] : luminance level: 125.49158530701754\n",
      "[2021-04-17 10:36:54,028] [INFO] [<module>] [15] : parsing frame 33/3914.0\n",
      "[2021-04-17 10:36:54,492] [INFO] [<module>] [22] : luminance level: 126.24416331018517\n",
      "[2021-04-17 10:36:54,493] [INFO] [<module>] [15] : parsing frame 34/3914.0\n",
      "[2021-04-17 10:36:54,972] [INFO] [<module>] [22] : luminance level: 126.12981489117982\n",
      "[2021-04-17 10:36:54,974] [INFO] [<module>] [15] : parsing frame 35/3914.0\n",
      "[2021-04-17 10:36:55,437] [INFO] [<module>] [22] : luminance level: 126.67886550925925\n",
      "[2021-04-17 10:36:55,439] [INFO] [<module>] [15] : parsing frame 36/3914.0\n",
      "[2021-04-17 10:36:55,919] [INFO] [<module>] [22] : luminance level: 127.8295830469645\n",
      "[2021-04-17 10:36:55,921] [INFO] [<module>] [15] : parsing frame 37/3914.0\n",
      "[2021-04-17 10:36:56,403] [INFO] [<module>] [22] : luminance level: 130.14744701754387\n",
      "[2021-04-17 10:36:56,405] [INFO] [<module>] [15] : parsing frame 38/3914.0\n",
      "[2021-04-17 10:36:56,877] [INFO] [<module>] [22] : luminance level: 129.91054183396636\n",
      "[2021-04-17 10:36:56,879] [INFO] [<module>] [15] : parsing frame 39/3914.0\n",
      "[2021-04-17 10:36:57,335] [INFO] [<module>] [22] : luminance level: 129.79845278350516\n",
      "[2021-04-17 10:36:57,337] [INFO] [<module>] [15] : parsing frame 40/3914.0\n",
      "[2021-04-17 10:36:57,822] [INFO] [<module>] [22] : luminance level: 128.54221567010308\n",
      "[2021-04-17 10:36:57,824] [INFO] [<module>] [15] : parsing frame 41/3914.0\n",
      "[2021-04-17 10:36:58,289] [INFO] [<module>] [22] : luminance level: 129.00196412371133\n",
      "[2021-04-17 10:36:58,291] [INFO] [<module>] [15] : parsing frame 42/3914.0\n",
      "[2021-04-17 10:36:58,756] [INFO] [<module>] [22] : luminance level: 129.6272718367347\n",
      "[2021-04-17 10:36:58,758] [INFO] [<module>] [15] : parsing frame 43/3914.0\n",
      "[2021-04-17 10:36:59,217] [INFO] [<module>] [22] : luminance level: 128.01986163265306\n",
      "[2021-04-17 10:36:59,219] [INFO] [<module>] [15] : parsing frame 44/3914.0\n",
      "[2021-04-17 10:36:59,685] [INFO] [<module>] [22] : luminance level: 134.34750612244898\n",
      "[2021-04-17 10:36:59,687] [INFO] [<module>] [15] : parsing frame 45/3914.0\n",
      "[2021-04-17 10:37:00,157] [INFO] [<module>] [22] : luminance level: 134.92874896907216\n",
      "[2021-04-17 10:37:00,159] [INFO] [<module>] [15] : parsing frame 46/3914.0\n",
      "[2021-04-17 10:37:00,633] [INFO] [<module>] [22] : luminance level: 134.37857756215888\n",
      "[2021-04-17 10:37:00,635] [INFO] [<module>] [15] : parsing frame 47/3914.0\n",
      "[2021-04-17 10:37:01,094] [INFO] [<module>] [22] : luminance level: 125.77851914480077\n",
      "[2021-04-17 10:37:01,095] [INFO] [<module>] [15] : parsing frame 48/3914.0\n",
      "[2021-04-17 10:37:01,557] [INFO] [<module>] [22] : luminance level: 129.87005570228092\n",
      "[2021-04-17 10:37:01,559] [INFO] [<module>] [15] : parsing frame 49/3914.0\n",
      "[2021-04-17 10:37:02,027] [INFO] [<module>] [22] : luminance level: 129.04427587034814\n"
     ]
    },
    {
     "name": "stderr",
     "output_type": "stream",
     "text": [
      "[2021-04-17 10:37:02,028] [INFO] [<module>] [15] : parsing frame 50/3914.0\n",
      "[2021-04-17 10:37:02,488] [INFO] [<module>] [22] : luminance level: 121.17297337220602\n",
      "[2021-04-17 10:37:02,490] [INFO] [<module>] [15] : parsing frame 51/3914.0\n",
      "[2021-04-17 10:37:02,979] [INFO] [<module>] [22] : luminance level: 119.38100310981535\n",
      "[2021-04-17 10:37:02,981] [INFO] [<module>] [15] : parsing frame 52/3914.0\n",
      "[2021-04-17 10:37:03,441] [INFO] [<module>] [22] : luminance level: 119.93777648202138\n",
      "[2021-04-17 10:37:03,443] [INFO] [<module>] [15] : parsing frame 53/3914.0\n",
      "[2021-04-17 10:37:03,914] [INFO] [<module>] [22] : luminance level: 120.17510591836734\n",
      "[2021-04-17 10:37:03,915] [INFO] [<module>] [15] : parsing frame 54/3914.0\n",
      "[2021-04-17 10:37:04,371] [INFO] [<module>] [22] : luminance level: 126.49654043367346\n",
      "[2021-04-17 10:37:04,373] [INFO] [<module>] [15] : parsing frame 55/3914.0\n",
      "[2021-04-17 10:37:04,843] [INFO] [<module>] [22] : luminance level: 129.17456390306123\n",
      "[2021-04-17 10:37:04,845] [INFO] [<module>] [15] : parsing frame 56/3914.0\n",
      "[2021-04-17 10:37:05,313] [INFO] [<module>] [22] : luminance level: 129.15279183673468\n",
      "[2021-04-17 10:37:05,315] [INFO] [<module>] [15] : parsing frame 57/3914.0\n",
      "[2021-04-17 10:37:05,780] [INFO] [<module>] [22] : luminance level: 130.73081855670102\n",
      "[2021-04-17 10:37:05,782] [INFO] [<module>] [15] : parsing frame 58/3914.0\n",
      "[2021-04-17 10:37:06,261] [INFO] [<module>] [22] : luminance level: 129.96169948979593\n",
      "[2021-04-17 10:37:06,264] [INFO] [<module>] [15] : parsing frame 59/3914.0\n",
      "[2021-04-17 10:37:06,731] [INFO] [<module>] [22] : luminance level: 132.44975969387752\n",
      "[2021-04-17 10:37:06,734] [INFO] [<module>] [15] : parsing frame 60/3914.0\n",
      "[2021-04-17 10:37:07,197] [INFO] [<module>] [22] : luminance level: 133.16392036082473\n",
      "[2021-04-17 10:37:07,200] [INFO] [<module>] [15] : parsing frame 61/3914.0\n",
      "[2021-04-17 10:37:07,667] [INFO] [<module>] [22] : luminance level: 135.16738273195875\n",
      "[2021-04-17 10:37:07,670] [INFO] [<module>] [15] : parsing frame 62/3914.0\n",
      "[2021-04-17 10:37:08,142] [INFO] [<module>] [22] : luminance level: 128.5682518367347\n",
      "[2021-04-17 10:37:08,145] [INFO] [<module>] [15] : parsing frame 63/3914.0\n",
      "[2021-04-17 10:37:08,614] [INFO] [<module>] [22] : luminance level: 130.97636845360825\n",
      "[2021-04-17 10:37:08,617] [INFO] [<module>] [15] : parsing frame 64/3914.0\n",
      "[2021-04-17 10:37:09,081] [INFO] [<module>] [22] : luminance level: 135.98165170068026\n",
      "[2021-04-17 10:37:09,084] [INFO] [<module>] [15] : parsing frame 65/3914.0\n",
      "[2021-04-17 10:37:09,545] [INFO] [<module>] [22] : luminance level: 130.9904049973418\n",
      "[2021-04-17 10:37:09,548] [INFO] [<module>] [15] : parsing frame 66/3914.0\n",
      "[2021-04-17 10:37:10,011] [INFO] [<module>] [22] : luminance level: 137.58909020408163\n",
      "[2021-04-17 10:37:10,014] [INFO] [<module>] [15] : parsing frame 67/3914.0\n",
      "[2021-04-17 10:37:10,476] [INFO] [<module>] [22] : luminance level: 134.43027841031147\n",
      "[2021-04-17 10:37:10,479] [INFO] [<module>] [15] : parsing frame 68/3914.0\n",
      "[2021-04-17 10:37:10,946] [INFO] [<module>] [22] : luminance level: 133.42377192982457\n",
      "[2021-04-17 10:37:10,949] [INFO] [<module>] [15] : parsing frame 69/3914.0\n",
      "[2021-04-17 10:37:11,417] [INFO] [<module>] [22] : luminance level: 134.54793971291866\n",
      "[2021-04-17 10:37:11,418] [INFO] [<module>] [15] : parsing frame 70/3914.0\n",
      "[2021-04-17 10:37:11,885] [INFO] [<module>] [22] : luminance level: 137.58069613319012\n",
      "[2021-04-17 10:37:11,888] [INFO] [<module>] [15] : parsing frame 71/3914.0\n",
      "[2021-04-17 10:37:12,349] [INFO] [<module>] [22] : luminance level: 141.29453414141412\n",
      "[2021-04-17 10:37:12,351] [INFO] [<module>] [15] : parsing frame 72/3914.0\n",
      "[2021-04-17 10:37:12,815] [INFO] [<module>] [22] : luminance level: 142.81753925925926\n",
      "[2021-04-17 10:37:12,817] [INFO] [<module>] [15] : parsing frame 73/3914.0\n",
      "[2021-04-17 10:37:13,297] [INFO] [<module>] [22] : luminance level: 142.7146412\n",
      "[2021-04-17 10:37:13,299] [INFO] [<module>] [15] : parsing frame 74/3914.0\n",
      "[2021-04-17 10:37:13,765] [INFO] [<module>] [22] : luminance level: 143.95155693333334\n",
      "[2021-04-17 10:37:13,767] [INFO] [<module>] [15] : parsing frame 75/3914.0\n",
      "[2021-04-17 10:37:14,243] [INFO] [<module>] [22] : luminance level: 144.59706838283827\n",
      "[2021-04-17 10:37:14,245] [INFO] [<module>] [15] : parsing frame 76/3914.0\n",
      "[2021-04-17 10:37:14,711] [INFO] [<module>] [22] : luminance level: 144.57858653465345\n",
      "[2021-04-17 10:37:14,714] [INFO] [<module>] [15] : parsing frame 77/3914.0\n",
      "[2021-04-17 10:37:15,202] [INFO] [<module>] [22] : luminance level: 147.94976802721087\n",
      "[2021-04-17 10:37:15,205] [INFO] [<module>] [15] : parsing frame 78/3914.0\n",
      "[2021-04-17 10:37:15,698] [INFO] [<module>] [22] : luminance level: 142.17348282828283\n",
      "[2021-04-17 10:37:15,701] [INFO] [<module>] [15] : parsing frame 79/3914.0\n",
      "[2021-04-17 10:37:16,158] [INFO] [<module>] [22] : luminance level: 147.68985804713805\n",
      "[2021-04-17 10:37:16,161] [INFO] [<module>] [15] : parsing frame 80/3914.0\n",
      "[2021-04-17 10:37:16,629] [INFO] [<module>] [22] : luminance level: 144.38651\n",
      "[2021-04-17 10:37:16,633] [INFO] [<module>] [15] : parsing frame 81/3914.0\n",
      "[2021-04-17 10:37:17,134] [INFO] [<module>] [22] : luminance level: 144.13904726072607\n",
      "[2021-04-17 10:37:17,137] [INFO] [<module>] [15] : parsing frame 82/3914.0\n",
      "[2021-04-17 10:37:17,625] [INFO] [<module>] [22] : luminance level: 144.0953601320132\n",
      "[2021-04-17 10:37:17,628] [INFO] [<module>] [15] : parsing frame 83/3914.0\n",
      "[2021-04-17 10:37:18,102] [INFO] [<module>] [22] : luminance level: 143.30711032679739\n",
      "[2021-04-17 10:37:18,105] [INFO] [<module>] [15] : parsing frame 84/3914.0\n",
      "[2021-04-17 10:37:18,583] [INFO] [<module>] [22] : luminance level: 143.46888826666665\n",
      "[2021-04-17 10:37:18,585] [INFO] [<module>] [15] : parsing frame 85/3914.0\n",
      "[2021-04-17 10:37:19,088] [INFO] [<module>] [22] : luminance level: 138.35033968421052\n",
      "[2021-04-17 10:37:19,090] [INFO] [<module>] [15] : parsing frame 86/3914.0\n",
      "[2021-04-17 10:37:19,600] [INFO] [<module>] [22] : luminance level: 139.15341603960394\n",
      "[2021-04-17 10:37:19,602] [INFO] [<module>] [15] : parsing frame 87/3914.0\n",
      "[2021-04-17 10:37:20,083] [INFO] [<module>] [22] : luminance level: 143.0586285\n",
      "[2021-04-17 10:37:20,085] [INFO] [<module>] [15] : parsing frame 88/3914.0\n",
      "[2021-04-17 10:37:20,561] [INFO] [<module>] [22] : luminance level: 141.31316626262628\n",
      "[2021-04-17 10:37:20,564] [INFO] [<module>] [15] : parsing frame 89/3914.0\n",
      "[2021-04-17 10:37:21,035] [INFO] [<module>] [22] : luminance level: 144.3138775\n",
      "[2021-04-17 10:37:21,038] [INFO] [<module>] [15] : parsing frame 90/3914.0\n",
      "[2021-04-17 10:37:21,500] [INFO] [<module>] [22] : luminance level: 143.477253\n",
      "[2021-04-17 10:37:21,502] [INFO] [<module>] [15] : parsing frame 91/3914.0\n",
      "[2021-04-17 10:37:21,971] [INFO] [<module>] [22] : luminance level: 142.540543\n",
      "[2021-04-17 10:37:21,973] [INFO] [<module>] [15] : parsing frame 92/3914.0\n",
      "[2021-04-17 10:37:22,449] [INFO] [<module>] [22] : luminance level: 141.4892155236576\n",
      "[2021-04-17 10:37:22,452] [INFO] [<module>] [15] : parsing frame 93/3914.0\n",
      "[2021-04-17 10:37:22,918] [INFO] [<module>] [22] : luminance level: 143.64355821697097\n",
      "[2021-04-17 10:37:22,920] [INFO] [<module>] [15] : parsing frame 94/3914.0\n",
      "[2021-04-17 10:37:23,395] [INFO] [<module>] [22] : luminance level: 143.517957682084\n",
      "[2021-04-17 10:37:23,397] [INFO] [<module>] [15] : parsing frame 95/3914.0\n",
      "[2021-04-17 10:37:23,863] [INFO] [<module>] [22] : luminance level: 147.28168592592593\n",
      "[2021-04-17 10:37:23,866] [INFO] [<module>] [15] : parsing frame 96/3914.0\n",
      "[2021-04-17 10:37:24,328] [INFO] [<module>] [22] : luminance level: 147.17359259259257\n",
      "[2021-04-17 10:37:24,331] [INFO] [<module>] [15] : parsing frame 97/3914.0\n",
      "[2021-04-17 10:37:24,808] [INFO] [<module>] [22] : luminance level: 147.70045333333334\n",
      "[2021-04-17 10:37:24,810] [INFO] [<module>] [15] : parsing frame 98/3914.0\n",
      "[2021-04-17 10:37:25,277] [INFO] [<module>] [22] : luminance level: 146.9730612794613\n",
      "[2021-04-17 10:37:25,279] [INFO] [<module>] [15] : parsing frame 99/3914.0\n",
      "[2021-04-17 10:37:25,754] [INFO] [<module>] [22] : luminance level: 147.9609913804714\n",
      "[2021-04-17 10:37:25,757] [INFO] [<module>] [15] : parsing frame 100/3914.0\n",
      "[2021-04-17 10:37:26,222] [INFO] [<module>] [22] : luminance level: 145.19021269841272\n"
     ]
    },
    {
     "name": "stderr",
     "output_type": "stream",
     "text": [
      "[2021-04-17 10:37:26,224] [INFO] [<module>] [15] : parsing frame 101/3914.0\n",
      "[2021-04-17 10:37:26,700] [INFO] [<module>] [22] : luminance level: 146.52023527583526\n",
      "[2021-04-17 10:37:26,703] [INFO] [<module>] [15] : parsing frame 102/3914.0\n",
      "[2021-04-17 10:37:27,172] [INFO] [<module>] [22] : luminance level: 141.8371516826923\n",
      "[2021-04-17 10:37:27,174] [INFO] [<module>] [15] : parsing frame 103/3914.0\n",
      "[2021-04-17 10:37:27,645] [INFO] [<module>] [22] : luminance level: 146.0254723905724\n",
      "[2021-04-17 10:37:27,647] [INFO] [<module>] [15] : parsing frame 104/3914.0\n",
      "[2021-04-17 10:37:28,118] [INFO] [<module>] [22] : luminance level: 146.26968378631673\n",
      "[2021-04-17 10:37:28,120] [INFO] [<module>] [15] : parsing frame 105/3914.0\n",
      "[2021-04-17 10:37:28,591] [INFO] [<module>] [22] : luminance level: 142.28350833333334\n",
      "[2021-04-17 10:37:28,593] [INFO] [<module>] [15] : parsing frame 106/3914.0\n",
      "[2021-04-17 10:37:29,065] [INFO] [<module>] [22] : luminance level: 141.77215494791668\n",
      "[2021-04-17 10:37:29,069] [INFO] [<module>] [15] : parsing frame 107/3914.0\n",
      "[2021-04-17 10:37:29,534] [INFO] [<module>] [22] : luminance level: 140.2206226625387\n",
      "[2021-04-17 10:37:29,537] [INFO] [<module>] [15] : parsing frame 108/3914.0\n",
      "[2021-04-17 10:37:30,003] [INFO] [<module>] [22] : luminance level: 138.36938986842105\n",
      "[2021-04-17 10:37:30,005] [INFO] [<module>] [15] : parsing frame 109/3914.0\n",
      "[2021-04-17 10:37:30,469] [INFO] [<module>] [22] : luminance level: 138.70560982456138\n",
      "[2021-04-17 10:37:30,472] [INFO] [<module>] [15] : parsing frame 110/3914.0\n",
      "[2021-04-17 10:37:30,939] [INFO] [<module>] [22] : luminance level: 137.5618944329897\n",
      "[2021-04-17 10:37:30,941] [INFO] [<module>] [15] : parsing frame 111/3914.0\n",
      "[2021-04-17 10:37:31,420] [INFO] [<module>] [22] : luminance level: 135.51679114735003\n",
      "[2021-04-17 10:37:31,423] [INFO] [<module>] [15] : parsing frame 112/3914.0\n",
      "[2021-04-17 10:37:31,953] [INFO] [<module>] [22] : luminance level: 137.38412525773194\n",
      "[2021-04-17 10:37:31,961] [INFO] [<module>] [15] : parsing frame 113/3914.0\n",
      "[2021-04-17 10:37:32,460] [INFO] [<module>] [22] : luminance level: 136.47876699999998\n",
      "[2021-04-17 10:37:32,463] [INFO] [<module>] [15] : parsing frame 114/3914.0\n",
      "[2021-04-17 10:37:32,940] [INFO] [<module>] [22] : luminance level: 136.05637572815533\n",
      "[2021-04-17 10:37:32,942] [INFO] [<module>] [15] : parsing frame 115/3914.0\n",
      "[2021-04-17 10:37:33,411] [INFO] [<module>] [22] : luminance level: 139.78911047619047\n",
      "[2021-04-17 10:37:33,414] [INFO] [<module>] [15] : parsing frame 116/3914.0\n",
      "[2021-04-17 10:37:33,886] [INFO] [<module>] [22] : luminance level: 137.7393832396525\n",
      "[2021-04-17 10:37:33,888] [INFO] [<module>] [15] : parsing frame 117/3914.0\n",
      "[2021-04-17 10:37:34,360] [INFO] [<module>] [22] : luminance level: 138.29868894736842\n",
      "[2021-04-17 10:37:34,362] [INFO] [<module>] [15] : parsing frame 118/3914.0\n",
      "[2021-04-17 10:37:34,835] [INFO] [<module>] [22] : luminance level: 139.37888857142858\n",
      "[2021-04-17 10:37:34,838] [INFO] [<module>] [15] : parsing frame 119/3914.0\n",
      "[2021-04-17 10:37:35,408] [INFO] [<module>] [22] : luminance level: 138.60415455966648\n",
      "[2021-04-17 10:37:35,411] [INFO] [<module>] [15] : parsing frame 120/3914.0\n",
      "[2021-04-17 10:37:35,909] [INFO] [<module>] [22] : luminance level: 140.17096455424274\n",
      "[2021-04-17 10:37:35,912] [INFO] [<module>] [15] : parsing frame 121/3914.0\n",
      "[2021-04-17 10:37:36,440] [INFO] [<module>] [22] : luminance level: 139.83777239057238\n",
      "[2021-04-17 10:37:36,442] [INFO] [<module>] [15] : parsing frame 122/3914.0\n",
      "[2021-04-17 10:37:37,003] [INFO] [<module>] [22] : luminance level: 138.3876861111111\n",
      "[2021-04-17 10:37:37,006] [INFO] [<module>] [15] : parsing frame 123/3914.0\n",
      "[2021-04-17 10:37:37,479] [INFO] [<module>] [22] : luminance level: 137.86824490291264\n",
      "[2021-04-17 10:37:37,481] [INFO] [<module>] [15] : parsing frame 124/3914.0\n",
      "[2021-04-17 10:37:38,019] [INFO] [<module>] [22] : luminance level: 139.4986099009901\n",
      "[2021-04-17 10:37:38,023] [INFO] [<module>] [15] : parsing frame 125/3914.0\n",
      "[2021-04-17 10:37:38,608] [INFO] [<module>] [22] : luminance level: 139.61635907590758\n",
      "[2021-04-17 10:37:38,638] [INFO] [<module>] [15] : parsing frame 126/3914.0\n",
      "[2021-04-17 10:37:39,383] [INFO] [<module>] [22] : luminance level: 140.27857812177504\n",
      "[2021-04-17 10:37:39,403] [INFO] [<module>] [15] : parsing frame 127/3914.0\n",
      "[2021-04-17 10:37:40,007] [INFO] [<module>] [22] : luminance level: 140.79946191950464\n",
      "[2021-04-17 10:37:40,010] [INFO] [<module>] [15] : parsing frame 128/3914.0\n",
      "[2021-04-17 10:37:40,515] [INFO] [<module>] [22] : luminance level: 139.2396087889627\n",
      "[2021-04-17 10:37:40,518] [INFO] [<module>] [15] : parsing frame 129/3914.0\n",
      "[2021-04-17 10:37:41,008] [INFO] [<module>] [22] : luminance level: 139.68686121212122\n",
      "[2021-04-17 10:37:41,011] [INFO] [<module>] [15] : parsing frame 130/3914.0\n",
      "[2021-04-17 10:37:41,495] [INFO] [<module>] [22] : luminance level: 140.08271558103178\n",
      "[2021-04-17 10:37:41,498] [INFO] [<module>] [15] : parsing frame 131/3914.0\n",
      "[2021-04-17 10:37:41,977] [INFO] [<module>] [22] : luminance level: 145.4553072222222\n",
      "[2021-04-17 10:37:41,979] [INFO] [<module>] [15] : parsing frame 132/3914.0\n",
      "[2021-04-17 10:37:42,454] [INFO] [<module>] [22] : luminance level: 144.74866602564103\n",
      "[2021-04-17 10:37:42,456] [INFO] [<module>] [15] : parsing frame 133/3914.0\n",
      "[2021-04-17 10:37:42,917] [INFO] [<module>] [22] : luminance level: 141.38606533333333\n",
      "[2021-04-17 10:37:42,919] [INFO] [<module>] [15] : parsing frame 134/3914.0\n",
      "[2021-04-17 10:37:43,386] [INFO] [<module>] [22] : luminance level: 140.842815\n",
      "[2021-04-17 10:37:43,388] [INFO] [<module>] [15] : parsing frame 135/3914.0\n",
      "[2021-04-17 10:37:43,859] [INFO] [<module>] [22] : luminance level: 141.44429768041235\n",
      "[2021-04-17 10:37:43,862] [INFO] [<module>] [15] : parsing frame 136/3914.0\n",
      "[2021-04-17 10:37:44,329] [INFO] [<module>] [22] : luminance level: 140.55707458333333\n",
      "[2021-04-17 10:37:44,332] [INFO] [<module>] [15] : parsing frame 137/3914.0\n",
      "[2021-04-17 10:37:44,799] [INFO] [<module>] [22] : luminance level: 140.06570474226803\n",
      "[2021-04-17 10:37:44,802] [INFO] [<module>] [15] : parsing frame 138/3914.0\n",
      "[2021-04-17 10:37:45,265] [INFO] [<module>] [22] : luminance level: 135.59335024509804\n",
      "[2021-04-17 10:37:45,267] [INFO] [<module>] [15] : parsing frame 139/3914.0\n",
      "[2021-04-17 10:37:45,732] [INFO] [<module>] [22] : luminance level: 140.49704435643562\n",
      "[2021-04-17 10:37:45,734] [INFO] [<module>] [15] : parsing frame 140/3914.0\n",
      "[2021-04-17 10:37:46,199] [INFO] [<module>] [22] : luminance level: 139.99253951395139\n",
      "[2021-04-17 10:37:46,202] [INFO] [<module>] [15] : parsing frame 141/3914.0\n",
      "[2021-04-17 10:37:46,684] [INFO] [<module>] [22] : luminance level: 142.42958487394958\n",
      "[2021-04-17 10:37:46,687] [INFO] [<module>] [15] : parsing frame 142/3914.0\n",
      "[2021-04-17 10:37:47,149] [INFO] [<module>] [22] : luminance level: 140.90180758169936\n",
      "[2021-04-17 10:37:47,151] [INFO] [<module>] [15] : parsing frame 143/3914.0\n",
      "[2021-04-17 10:37:47,623] [INFO] [<module>] [22] : luminance level: 141.42813590449956\n",
      "[2021-04-17 10:37:47,626] [INFO] [<module>] [15] : parsing frame 144/3914.0\n",
      "[2021-04-17 10:37:48,093] [INFO] [<module>] [22] : luminance level: 141.2464633663366\n",
      "[2021-04-17 10:37:48,096] [INFO] [<module>] [15] : parsing frame 145/3914.0\n",
      "[2021-04-17 10:37:48,563] [INFO] [<module>] [22] : luminance level: 139.68503781512607\n",
      "[2021-04-17 10:37:48,566] [INFO] [<module>] [15] : parsing frame 146/3914.0\n",
      "[2021-04-17 10:37:49,041] [INFO] [<module>] [22] : luminance level: 138.9541158195317\n",
      "[2021-04-17 10:37:49,044] [INFO] [<module>] [15] : parsing frame 147/3914.0\n",
      "[2021-04-17 10:37:49,539] [INFO] [<module>] [22] : luminance level: 142.15387028571428\n",
      "[2021-04-17 10:37:49,541] [INFO] [<module>] [15] : parsing frame 148/3914.0\n",
      "[2021-04-17 10:37:50,037] [INFO] [<module>] [22] : luminance level: 140.50423198653198\n",
      "[2021-04-17 10:37:50,039] [INFO] [<module>] [15] : parsing frame 149/3914.0\n",
      "[2021-04-17 10:37:50,526] [INFO] [<module>] [22] : luminance level: 141.15732622222222\n",
      "[2021-04-17 10:37:50,528] [INFO] [<module>] [15] : parsing frame 150/3914.0\n",
      "[2021-04-17 10:37:51,003] [INFO] [<module>] [22] : luminance level: 143.43795685714286\n",
      "[2021-04-17 10:37:51,005] [INFO] [<module>] [15] : parsing frame 151/3914.0\n"
     ]
    },
    {
     "name": "stderr",
     "output_type": "stream",
     "text": [
      "[2021-04-17 10:37:51,481] [INFO] [<module>] [22] : luminance level: 143.50419773691655\n",
      "[2021-04-17 10:37:51,484] [INFO] [<module>] [15] : parsing frame 152/3914.0\n",
      "[2021-04-17 10:37:51,985] [INFO] [<module>] [22] : luminance level: 142.99437443609023\n",
      "[2021-04-17 10:37:51,987] [INFO] [<module>] [15] : parsing frame 153/3914.0\n",
      "[2021-04-17 10:37:52,465] [INFO] [<module>] [22] : luminance level: 143.2266290249433\n",
      "[2021-04-17 10:37:52,467] [INFO] [<module>] [15] : parsing frame 154/3914.0\n",
      "[2021-04-17 10:37:52,930] [INFO] [<module>] [22] : luminance level: 144.40812614379084\n",
      "[2021-04-17 10:37:52,932] [INFO] [<module>] [15] : parsing frame 155/3914.0\n",
      "[2021-04-17 10:37:53,397] [INFO] [<module>] [22] : luminance level: 147.76160335392763\n",
      "[2021-04-17 10:37:53,399] [INFO] [<module>] [15] : parsing frame 156/3914.0\n",
      "[2021-04-17 10:37:53,859] [INFO] [<module>] [22] : luminance level: 146.3528879120879\n",
      "[2021-04-17 10:37:53,861] [INFO] [<module>] [15] : parsing frame 157/3914.0\n",
      "[2021-04-17 10:37:54,325] [INFO] [<module>] [22] : luminance level: 145.64693002754822\n",
      "[2021-04-17 10:37:54,327] [INFO] [<module>] [15] : parsing frame 158/3914.0\n",
      "[2021-04-17 10:37:54,790] [INFO] [<module>] [22] : luminance level: 143.7002044\n",
      "[2021-04-17 10:37:54,793] [INFO] [<module>] [15] : parsing frame 159/3914.0\n",
      "[2021-04-17 10:37:55,259] [INFO] [<module>] [22] : luminance level: 145.23381436588102\n",
      "[2021-04-17 10:37:55,261] [INFO] [<module>] [15] : parsing frame 160/3914.0\n",
      "[2021-04-17 10:37:55,723] [INFO] [<module>] [22] : luminance level: 144.44853422222224\n",
      "[2021-04-17 10:37:55,725] [INFO] [<module>] [15] : parsing frame 161/3914.0\n",
      "[2021-04-17 10:37:56,185] [INFO] [<module>] [22] : luminance level: 144.25186860000002\n",
      "[2021-04-17 10:37:56,187] [INFO] [<module>] [15] : parsing frame 162/3914.0\n",
      "[2021-04-17 10:37:56,656] [INFO] [<module>] [22] : luminance level: 142.58117961165047\n",
      "[2021-04-17 10:37:56,658] [INFO] [<module>] [15] : parsing frame 163/3914.0\n",
      "[2021-04-17 10:37:57,121] [INFO] [<module>] [22] : luminance level: 143.49876503496503\n",
      "[2021-04-17 10:37:57,123] [INFO] [<module>] [15] : parsing frame 164/3914.0\n",
      "[2021-04-17 10:37:57,584] [INFO] [<module>] [22] : luminance level: 143.81860628205123\n",
      "[2021-04-17 10:37:57,587] [INFO] [<module>] [15] : parsing frame 165/3914.0\n",
      "[2021-04-17 10:37:58,055] [INFO] [<module>] [22] : luminance level: 144.46531080617495\n",
      "[2021-04-17 10:37:58,057] [INFO] [<module>] [15] : parsing frame 166/3914.0\n",
      "[2021-04-17 10:37:58,524] [INFO] [<module>] [22] : luminance level: 141.6376579759863\n",
      "[2021-04-17 10:37:58,526] [INFO] [<module>] [15] : parsing frame 167/3914.0\n",
      "[2021-04-17 10:37:58,993] [INFO] [<module>] [22] : luminance level: 139.67672285714286\n",
      "[2021-04-17 10:37:58,995] [INFO] [<module>] [15] : parsing frame 168/3914.0\n",
      "[2021-04-17 10:37:59,458] [INFO] [<module>] [22] : luminance level: 138.5625356837607\n",
      "[2021-04-17 10:37:59,460] [INFO] [<module>] [15] : parsing frame 169/3914.0\n",
      "[2021-04-17 10:37:59,925] [INFO] [<module>] [22] : luminance level: 138.13970064102563\n",
      "[2021-04-17 10:37:59,927] [INFO] [<module>] [15] : parsing frame 170/3914.0\n",
      "[2021-04-17 10:38:00,395] [INFO] [<module>] [22] : luminance level: 137.23066285714285\n",
      "[2021-04-17 10:38:00,398] [INFO] [<module>] [15] : parsing frame 171/3914.0\n",
      "[2021-04-17 10:38:00,873] [INFO] [<module>] [22] : luminance level: 134.24754935897437\n",
      "[2021-04-17 10:38:00,875] [INFO] [<module>] [15] : parsing frame 172/3914.0\n",
      "[2021-04-17 10:38:01,353] [INFO] [<module>] [22] : luminance level: 137.7653358490566\n",
      "[2021-04-17 10:38:01,356] [INFO] [<module>] [15] : parsing frame 173/3914.0\n",
      "[2021-04-17 10:38:01,823] [INFO] [<module>] [22] : luminance level: 139.5036317757009\n",
      "[2021-04-17 10:38:01,826] [INFO] [<module>] [15] : parsing frame 174/3914.0\n",
      "[2021-04-17 10:38:02,293] [INFO] [<module>] [22] : luminance level: 138.99747170773153\n",
      "[2021-04-17 10:38:02,295] [INFO] [<module>] [15] : parsing frame 175/3914.0\n",
      "[2021-04-17 10:38:02,764] [INFO] [<module>] [22] : luminance level: 140.5201319913731\n",
      "[2021-04-17 10:38:02,766] [INFO] [<module>] [15] : parsing frame 176/3914.0\n"
     ]
    },
    {
     "ename": "KeyboardInterrupt",
     "evalue": "",
     "output_type": "error",
     "traceback": [
      "\u001b[0;31m---------------------------------------------------------------------------\u001b[0m",
      "\u001b[0;31mKeyboardInterrupt\u001b[0m                         Traceback (most recent call last)",
      "\u001b[0;32m<ipython-input-14-f8d5439eb0bc>\u001b[0m in \u001b[0;36m<module>\u001b[0;34m\u001b[0m\n\u001b[1;32m     14\u001b[0m \u001b[0;32mwhile\u001b[0m \u001b[0msuccess\u001b[0m\u001b[0;34m:\u001b[0m\u001b[0;34m\u001b[0m\u001b[0;34m\u001b[0m\u001b[0m\n\u001b[1;32m     15\u001b[0m     \u001b[0mlogging\u001b[0m\u001b[0;34m.\u001b[0m\u001b[0minfo\u001b[0m\u001b[0;34m(\u001b[0m\u001b[0;34m\"parsing frame \"\u001b[0m \u001b[0;34m+\u001b[0m \u001b[0mstr\u001b[0m\u001b[0;34m(\u001b[0m\u001b[0mtotal_frame_number\u001b[0m\u001b[0;34m)\u001b[0m \u001b[0;34m+\u001b[0m \u001b[0;34m\"/\"\u001b[0m \u001b[0;34m+\u001b[0m \u001b[0mstr\u001b[0m\u001b[0;34m(\u001b[0m\u001b[0mnumber_of_frames\u001b[0m\u001b[0;34m)\u001b[0m\u001b[0;34m)\u001b[0m\u001b[0;34m\u001b[0m\u001b[0;34m\u001b[0m\u001b[0m\n\u001b[0;32m---> 16\u001b[0;31m     \u001b[0mrois\u001b[0m \u001b[0;34m=\u001b[0m \u001b[0mparse_roi\u001b[0m\u001b[0;34m(\u001b[0m\u001b[0mcv2\u001b[0m\u001b[0;34m.\u001b[0m\u001b[0mcvtColor\u001b[0m\u001b[0;34m(\u001b[0m\u001b[0mimage\u001b[0m\u001b[0;34m,\u001b[0m \u001b[0mcv2\u001b[0m\u001b[0;34m.\u001b[0m\u001b[0mCOLOR_BGR2RGB\u001b[0m\u001b[0;34m)\u001b[0m\u001b[0;34m)\u001b[0m  \u001b[0;31m# build image ROI (rois is a tuple contains two regions)\u001b[0m\u001b[0;34m\u001b[0m\u001b[0;34m\u001b[0m\u001b[0m\n\u001b[0m\u001b[1;32m     17\u001b[0m     \u001b[0;32mif\u001b[0m \u001b[0mrois\u001b[0m \u001b[0;32mis\u001b[0m \u001b[0;32mnot\u001b[0m \u001b[0;32mNone\u001b[0m \u001b[0;34m:\u001b[0m\u001b[0;34m\u001b[0m\u001b[0;34m\u001b[0m\u001b[0m\n\u001b[1;32m     18\u001b[0m         \u001b[0mroi\u001b[0m \u001b[0;34m=\u001b[0m \u001b[0mnp\u001b[0m\u001b[0;34m.\u001b[0m\u001b[0masarray\u001b[0m\u001b[0;34m(\u001b[0m\u001b[0mrois\u001b[0m\u001b[0;34m[\u001b[0m\u001b[0;36m0\u001b[0m\u001b[0;34m]\u001b[0m\u001b[0;34m)\u001b[0m \u001b[0;31m# Just the forehead\u001b[0m\u001b[0;34m\u001b[0m\u001b[0;34m\u001b[0m\u001b[0m\n",
      "\u001b[0;32m<ipython-input-3-9a2a7b10245a>\u001b[0m in \u001b[0;36mparse_roi\u001b[0;34m(frame)\u001b[0m\n\u001b[1;32m      2\u001b[0m     \u001b[0;31m# image = face_recognition.load_image_file(frame) # read image.\u001b[0m\u001b[0;34m\u001b[0m\u001b[0;34m\u001b[0m\u001b[0;34m\u001b[0m\u001b[0m\n\u001b[1;32m      3\u001b[0m     \u001b[0mface_locations\u001b[0m \u001b[0;34m=\u001b[0m \u001b[0mface_recognition\u001b[0m\u001b[0;34m.\u001b[0m\u001b[0mface_locations\u001b[0m\u001b[0;34m(\u001b[0m\u001b[0mframe\u001b[0m\u001b[0;34m,\u001b[0m\u001b[0mmodel\u001b[0m \u001b[0;34m=\u001b[0m \u001b[0;34m'hog'\u001b[0m\u001b[0;34m)\u001b[0m \u001b[0;31m# detects all the faces in image\u001b[0m\u001b[0;34m\u001b[0m\u001b[0;34m\u001b[0m\u001b[0m\n\u001b[0;32m----> 4\u001b[0;31m     \u001b[0mface_landmarks_list\u001b[0m \u001b[0;34m=\u001b[0m \u001b[0mface_recognition\u001b[0m\u001b[0;34m.\u001b[0m\u001b[0mface_landmarks\u001b[0m\u001b[0;34m(\u001b[0m\u001b[0mimage\u001b[0m\u001b[0;34m)\u001b[0m\u001b[0;34m\u001b[0m\u001b[0;34m\u001b[0m\u001b[0m\n\u001b[0m\u001b[1;32m      5\u001b[0m \u001b[0;34m\u001b[0m\u001b[0m\n\u001b[1;32m      6\u001b[0m     \u001b[0;31m# iterate through all the faces.\u001b[0m\u001b[0;34m\u001b[0m\u001b[0;34m\u001b[0m\u001b[0;34m\u001b[0m\u001b[0m\n",
      "\u001b[0;32m~/Interpreter/lib/python3.8/site-packages/face_recognition/api.py\u001b[0m in \u001b[0;36mface_landmarks\u001b[0;34m(face_image, face_locations, model)\u001b[0m\n\u001b[1;32m    175\u001b[0m     \u001b[0;34m:\u001b[0m\u001b[0;32mreturn\u001b[0m\u001b[0;34m:\u001b[0m \u001b[0mA\u001b[0m \u001b[0mlist\u001b[0m \u001b[0mof\u001b[0m \u001b[0mdicts\u001b[0m \u001b[0mof\u001b[0m \u001b[0mface\u001b[0m \u001b[0mfeature\u001b[0m \u001b[0mlocations\u001b[0m \u001b[0;34m(\u001b[0m\u001b[0meyes\u001b[0m\u001b[0;34m,\u001b[0m \u001b[0mnose\u001b[0m\u001b[0;34m,\u001b[0m \u001b[0metc\u001b[0m\u001b[0;34m)\u001b[0m\u001b[0;34m\u001b[0m\u001b[0;34m\u001b[0m\u001b[0m\n\u001b[1;32m    176\u001b[0m     \"\"\"\n\u001b[0;32m--> 177\u001b[0;31m     \u001b[0mlandmarks\u001b[0m \u001b[0;34m=\u001b[0m \u001b[0m_raw_face_landmarks\u001b[0m\u001b[0;34m(\u001b[0m\u001b[0mface_image\u001b[0m\u001b[0;34m,\u001b[0m \u001b[0mface_locations\u001b[0m\u001b[0;34m,\u001b[0m \u001b[0mmodel\u001b[0m\u001b[0;34m)\u001b[0m\u001b[0;34m\u001b[0m\u001b[0;34m\u001b[0m\u001b[0m\n\u001b[0m\u001b[1;32m    178\u001b[0m     \u001b[0mlandmarks_as_tuples\u001b[0m \u001b[0;34m=\u001b[0m \u001b[0;34m[\u001b[0m\u001b[0;34m[\u001b[0m\u001b[0;34m(\u001b[0m\u001b[0mp\u001b[0m\u001b[0;34m.\u001b[0m\u001b[0mx\u001b[0m\u001b[0;34m,\u001b[0m \u001b[0mp\u001b[0m\u001b[0;34m.\u001b[0m\u001b[0my\u001b[0m\u001b[0;34m)\u001b[0m \u001b[0;32mfor\u001b[0m \u001b[0mp\u001b[0m \u001b[0;32min\u001b[0m \u001b[0mlandmark\u001b[0m\u001b[0;34m.\u001b[0m\u001b[0mparts\u001b[0m\u001b[0;34m(\u001b[0m\u001b[0;34m)\u001b[0m\u001b[0;34m]\u001b[0m \u001b[0;32mfor\u001b[0m \u001b[0mlandmark\u001b[0m \u001b[0;32min\u001b[0m \u001b[0mlandmarks\u001b[0m\u001b[0;34m]\u001b[0m\u001b[0;34m\u001b[0m\u001b[0;34m\u001b[0m\u001b[0m\n\u001b[1;32m    179\u001b[0m \u001b[0;34m\u001b[0m\u001b[0m\n",
      "\u001b[0;32m~/Interpreter/lib/python3.8/site-packages/face_recognition/api.py\u001b[0m in \u001b[0;36m_raw_face_landmarks\u001b[0;34m(face_image, face_locations, model)\u001b[0m\n\u001b[1;32m    154\u001b[0m \u001b[0;32mdef\u001b[0m \u001b[0m_raw_face_landmarks\u001b[0m\u001b[0;34m(\u001b[0m\u001b[0mface_image\u001b[0m\u001b[0;34m,\u001b[0m \u001b[0mface_locations\u001b[0m\u001b[0;34m=\u001b[0m\u001b[0;32mNone\u001b[0m\u001b[0;34m,\u001b[0m \u001b[0mmodel\u001b[0m\u001b[0;34m=\u001b[0m\u001b[0;34m\"large\"\u001b[0m\u001b[0;34m)\u001b[0m\u001b[0;34m:\u001b[0m\u001b[0;34m\u001b[0m\u001b[0;34m\u001b[0m\u001b[0m\n\u001b[1;32m    155\u001b[0m     \u001b[0;32mif\u001b[0m \u001b[0mface_locations\u001b[0m \u001b[0;32mis\u001b[0m \u001b[0;32mNone\u001b[0m\u001b[0;34m:\u001b[0m\u001b[0;34m\u001b[0m\u001b[0;34m\u001b[0m\u001b[0m\n\u001b[0;32m--> 156\u001b[0;31m         \u001b[0mface_locations\u001b[0m \u001b[0;34m=\u001b[0m \u001b[0m_raw_face_locations\u001b[0m\u001b[0;34m(\u001b[0m\u001b[0mface_image\u001b[0m\u001b[0;34m)\u001b[0m\u001b[0;34m\u001b[0m\u001b[0;34m\u001b[0m\u001b[0m\n\u001b[0m\u001b[1;32m    157\u001b[0m     \u001b[0;32melse\u001b[0m\u001b[0;34m:\u001b[0m\u001b[0;34m\u001b[0m\u001b[0;34m\u001b[0m\u001b[0m\n\u001b[1;32m    158\u001b[0m         \u001b[0mface_locations\u001b[0m \u001b[0;34m=\u001b[0m \u001b[0;34m[\u001b[0m\u001b[0m_css_to_rect\u001b[0m\u001b[0;34m(\u001b[0m\u001b[0mface_location\u001b[0m\u001b[0;34m)\u001b[0m \u001b[0;32mfor\u001b[0m \u001b[0mface_location\u001b[0m \u001b[0;32min\u001b[0m \u001b[0mface_locations\u001b[0m\u001b[0;34m]\u001b[0m\u001b[0;34m\u001b[0m\u001b[0;34m\u001b[0m\u001b[0m\n",
      "\u001b[0;32m~/Interpreter/lib/python3.8/site-packages/face_recognition/api.py\u001b[0m in \u001b[0;36m_raw_face_locations\u001b[0;34m(img, number_of_times_to_upsample, model)\u001b[0m\n\u001b[1;32m    103\u001b[0m         \u001b[0;32mreturn\u001b[0m \u001b[0mcnn_face_detector\u001b[0m\u001b[0;34m(\u001b[0m\u001b[0mimg\u001b[0m\u001b[0;34m,\u001b[0m \u001b[0mnumber_of_times_to_upsample\u001b[0m\u001b[0;34m)\u001b[0m\u001b[0;34m\u001b[0m\u001b[0;34m\u001b[0m\u001b[0m\n\u001b[1;32m    104\u001b[0m     \u001b[0;32melse\u001b[0m\u001b[0;34m:\u001b[0m\u001b[0;34m\u001b[0m\u001b[0;34m\u001b[0m\u001b[0m\n\u001b[0;32m--> 105\u001b[0;31m         \u001b[0;32mreturn\u001b[0m \u001b[0mface_detector\u001b[0m\u001b[0;34m(\u001b[0m\u001b[0mimg\u001b[0m\u001b[0;34m,\u001b[0m \u001b[0mnumber_of_times_to_upsample\u001b[0m\u001b[0;34m)\u001b[0m\u001b[0;34m\u001b[0m\u001b[0;34m\u001b[0m\u001b[0m\n\u001b[0m\u001b[1;32m    106\u001b[0m \u001b[0;34m\u001b[0m\u001b[0m\n\u001b[1;32m    107\u001b[0m \u001b[0;34m\u001b[0m\u001b[0m\n",
      "\u001b[0;31mKeyboardInterrupt\u001b[0m: "
     ]
    }
   ],
   "source": [
    "color_sig = []\n",
    "heart_rates = []\n",
    "good_frame_number = 0\n",
    "total_frame_number = 0\n",
    "\n",
    "# Parsing video:\n",
    "logging.info(\"Working on video \" + video_location)\n",
    "vidcap = cv2.VideoCapture(video_location)\n",
    "success, image = vidcap.read()\n",
    "fps = vidcap.get(cv2.CAP_PROP_FPS) # fs == sampling rate\n",
    "round_fps = np.round(fps)\n",
    "number_of_frames = vidcap.get(cv2.CAP_PROP_FRAME_COUNT)\n",
    "logging.info(\"Parsing images ...\")\n",
    "while success:\n",
    "    logging.info(\"parsing frame \" + str(total_frame_number) + \"/\" + str(number_of_frames))\n",
    "    rois = parse_roi(cv2.cvtColor(image, cv2.COLOR_BGR2RGB))  # build image ROI (rois is a tuple contains two regions)\n",
    "    if rois is not None : \n",
    "        roi = np.asarray(rois[0]) # Just the forehead\n",
    "        is_good_frame,color_sig, luminance_level = parse_RGB(roi, color_sig)\n",
    "        if is_good_frame:\n",
    "            good_frame_number += 1\n",
    "            logging.info(\"luminance level: \" + str(luminance_level))\n",
    "    total_frame_number += 1\n",
    "    success, image = get_new_frame(vidcap)"
   ]
  },
  {
   "cell_type": "code",
   "execution_count": null,
   "metadata": {
    "scrolled": true
   },
   "outputs": [],
   "source": [
    "def print_results(window_sig, window, xlabel, ylabel, change_range):\n",
    "    fig = plt.figure()\n",
    "    ax = fig.subplots()\n",
    "    while len(window_sig) > len(window):\n",
    "        window_sig = window_sig[-1]\n",
    "    ax.plot(window_sig,window,color ='green')\n",
    "    if change_range:\n",
    "        plt.xlim([0, 5])\n",
    "\n",
    "    ax.set_xlabel(xlabel)\n",
    "    ax.set_ylabel(ylabel)\n",
    "    ax.set_xscale('linear')\n",
    "    ax.spines['bottom'].set_color('red')\n",
    "    ax.spines['left'].set_color('red')\n",
    "    ax.xaxis.label.set_color('red')\n",
    "    ax.yaxis.label.set_color('red')\n",
    "    ax.tick_params(axis='x', colors='red')\n",
    "    ax.tick_params(axis='y', colors='red')\n",
    "    plt.show()\n",
    "\n",
    "def find_hr_in_window(green, window_start, round_fps, window_id, window_size):\n",
    "    round_fps = int(round_fps)\n",
    "    if window_start + round_fps * window_size > len(green):\n",
    "        window = green[window_start : ]\n",
    "    else:\n",
    "        window = green[window_start : window_start + round_fps * window_size]\n",
    "    window_sig = np.arange(window.size/round_fps,step= (1/30))\n",
    "\n",
    "    print_results(window_sig, window, 'X-axis', 'Y-axis', False)\n",
    "\n",
    "    window = window - np.mean(window)\n",
    "    window = window / np.std(window)\n",
    "    print_results(window_sig, window, 'X-axis', 'Y-axis', False)\n",
    "\n",
    "    g = filter_channel(window,round_fps)\n",
    "    print_results(window_sig, g, 'X-axis', 'Y-axis', False)\n",
    "\n",
    "    f, Pxx_den = sig.periodogram(g, round_fps)\n",
    "\n",
    "    print_results(f, Pxx_den, 'frequency [Hz]', 'PSD [V**2/Hz]', True)\n",
    "    # plt.semilogy(f, Pxx_den)\n",
    "    # plt.ylim([1e-7, 1e2])\n",
    "    # plt.xlabel('frequency [Hz]')\n",
    "    # plt.ylabel('PSD [V**2/Hz]')\n",
    "    # plt.show()\n",
    "\n",
    "\n",
    "    max_val = Pxx_den.argmax()\n",
    "    logging.info(\"Heart rate of window \" + str(window_id) +\n",
    "                 \": \" + str(f[max_val]))"
   ]
  },
  {
   "cell_type": "code",
   "execution_count": null,
   "metadata": {
    "pycharm": {
     "name": "#%%\n"
    }
   },
   "outputs": [],
   "source": [
    "color_sig_array = np.asarray(color_sig)\n",
    "red = color_sig_array[:,0]\n",
    "green = color_sig_array[:,1]\n",
    "blue = color_sig_array[:,2]\n",
    "\n",
    "window_start = 0\n",
    "window_size = 30\n",
    "window_id = 0\n",
    "limit = good_frame_number - int(round_fps) * window_size\n",
    "while window_start < limit :\n",
    "    find_hr_in_window(green, window_start, round_fps, window_id, window_size)\n",
    "    window_start += int(round_fps) * window_size\n",
    "    window_id += 1\n",
    "if window_start < good_frame_number:\n",
    "    window_id += 1\n",
    "    find_hr_in_window(green, window_start, round_fps, window_id, good_frame_number - window_start)"
   ]
  },
  {
   "cell_type": "code",
   "execution_count": null,
   "metadata": {},
   "outputs": [],
   "source": [
    "# a = Pxx_den\n",
    "# ind = np.argsort(a)\n",
    "# max_ind = ind[-5:]\n",
    "# print(f[max_ind])\n",
    "# print(\"HR for this video is: \" +str(f[max_ind].mean()))"
   ]
  },
  {
   "cell_type": "code",
   "execution_count": null,
   "metadata": {
    "pycharm": {
     "name": "#%%\n"
    },
    "scrolled": true
   },
   "outputs": [],
   "source": [
    "# if good_frame_number != greens.size: # TO BE REVIEW BY EYAL, POSSIBLE BUG FIX HERE!\n",
    "#     frame_number = greens.size\n",
    "# axis = np.arange((good_frame_number / round_fps), step=(1 / 30)) # axis is Time\n",
    "# plot_result(greens, reds, blues, axis, \"All 3 channels\") # original signals\n",
    "# # apply filtering on all the channels:\n",
    "# green_buttered = filter_channel(greens,round_fps)\n",
    "# red_buttered = filter_channel(reds,round_fps)\n",
    "# blue_buttered = filter_channel(blues,round_fps)\n",
    "# # plotting the channels after apllying the filter\n",
    "# plot_result(green_buttered, red_buttered, blue_buttered, axis, \"After Filter\") # after filtering"
   ]
  },
  {
   "cell_type": "code",
   "execution_count": null,
   "metadata": {
    "pycharm": {
     "name": "#%%\n"
    },
    "scrolled": true
   },
   "outputs": [],
   "source": [
    "# if good_frame_number != greens.size: # TO BE REVIEW BY EYAL, POSSIBLE BUG FIX HERE!\n",
    "#     frame_number = greens.size\n",
    "# axis = np.arange((good_frame_number / round_fps), step=(1 / 30)) # axis is Time\n",
    "# plot_result(greens, reds, blues, axis, \"All 3 channels\") # original signals\n",
    "# # apply filtering on all the channels:\n",
    "# green_buttered = filter_channel(greens,round_fps)\n",
    "# red_buttered = filter_channel(reds,round_fps)\n",
    "# blue_buttered = filter_channel(blues,round_fps)\n",
    "# # plotting the channels after apllying the filter\n",
    "# plot_result(green_buttered, red_buttered, blue_buttered, axis, \"After Filter\") # after filtering"
   ]
  },
  {
   "cell_type": "markdown",
   "metadata": {},
   "source": [
    "### PSD estimation using 'Welch' or 'Periodogram'"
   ]
  },
  {
   "cell_type": "code",
   "execution_count": null,
   "metadata": {
    "pycharm": {
     "name": "#%%\n"
    },
    "scrolled": true
   },
   "outputs": [],
   "source": [
    "# f, Pxx_den = sig.welch(green_buttered, round_fps,'flattop', 1024, scaling='spectrum')"
   ]
  },
  {
   "cell_type": "markdown",
   "metadata": {
    "pycharm": {
     "name": "#%% md\n"
    }
   },
   "source": [
    "### Plot final results"
   ]
  },
  {
   "cell_type": "code",
   "execution_count": null,
   "metadata": {
    "pycharm": {
     "name": "#%%\n"
    },
    "scrolled": true
   },
   "outputs": [],
   "source": [
    "# plt.figure(f, Pxx_den)\n",
    "# #plt.semilogy(f, Pxx_den)\n",
    "# plt.ylim([1e-7, 1e2])\n",
    "# plt.xlabel('frequency [Hz]')\n",
    "# plt.ylabel('PSD [V**2/Hz]')\n",
    "# plt.show()\n",
    "# # periodogram method:\n",
    "# f, Pxx_den = sig.periodogram(green_buttered, round_fps)\n",
    "# plt.semilogy(f, Pxx_den)\n",
    "# plt.ylim([1e-7, 1e2])\n",
    "# plt.xlabel('frequency [Hz]')\n",
    "# plt.ylabel('PSD [V**2/Hz]')\n",
    "# plt.show()"
   ]
  }
 ],
 "metadata": {
  "kernelspec": {
   "display_name": "Python 3",
   "language": "python",
   "name": "python3"
  },
  "language_info": {
   "codemirror_mode": {
    "name": "ipython",
    "version": 3
   },
   "file_extension": ".py",
   "mimetype": "text/x-python",
   "name": "python",
   "nbconvert_exporter": "python",
   "pygments_lexer": "ipython3",
   "version": "3.8.5"
  },
  "pycharm": {
   "stem_cell": {
    "cell_type": "raw",
    "source": [],
    "metadata": {
     "collapsed": false
    }
   }
  }
 },
 "nbformat": 4,
 "nbformat_minor": 1
}