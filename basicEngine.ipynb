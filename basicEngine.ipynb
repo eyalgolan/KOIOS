{
 "cells": [
  {
   "cell_type": "markdown",
   "metadata": {
    "collapsed": true,
    "pycharm": {
     "name": "#%% md\n"
    }
   },
   "source": [
    "# Basic engine implementation"
   ]
  },
  {
   "cell_type": "markdown",
   "metadata": {},
   "source": [
    "#### setup"
   ]
  },
  {
   "cell_type": "code",
   "execution_count": 5,
   "metadata": {
    "pycharm": {
     "name": "#%%\n"
    }
   },
   "outputs": [
    {
     "name": "stderr",
     "output_type": "stream",
     "text": [
      "[2021-03-19 17:17:48,662] [INFO] [<module>] [14] : Starting ...\n"
     ]
    }
   ],
   "source": [
    "import face_recognition, PIL.Image, PIL.ImageDraw,math\n",
    "import numpy as np\n",
    "import logging\n",
    "import cv2\n",
    "import platform\n",
    "from matplotlib import pyplot as plt\n",
    "from PIL import Image\n",
    "import scipy.signal as sig\n",
    "\n",
    "FORMAT = '[%(asctime)s] [%(levelname)s] [%(funcName)s] [%(lineno)d] : %(message)s'\n",
    "logging.basicConfig(format=FORMAT, level=logging.INFO)\n",
    "\n",
    "logging.info(\"Starting ...\")\n",
    "if platform.system() == \"Windows\":\n",
    "    seperator = \"\\\\\"\n",
    "else:\n",
    "    seperator = \"/\"\n",
    "\n",
    "dir = \"perry-all-2\"\n",
    "# should be a parameter of the engine\n",
    "dataset_location = \"..\" + seperator + \"dataset\" + seperator + \"good_sync\" + seperator\n",
    "specific_dir = dir\n",
    "video_location = dataset_location + specific_dir + seperator + \"test3.mp4\"\n"
   ]
  },
  {
   "cell_type": "markdown",
   "metadata": {},
   "source": [
    "#### Detecting the face landmarks and parsing the ROI"
   ]
  },
  {
   "cell_type": "code",
   "execution_count": 6,
   "metadata": {
    "pycharm": {
     "name": "#%%\n"
    }
   },
   "outputs": [],
   "source": [
    "def parse_roi(frame):\n",
    "    # image = face_recognition.load_image_file(frame) # read image.\n",
    "    face_locations = face_recognition.face_locations(frame,model = 'hog') # detects all the faces in image\n",
    "    face_landmarks_list = face_recognition.face_landmarks(image)\n",
    "    \n",
    "    # iterate through all the faces.\n",
    "    for face_location in face_locations:\n",
    "#         img = PIL.Image.open(frame)\n",
    "        img = PIL.Image.fromarray(frame)\n",
    "        top,right,bottom,left = face_location # extract all face square points.\n",
    "        diff = math.floor((top - bottom) * 0.2) # 30 percent of the face len (toadd eyebrow top point).\n",
    "        # Finding the forehead.\n",
    "        right_eyebrow_landmarks = np.asarray(face_landmarks_list[0]['right_eyebrow']) # right eyebrow points.\n",
    "        right_eyebrow_landmarks.sort(axis=0)\n",
    "        rightest_point = right_eyebrow_landmarks[-1] # The most right point of the ROI(according to x).\n",
    "        top_right_eyebrow = right_eyebrow_landmarks.min(axis = 0)[1]\n",
    "        left_eyebrow_landmarks = np.asarray(face_landmarks_list[0]['left_eyebrow'])\n",
    "        left_eyebrow_landmarks.sort(axis=0)\n",
    "        leftest_point = left_eyebrow_landmarks[0] # the most left point of ROI.(according to x)\n",
    "        top_left_eyebrow = left_eyebrow_landmarks.min(axis = 0)[1]\n",
    "        bottom = min(top_right_eyebrow,top_left_eyebrow).item(0) # bottom point of the forehead.\n",
    "        bottom = bottom - (0.05 * bottom) # improve bottom location by 2 percent.\n",
    "        forehead = img.crop((leftest_point[0], leftest_point[1]+diff, rightest_point[0],bottom)) # adding diff to top to make the forehead bigger.\n",
    "\n",
    "        # Finding the second ROI:\n",
    "        upper_mouth = np.asarray(face_landmarks_list[0]['top_lip']) # top_lip landmarks\n",
    "        upper_mouth_min = upper_mouth.min(axis = 0)[1] # The  top - lip upper point.\n",
    "        upper_nose = np.asarray(face_landmarks_list[0]['nose_bridge'])\n",
    "        upper_nose_min = upper_nose.min(axis = 0)[1]  # noise bridge upper point.\n",
    "        upper_nose_min += upper_mouth_min * 0.1 # improving the noise bridge upper point.\n",
    "        nose_to_upper_lip = img.crop((leftest_point[0], upper_nose_min, rightest_point[0], upper_mouth_min))\n",
    "#         try:\n",
    "#             concat_roi_areas = np.concatenate((forehead, nose_to_upper_lip), axis=0)\n",
    "#             cv2.imwrite('frame_roi_output.jpg', concat_roi_areas)\n",
    "        return (forehead, nose_to_upper_lip)\n",
    "#         except:\n",
    "#             logging.warning(\"concat of roi areas failed\")\n",
    "#             return None\n",
    "    return None # in case of which no face was detected"
   ]
  },
  {
   "cell_type": "markdown",
   "source": [
    "### Check for bad frames\n",
    "##### R > 95 and G > 40 and B > 20 and R > G and R > B\n",
    "##### Based on https://arxiv.org/ftp/arxiv/papers/1708/1708.02694.pdf page 5"
   ],
   "metadata": {
    "collapsed": false
   }
  },
  {
   "cell_type": "code",
   "execution_count": 7,
   "metadata": {
    "pycharm": {
     "name": "#%%s\n"
    }
   },
   "outputs": [],
   "source": [
    "def bad_frame(blue, green, red):\n",
    "    if red > 95 and green > 40 and blue > 20 and red >green and red > blue:\n",
    "        return False\n",
    "    logging.warning(\"bad frame detected\")\n",
    "    return True"
   ]
  },
  {
   "cell_type": "markdown",
   "metadata": {},
   "source": [
    "#### Getting RGB values from a frame and adding them to arrays"
   ]
  },
  {
   "cell_type": "code",
   "execution_count": 8,
   "metadata": {
    "pycharm": {
     "name": "#%%s\n"
    }
   },
   "outputs": [],
   "source": [
    "def parse_RGB(roi, color_sig):\n",
    "    \"\"\"\n",
    "    Parses an image to its RGB channels\n",
    "    :param image: the image to be parsed\n",
    "    :param vidcap:\n",
    "    :param greens: array containing green channel values\n",
    "    :param blues: array containing blue channel values\n",
    "    :param reds: array containing red channel values\n",
    "    :param frame_number - is the number of the frame of the video.\n",
    "    :return: a flag indicating if there is a next image, and the next image\n",
    "    \"\"\"\n",
    "    im = cv2.cvtColor(roi, cv2.COLOR_RGB2BGR) # inorder to use cv2.split() we need to address the image as BGR (instead of RGB)\n",
    "    blue, green, red = cv2.split(im)\n",
    "    b_mean,g_mean,r_mean = np.mean(blue),np.mean(green),np.mean(red)\n",
    "    if not bad_frame(b_mean,g_mean,r_mean):\n",
    "        color_channels = image.reshape(-1, image.shape[-1])\n",
    "        avg_color = color_channels.mean(axis=0)\n",
    "        color_sig.append(avg_color)\n",
    "        return True, color_sig\n",
    "    return False, color_sig"
   ]
  },
  {
   "cell_type": "code",
   "execution_count": 9,
   "metadata": {
    "pycharm": {
     "name": "#%%s\n"
    }
   },
   "outputs": [],
   "source": [
    "def get_new_frame(vidcap):\n",
    "    success, image = vidcap.read()\n",
    "    return success, image"
   ]
  },
  {
   "cell_type": "markdown",
   "metadata": {},
   "source": [
    "#### Plotting RGB arrays results"
   ]
  },
  {
   "cell_type": "code",
   "execution_count": 10,
   "metadata": {
    "pycharm": {
     "name": "#%%\n"
    }
   },
   "outputs": [],
   "source": [
    "def plot_result(greens, reds, blues, x_value, title=\"\"):\n",
    "    logging.info(\"Plotting results ...\" + title)\n",
    "    plt.figure(figsize=(6, 5))\n",
    "    plt.title(title)\n",
    "    plt.xlabel(\"Time\")\n",
    "    plt.ylabel(\"Value\")\n",
    "    plt.subplot(3, 1, 1)\n",
    "    plt.plot(x_value, greens, color=\"green\")\n",
    "    plt.subplot(3, 1, 2)\n",
    "    plt.plot(x_value, reds, color=\"red\")\n",
    "    plt.subplot(3, 1, 3)\n",
    "    plt.plot(x_value, blues, color=\"blue\")\n",
    "    plt.show()\n",
    "    logging.info(\"Showing result\")"
   ]
  },
  {
   "cell_type": "markdown",
   "metadata": {},
   "source": [
    "#### Filtering:"
   ]
  },
  {
   "cell_type": "code",
   "execution_count": 11,
   "metadata": {},
   "outputs": [],
   "source": [
    "def filter_channel(channel,fs):\n",
    "    \"\"\"\n",
    "    This method apply filter on a channel between 0.75HZ to 4HZ.\n",
    "    :param channel: Is a signal to apply the filter to.\n",
    "    :param fs: Is the sampling rate of channel.\n",
    "    :return: The filtered channel.\n",
    "    \"\"\"\n",
    "    bh, ah = sig.butter(4, 0.75 / (fs / 2), 'highpass')\n",
    "    bl, al = sig.butter(4, 4 / (fs / 2), 'lowpass')\n",
    "    channel = sig.filtfilt(bh, ah, channel) # applying the filter coefficient on the sig\n",
    "    channel = np.absolute(channel)\n",
    "    channel_after_filter = sig.filtfilt(bl, al, channel) # applying the filter coefficient on the sig\n",
    "    return channel_after_filter"
   ]
  },
  {
   "cell_type": "markdown",
   "metadata": {},
   "source": [
    "#### Main loop - going over all the frames of the video"
   ]
  },
  {
   "cell_type": "code",
   "execution_count": 24,
   "outputs": [],
   "source": [
    "def plotSignals(signals, label):\n",
    "    seconds = np.arange(0, WINDOW_TIME_SEC, 1.0 / FPS)\n",
    "    colors = [\"r\", \"g\", \"b\"]\n",
    "    fig = plt.figure()\n",
    "    fig.patch.set_facecolor('white')\n",
    "    for i in range(3):\n",
    "        plt.plot(seconds, signals[:,i], colors[i])\n",
    "    plt.xlabel('Time (sec)', fontsize=17)\n",
    "    plt.ylabel(label, fontsize=17)\n",
    "    plt.tick_params(axis='x', labelsize=17)\n",
    "    plt.tick_params(axis='y', labelsize=17)\n",
    "    plt.show()\n",
    "\n",
    "def plotSpectrum(freqs, powerSpec):\n",
    "    idx = np.argsort(freqs)\n",
    "    fig = plt.figure()\n",
    "    fig.patch.set_facecolor('white')\n",
    "    for i in range(3):\n",
    "        plt.plot(freqs[idx], powerSpec[idx,i])\n",
    "    plt.xlabel(\"Frequency (Hz)\", fontsize=17)\n",
    "    plt.ylabel(\"Power\", fontsize=17)\n",
    "    plt.tick_params(axis='x', labelsize=17)\n",
    "    plt.tick_params(axis='y', labelsize=17)\n",
    "    plt.xlim([0.75, 4])\n",
    "    plt.show()"
   ],
   "metadata": {
    "collapsed": false,
    "pycharm": {
     "name": "#%%\n"
    }
   }
  },
  {
   "cell_type": "code",
   "execution_count": 23,
   "metadata": {
    "pycharm": {
     "name": "#%%\n"
    }
   },
   "outputs": [],
   "source": [
    "from sklearn.decomposition import FastICA\n",
    "MIN_HR_BPM = 45.0\n",
    "MAX_HR_BMP = 240.0\n",
    "SEC_PER_MIN = 60\n",
    "FPS = 14.99\n",
    "WINDOW_TIME_SEC = 30\n",
    "WINDOW_SIZE = int(np.ceil(WINDOW_TIME_SEC * FPS))\n",
    "\n",
    "def getHeartRate(window):\n",
    "    # Normalize across the window to have zero-mean and unit variance\n",
    "    mean = np.mean(window, axis=0)\n",
    "    std = np.std(window, axis=0)\n",
    "    normalized = (window - mean) / std\n",
    "\n",
    "    # Separate into three source signals using ICA\n",
    "    ica = FastICA()\n",
    "    srcSig = ica.fit_transform(normalized)\n",
    "\n",
    "    # Find power spectrum\n",
    "    powerSpec = np.abs(np.fft.fft(srcSig, axis=0))**2\n",
    "    freqs = np.fft.fftfreq(WINDOW_SIZE, 1.0 / FPS)\n",
    "\n",
    "    # Find heart rate\n",
    "    maxPwrSrc = np.max(powerSpec, axis=1)\n",
    "    validIdx = np.where((freqs >= MIN_HR_BPM / SEC_PER_MIN) & (freqs <= MAX_HR_BMP / SEC_PER_MIN))\n",
    "    validPwr = maxPwrSrc[validIdx]\n",
    "    validFreqs = freqs[validIdx]\n",
    "    maxPwrIdx = np.argmax(validPwr)\n",
    "    hr = validFreqs[maxPwrIdx]\n",
    "    print(hr)\n",
    "\n",
    "    plotSignals(normalized, \"Normalized color intensity\")\n",
    "    plotSignals(srcSig, \"Source signal strength\")\n",
    "    plotSpectrum(freqs, powerSpec)\n",
    "\n",
    "    return hr"
   ]
  },
  {
   "cell_type": "code",
   "execution_count": 13,
   "outputs": [
    {
     "name": "stderr",
     "output_type": "stream",
     "text": [
      "[2021-03-19 17:17:48,920] [INFO] [<module>] [3] : Working on video ..\\dataset\\good_sync\\perry-all-2\\test3.mp4\n",
      "[2021-03-19 17:17:48,978] [INFO] [<module>] [13] : Parsing images ...\n",
      "[2021-03-19 17:17:48,982] [INFO] [<module>] [15] : parsing frame 0/171.0\n",
      "[2021-03-19 17:17:50,700] [INFO] [<module>] [15] : parsing frame 1/171.0\n",
      "[2021-03-19 17:17:52,370] [INFO] [<module>] [15] : parsing frame 2/171.0\n",
      "[2021-03-19 17:17:54,133] [INFO] [<module>] [15] : parsing frame 3/171.0\n",
      "[2021-03-19 17:17:55,994] [INFO] [<module>] [15] : parsing frame 4/171.0\n",
      "[2021-03-19 17:17:57,564] [INFO] [<module>] [15] : parsing frame 5/171.0\n",
      "[2021-03-19 17:17:58,933] [INFO] [<module>] [15] : parsing frame 6/171.0\n",
      "[2021-03-19 17:18:00,280] [INFO] [<module>] [15] : parsing frame 7/171.0\n",
      "[2021-03-19 17:18:01,783] [INFO] [<module>] [15] : parsing frame 8/171.0\n",
      "[2021-03-19 17:18:03,164] [INFO] [<module>] [15] : parsing frame 9/171.0\n",
      "[2021-03-19 17:18:04,684] [INFO] [<module>] [15] : parsing frame 10/171.0\n",
      "[2021-03-19 17:18:06,174] [INFO] [<module>] [15] : parsing frame 11/171.0\n",
      "[2021-03-19 17:18:07,524] [INFO] [<module>] [15] : parsing frame 12/171.0\n",
      "[2021-03-19 17:18:08,903] [INFO] [<module>] [15] : parsing frame 13/171.0\n",
      "[2021-03-19 17:18:10,302] [INFO] [<module>] [15] : parsing frame 14/171.0\n",
      "[2021-03-19 17:18:11,738] [INFO] [<module>] [15] : parsing frame 15/171.0\n",
      "[2021-03-19 17:18:13,059] [INFO] [<module>] [15] : parsing frame 16/171.0\n",
      "[2021-03-19 17:18:14,526] [INFO] [<module>] [15] : parsing frame 17/171.0\n",
      "[2021-03-19 17:18:15,823] [INFO] [<module>] [15] : parsing frame 18/171.0\n",
      "[2021-03-19 17:18:17,228] [INFO] [<module>] [15] : parsing frame 19/171.0\n",
      "[2021-03-19 17:18:18,592] [INFO] [<module>] [15] : parsing frame 20/171.0\n",
      "[2021-03-19 17:18:19,937] [INFO] [<module>] [15] : parsing frame 21/171.0\n",
      "[2021-03-19 17:18:21,239] [INFO] [<module>] [15] : parsing frame 22/171.0\n",
      "[2021-03-19 17:18:22,565] [INFO] [<module>] [15] : parsing frame 23/171.0\n",
      "[2021-03-19 17:18:23,902] [INFO] [<module>] [15] : parsing frame 24/171.0\n",
      "[2021-03-19 17:18:25,230] [INFO] [<module>] [15] : parsing frame 25/171.0\n",
      "[2021-03-19 17:18:26,536] [INFO] [<module>] [15] : parsing frame 26/171.0\n",
      "[2021-03-19 17:18:27,861] [INFO] [<module>] [15] : parsing frame 27/171.0\n",
      "[2021-03-19 17:18:29,225] [INFO] [<module>] [15] : parsing frame 28/171.0\n",
      "[2021-03-19 17:18:30,547] [INFO] [<module>] [15] : parsing frame 29/171.0\n",
      "[2021-03-19 17:18:31,847] [INFO] [<module>] [15] : parsing frame 30/171.0\n",
      "[2021-03-19 17:18:33,140] [INFO] [<module>] [15] : parsing frame 31/171.0\n",
      "[2021-03-19 17:18:34,439] [INFO] [<module>] [15] : parsing frame 32/171.0\n",
      "[2021-03-19 17:18:35,743] [INFO] [<module>] [15] : parsing frame 33/171.0\n",
      "[2021-03-19 17:18:37,045] [INFO] [<module>] [15] : parsing frame 34/171.0\n",
      "[2021-03-19 17:18:38,341] [INFO] [<module>] [15] : parsing frame 35/171.0\n",
      "[2021-03-19 17:18:39,625] [INFO] [<module>] [15] : parsing frame 36/171.0\n",
      "[2021-03-19 17:18:40,947] [INFO] [<module>] [15] : parsing frame 37/171.0\n",
      "[2021-03-19 17:18:42,251] [INFO] [<module>] [15] : parsing frame 38/171.0\n",
      "[2021-03-19 17:18:43,538] [INFO] [<module>] [15] : parsing frame 39/171.0\n",
      "[2021-03-19 17:18:44,857] [INFO] [<module>] [15] : parsing frame 40/171.0\n",
      "[2021-03-19 17:18:46,200] [INFO] [<module>] [15] : parsing frame 41/171.0\n",
      "[2021-03-19 17:18:47,521] [INFO] [<module>] [15] : parsing frame 42/171.0\n",
      "[2021-03-19 17:18:48,923] [INFO] [<module>] [15] : parsing frame 43/171.0\n",
      "[2021-03-19 17:18:50,333] [INFO] [<module>] [15] : parsing frame 44/171.0\n",
      "[2021-03-19 17:18:51,628] [INFO] [<module>] [15] : parsing frame 45/171.0\n",
      "[2021-03-19 17:18:52,954] [INFO] [<module>] [15] : parsing frame 46/171.0\n",
      "[2021-03-19 17:18:54,250] [INFO] [<module>] [15] : parsing frame 47/171.0\n",
      "[2021-03-19 17:18:55,560] [INFO] [<module>] [15] : parsing frame 48/171.0\n",
      "[2021-03-19 17:18:56,869] [INFO] [<module>] [15] : parsing frame 49/171.0\n",
      "[2021-03-19 17:18:58,139] [INFO] [<module>] [15] : parsing frame 50/171.0\n",
      "[2021-03-19 17:18:59,436] [INFO] [<module>] [15] : parsing frame 51/171.0\n",
      "[2021-03-19 17:19:00,837] [INFO] [<module>] [15] : parsing frame 52/171.0\n",
      "[2021-03-19 17:19:02,202] [INFO] [<module>] [15] : parsing frame 53/171.0\n",
      "[2021-03-19 17:19:03,511] [INFO] [<module>] [15] : parsing frame 54/171.0\n",
      "[2021-03-19 17:19:04,814] [INFO] [<module>] [15] : parsing frame 55/171.0\n",
      "[2021-03-19 17:19:06,096] [INFO] [<module>] [15] : parsing frame 56/171.0\n",
      "[2021-03-19 17:19:07,392] [INFO] [<module>] [15] : parsing frame 57/171.0\n",
      "[2021-03-19 17:19:08,698] [INFO] [<module>] [15] : parsing frame 58/171.0\n",
      "[2021-03-19 17:19:10,005] [INFO] [<module>] [15] : parsing frame 59/171.0\n",
      "[2021-03-19 17:19:11,440] [INFO] [<module>] [15] : parsing frame 60/171.0\n",
      "[2021-03-19 17:19:12,719] [INFO] [<module>] [15] : parsing frame 61/171.0\n",
      "[2021-03-19 17:19:14,022] [INFO] [<module>] [15] : parsing frame 62/171.0\n",
      "[2021-03-19 17:19:15,328] [INFO] [<module>] [15] : parsing frame 63/171.0\n",
      "[2021-03-19 17:19:16,618] [INFO] [<module>] [15] : parsing frame 64/171.0\n",
      "[2021-03-19 17:19:17,912] [INFO] [<module>] [15] : parsing frame 65/171.0\n",
      "[2021-03-19 17:19:19,219] [INFO] [<module>] [15] : parsing frame 66/171.0\n",
      "[2021-03-19 17:19:20,520] [INFO] [<module>] [15] : parsing frame 67/171.0\n",
      "[2021-03-19 17:19:21,835] [INFO] [<module>] [15] : parsing frame 68/171.0\n",
      "[2021-03-19 17:19:23,134] [INFO] [<module>] [15] : parsing frame 69/171.0\n",
      "[2021-03-19 17:19:24,454] [INFO] [<module>] [15] : parsing frame 70/171.0\n",
      "[2021-03-19 17:19:25,734] [INFO] [<module>] [15] : parsing frame 71/171.0\n",
      "[2021-03-19 17:19:27,015] [INFO] [<module>] [15] : parsing frame 72/171.0\n",
      "[2021-03-19 17:19:28,346] [INFO] [<module>] [15] : parsing frame 73/171.0\n",
      "[2021-03-19 17:19:29,626] [INFO] [<module>] [15] : parsing frame 74/171.0\n",
      "[2021-03-19 17:19:30,936] [INFO] [<module>] [15] : parsing frame 75/171.0\n",
      "[2021-03-19 17:19:32,239] [INFO] [<module>] [15] : parsing frame 76/171.0\n",
      "[2021-03-19 17:19:33,527] [INFO] [<module>] [15] : parsing frame 77/171.0\n",
      "[2021-03-19 17:19:34,820] [INFO] [<module>] [15] : parsing frame 78/171.0\n",
      "[2021-03-19 17:19:36,124] [INFO] [<module>] [15] : parsing frame 79/171.0\n",
      "[2021-03-19 17:19:37,419] [INFO] [<module>] [15] : parsing frame 80/171.0\n",
      "[2021-03-19 17:19:38,912] [INFO] [<module>] [15] : parsing frame 81/171.0\n",
      "[2021-03-19 17:19:40,211] [INFO] [<module>] [15] : parsing frame 82/171.0\n",
      "[2021-03-19 17:19:41,541] [INFO] [<module>] [15] : parsing frame 83/171.0\n",
      "[2021-03-19 17:19:42,853] [INFO] [<module>] [15] : parsing frame 84/171.0\n",
      "[2021-03-19 17:19:44,160] [INFO] [<module>] [15] : parsing frame 85/171.0\n",
      "[2021-03-19 17:19:45,463] [INFO] [<module>] [15] : parsing frame 86/171.0\n",
      "[2021-03-19 17:19:46,777] [INFO] [<module>] [15] : parsing frame 87/171.0\n",
      "[2021-03-19 17:19:48,071] [INFO] [<module>] [15] : parsing frame 88/171.0\n",
      "[2021-03-19 17:19:49,370] [INFO] [<module>] [15] : parsing frame 89/171.0\n",
      "[2021-03-19 17:19:50,649] [INFO] [<module>] [15] : parsing frame 90/171.0\n",
      "[2021-03-19 17:19:51,964] [INFO] [<module>] [15] : parsing frame 91/171.0\n",
      "[2021-03-19 17:19:53,289] [INFO] [<module>] [15] : parsing frame 92/171.0\n",
      "[2021-03-19 17:19:54,587] [INFO] [<module>] [15] : parsing frame 93/171.0\n",
      "[2021-03-19 17:19:55,903] [INFO] [<module>] [15] : parsing frame 94/171.0\n",
      "[2021-03-19 17:19:57,210] [INFO] [<module>] [15] : parsing frame 95/171.0\n",
      "[2021-03-19 17:19:58,510] [INFO] [<module>] [15] : parsing frame 96/171.0\n",
      "[2021-03-19 17:19:59,811] [INFO] [<module>] [15] : parsing frame 97/171.0\n",
      "[2021-03-19 17:20:01,233] [INFO] [<module>] [15] : parsing frame 98/171.0\n",
      "[2021-03-19 17:20:02,586] [INFO] [<module>] [15] : parsing frame 99/171.0\n",
      "[2021-03-19 17:20:03,920] [INFO] [<module>] [15] : parsing frame 100/171.0\n",
      "[2021-03-19 17:20:05,215] [INFO] [<module>] [15] : parsing frame 101/171.0\n",
      "[2021-03-19 17:20:06,526] [INFO] [<module>] [15] : parsing frame 102/171.0\n",
      "[2021-03-19 17:20:08,041] [INFO] [<module>] [15] : parsing frame 103/171.0\n",
      "[2021-03-19 17:20:09,340] [INFO] [<module>] [15] : parsing frame 104/171.0\n",
      "[2021-03-19 17:20:10,638] [INFO] [<module>] [15] : parsing frame 105/171.0\n",
      "[2021-03-19 17:20:11,946] [INFO] [<module>] [15] : parsing frame 106/171.0\n",
      "[2021-03-19 17:20:13,255] [INFO] [<module>] [15] : parsing frame 107/171.0\n",
      "[2021-03-19 17:20:14,546] [INFO] [<module>] [15] : parsing frame 108/171.0\n",
      "[2021-03-19 17:20:15,856] [INFO] [<module>] [15] : parsing frame 109/171.0\n",
      "[2021-03-19 17:20:17,152] [INFO] [<module>] [15] : parsing frame 110/171.0\n",
      "[2021-03-19 17:20:18,479] [INFO] [<module>] [15] : parsing frame 111/171.0\n",
      "[2021-03-19 17:20:19,791] [INFO] [<module>] [15] : parsing frame 112/171.0\n",
      "[2021-03-19 17:20:21,094] [INFO] [<module>] [15] : parsing frame 113/171.0\n",
      "[2021-03-19 17:20:22,385] [INFO] [<module>] [15] : parsing frame 114/171.0\n",
      "[2021-03-19 17:20:23,673] [INFO] [<module>] [15] : parsing frame 115/171.0\n",
      "[2021-03-19 17:20:24,981] [INFO] [<module>] [15] : parsing frame 116/171.0\n",
      "[2021-03-19 17:20:26,316] [INFO] [<module>] [15] : parsing frame 117/171.0\n",
      "[2021-03-19 17:20:27,632] [INFO] [<module>] [15] : parsing frame 118/171.0\n",
      "[2021-03-19 17:20:28,970] [INFO] [<module>] [15] : parsing frame 119/171.0\n",
      "[2021-03-19 17:20:30,279] [INFO] [<module>] [15] : parsing frame 120/171.0\n",
      "[2021-03-19 17:20:31,593] [INFO] [<module>] [15] : parsing frame 121/171.0\n",
      "[2021-03-19 17:20:32,905] [INFO] [<module>] [15] : parsing frame 122/171.0\n",
      "[2021-03-19 17:20:34,198] [INFO] [<module>] [15] : parsing frame 123/171.0\n",
      "[2021-03-19 17:20:35,501] [INFO] [<module>] [15] : parsing frame 124/171.0\n",
      "[2021-03-19 17:20:36,851] [INFO] [<module>] [15] : parsing frame 125/171.0\n",
      "[2021-03-19 17:20:38,190] [INFO] [<module>] [15] : parsing frame 126/171.0\n",
      "[2021-03-19 17:20:39,514] [INFO] [<module>] [15] : parsing frame 127/171.0\n",
      "[2021-03-19 17:20:40,829] [INFO] [<module>] [15] : parsing frame 128/171.0\n",
      "[2021-03-19 17:20:42,164] [INFO] [<module>] [15] : parsing frame 129/171.0\n",
      "[2021-03-19 17:20:43,478] [INFO] [<module>] [15] : parsing frame 130/171.0\n",
      "[2021-03-19 17:20:44,790] [INFO] [<module>] [15] : parsing frame 131/171.0\n",
      "[2021-03-19 17:20:46,180] [INFO] [<module>] [15] : parsing frame 132/171.0\n",
      "[2021-03-19 17:20:47,540] [INFO] [<module>] [15] : parsing frame 133/171.0\n",
      "[2021-03-19 17:20:48,850] [INFO] [<module>] [15] : parsing frame 134/171.0\n",
      "[2021-03-19 17:20:50,174] [INFO] [<module>] [15] : parsing frame 135/171.0\n",
      "[2021-03-19 17:20:51,471] [INFO] [<module>] [15] : parsing frame 136/171.0\n",
      "[2021-03-19 17:20:52,782] [INFO] [<module>] [15] : parsing frame 137/171.0\n",
      "[2021-03-19 17:20:54,083] [INFO] [<module>] [15] : parsing frame 138/171.0\n",
      "[2021-03-19 17:20:55,381] [INFO] [<module>] [15] : parsing frame 139/171.0\n",
      "[2021-03-19 17:20:56,683] [INFO] [<module>] [15] : parsing frame 140/171.0\n",
      "[2021-03-19 17:20:57,985] [INFO] [<module>] [15] : parsing frame 141/171.0\n",
      "[2021-03-19 17:20:59,285] [INFO] [<module>] [15] : parsing frame 142/171.0\n",
      "[2021-03-19 17:21:00,597] [INFO] [<module>] [15] : parsing frame 143/171.0\n",
      "[2021-03-19 17:21:02,042] [INFO] [<module>] [15] : parsing frame 144/171.0\n",
      "[2021-03-19 17:21:03,362] [INFO] [<module>] [15] : parsing frame 145/171.0\n",
      "[2021-03-19 17:21:04,642] [INFO] [<module>] [15] : parsing frame 146/171.0\n",
      "[2021-03-19 17:21:05,958] [INFO] [<module>] [15] : parsing frame 147/171.0\n",
      "[2021-03-19 17:21:07,273] [INFO] [<module>] [15] : parsing frame 148/171.0\n",
      "[2021-03-19 17:21:08,587] [INFO] [<module>] [15] : parsing frame 149/171.0\n",
      "[2021-03-19 17:21:09,876] [INFO] [<module>] [15] : parsing frame 150/171.0\n",
      "[2021-03-19 17:21:11,187] [INFO] [<module>] [15] : parsing frame 151/171.0\n",
      "[2021-03-19 17:21:12,556] [INFO] [<module>] [15] : parsing frame 152/171.0\n",
      "[2021-03-19 17:21:13,971] [INFO] [<module>] [15] : parsing frame 153/171.0\n",
      "[2021-03-19 17:21:15,364] [INFO] [<module>] [15] : parsing frame 154/171.0\n",
      "[2021-03-19 17:21:16,768] [INFO] [<module>] [15] : parsing frame 155/171.0\n",
      "[2021-03-19 17:21:18,176] [INFO] [<module>] [15] : parsing frame 156/171.0\n",
      "[2021-03-19 17:21:19,594] [INFO] [<module>] [15] : parsing frame 157/171.0\n",
      "[2021-03-19 17:21:20,988] [INFO] [<module>] [15] : parsing frame 158/171.0\n",
      "[2021-03-19 17:21:22,445] [INFO] [<module>] [15] : parsing frame 159/171.0\n",
      "[2021-03-19 17:21:23,774] [INFO] [<module>] [15] : parsing frame 160/171.0\n",
      "[2021-03-19 17:21:25,067] [INFO] [<module>] [15] : parsing frame 161/171.0\n",
      "[2021-03-19 17:21:26,422] [INFO] [<module>] [15] : parsing frame 162/171.0\n",
      "[2021-03-19 17:21:27,741] [INFO] [<module>] [15] : parsing frame 163/171.0\n",
      "[2021-03-19 17:21:29,298] [INFO] [<module>] [15] : parsing frame 164/171.0\n",
      "[2021-03-19 17:21:30,658] [INFO] [<module>] [15] : parsing frame 165/171.0\n",
      "[2021-03-19 17:21:31,976] [INFO] [<module>] [15] : parsing frame 166/171.0\n",
      "[2021-03-19 17:21:33,297] [INFO] [<module>] [15] : parsing frame 167/171.0\n",
      "[2021-03-19 17:21:34,659] [INFO] [<module>] [15] : parsing frame 168/171.0\n",
      "[2021-03-19 17:21:35,981] [INFO] [<module>] [15] : parsing frame 169/171.0\n",
      "[2021-03-19 17:21:37,337] [INFO] [<module>] [15] : parsing frame 170/171.0\n"
     ]
    }
   ],
   "source": [
    "# Parsing video:\n",
    "logging.info(\"Working on video \" + video_location)\n",
    "vidcap = cv2.VideoCapture(video_location)\n",
    "success, image = vidcap.read()\n",
    "fps = vidcap.get(cv2.CAP_PROP_FPS) # fs == sampling rate\n",
    "round_fps = np.round(fps)\n",
    "number_of_frames = vidcap.get(cv2.CAP_PROP_FRAME_COUNT)\n",
    "window_size = 30\n",
    "color_sig = []\n",
    "frame_number = 0\n",
    "heart_rates = []\n",
    "logging.info(\"Parsing images ...\")\n",
    "while success:\n",
    "    logging.info(\"parsing frame \" + str(frame_number) + \"/\" + str(number_of_frames))\n",
    "    # im.save(\"your_file.jpeg\")\n",
    "    rois = parse_roi(cv2.cvtColor(image, cv2.COLOR_BGR2RGB))  # build image ROI (rois is a tuple contains two regions)\n",
    "    if rois is not None : \n",
    "#     image = cv2.imread(\"frame_roi_output.jpg\") # possible BUG: read the same image twice if face not detected.(FIXED)\n",
    "        roi = np.vstack((rois[0],rois[1]))\n",
    "        is_good_frame,color_sig = parse_RGB(roi, color_sig)\n",
    "    if is_good_frame:\n",
    "        frame_number += 1\n",
    "    success, image = get_new_frame(vidcap)"
   ],
   "metadata": {
    "collapsed": false,
    "pycharm": {
     "name": "#%%\n"
    }
   }
  },
  {
   "cell_type": "code",
   "execution_count": 15,
   "outputs": [
    {
     "ename": "NameError",
     "evalue": "name 'greens' is not defined",
     "output_type": "error",
     "traceback": [
      "\u001B[0;31m---------------------------------------------------------------------------\u001B[0m",
      "\u001B[0;31mNameError\u001B[0m                                 Traceback (most recent call last)",
      "\u001B[0;32m<ipython-input-15-6d8e7f970a58>\u001B[0m in \u001B[0;36m<module>\u001B[0;34m()\u001B[0m\n\u001B[1;32m      2\u001B[0m \u001B[0mwindow_size\u001B[0m \u001B[0;34m=\u001B[0m \u001B[0mint\u001B[0m\u001B[0;34m(\u001B[0m\u001B[0mnp\u001B[0m\u001B[0;34m.\u001B[0m\u001B[0mceil\u001B[0m\u001B[0;34m(\u001B[0m\u001B[0mwindow_time_sec\u001B[0m \u001B[0;34m*\u001B[0m \u001B[0mround_fps\u001B[0m\u001B[0;34m)\u001B[0m\u001B[0;34m)\u001B[0m\u001B[0;34m\u001B[0m\u001B[0;34m\u001B[0m\u001B[0m\n\u001B[1;32m      3\u001B[0m \u001B[0;34m\u001B[0m\u001B[0m\n\u001B[0;32m----> 4\u001B[0;31m \u001B[0mwindow_start\u001B[0m \u001B[0;34m=\u001B[0m \u001B[0mgreens\u001B[0m\u001B[0;34m.\u001B[0m\u001B[0mshape\u001B[0m\u001B[0;34m[\u001B[0m\u001B[0;36m1\u001B[0m\u001B[0;34m]\u001B[0m\u001B[0;34m\u001B[0m\u001B[0;34m\u001B[0m\u001B[0m\n\u001B[0m\u001B[1;32m      5\u001B[0m \u001B[0;32mwhile\u001B[0m \u001B[0mwindow_start\u001B[0m \u001B[0;34m>\u001B[0m \u001B[0mwindow_size\u001B[0m \u001B[0;34m:\u001B[0m\u001B[0;34m\u001B[0m\u001B[0;34m\u001B[0m\u001B[0m\n\u001B[1;32m      6\u001B[0m     \u001B[0mwindow_start\u001B[0m \u001B[0;34m-=\u001B[0m \u001B[0mwindow_size\u001B[0m\u001B[0;34m\u001B[0m\u001B[0;34m\u001B[0m\u001B[0m\n",
      "\u001B[0;31mNameError\u001B[0m: name 'greens' is not defined"
     ]
    }
   ],
   "source": [
    "window_time_sec = 1\n",
    "window_size = int(np.ceil(window_time_sec * round_fps))\n",
    "\n",
    "window_start = color_sig.shape[1]\n",
    "while window_start > window_size :\n",
    "    window_start -= window_size\n",
    "    window = color_sig[window_start : window_start + window_size]\n",
    "    last_hr = heart_rates[-1] if len(heart_rates) > 0 else None\n",
    "    heart_rates.append(getHeartRate(window))"
   ],
   "metadata": {
    "collapsed": false,
    "pycharm": {
     "name": "#%%\n"
    }
   }
  },
  {
   "cell_type": "code",
   "execution_count": 25,
   "outputs": [
    {
     "name": "stdout",
     "output_type": "stream",
     "text": [
      "1.2325111111111111\n"
     ]
    },
    {
     "ename": "ValueError",
     "evalue": "x and y must have same first dimension, but have shapes (450,) and (171,)",
     "output_type": "error",
     "traceback": [
      "\u001B[0;31m---------------------------------------------------------------------------\u001B[0m",
      "\u001B[0;31mValueError\u001B[0m                                Traceback (most recent call last)",
      "\u001B[0;32m<ipython-input-25-e26e485a1372>\u001B[0m in \u001B[0;36m<module>\u001B[0;34m()\u001B[0m\n\u001B[1;32m      1\u001B[0m \u001B[0;34m\u001B[0m\u001B[0m\n\u001B[0;32m----> 2\u001B[0;31m \u001B[0mgetHeartRate\u001B[0m\u001B[0;34m(\u001B[0m\u001B[0mcolor_sig\u001B[0m\u001B[0;34m)\u001B[0m\u001B[0;34m\u001B[0m\u001B[0;34m\u001B[0m\u001B[0m\n\u001B[0m",
      "\u001B[0;32m<ipython-input-23-8c0fe8de4991>\u001B[0m in \u001B[0;36mgetHeartRate\u001B[0;34m(window)\u001B[0m\n\u001B[1;32m     31\u001B[0m     \u001B[0mprint\u001B[0m\u001B[0;34m(\u001B[0m\u001B[0mhr\u001B[0m\u001B[0;34m)\u001B[0m\u001B[0;34m\u001B[0m\u001B[0;34m\u001B[0m\u001B[0m\n\u001B[1;32m     32\u001B[0m \u001B[0;34m\u001B[0m\u001B[0m\n\u001B[0;32m---> 33\u001B[0;31m     \u001B[0mplotSignals\u001B[0m\u001B[0;34m(\u001B[0m\u001B[0mnormalized\u001B[0m\u001B[0;34m,\u001B[0m \u001B[0;34m\"Normalized color intensity\"\u001B[0m\u001B[0;34m)\u001B[0m\u001B[0;34m\u001B[0m\u001B[0;34m\u001B[0m\u001B[0m\n\u001B[0m\u001B[1;32m     34\u001B[0m     \u001B[0mplotSignals\u001B[0m\u001B[0;34m(\u001B[0m\u001B[0msrcSig\u001B[0m\u001B[0;34m,\u001B[0m \u001B[0;34m\"Source signal strength\"\u001B[0m\u001B[0;34m)\u001B[0m\u001B[0;34m\u001B[0m\u001B[0;34m\u001B[0m\u001B[0m\n\u001B[1;32m     35\u001B[0m     \u001B[0mplotSpectrum\u001B[0m\u001B[0;34m(\u001B[0m\u001B[0mfreqs\u001B[0m\u001B[0;34m,\u001B[0m \u001B[0mpowerSpec\u001B[0m\u001B[0;34m)\u001B[0m\u001B[0;34m\u001B[0m\u001B[0;34m\u001B[0m\u001B[0m\n",
      "\u001B[0;32m<ipython-input-24-84a52e1a989c>\u001B[0m in \u001B[0;36mplotSignals\u001B[0;34m(signals, label)\u001B[0m\n\u001B[1;32m      5\u001B[0m     \u001B[0mfig\u001B[0m\u001B[0;34m.\u001B[0m\u001B[0mpatch\u001B[0m\u001B[0;34m.\u001B[0m\u001B[0mset_facecolor\u001B[0m\u001B[0;34m(\u001B[0m\u001B[0;34m'white'\u001B[0m\u001B[0;34m)\u001B[0m\u001B[0;34m\u001B[0m\u001B[0;34m\u001B[0m\u001B[0m\n\u001B[1;32m      6\u001B[0m     \u001B[0;32mfor\u001B[0m \u001B[0mi\u001B[0m \u001B[0;32min\u001B[0m \u001B[0mrange\u001B[0m\u001B[0;34m(\u001B[0m\u001B[0;36m3\u001B[0m\u001B[0;34m)\u001B[0m\u001B[0;34m:\u001B[0m\u001B[0;34m\u001B[0m\u001B[0;34m\u001B[0m\u001B[0m\n\u001B[0;32m----> 7\u001B[0;31m         \u001B[0mplt\u001B[0m\u001B[0;34m.\u001B[0m\u001B[0mplot\u001B[0m\u001B[0;34m(\u001B[0m\u001B[0mseconds\u001B[0m\u001B[0;34m,\u001B[0m \u001B[0msignals\u001B[0m\u001B[0;34m[\u001B[0m\u001B[0;34m:\u001B[0m\u001B[0;34m,\u001B[0m\u001B[0mi\u001B[0m\u001B[0;34m]\u001B[0m\u001B[0;34m,\u001B[0m \u001B[0mcolors\u001B[0m\u001B[0;34m[\u001B[0m\u001B[0mi\u001B[0m\u001B[0;34m]\u001B[0m\u001B[0;34m)\u001B[0m\u001B[0;34m\u001B[0m\u001B[0;34m\u001B[0m\u001B[0m\n\u001B[0m\u001B[1;32m      8\u001B[0m     \u001B[0mplt\u001B[0m\u001B[0;34m.\u001B[0m\u001B[0mxlabel\u001B[0m\u001B[0;34m(\u001B[0m\u001B[0;34m'Time (sec)'\u001B[0m\u001B[0;34m,\u001B[0m \u001B[0mfontsize\u001B[0m\u001B[0;34m=\u001B[0m\u001B[0;36m17\u001B[0m\u001B[0;34m)\u001B[0m\u001B[0;34m\u001B[0m\u001B[0;34m\u001B[0m\u001B[0m\n\u001B[1;32m      9\u001B[0m     \u001B[0mplt\u001B[0m\u001B[0;34m.\u001B[0m\u001B[0mylabel\u001B[0m\u001B[0;34m(\u001B[0m\u001B[0mlabel\u001B[0m\u001B[0;34m,\u001B[0m \u001B[0mfontsize\u001B[0m\u001B[0;34m=\u001B[0m\u001B[0;36m17\u001B[0m\u001B[0;34m)\u001B[0m\u001B[0;34m\u001B[0m\u001B[0;34m\u001B[0m\u001B[0m\n",
      "\u001B[0;32md:\\studies\\bar_ilan\\year 3\\final_project\\koios\\venv\\lib\\site-packages\\matplotlib\\pyplot.py\u001B[0m in \u001B[0;36mplot\u001B[0;34m(scalex, scaley, data, *args, **kwargs)\u001B[0m\n\u001B[1;32m   2840\u001B[0m     return gca().plot(\n\u001B[1;32m   2841\u001B[0m         \u001B[0;34m*\u001B[0m\u001B[0margs\u001B[0m\u001B[0;34m,\u001B[0m \u001B[0mscalex\u001B[0m\u001B[0;34m=\u001B[0m\u001B[0mscalex\u001B[0m\u001B[0;34m,\u001B[0m \u001B[0mscaley\u001B[0m\u001B[0;34m=\u001B[0m\u001B[0mscaley\u001B[0m\u001B[0;34m,\u001B[0m\u001B[0;34m\u001B[0m\u001B[0;34m\u001B[0m\u001B[0m\n\u001B[0;32m-> 2842\u001B[0;31m         **({\"data\": data} if data is not None else {}), **kwargs)\n\u001B[0m\u001B[1;32m   2843\u001B[0m \u001B[0;34m\u001B[0m\u001B[0m\n\u001B[1;32m   2844\u001B[0m \u001B[0;34m\u001B[0m\u001B[0m\n",
      "\u001B[0;32md:\\studies\\bar_ilan\\year 3\\final_project\\koios\\venv\\lib\\site-packages\\matplotlib\\axes\\_axes.py\u001B[0m in \u001B[0;36mplot\u001B[0;34m(self, scalex, scaley, data, *args, **kwargs)\u001B[0m\n\u001B[1;32m   1741\u001B[0m         \"\"\"\n\u001B[1;32m   1742\u001B[0m         \u001B[0mkwargs\u001B[0m \u001B[0;34m=\u001B[0m \u001B[0mcbook\u001B[0m\u001B[0;34m.\u001B[0m\u001B[0mnormalize_kwargs\u001B[0m\u001B[0;34m(\u001B[0m\u001B[0mkwargs\u001B[0m\u001B[0;34m,\u001B[0m \u001B[0mmlines\u001B[0m\u001B[0;34m.\u001B[0m\u001B[0mLine2D\u001B[0m\u001B[0;34m)\u001B[0m\u001B[0;34m\u001B[0m\u001B[0;34m\u001B[0m\u001B[0m\n\u001B[0;32m-> 1743\u001B[0;31m         \u001B[0mlines\u001B[0m \u001B[0;34m=\u001B[0m \u001B[0;34m[\u001B[0m\u001B[0;34m*\u001B[0m\u001B[0mself\u001B[0m\u001B[0;34m.\u001B[0m\u001B[0m_get_lines\u001B[0m\u001B[0;34m(\u001B[0m\u001B[0;34m*\u001B[0m\u001B[0margs\u001B[0m\u001B[0;34m,\u001B[0m \u001B[0mdata\u001B[0m\u001B[0;34m=\u001B[0m\u001B[0mdata\u001B[0m\u001B[0;34m,\u001B[0m \u001B[0;34m**\u001B[0m\u001B[0mkwargs\u001B[0m\u001B[0;34m)\u001B[0m\u001B[0;34m]\u001B[0m\u001B[0;34m\u001B[0m\u001B[0;34m\u001B[0m\u001B[0m\n\u001B[0m\u001B[1;32m   1744\u001B[0m         \u001B[0;32mfor\u001B[0m \u001B[0mline\u001B[0m \u001B[0;32min\u001B[0m \u001B[0mlines\u001B[0m\u001B[0;34m:\u001B[0m\u001B[0;34m\u001B[0m\u001B[0;34m\u001B[0m\u001B[0m\n\u001B[1;32m   1745\u001B[0m             \u001B[0mself\u001B[0m\u001B[0;34m.\u001B[0m\u001B[0madd_line\u001B[0m\u001B[0;34m(\u001B[0m\u001B[0mline\u001B[0m\u001B[0;34m)\u001B[0m\u001B[0;34m\u001B[0m\u001B[0;34m\u001B[0m\u001B[0m\n",
      "\u001B[0;32md:\\studies\\bar_ilan\\year 3\\final_project\\koios\\venv\\lib\\site-packages\\matplotlib\\axes\\_base.py\u001B[0m in \u001B[0;36m__call__\u001B[0;34m(self, data, *args, **kwargs)\u001B[0m\n\u001B[1;32m    271\u001B[0m                 \u001B[0mthis\u001B[0m \u001B[0;34m+=\u001B[0m \u001B[0margs\u001B[0m\u001B[0;34m[\u001B[0m\u001B[0;36m0\u001B[0m\u001B[0;34m]\u001B[0m\u001B[0;34m,\u001B[0m\u001B[0;34m\u001B[0m\u001B[0;34m\u001B[0m\u001B[0m\n\u001B[1;32m    272\u001B[0m                 \u001B[0margs\u001B[0m \u001B[0;34m=\u001B[0m \u001B[0margs\u001B[0m\u001B[0;34m[\u001B[0m\u001B[0;36m1\u001B[0m\u001B[0;34m:\u001B[0m\u001B[0;34m]\u001B[0m\u001B[0;34m\u001B[0m\u001B[0;34m\u001B[0m\u001B[0m\n\u001B[0;32m--> 273\u001B[0;31m             \u001B[0;32myield\u001B[0m \u001B[0;32mfrom\u001B[0m \u001B[0mself\u001B[0m\u001B[0;34m.\u001B[0m\u001B[0m_plot_args\u001B[0m\u001B[0;34m(\u001B[0m\u001B[0mthis\u001B[0m\u001B[0;34m,\u001B[0m \u001B[0mkwargs\u001B[0m\u001B[0;34m)\u001B[0m\u001B[0;34m\u001B[0m\u001B[0;34m\u001B[0m\u001B[0m\n\u001B[0m\u001B[1;32m    274\u001B[0m \u001B[0;34m\u001B[0m\u001B[0m\n\u001B[1;32m    275\u001B[0m     \u001B[0;32mdef\u001B[0m \u001B[0mget_next_color\u001B[0m\u001B[0;34m(\u001B[0m\u001B[0mself\u001B[0m\u001B[0;34m)\u001B[0m\u001B[0;34m:\u001B[0m\u001B[0;34m\u001B[0m\u001B[0;34m\u001B[0m\u001B[0m\n",
      "\u001B[0;32md:\\studies\\bar_ilan\\year 3\\final_project\\koios\\venv\\lib\\site-packages\\matplotlib\\axes\\_base.py\u001B[0m in \u001B[0;36m_plot_args\u001B[0;34m(self, tup, kwargs)\u001B[0m\n\u001B[1;32m    397\u001B[0m \u001B[0;34m\u001B[0m\u001B[0m\n\u001B[1;32m    398\u001B[0m         \u001B[0;32mif\u001B[0m \u001B[0mx\u001B[0m\u001B[0;34m.\u001B[0m\u001B[0mshape\u001B[0m\u001B[0;34m[\u001B[0m\u001B[0;36m0\u001B[0m\u001B[0;34m]\u001B[0m \u001B[0;34m!=\u001B[0m \u001B[0my\u001B[0m\u001B[0;34m.\u001B[0m\u001B[0mshape\u001B[0m\u001B[0;34m[\u001B[0m\u001B[0;36m0\u001B[0m\u001B[0;34m]\u001B[0m\u001B[0;34m:\u001B[0m\u001B[0;34m\u001B[0m\u001B[0;34m\u001B[0m\u001B[0m\n\u001B[0;32m--> 399\u001B[0;31m             raise ValueError(f\"x and y must have same first dimension, but \"\n\u001B[0m\u001B[1;32m    400\u001B[0m                              f\"have shapes {x.shape} and {y.shape}\")\n\u001B[1;32m    401\u001B[0m         \u001B[0;32mif\u001B[0m \u001B[0mx\u001B[0m\u001B[0;34m.\u001B[0m\u001B[0mndim\u001B[0m \u001B[0;34m>\u001B[0m \u001B[0;36m2\u001B[0m \u001B[0;32mor\u001B[0m \u001B[0my\u001B[0m\u001B[0;34m.\u001B[0m\u001B[0mndim\u001B[0m \u001B[0;34m>\u001B[0m \u001B[0;36m2\u001B[0m\u001B[0;34m:\u001B[0m\u001B[0;34m\u001B[0m\u001B[0;34m\u001B[0m\u001B[0m\n",
      "\u001B[0;31mValueError\u001B[0m: x and y must have same first dimension, but have shapes (450,) and (171,)"
     ]
    },
    {
     "data": {
      "text/plain": "<Figure size 432x288 with 1 Axes>",
      "image/png": "[encoded data removed]"
     },
     "metadata": {},
     "output_type": "display_data"
    }
   ],
   "source": [
    "getHeartRate(color_sig)"
   ],
   "metadata": {
    "collapsed": false,
    "pycharm": {
     "name": "#%%\n"
    }
   }
  },
  {
   "cell_type": "code",
   "execution_count": null,
   "outputs": [],
   "source": [
    "if frame_number != greens.size: # TO BE REVIEW BY EYAL, POSSIBLE BUG FIX HERE!\n",
    "    frame_number = greens.size\n",
    "axis = np.arange((frame_number / round_fps), step=(1 / 30)) # axis is Time\n",
    "plot_result(greens, reds, blues, axis, \"All 3 channels\") # original signals\n",
    "# apply filtering on all the channels:\n",
    "green_buttered = filter_channel(greens,round_fps)\n",
    "red_buttered = filter_channel(reds,round_fps)\n",
    "blue_buttered = filter_channel(blues,round_fps)\n",
    "# plotting the channels after apllying the filter\n",
    "plot_result(green_buttered, red_buttered, blue_buttered, axis, \"After Filter\") # after filtering"
   ],
   "metadata": {
    "collapsed": false,
    "pycharm": {
     "name": "#%%\n"
    }
   }
  },
  {
   "cell_type": "markdown",
   "metadata": {},
   "source": [
    "### PSD estimation using 'Welch' or 'Periodogram'\n"
   ]
  },
  {
   "cell_type": "code",
   "execution_count": null,
   "outputs": [],
   "source": [
    "#flattop\n",
    "# Welch method:\n",
    "f, Pxx_den = sig.welch(green_buttered, round_fps,'hamming', 1024, scaling='spectrum')"
   ],
   "metadata": {
    "collapsed": false,
    "pycharm": {
     "name": "#%%\n"
    }
   }
  },
  {
   "cell_type": "markdown",
   "source": [
    "### Plot final results"
   ],
   "metadata": {
    "collapsed": false,
    "pycharm": {
     "name": "#%% md\n"
    }
   }
  },
  {
   "cell_type": "code",
   "execution_count": null,
   "outputs": [],
   "source": [
    "plt.semilogy(f, Pxx_den)\n",
    "plt.ylim([1e-7, 1e2])\n",
    "plt.xlabel('frequency [Hz]')\n",
    "plt.ylabel('PSD [V**2/Hz]')\n",
    "plt.show()\n",
    "# periodogram method:\n",
    "f, Pxx_den = sig.periodogram(green_buttered, round_fps)\n",
    "plt.semilogy(f, Pxx_den)\n",
    "plt.ylim([1e-7, 1e2])\n",
    "plt.xlabel('frequency [Hz]')\n",
    "plt.ylabel('PSD [V**2/Hz]')\n",
    "plt.show()"
   ],
   "metadata": {
    "collapsed": false,
    "pycharm": {
     "name": "#%%\n"
    }
   }
  }
 ],
 "metadata": {
  "kernelspec": {
   "display_name": "Python 3",
   "language": "python",
   "name": "python3"
  }
 },
 "nbformat": 4,
 "nbformat_minor": 1
}