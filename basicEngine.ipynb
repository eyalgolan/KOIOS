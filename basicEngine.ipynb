{
 "cells": [
  {
   "cell_type": "markdown",
   "metadata": {
    "collapsed": true,
    "pycharm": {
     "name": "#%% md\n"
    }
   },
   "source": [
    "# Basic engine implementation"
   ]
  },
  {
   "cell_type": "markdown",
   "metadata": {},
   "source": [
    "#### setup"
   ]
  },
  {
   "cell_type": "code",
   "execution_count": 15,
   "metadata": {
    "pycharm": {
     "name": "#%%\n"
    }
   },
   "outputs": [
    {
     "name": "stderr",
     "output_type": "stream",
     "text": [
      "[2021-03-10 21:11:20,682] [INFO] [<module>] [13] : Starting ...\n"
     ]
    }
   ],
   "source": [
    "import face_recognition, PIL.Image, PIL.ImageDraw,math\n",
    "import numpy as np\n",
    "import logging\n",
    "import cv2\n",
    "import platform\n",
    "from matplotlib import pyplot as plt\n",
    "from PIL import Image\n",
    "import scipy.signal as sig\n",
    "\n",
    "FORMAT = '[%(asctime)s] [%(levelname)s] [%(funcName)s] [%(lineno)d] : %(message)s'\n",
    "logging.basicConfig(format=FORMAT, level=logging.INFO)\n",
    "\n",
    "logging.info(\"Starting ...\")\n",
    "if platform.system() == \"Windows\":\n",
    "    seperator = \"\\\\\"\n",
    "else:\n",
    "    seperator = \"/\"\n",
    "\n",
    "dir = \"perry-all-2\"\n",
    "# should be a parameter of the engine\n",
    "dataset_location = \"..\" + seperator + \"dataset\" + seperator + \"good_sync\" + seperator\n",
    "specific_dir = dir\n",
    "video_location = dataset_location + specific_dir + seperator + \"test.mp4\"\n"
   ]
  },
  {
   "cell_type": "markdown",
   "metadata": {},
   "source": [
    "#### Detecting the face landmarks and parsing the ROI"
   ]
  },
  {
   "cell_type": "code",
   "execution_count": 16,
   "metadata": {
    "pycharm": {
     "name": "#%%\n"
    }
   },
   "outputs": [],
   "source": [
    "def parse_roi(frame):\n",
    "    image = face_recognition.load_image_file(frame) # read image.\n",
    "    face_locations = face_recognition.face_locations(image) # detects all the faces in image\n",
    "    face_landmarks_list = face_recognition.face_landmarks(image)\n",
    "\n",
    "    # iterate through all the faces.\n",
    "    for face_location in face_locations:\n",
    "        img = PIL.Image.open(frame)\n",
    "        top,right,bottom,left = face_location # extract all face squre points.\n",
    "        diff = math.floor((top - bottom) * 0.2) # 30 percent of the face len (toadd eyebrow top point).\n",
    "        # Finding the forehead.\n",
    "        right_eyebrow_landmarks = np.asarray(face_landmarks_list[0]['right_eyebrow']) # right eyebrow points.\n",
    "        right_eyebrow_landmarks.sort(axis=0)\n",
    "        rightest_point = right_eyebrow_landmarks[-1] # The most right point of the ROI(according to x).\n",
    "        top_right_eyebrow = right_eyebrow_landmarks.min(axis = 0)[1]\n",
    "        left_eyebrow_landmarks = np.asarray(face_landmarks_list[0]['left_eyebrow'])\n",
    "        left_eyebrow_landmarks.sort(axis=0)\n",
    "        leftest_point = left_eyebrow_landmarks[0] # the most left point of ROI.(according to x)\n",
    "        top_left_eyebrow = left_eyebrow_landmarks.min(axis = 0)[1]\n",
    "        bottom = min(top_right_eyebrow,top_left_eyebrow).item(0) # bottom point of the forehead.\n",
    "        bottom = bottom - (0.05 * bottom) # improve bottom location by 2 percent.\n",
    "        forehead = img.crop((leftest_point[0], leftest_point[1]+diff, rightest_point[0],bottom)) # adding diff to top to make the forehead bigger.\n",
    "\n",
    "        # Finding the second ROI:\n",
    "        upper_mouth = np.asarray(face_landmarks_list[0]['top_lip']) # top_lip landmarks\n",
    "        upper_mouth_min = upper_mouth.min(axis = 0)[1] # The  top - lip upper point.\n",
    "        upper_nose = np.asarray(face_landmarks_list[0]['nose_bridge'])\n",
    "        upper_nose_min = upper_nose.min(axis = 0)[1]  # noise bridge upper point.\n",
    "        upper_nose_min += upper_mouth_min * 0.1 # improving the noise bridge upper point.\n",
    "        nose_to_upper_lip = img.crop((leftest_point[0], upper_nose_min, rightest_point[0], upper_mouth_min))\n",
    "        try:\n",
    "            concat_roi_areas = np.concatenate((forehead, nose_to_upper_lip), axis=0)\n",
    "            cv2.imwrite('frame_roi_output.jpg', concat_roi_areas)\n",
    "        except:\n",
    "            logging.warning(\"concat of roi areas failed\")"
   ]
  },
  {
   "cell_type": "code",
   "execution_count": 17,
   "metadata": {
    "pycharm": {
     "name": "#%%s\n"
    }
   },
   "outputs": [],
   "source": [
    "#R > 95 and G > 40 and B > 20 and R > G and R > B\n",
    "# based on https://arxiv.org/ftp/arxiv/papers/1708/1708.02694.pdf page 5\n",
    "def bad_frame(blue, green, red):\n",
    "    if red > 95 and green > 40 and blue > 20 and red >green and red > blue:\n",
    "        return False\n",
    "    logging.warning(\"bad frame detected\")\n",
    "    return True"
   ]
  },
  {
   "cell_type": "markdown",
   "metadata": {},
   "source": [
    "#### Getting RGB values from a frame and adding them to arrays"
   ]
  },
  {
   "cell_type": "code",
   "execution_count": 18,
   "metadata": {
    "pycharm": {
     "name": "#%%s\n"
    }
   },
   "outputs": [],
   "source": [
    "def parse_RGB(image, greens, reds, blues, frame_number):\n",
    "    \"\"\"\n",
    "    Parses an image to its RGB channels\n",
    "    :param image: the image to be parsed\n",
    "    :param vidcap:\n",
    "    :param greens: array containing green channel values\n",
    "    :param blues: array containing blue channel values\n",
    "    :param reds: array containing red channel values\n",
    "    :param frame_number - is the number of the frame of the video.\n",
    "    :return: a flag indicating if there is a next image, and the next image\n",
    "    \"\"\"\n",
    "    blue, green, red = cv2.split(image)\n",
    "    if not bad_frame(np.mean(blue), np.mean(green), np.mean(red)):\n",
    "        greens[0, frame_number] = np.mean(green)\n",
    "        blues[0, frame_number] = np.mean(blue)\n",
    "        reds[0, frame_number] = np.mean(red)\n",
    "        return True\n",
    "    return False"
   ]
  },
  {
   "cell_type": "code",
   "execution_count": 19,
   "metadata": {
    "pycharm": {
     "name": "#%%s\n"
    }
   },
   "outputs": [],
   "source": [
    "def get_new_frame(vidcap):\n",
    "    success, image = vidcap.read()\n",
    "    return success, image"
   ]
  },
  {
   "cell_type": "markdown",
   "metadata": {},
   "source": [
    "#### Plotting RGB arrays results"
   ]
  },
  {
   "cell_type": "code",
   "execution_count": 20,
   "metadata": {
    "pycharm": {
     "name": "#%%\n"
    }
   },
   "outputs": [],
   "source": [
    "def plot_result(greens, reds, blues, x_value, title=\"\"):\n",
    "    logging.info(\"Plotting results ...\" + title)\n",
    "    x_value = x_value.reshape(1, x_value.shape[0])\n",
    "    r = reds.tolist()[0]\n",
    "    b = blues.tolist()[0]\n",
    "    g = greens.tolist()[0]\n",
    "    x = x_value.tolist()[0]\n",
    "    plt.figure(figsize=(6, 5))\n",
    "    plt.title(title)\n",
    "    plt.xlabel(\"Time\")\n",
    "    plt.ylabel(\"Value\")\n",
    "    plt.subplot(3, 1, 1)\n",
    "    plt.plot(x, g, color=\"green\")\n",
    "    plt.subplot(3, 1, 2)\n",
    "    plt.plot(x, r, color=\"red\")\n",
    "    plt.subplot(3, 1, 3)\n",
    "    plt.plot(x, b, color=\"blue\")\n",
    "    plt.show()\n",
    "    logging.info(\"Showing result\")\n"
   ]
  },
  {
   "cell_type": "markdown",
   "metadata": {},
   "source": [
    "#### Filternig:"
   ]
  },
  {
   "cell_type": "code",
   "execution_count": 35,
   "metadata": {},
   "outputs": [],
   "source": [
    "def filter_channel(channel,fs):\n",
    "    bh, ah = sig.butter(4, 0.75 / (fs / 2), 'highpass')\n",
    "    bl, al = sig.butter(4, 4 / (fs / 2), 'lowpass')\n",
    "    channel = sig.filtfilt(bh, ah, channel)\n",
    "    channel = np.absolute(channel)\n",
    "    channel_after_filter = sig.filtfilt(bl, al, channel)\n",
    "    return channel_after_filter"
   ]
  },
  {
   "cell_type": "markdown",
   "metadata": {},
   "source": [
    "#### Main loop - going over all the frames of the video"
   ]
  },
  {
   "cell_type": "code",
   "execution_count": 37,
   "metadata": {
    "pycharm": {
     "name": "#%%\n"
    }
   },
   "outputs": [
    {
     "name": "stderr",
     "output_type": "stream",
     "text": [
      "[2021-03-12 14:45:53,679] [INFO] [<module>] [1] : Working on video ../dataset/good_sync/perry-all-2/test.mp4\n",
      "[2021-03-12 14:45:53,707] [INFO] [<module>] [11] : Parsing images ...\n",
      "[2021-03-12 14:45:53,709] [INFO] [<module>] [13] : parsing frame 0/179.0\n",
      "[2021-03-12 14:45:54,129] [INFO] [<module>] [13] : parsing frame 1/179.0\n",
      "[2021-03-12 14:45:54,537] [INFO] [<module>] [13] : parsing frame 2/179.0\n",
      "[2021-03-12 14:45:54,942] [INFO] [<module>] [13] : parsing frame 3/179.0\n",
      "[2021-03-12 14:45:55,350] [INFO] [<module>] [13] : parsing frame 4/179.0\n",
      "[2021-03-12 14:45:55,753] [INFO] [<module>] [13] : parsing frame 5/179.0\n",
      "[2021-03-12 14:45:56,152] [INFO] [<module>] [13] : parsing frame 6/179.0\n",
      "[2021-03-12 14:45:56,546] [INFO] [<module>] [13] : parsing frame 7/179.0\n",
      "[2021-03-12 14:45:56,944] [INFO] [<module>] [13] : parsing frame 8/179.0\n",
      "[2021-03-12 14:45:57,338] [INFO] [<module>] [13] : parsing frame 9/179.0\n",
      "[2021-03-12 14:45:57,734] [INFO] [<module>] [13] : parsing frame 10/179.0\n",
      "[2021-03-12 14:45:58,129] [INFO] [<module>] [13] : parsing frame 11/179.0\n",
      "[2021-03-12 14:45:58,525] [INFO] [<module>] [13] : parsing frame 12/179.0\n",
      "[2021-03-12 14:45:58,920] [INFO] [<module>] [13] : parsing frame 13/179.0\n",
      "[2021-03-12 14:45:59,323] [INFO] [<module>] [13] : parsing frame 14/179.0\n",
      "[2021-03-12 14:45:59,721] [INFO] [<module>] [13] : parsing frame 15/179.0\n",
      "[2021-03-12 14:46:00,118] [INFO] [<module>] [13] : parsing frame 16/179.0\n",
      "[2021-03-12 14:46:00,516] [INFO] [<module>] [13] : parsing frame 17/179.0\n",
      "[2021-03-12 14:46:00,910] [INFO] [<module>] [13] : parsing frame 18/179.0\n",
      "[2021-03-12 14:46:01,304] [INFO] [<module>] [13] : parsing frame 19/179.0\n",
      "[2021-03-12 14:46:01,703] [INFO] [<module>] [13] : parsing frame 20/179.0\n",
      "[2021-03-12 14:46:02,103] [INFO] [<module>] [13] : parsing frame 21/179.0\n",
      "[2021-03-12 14:46:02,501] [INFO] [<module>] [13] : parsing frame 22/179.0\n",
      "[2021-03-12 14:46:02,900] [INFO] [<module>] [13] : parsing frame 23/179.0\n",
      "[2021-03-12 14:46:03,297] [INFO] [<module>] [13] : parsing frame 24/179.0\n",
      "[2021-03-12 14:46:03,697] [INFO] [<module>] [13] : parsing frame 25/179.0\n",
      "[2021-03-12 14:46:04,090] [INFO] [<module>] [13] : parsing frame 26/179.0\n",
      "[2021-03-12 14:46:04,482] [INFO] [<module>] [13] : parsing frame 27/179.0\n",
      "[2021-03-12 14:46:04,874] [INFO] [<module>] [13] : parsing frame 28/179.0\n",
      "[2021-03-12 14:46:05,268] [INFO] [<module>] [13] : parsing frame 29/179.0\n",
      "[2021-03-12 14:46:05,660] [INFO] [<module>] [13] : parsing frame 30/179.0\n",
      "[2021-03-12 14:46:06,059] [INFO] [<module>] [13] : parsing frame 31/179.0\n",
      "[2021-03-12 14:46:06,455] [INFO] [<module>] [13] : parsing frame 32/179.0\n",
      "[2021-03-12 14:46:06,845] [INFO] [<module>] [13] : parsing frame 33/179.0\n",
      "[2021-03-12 14:46:07,236] [INFO] [<module>] [13] : parsing frame 34/179.0\n",
      "[2021-03-12 14:46:07,628] [INFO] [<module>] [13] : parsing frame 35/179.0\n",
      "[2021-03-12 14:46:08,017] [INFO] [<module>] [13] : parsing frame 36/179.0\n",
      "[2021-03-12 14:46:08,405] [INFO] [<module>] [13] : parsing frame 37/179.0\n",
      "[2021-03-12 14:46:08,795] [INFO] [<module>] [13] : parsing frame 38/179.0\n",
      "[2021-03-12 14:46:09,185] [INFO] [<module>] [13] : parsing frame 39/179.0\n",
      "[2021-03-12 14:46:09,577] [INFO] [<module>] [13] : parsing frame 40/179.0\n",
      "[2021-03-12 14:46:09,970] [INFO] [<module>] [13] : parsing frame 41/179.0\n",
      "[2021-03-12 14:46:10,358] [INFO] [<module>] [13] : parsing frame 42/179.0\n",
      "[2021-03-12 14:46:10,748] [INFO] [<module>] [13] : parsing frame 43/179.0\n",
      "[2021-03-12 14:46:11,140] [INFO] [<module>] [13] : parsing frame 44/179.0\n",
      "[2021-03-12 14:46:11,533] [INFO] [<module>] [13] : parsing frame 45/179.0\n",
      "[2021-03-12 14:46:11,925] [INFO] [<module>] [13] : parsing frame 46/179.0\n",
      "[2021-03-12 14:46:12,316] [INFO] [<module>] [13] : parsing frame 47/179.0\n",
      "[2021-03-12 14:46:12,709] [INFO] [<module>] [13] : parsing frame 48/179.0\n",
      "[2021-03-12 14:46:13,102] [INFO] [<module>] [13] : parsing frame 49/179.0\n",
      "[2021-03-12 14:46:13,496] [INFO] [<module>] [13] : parsing frame 50/179.0\n",
      "[2021-03-12 14:46:13,884] [INFO] [<module>] [13] : parsing frame 51/179.0\n",
      "[2021-03-12 14:46:14,277] [INFO] [<module>] [13] : parsing frame 52/179.0\n",
      "[2021-03-12 14:46:14,667] [INFO] [<module>] [13] : parsing frame 53/179.0\n",
      "[2021-03-12 14:46:15,056] [INFO] [<module>] [13] : parsing frame 54/179.0\n",
      "[2021-03-12 14:46:15,443] [INFO] [<module>] [13] : parsing frame 55/179.0\n",
      "[2021-03-12 14:46:15,832] [INFO] [<module>] [13] : parsing frame 56/179.0\n",
      "[2021-03-12 14:46:16,225] [INFO] [<module>] [13] : parsing frame 57/179.0\n",
      "[2021-03-12 14:46:16,612] [INFO] [<module>] [13] : parsing frame 58/179.0\n",
      "[2021-03-12 14:46:17,004] [INFO] [<module>] [13] : parsing frame 59/179.0\n",
      "[2021-03-12 14:46:17,393] [INFO] [<module>] [13] : parsing frame 60/179.0\n",
      "[2021-03-12 14:46:17,783] [INFO] [<module>] [13] : parsing frame 61/179.0\n",
      "[2021-03-12 14:46:18,171] [INFO] [<module>] [13] : parsing frame 62/179.0\n",
      "[2021-03-12 14:46:18,558] [INFO] [<module>] [13] : parsing frame 63/179.0\n",
      "[2021-03-12 14:46:18,946] [INFO] [<module>] [13] : parsing frame 64/179.0\n",
      "[2021-03-12 14:46:19,334] [INFO] [<module>] [13] : parsing frame 65/179.0\n",
      "[2021-03-12 14:46:19,722] [INFO] [<module>] [13] : parsing frame 66/179.0\n",
      "[2021-03-12 14:46:20,109] [INFO] [<module>] [13] : parsing frame 67/179.0\n",
      "[2021-03-12 14:46:20,499] [INFO] [<module>] [13] : parsing frame 68/179.0\n",
      "[2021-03-12 14:46:20,889] [INFO] [<module>] [13] : parsing frame 69/179.0\n",
      "[2021-03-12 14:46:21,286] [INFO] [<module>] [13] : parsing frame 70/179.0\n",
      "[2021-03-12 14:46:21,678] [INFO] [<module>] [13] : parsing frame 71/179.0\n",
      "[2021-03-12 14:46:22,070] [INFO] [<module>] [13] : parsing frame 72/179.0\n",
      "[2021-03-12 14:46:22,466] [INFO] [<module>] [13] : parsing frame 73/179.0\n",
      "[2021-03-12 14:46:22,859] [INFO] [<module>] [13] : parsing frame 74/179.0\n",
      "[2021-03-12 14:46:23,252] [INFO] [<module>] [13] : parsing frame 75/179.0\n",
      "[2021-03-12 14:46:23,658] [INFO] [<module>] [13] : parsing frame 76/179.0\n",
      "[2021-03-12 14:46:24,060] [INFO] [<module>] [13] : parsing frame 77/179.0\n",
      "[2021-03-12 14:46:24,465] [INFO] [<module>] [13] : parsing frame 78/179.0\n",
      "[2021-03-12 14:46:24,867] [INFO] [<module>] [13] : parsing frame 79/179.0\n",
      "[2021-03-12 14:46:25,269] [INFO] [<module>] [13] : parsing frame 80/179.0\n",
      "[2021-03-12 14:46:25,673] [INFO] [<module>] [13] : parsing frame 81/179.0\n",
      "[2021-03-12 14:46:26,085] [INFO] [<module>] [13] : parsing frame 82/179.0\n",
      "[2021-03-12 14:46:26,493] [INFO] [<module>] [13] : parsing frame 83/179.0\n",
      "[2021-03-12 14:46:26,907] [INFO] [<module>] [13] : parsing frame 84/179.0\n",
      "[2021-03-12 14:46:27,316] [INFO] [<module>] [13] : parsing frame 85/179.0\n",
      "[2021-03-12 14:46:27,763] [INFO] [<module>] [13] : parsing frame 86/179.0\n",
      "[2021-03-12 14:46:28,229] [INFO] [<module>] [13] : parsing frame 87/179.0\n",
      "[2021-03-12 14:46:28,638] [INFO] [<module>] [13] : parsing frame 88/179.0\n",
      "[2021-03-12 14:46:29,067] [INFO] [<module>] [13] : parsing frame 89/179.0\n",
      "[2021-03-12 14:46:29,519] [INFO] [<module>] [13] : parsing frame 90/179.0\n",
      "[2021-03-12 14:46:29,942] [INFO] [<module>] [13] : parsing frame 91/179.0\n",
      "[2021-03-12 14:46:30,370] [INFO] [<module>] [13] : parsing frame 92/179.0\n",
      "[2021-03-12 14:46:30,834] [INFO] [<module>] [13] : parsing frame 93/179.0\n",
      "[2021-03-12 14:46:31,277] [INFO] [<module>] [13] : parsing frame 94/179.0\n",
      "[2021-03-12 14:46:31,675] [INFO] [<module>] [13] : parsing frame 95/179.0\n",
      "[2021-03-12 14:46:32,079] [INFO] [<module>] [13] : parsing frame 96/179.0\n",
      "[2021-03-12 14:46:32,493] [INFO] [<module>] [13] : parsing frame 97/179.0\n",
      "[2021-03-12 14:46:32,903] [INFO] [<module>] [13] : parsing frame 98/179.0\n",
      "[2021-03-12 14:46:33,306] [INFO] [<module>] [13] : parsing frame 99/179.0\n",
      "[2021-03-12 14:46:33,785] [INFO] [<module>] [13] : parsing frame 100/179.0\n",
      "[2021-03-12 14:46:34,202] [INFO] [<module>] [13] : parsing frame 101/179.0\n",
      "[2021-03-12 14:46:34,610] [INFO] [<module>] [13] : parsing frame 102/179.0\n",
      "[2021-03-12 14:46:35,017] [INFO] [<module>] [13] : parsing frame 103/179.0\n",
      "[2021-03-12 14:46:35,423] [INFO] [<module>] [13] : parsing frame 104/179.0\n",
      "[2021-03-12 14:46:35,824] [INFO] [<module>] [13] : parsing frame 105/179.0\n",
      "[2021-03-12 14:46:36,230] [INFO] [<module>] [13] : parsing frame 106/179.0\n",
      "[2021-03-12 14:46:36,655] [INFO] [<module>] [13] : parsing frame 107/179.0\n",
      "[2021-03-12 14:46:37,066] [INFO] [<module>] [13] : parsing frame 108/179.0\n"
     ]
    },
    {
     "name": "stderr",
     "output_type": "stream",
     "text": [
      "[2021-03-12 14:46:37,480] [INFO] [<module>] [13] : parsing frame 109/179.0\n",
      "[2021-03-12 14:46:37,894] [INFO] [<module>] [13] : parsing frame 110/179.0\n",
      "[2021-03-12 14:46:38,309] [INFO] [<module>] [13] : parsing frame 111/179.0\n",
      "[2021-03-12 14:46:38,710] [INFO] [<module>] [13] : parsing frame 112/179.0\n",
      "[2021-03-12 14:46:39,153] [INFO] [<module>] [13] : parsing frame 113/179.0\n",
      "[2021-03-12 14:46:39,599] [INFO] [<module>] [13] : parsing frame 114/179.0\n",
      "[2021-03-12 14:46:40,039] [INFO] [<module>] [13] : parsing frame 115/179.0\n",
      "[2021-03-12 14:46:40,531] [INFO] [<module>] [13] : parsing frame 116/179.0\n",
      "[2021-03-12 14:46:40,997] [INFO] [<module>] [13] : parsing frame 117/179.0\n",
      "[2021-03-12 14:46:41,454] [INFO] [<module>] [13] : parsing frame 118/179.0\n",
      "[2021-03-12 14:46:41,886] [INFO] [<module>] [13] : parsing frame 119/179.0\n",
      "[2021-03-12 14:46:42,321] [INFO] [<module>] [13] : parsing frame 120/179.0\n",
      "[2021-03-12 14:46:42,792] [INFO] [<module>] [13] : parsing frame 121/179.0\n",
      "[2021-03-12 14:46:43,271] [INFO] [<module>] [13] : parsing frame 122/179.0\n",
      "[2021-03-12 14:46:43,740] [INFO] [<module>] [13] : parsing frame 123/179.0\n",
      "[2021-03-12 14:46:44,239] [INFO] [<module>] [13] : parsing frame 124/179.0\n",
      "[2021-03-12 14:46:44,694] [INFO] [<module>] [13] : parsing frame 125/179.0\n",
      "[2021-03-12 14:46:45,112] [INFO] [<module>] [13] : parsing frame 126/179.0\n",
      "[2021-03-12 14:46:45,515] [INFO] [<module>] [13] : parsing frame 127/179.0\n",
      "[2021-03-12 14:46:45,915] [INFO] [<module>] [13] : parsing frame 128/179.0\n",
      "[2021-03-12 14:46:46,336] [INFO] [<module>] [13] : parsing frame 129/179.0\n",
      "[2021-03-12 14:46:46,744] [INFO] [<module>] [13] : parsing frame 130/179.0\n",
      "[2021-03-12 14:46:47,147] [INFO] [<module>] [13] : parsing frame 131/179.0\n",
      "[2021-03-12 14:46:47,558] [INFO] [<module>] [13] : parsing frame 132/179.0\n",
      "[2021-03-12 14:46:47,976] [INFO] [<module>] [13] : parsing frame 133/179.0\n",
      "[2021-03-12 14:46:48,386] [INFO] [<module>] [13] : parsing frame 134/179.0\n",
      "[2021-03-12 14:46:48,798] [INFO] [<module>] [13] : parsing frame 135/179.0\n",
      "[2021-03-12 14:46:49,223] [INFO] [<module>] [13] : parsing frame 136/179.0\n",
      "[2021-03-12 14:46:49,670] [INFO] [<module>] [13] : parsing frame 137/179.0\n",
      "[2021-03-12 14:46:50,134] [INFO] [<module>] [13] : parsing frame 138/179.0\n",
      "[2021-03-12 14:46:50,547] [INFO] [<module>] [13] : parsing frame 139/179.0\n",
      "[2021-03-12 14:46:50,968] [INFO] [<module>] [13] : parsing frame 140/179.0\n",
      "[2021-03-12 14:46:51,385] [INFO] [<module>] [13] : parsing frame 141/179.0\n",
      "[2021-03-12 14:46:51,796] [INFO] [<module>] [13] : parsing frame 142/179.0\n",
      "[2021-03-12 14:46:52,201] [INFO] [<module>] [13] : parsing frame 143/179.0\n",
      "[2021-03-12 14:46:52,612] [INFO] [<module>] [13] : parsing frame 144/179.0\n",
      "[2021-03-12 14:46:53,024] [INFO] [<module>] [13] : parsing frame 145/179.0\n",
      "[2021-03-12 14:46:53,443] [INFO] [<module>] [13] : parsing frame 146/179.0\n",
      "[2021-03-12 14:46:53,850] [INFO] [<module>] [13] : parsing frame 147/179.0\n",
      "[2021-03-12 14:46:54,257] [INFO] [<module>] [13] : parsing frame 148/179.0\n",
      "[2021-03-12 14:46:54,661] [INFO] [<module>] [13] : parsing frame 149/179.0\n",
      "[2021-03-12 14:46:55,065] [INFO] [<module>] [13] : parsing frame 150/179.0\n",
      "[2021-03-12 14:46:55,471] [INFO] [<module>] [13] : parsing frame 151/179.0\n",
      "[2021-03-12 14:46:55,894] [INFO] [<module>] [13] : parsing frame 152/179.0\n",
      "[2021-03-12 14:46:56,307] [INFO] [<module>] [13] : parsing frame 153/179.0\n",
      "[2021-03-12 14:46:56,728] [INFO] [<module>] [13] : parsing frame 154/179.0\n",
      "[2021-03-12 14:46:57,141] [INFO] [<module>] [13] : parsing frame 155/179.0\n",
      "[2021-03-12 14:46:57,554] [INFO] [<module>] [13] : parsing frame 156/179.0\n",
      "[2021-03-12 14:46:57,962] [INFO] [<module>] [13] : parsing frame 157/179.0\n",
      "[2021-03-12 14:46:58,382] [INFO] [<module>] [13] : parsing frame 158/179.0\n",
      "[2021-03-12 14:46:58,812] [INFO] [<module>] [13] : parsing frame 159/179.0\n",
      "[2021-03-12 14:46:59,245] [INFO] [<module>] [13] : parsing frame 160/179.0\n",
      "[2021-03-12 14:46:59,676] [INFO] [<module>] [13] : parsing frame 161/179.0\n",
      "[2021-03-12 14:47:00,101] [INFO] [<module>] [13] : parsing frame 162/179.0\n",
      "[2021-03-12 14:47:00,558] [INFO] [<module>] [13] : parsing frame 163/179.0\n",
      "[2021-03-12 14:47:01,066] [INFO] [<module>] [13] : parsing frame 164/179.0\n",
      "[2021-03-12 14:47:01,505] [INFO] [<module>] [13] : parsing frame 165/179.0\n",
      "[2021-03-12 14:47:02,066] [INFO] [<module>] [13] : parsing frame 166/179.0\n",
      "[2021-03-12 14:47:02,511] [INFO] [<module>] [13] : parsing frame 167/179.0\n",
      "[2021-03-12 14:47:02,950] [INFO] [<module>] [13] : parsing frame 168/179.0\n",
      "[2021-03-12 14:47:03,375] [INFO] [<module>] [13] : parsing frame 169/179.0\n",
      "[2021-03-12 14:47:03,809] [INFO] [<module>] [13] : parsing frame 170/179.0\n",
      "[2021-03-12 14:47:04,227] [INFO] [<module>] [13] : parsing frame 171/179.0\n",
      "[2021-03-12 14:47:04,644] [INFO] [<module>] [13] : parsing frame 172/179.0\n",
      "[2021-03-12 14:47:05,053] [INFO] [<module>] [13] : parsing frame 173/179.0\n",
      "[2021-03-12 14:47:05,469] [INFO] [<module>] [13] : parsing frame 174/179.0\n",
      "[2021-03-12 14:47:05,868] [INFO] [<module>] [13] : parsing frame 175/179.0\n",
      "[2021-03-12 14:47:06,267] [INFO] [<module>] [13] : parsing frame 176/179.0\n",
      "[2021-03-12 14:47:06,680] [INFO] [<module>] [13] : parsing frame 177/179.0\n",
      "[2021-03-12 14:47:07,088] [INFO] [<module>] [13] : parsing frame 178/179.0\n",
      "[2021-03-12 14:47:07,497] [INFO] [plot_result] [2] : Plotting results ...All 3 channels\n"
     ]
    },
    {
     "data": {
      "image/png": "[encoded data removed]",
      "text/plain": [
       "<Figure size 432x360 with 3 Axes>"
      ]
     },
     "metadata": {
      "needs_background": "light"
     },
     "output_type": "display_data"
    },
    {
     "name": "stderr",
     "output_type": "stream",
     "text": [
      "[2021-03-12 14:47:07,772] [INFO] [plot_result] [19] : Showing result\n",
      "[2021-03-12 14:47:07,779] [INFO] [plot_result] [2] : Plotting results ...After Filter\n"
     ]
    },
    {
     "data": {
      "image/png": "[encoded data removed]",
      "text/plain": [
       "<Figure size 432x360 with 3 Axes>"
      ]
     },
     "metadata": {
      "needs_background": "light"
     },
     "output_type": "display_data"
    },
    {
     "name": "stderr",
     "output_type": "stream",
     "text": [
      "[2021-03-12 14:47:08,040] [INFO] [plot_result] [19] : Showing result\n"
     ]
    },
    {
     "ename": "NameError",
     "evalue": "name 'signal' is not defined",
     "output_type": "error",
     "traceback": [
      "\u001b[0;31m---------------------------------------------------------------------------\u001b[0m",
      "\u001b[0;31mNameError\u001b[0m                                 Traceback (most recent call last)",
      "\u001b[0;32m<ipython-input-37-e43683ca6adc>\u001b[0m in \u001b[0;36m<module>\u001b[0;34m\u001b[0m\n\u001b[1;32m     31\u001b[0m \u001b[0;34m\u001b[0m\u001b[0m\n\u001b[1;32m     32\u001b[0m \u001b[0;34m\u001b[0m\u001b[0m\n\u001b[0;32m---> 33\u001b[0;31m \u001b[0mf\u001b[0m\u001b[0;34m,\u001b[0m \u001b[0mPxx_den\u001b[0m \u001b[0;34m=\u001b[0m \u001b[0msignal\u001b[0m\u001b[0;34m.\u001b[0m\u001b[0mwelch\u001b[0m\u001b[0;34m(\u001b[0m\u001b[0mgreen_butterd\u001b[0m\u001b[0;34m,\u001b[0m \u001b[0mfs\u001b[0m\u001b[0;34m)\u001b[0m\u001b[0;34m\u001b[0m\u001b[0;34m\u001b[0m\u001b[0m\n\u001b[0m\u001b[1;32m     34\u001b[0m \u001b[0mplt\u001b[0m\u001b[0;34m.\u001b[0m\u001b[0msemilogy\u001b[0m\u001b[0;34m(\u001b[0m\u001b[0mf\u001b[0m\u001b[0;34m,\u001b[0m \u001b[0mPxx_den\u001b[0m\u001b[0;34m)\u001b[0m\u001b[0;34m\u001b[0m\u001b[0;34m\u001b[0m\u001b[0m\n\u001b[1;32m     35\u001b[0m \u001b[0mplt\u001b[0m\u001b[0;34m.\u001b[0m\u001b[0mylim\u001b[0m\u001b[0;34m(\u001b[0m\u001b[0;34m[\u001b[0m\u001b[0;36m0.5e-3\u001b[0m\u001b[0;34m,\u001b[0m \u001b[0;36m1\u001b[0m\u001b[0;34m]\u001b[0m\u001b[0;34m)\u001b[0m\u001b[0;34m\u001b[0m\u001b[0;34m\u001b[0m\u001b[0m\n",
      "\u001b[0;31mNameError\u001b[0m: name 'signal' is not defined"
     ]
    }
   ],
   "source": [
    "\n",
    "\n",
    "logging.info(\"Working on video \" + video_location)\n",
    "vidcap = cv2.VideoCapture(video_location)\n",
    "success, image = vidcap.read()\n",
    "fps = vidcap.get(cv2.CAP_PROP_FPS)\n",
    "number_of_frames = vidcap.get(cv2.CAP_PROP_FRAME_COUNT)\n",
    "x_value = np.arange((number_of_frames / np.round(fps)), step=(1 / 30))\n",
    "greens = np.zeros((1, int(number_of_frames)))  # instead of lists\n",
    "reds = np.zeros((1, int(number_of_frames)))\n",
    "blues = np.zeros((1, int(number_of_frames)))\n",
    "frame_number = 0\n",
    "logging.info(\"Parsing images ...\")\n",
    "while success:\n",
    "    logging.info(\"parsing frame \" + str(frame_number) + \"/\" + str(number_of_frames))\n",
    "    im = Image.fromarray(image)\n",
    "    im.save(\"your_file.jpeg\")\n",
    "    parse_roi(\"your_file.jpeg\")  # build image ROI\n",
    "    image = cv2.imread(\"frame_roi_output.jpg\") # possible BUG: read the same image twice if face not detected.\n",
    "    is_good_frame = parse_RGB(image, greens, reds, blues, frame_number)\n",
    "    success, image = get_new_frame(vidcap)\n",
    "    if is_good_frame:\n",
    "        frame_number += 1\n",
    "plot_result(greens, reds, blues, x_value, \"All 3 channels\") # original signals\n",
    "\n",
    "\n",
    "green_butterd = filter_channel(greens,fps)\n",
    "red_butterd = filter_channel(reds,fps)\n",
    "blue_butterd = filter_channel(blues,fps)\n",
    "\n",
    "\n",
    "plot_result(green_butterd, red_butterd, blue_butterd, x_value, \"After Filter\") # original signals\n",
    "\n",
    "\n"
   ]
  },
  {
   "cell_type": "markdown",
   "metadata": {},
   "source": [
    "### PSD estimation using 'Welch' or 'Periodogram'"
   ]
  },
  {
   "cell_type": "code",
   "execution_count": 67,
   "metadata": {
    "scrolled": true
   },
   "outputs": [
    {
     "name": "stderr",
     "output_type": "stream",
     "text": [
      "/Library/Frameworks/Python.framework/Versions/3.8/lib/python3.8/site-packages/scipy/signal/spectral.py:1961: UserWarning: nperseg = 1024 is greater than input length  = 179, using nperseg = 179\n",
      "  warnings.warn('nperseg = {0:d} is greater than input length '\n"
     ]
    },
    {
     "data": {
      "image/png": "[encoded data removed]",
      "text/plain": [
       "<Figure size 432x288 with 1 Axes>"
      ]
     },
     "metadata": {
      "needs_background": "light"
     },
     "output_type": "display_data"
    },
    {
     "name": "stdout",
     "output_type": "stream",
     "text": [
      "0.16759776536312848\n"
     ]
    },
    {
     "data": {
      "image/png": "[encoded data removed]",
      "text/plain": [
       "<Figure size 432x288 with 1 Axes>"
      ]
     },
     "metadata": {
      "needs_background": "light"
     },
     "output_type": "display_data"
    }
   ],
   "source": [
    "f, Pxx_den = sig.welch(green_butterd.tolist()[0], fps,'flattop', 1024, scaling='spectrum')\n",
    "plt.semilogy(f, Pxx_den)\n",
    "plt.ylim([1e-7, 1e2])\n",
    "plt.xlabel('frequency [Hz]')\n",
    "plt.ylabel('PSD [V**2/Hz]')\n",
    "plt.show()\n",
    "\n",
    "f, Pxx_den = sig.periodogram(green_butterd.tolist()[0], fps)\n",
    "plt.semilogy(f, Pxx_den)\n",
    "plt.ylim([1e-7, 1e2])\n",
    "plt.xlabel('frequency [Hz]')\n",
    "plt.ylabel('PSD [V**2/Hz]')\n",
    "plt.show()"
   ]
  }
 ],
 "metadata": {
  "kernelspec": {
   "display_name": "Python 3",
   "language": "python",
   "name": "python3"
  },
  "language_info": {
   "codemirror_mode": {
    "name": "ipython",
    "version": 3
   },
   "file_extension": ".py",
   "mimetype": "text/x-python",
   "name": "python",
   "nbconvert_exporter": "python",
   "pygments_lexer": "ipython3",
   "version": "3.8.5"
  },
  "pycharm": {
   "stem_cell": {
    "cell_type": "raw",
    "metadata": {
     "collapsed": false
    },
    "source": []
   }
  }
 },
 "nbformat": 4,
 "nbformat_minor": 1
}
