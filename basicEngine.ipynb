{
 "cells": [
  {
   "cell_type": "markdown",
   "metadata": {
    "collapsed": true,
    "pycharm": {
     "name": "#%% md\n"
    }
   },
   "source": [
    "# Basic engine implementation"
   ]
  },
  {
   "cell_type": "markdown",
   "metadata": {},
   "source": [
    "#### setup"
   ]
  },
  {
   "cell_type": "code",
   "execution_count": 86,
   "metadata": {
    "pycharm": {
     "name": "#%%\n"
    }
   },
   "outputs": [
    {
     "name": "stderr",
     "output_type": "stream",
     "text": [
      "[2021-03-17 17:07:18,566] [INFO] [<module>] [14] : Starting ...\n"
     ]
    }
   ],
   "source": [
    "import face_recognition, PIL.Image, PIL.ImageDraw,math\n",
    "import numpy as np\n",
    "import logging\n",
    "import cv2\n",
    "import platform\n",
    "from matplotlib import pyplot as plt\n",
    "from PIL import Image\n",
    "import scipy.signal as sig\n",
    "\n",
    "FORMAT = '[%(asctime)s] [%(levelname)s] [%(funcName)s] [%(lineno)d] : %(message)s'\n",
    "logging.basicConfig(format=FORMAT, level=logging.INFO)\n",
    "\n",
    "logging.info(\"Starting ...\")\n",
    "if platform.system() == \"Windows\":\n",
    "    seperator = \"\\\\\"\n",
    "else:\n",
    "    seperator = \"/\"\n",
    "\n",
    "dir = \"perry-all-2\"\n",
    "# should be a parameter of the engine\n",
    "dataset_location = \"..\" + seperator + \"dataset\" + seperator + \"good_sync\" + seperator\n",
    "specific_dir = dir\n",
    "video_location = dataset_location + specific_dir + seperator + \"test3.mp4\"\n"
   ]
  },
  {
   "cell_type": "markdown",
   "metadata": {},
   "source": [
    "#### Detecting the face landmarks and parsing the ROI"
   ]
  },
  {
   "cell_type": "code",
   "execution_count": 87,
   "metadata": {
    "pycharm": {
     "name": "#%%\n"
    }
   },
   "outputs": [],
   "source": [
    "def parse_roi(frame):\n",
    "    # image = face_recognition.load_image_file(frame) # read image.\n",
    "    face_locations = face_recognition.face_locations(frame,model = 'hog') # detects all the faces in image\n",
    "    face_landmarks_list = face_recognition.face_landmarks(image)\n",
    "    \n",
    "    # iterate through all the faces.\n",
    "    for face_location in face_locations:\n",
    "#         img = PIL.Image.open(frame)\n",
    "        img = PIL.Image.fromarray(frame)\n",
    "        top,right,bottom,left = face_location # extract all face square points.\n",
    "        diff = math.floor((top - bottom) * 0.2) # 30 percent of the face len (toadd eyebrow top point).\n",
    "        # Finding the forehead.\n",
    "        right_eyebrow_landmarks = np.asarray(face_landmarks_list[0]['right_eyebrow']) # right eyebrow points.\n",
    "        right_eyebrow_landmarks.sort(axis=0)\n",
    "        rightest_point = right_eyebrow_landmarks[-1] # The most right point of the ROI(according to x).\n",
    "        top_right_eyebrow = right_eyebrow_landmarks.min(axis = 0)[1]\n",
    "        left_eyebrow_landmarks = np.asarray(face_landmarks_list[0]['left_eyebrow'])\n",
    "        left_eyebrow_landmarks.sort(axis=0)\n",
    "        leftest_point = left_eyebrow_landmarks[0] # the most left point of ROI.(according to x)\n",
    "        top_left_eyebrow = left_eyebrow_landmarks.min(axis = 0)[1]\n",
    "        bottom = min(top_right_eyebrow,top_left_eyebrow).item(0) # bottom point of the forehead.\n",
    "        bottom = bottom - (0.05 * bottom) # improve bottom location by 2 percent.\n",
    "        forehead = img.crop((leftest_point[0], leftest_point[1]+diff, rightest_point[0],bottom)) # adding diff to top to make the forehead bigger.\n",
    "\n",
    "        # Finding the second ROI:\n",
    "        upper_mouth = np.asarray(face_landmarks_list[0]['top_lip']) # top_lip landmarks\n",
    "        upper_mouth_min = upper_mouth.min(axis = 0)[1] # The  top - lip upper point.\n",
    "        upper_nose = np.asarray(face_landmarks_list[0]['nose_bridge'])\n",
    "        upper_nose_min = upper_nose.min(axis = 0)[1]  # noise bridge upper point.\n",
    "        upper_nose_min += upper_mouth_min * 0.1 # improving the noise bridge upper point.\n",
    "        nose_to_upper_lip = img.crop((leftest_point[0], upper_nose_min, rightest_point[0], upper_mouth_min))\n",
    "#         try:\n",
    "#             concat_roi_areas = np.concatenate((forehead, nose_to_upper_lip), axis=0)\n",
    "#             cv2.imwrite('frame_roi_output.jpg', concat_roi_areas)\n",
    "        return (forehead, nose_to_upper_lip)\n",
    "#         except:\n",
    "#             logging.warning(\"concat of roi areas failed\")\n",
    "#             return None\n",
    "    return None # in case of which no face was detected"
   ]
  },
  {
   "cell_type": "markdown",
   "source": [
    "### Check for bad frames\n",
    "##### R > 95 and G > 40 and B > 20 and R > G and R > B\n",
    "##### Based on https://arxiv.org/ftp/arxiv/papers/1708/1708.02694.pdf page 5"
   ],
   "metadata": {
    "collapsed": false
   }
  },
  {
   "cell_type": "code",
   "execution_count": 88,
   "metadata": {
    "pycharm": {
     "name": "#%%s\n"
    }
   },
   "outputs": [],
   "source": [
    "def bad_frame(blue, green, red):\n",
    "    if red > 95 and green > 40 and blue > 20 and red >green and red > blue:\n",
    "        return False\n",
    "    logging.warning(\"bad frame detected\")\n",
    "    return True"
   ]
  },
  {
   "cell_type": "markdown",
   "metadata": {},
   "source": [
    "#### Getting RGB values from a frame and adding them to arrays"
   ]
  },
  {
   "cell_type": "code",
   "execution_count": 89,
   "metadata": {
    "pycharm": {
     "name": "#%%s\n"
    }
   },
   "outputs": [],
   "source": [
    "def parse_RGB(image, greens, reds, blues, frame_number):\n",
    "    \"\"\"\n",
    "    Parses an image to its RGB channels\n",
    "    :param image: the image to be parsed\n",
    "    :param vidcap:\n",
    "    :param greens: array containing green channel values\n",
    "    :param blues: array containing blue channel values\n",
    "    :param reds: array containing red channel values\n",
    "    :param frame_number - is the number of the frame of the video.\n",
    "    :return: a flag indicating if there is a next image, and the next image\n",
    "    \"\"\"\n",
    "    im = cv2.cvtColor(image, cv2.COLOR_RGB2BGR) # inorder to use cv2.split() we need to address the image as BGR (instead of RGB)\n",
    "    blue, green, red = cv2.split(im)\n",
    "    b_mean,g_mean,r_mean = np.mean(blue),np.mean(green),np.mean(red)\n",
    "    if not bad_frame(b_mean,g_mean,r_mean):\n",
    "        blues = np.append(blues,b_mean)\n",
    "        greens = np.append(greens,g_mean)\n",
    "        reds = np.append(reds,r_mean)\n",
    "#     if not bad_frame(np.mean(blue), np.mean(green), np.mean(red)):\n",
    "#         greens[0, frame_number] = np.mean(green)\n",
    "#         blues[0, frame_number] = np.mean(blue)\n",
    "#         reds[0, frame_number] = np.mean(red)\n",
    "        return True,greens,reds,blues\n",
    "    return False,greens,reds,blues "
   ]
  },
  {
   "cell_type": "code",
   "execution_count": 90,
   "metadata": {
    "pycharm": {
     "name": "#%%s\n"
    }
   },
   "outputs": [],
   "source": [
    "def get_new_frame(vidcap):\n",
    "    success, image = vidcap.read()\n",
    "    return success, image"
   ]
  },
  {
   "cell_type": "markdown",
   "metadata": {},
   "source": [
    "#### Plotting RGB arrays results"
   ]
  },
  {
   "cell_type": "code",
   "execution_count": 91,
   "metadata": {
    "pycharm": {
     "name": "#%%\n"
    }
   },
   "outputs": [],
   "source": [
    "def plot_result(greens, reds, blues, x_value, title=\"\"):\n",
    "    logging.info(\"Plotting results ...\" + title)\n",
    "    plt.figure(figsize=(6, 5))\n",
    "    plt.title(title)\n",
    "    plt.xlabel(\"Time\")\n",
    "    plt.ylabel(\"Value\")\n",
    "    plt.subplot(3, 1, 1)\n",
    "    plt.plot(x_value, greens, color=\"green\")\n",
    "    plt.subplot(3, 1, 2)\n",
    "    plt.plot(x_value, reds, color=\"red\")\n",
    "    plt.subplot(3, 1, 3)\n",
    "    plt.plot(x_value, blues, color=\"blue\")\n",
    "    plt.show()\n",
    "    logging.info(\"Showing result\")"
   ]
  },
  {
   "cell_type": "markdown",
   "metadata": {},
   "source": [
    "#### Filtering:"
   ]
  },
  {
   "cell_type": "code",
   "execution_count": 92,
   "metadata": {},
   "outputs": [],
   "source": [
    "def filter_channel(channel,fs):\n",
    "    \"\"\"\n",
    "    This method apply filter on a channel between 0.75HZ to 4HZ.\n",
    "    :param channel: Is a signal to apply the filter to.\n",
    "    :param fs: Is the sampling rate of channel.\n",
    "    :return: The filtered channel.\n",
    "    \"\"\"\n",
    "    bh, ah = sig.butter(4, 0.75 / (fs / 2), 'highpass')\n",
    "    bl, al = sig.butter(4, 4 / (fs / 2), 'lowpass')\n",
    "    channel = sig.filtfilt(bh, ah, channel) # applying the filter coefficient on the sig\n",
    "    channel = np.absolute(channel)\n",
    "    channel_after_filter = sig.filtfilt(bl, al, channel) # applying the filter coefficient on the sig\n",
    "    return channel_after_filter"
   ]
  },
  {
   "cell_type": "markdown",
   "metadata": {},
   "source": [
    "#### Main loop - going over all the frames of the video"
   ]
  },
  {
   "cell_type": "code",
   "execution_count": 93,
   "metadata": {
    "pycharm": {
     "name": "#%%\n"
    }
   },
   "outputs": [],
   "source": [
    "from sklearn.decomposition import FastICA\n",
    "def getHeartRate(window, lastHR):\n",
    "    # Normalize across the window to have zero-mean and unit variance\n",
    "    mean = np.mean(window, axis=0)\n",
    "    std = np.std(window, axis=0)\n",
    "    normalized = (window - mean) / std\n",
    "    print(normalized)\n",
    "    # Separate into three source signals using ICA\n",
    "    ica = FastICA()\n",
    "    srcSig = ica.fit_transform(normalized)\n",
    "\n",
    "    # Find power spectrum\n",
    "    powerSpec = np.abs(np.fft.fft(srcSig, axis=0))**2\n",
    "    freqs = np.fft.fftfreq(window_size, 1.0 / round_fps)\n",
    "\n",
    "    # Find heart rate\n",
    "    maxPwrSrc = np.max(powerSpec, axis=1)\n",
    "    validIdx = np.where((freqs >= 0.75) & (freqs <= 4))\n",
    "    validPwr = maxPwrSrc[validIdx]\n",
    "    validFreqs = freqs[validIdx]\n",
    "    maxPwrIdx = np.argmax(validPwr)\n",
    "    hr = validFreqs[maxPwrIdx]\n",
    "    print(hr)\n",
    "\n",
    "    #plotSignals(normalized, \"Normalized color intensity\")\n",
    "    #plotSignals(srcSig, \"Source signal strength\")\n",
    "    #plotSpectrum(freqs, powerSpec)\n",
    "\n",
    "    return hr"
   ]
  },
  {
   "cell_type": "code",
   "execution_count": 94,
   "outputs": [
    {
     "name": "stderr",
     "output_type": "stream",
     "text": [
      "[2021-03-17 17:07:18,729] [INFO] [<module>] [3] : Working on video ..\\dataset\\good_sync\\perry-all-2\\test3.mp4\n",
      "[2021-03-17 17:07:18,783] [INFO] [<module>] [13] : Parsing images ...\n",
      "[2021-03-17 17:07:18,784] [INFO] [<module>] [15] : parsing frame 0/171.0\n",
      "[2021-03-17 17:07:20,010] [INFO] [<module>] [15] : parsing frame 1/171.0\n",
      "[2021-03-17 17:07:21,161] [INFO] [<module>] [15] : parsing frame 2/171.0\n",
      "[2021-03-17 17:07:22,321] [INFO] [<module>] [15] : parsing frame 3/171.0\n",
      "[2021-03-17 17:07:23,628] [INFO] [<module>] [15] : parsing frame 4/171.0\n",
      "[2021-03-17 17:07:24,757] [INFO] [<module>] [15] : parsing frame 5/171.0\n",
      "[2021-03-17 17:07:25,881] [INFO] [<module>] [15] : parsing frame 6/171.0\n",
      "[2021-03-17 17:07:27,010] [INFO] [<module>] [15] : parsing frame 7/171.0\n",
      "[2021-03-17 17:07:28,143] [INFO] [<module>] [15] : parsing frame 8/171.0\n",
      "[2021-03-17 17:07:29,284] [INFO] [<module>] [15] : parsing frame 9/171.0\n",
      "[2021-03-17 17:07:30,514] [INFO] [<module>] [15] : parsing frame 10/171.0\n",
      "[2021-03-17 17:07:31,739] [INFO] [<module>] [15] : parsing frame 11/171.0\n",
      "[2021-03-17 17:07:32,980] [INFO] [<module>] [15] : parsing frame 12/171.0\n",
      "[2021-03-17 17:07:34,260] [INFO] [<module>] [15] : parsing frame 13/171.0\n",
      "[2021-03-17 17:07:35,536] [INFO] [<module>] [15] : parsing frame 14/171.0\n",
      "[2021-03-17 17:07:36,843] [INFO] [<module>] [15] : parsing frame 15/171.0\n",
      "[2021-03-17 17:07:38,116] [INFO] [<module>] [15] : parsing frame 16/171.0\n",
      "[2021-03-17 17:07:39,361] [INFO] [<module>] [15] : parsing frame 17/171.0\n",
      "[2021-03-17 17:07:40,563] [INFO] [<module>] [15] : parsing frame 18/171.0\n",
      "[2021-03-17 17:07:41,780] [INFO] [<module>] [15] : parsing frame 19/171.0\n",
      "[2021-03-17 17:07:42,922] [INFO] [<module>] [15] : parsing frame 20/171.0\n",
      "[2021-03-17 17:07:44,043] [INFO] [<module>] [15] : parsing frame 21/171.0\n",
      "[2021-03-17 17:07:45,171] [INFO] [<module>] [15] : parsing frame 22/171.0\n",
      "[2021-03-17 17:07:46,292] [INFO] [<module>] [15] : parsing frame 23/171.0\n",
      "[2021-03-17 17:07:47,428] [INFO] [<module>] [15] : parsing frame 24/171.0\n",
      "[2021-03-17 17:07:48,547] [INFO] [<module>] [15] : parsing frame 25/171.0\n",
      "[2021-03-17 17:07:49,663] [INFO] [<module>] [15] : parsing frame 26/171.0\n",
      "[2021-03-17 17:07:50,775] [INFO] [<module>] [15] : parsing frame 27/171.0\n",
      "[2021-03-17 17:07:51,897] [INFO] [<module>] [15] : parsing frame 28/171.0\n",
      "[2021-03-17 17:07:53,018] [INFO] [<module>] [15] : parsing frame 29/171.0\n",
      "[2021-03-17 17:07:54,145] [INFO] [<module>] [15] : parsing frame 30/171.0\n",
      "[2021-03-17 17:07:55,352] [INFO] [<module>] [15] : parsing frame 31/171.0\n",
      "[2021-03-17 17:07:56,545] [INFO] [<module>] [15] : parsing frame 32/171.0\n",
      "[2021-03-17 17:07:57,775] [INFO] [<module>] [15] : parsing frame 33/171.0\n",
      "[2021-03-17 17:07:58,976] [INFO] [<module>] [15] : parsing frame 34/171.0\n",
      "[2021-03-17 17:08:00,255] [INFO] [<module>] [15] : parsing frame 35/171.0\n",
      "[2021-03-17 17:08:01,669] [INFO] [<module>] [15] : parsing frame 36/171.0\n",
      "[2021-03-17 17:08:02,909] [INFO] [<module>] [15] : parsing frame 37/171.0\n",
      "[2021-03-17 17:08:04,148] [INFO] [<module>] [15] : parsing frame 38/171.0\n",
      "[2021-03-17 17:08:05,399] [INFO] [<module>] [15] : parsing frame 39/171.0\n",
      "[2021-03-17 17:08:06,630] [INFO] [<module>] [15] : parsing frame 40/171.0\n",
      "[2021-03-17 17:08:07,875] [INFO] [<module>] [15] : parsing frame 41/171.0\n",
      "[2021-03-17 17:08:09,103] [INFO] [<module>] [15] : parsing frame 42/171.0\n",
      "[2021-03-17 17:08:10,310] [INFO] [<module>] [15] : parsing frame 43/171.0\n",
      "[2021-03-17 17:08:11,530] [INFO] [<module>] [15] : parsing frame 44/171.0\n",
      "[2021-03-17 17:08:12,752] [INFO] [<module>] [15] : parsing frame 45/171.0\n",
      "[2021-03-17 17:08:13,970] [INFO] [<module>] [15] : parsing frame 46/171.0\n",
      "[2021-03-17 17:08:15,127] [INFO] [<module>] [15] : parsing frame 47/171.0\n",
      "[2021-03-17 17:08:16,245] [INFO] [<module>] [15] : parsing frame 48/171.0\n",
      "[2021-03-17 17:08:17,375] [INFO] [<module>] [15] : parsing frame 49/171.0\n",
      "[2021-03-17 17:08:18,485] [INFO] [<module>] [15] : parsing frame 50/171.0\n",
      "[2021-03-17 17:08:19,615] [INFO] [<module>] [15] : parsing frame 51/171.0\n",
      "[2021-03-17 17:08:20,736] [INFO] [<module>] [15] : parsing frame 52/171.0\n",
      "[2021-03-17 17:08:21,849] [INFO] [<module>] [15] : parsing frame 53/171.0\n",
      "[2021-03-17 17:08:22,987] [INFO] [<module>] [15] : parsing frame 54/171.0\n",
      "[2021-03-17 17:08:24,110] [INFO] [<module>] [15] : parsing frame 55/171.0\n",
      "[2021-03-17 17:08:25,235] [INFO] [<module>] [15] : parsing frame 56/171.0\n",
      "[2021-03-17 17:08:26,356] [INFO] [<module>] [15] : parsing frame 57/171.0\n",
      "[2021-03-17 17:08:27,479] [INFO] [<module>] [15] : parsing frame 58/171.0\n",
      "[2021-03-17 17:08:28,598] [INFO] [<module>] [15] : parsing frame 59/171.0\n",
      "[2021-03-17 17:08:29,778] [INFO] [<module>] [15] : parsing frame 60/171.0\n",
      "[2021-03-17 17:08:31,007] [INFO] [<module>] [15] : parsing frame 61/171.0\n",
      "[2021-03-17 17:08:32,221] [INFO] [<module>] [15] : parsing frame 62/171.0\n",
      "[2021-03-17 17:08:33,456] [INFO] [<module>] [15] : parsing frame 63/171.0\n",
      "[2021-03-17 17:08:34,675] [INFO] [<module>] [15] : parsing frame 64/171.0\n",
      "[2021-03-17 17:08:35,901] [INFO] [<module>] [15] : parsing frame 65/171.0\n",
      "[2021-03-17 17:08:37,122] [INFO] [<module>] [15] : parsing frame 66/171.0\n",
      "[2021-03-17 17:08:38,404] [INFO] [<module>] [15] : parsing frame 67/171.0\n",
      "[2021-03-17 17:08:39,616] [INFO] [<module>] [15] : parsing frame 68/171.0\n",
      "[2021-03-17 17:08:40,775] [INFO] [<module>] [15] : parsing frame 69/171.0\n",
      "[2021-03-17 17:08:42,020] [INFO] [<module>] [15] : parsing frame 70/171.0\n",
      "[2021-03-17 17:08:43,214] [INFO] [<module>] [15] : parsing frame 71/171.0\n",
      "[2021-03-17 17:08:44,434] [INFO] [<module>] [15] : parsing frame 72/171.0\n",
      "[2021-03-17 17:08:45,620] [INFO] [<module>] [15] : parsing frame 73/171.0\n",
      "[2021-03-17 17:08:46,874] [INFO] [<module>] [15] : parsing frame 74/171.0\n",
      "[2021-03-17 17:08:48,126] [INFO] [<module>] [15] : parsing frame 75/171.0\n",
      "[2021-03-17 17:08:49,419] [INFO] [<module>] [15] : parsing frame 76/171.0\n",
      "[2021-03-17 17:08:50,678] [INFO] [<module>] [15] : parsing frame 77/171.0\n",
      "[2021-03-17 17:08:51,819] [INFO] [<module>] [15] : parsing frame 78/171.0\n",
      "[2021-03-17 17:08:53,097] [INFO] [<module>] [15] : parsing frame 79/171.0\n",
      "[2021-03-17 17:08:54,272] [INFO] [<module>] [15] : parsing frame 80/171.0\n",
      "[2021-03-17 17:08:55,470] [INFO] [<module>] [15] : parsing frame 81/171.0\n",
      "[2021-03-17 17:08:56,691] [INFO] [<module>] [15] : parsing frame 82/171.0\n",
      "[2021-03-17 17:08:57,889] [INFO] [<module>] [15] : parsing frame 83/171.0\n",
      "[2021-03-17 17:08:59,094] [INFO] [<module>] [15] : parsing frame 84/171.0\n",
      "[2021-03-17 17:09:00,334] [INFO] [<module>] [15] : parsing frame 85/171.0\n",
      "[2021-03-17 17:09:01,738] [INFO] [<module>] [15] : parsing frame 86/171.0\n",
      "[2021-03-17 17:09:03,047] [INFO] [<module>] [15] : parsing frame 87/171.0\n",
      "[2021-03-17 17:09:04,332] [INFO] [<module>] [15] : parsing frame 88/171.0\n",
      "[2021-03-17 17:09:05,561] [INFO] [<module>] [15] : parsing frame 89/171.0\n",
      "[2021-03-17 17:09:06,765] [INFO] [<module>] [15] : parsing frame 90/171.0\n",
      "[2021-03-17 17:09:07,995] [INFO] [<module>] [15] : parsing frame 91/171.0\n",
      "[2021-03-17 17:09:09,220] [INFO] [<module>] [15] : parsing frame 92/171.0\n",
      "[2021-03-17 17:09:10,464] [INFO] [<module>] [15] : parsing frame 93/171.0\n",
      "[2021-03-17 17:09:11,682] [INFO] [<module>] [15] : parsing frame 94/171.0\n",
      "[2021-03-17 17:09:12,894] [INFO] [<module>] [15] : parsing frame 95/171.0\n",
      "[2021-03-17 17:09:14,102] [INFO] [<module>] [15] : parsing frame 96/171.0\n",
      "[2021-03-17 17:09:15,232] [INFO] [<module>] [15] : parsing frame 97/171.0\n",
      "[2021-03-17 17:09:16,349] [INFO] [<module>] [15] : parsing frame 98/171.0\n",
      "[2021-03-17 17:09:17,467] [INFO] [<module>] [15] : parsing frame 99/171.0\n",
      "[2021-03-17 17:09:18,582] [INFO] [<module>] [15] : parsing frame 100/171.0\n",
      "[2021-03-17 17:09:19,709] [INFO] [<module>] [15] : parsing frame 101/171.0\n",
      "[2021-03-17 17:09:20,827] [INFO] [<module>] [15] : parsing frame 102/171.0\n",
      "[2021-03-17 17:09:21,948] [INFO] [<module>] [15] : parsing frame 103/171.0\n",
      "[2021-03-17 17:09:23,072] [INFO] [<module>] [15] : parsing frame 104/171.0\n",
      "[2021-03-17 17:09:24,191] [INFO] [<module>] [15] : parsing frame 105/171.0\n",
      "[2021-03-17 17:09:25,313] [INFO] [<module>] [15] : parsing frame 106/171.0\n",
      "[2021-03-17 17:09:26,423] [INFO] [<module>] [15] : parsing frame 107/171.0\n",
      "[2021-03-17 17:09:27,546] [INFO] [<module>] [15] : parsing frame 108/171.0\n",
      "[2021-03-17 17:09:28,670] [INFO] [<module>] [15] : parsing frame 109/171.0\n",
      "[2021-03-17 17:09:29,899] [INFO] [<module>] [15] : parsing frame 110/171.0\n",
      "[2021-03-17 17:09:31,095] [INFO] [<module>] [15] : parsing frame 111/171.0\n",
      "[2021-03-17 17:09:32,311] [INFO] [<module>] [15] : parsing frame 112/171.0\n",
      "[2021-03-17 17:09:33,535] [INFO] [<module>] [15] : parsing frame 113/171.0\n",
      "[2021-03-17 17:09:34,741] [INFO] [<module>] [15] : parsing frame 114/171.0\n",
      "[2021-03-17 17:09:35,971] [INFO] [<module>] [15] : parsing frame 115/171.0\n",
      "[2021-03-17 17:09:37,212] [INFO] [<module>] [15] : parsing frame 116/171.0\n",
      "[2021-03-17 17:09:38,430] [INFO] [<module>] [15] : parsing frame 117/171.0\n",
      "[2021-03-17 17:09:39,576] [INFO] [<module>] [15] : parsing frame 118/171.0\n",
      "[2021-03-17 17:09:40,698] [INFO] [<module>] [15] : parsing frame 119/171.0\n",
      "[2021-03-17 17:09:41,812] [INFO] [<module>] [15] : parsing frame 120/171.0\n",
      "[2021-03-17 17:09:42,938] [INFO] [<module>] [15] : parsing frame 121/171.0\n",
      "[2021-03-17 17:09:44,065] [INFO] [<module>] [15] : parsing frame 122/171.0\n",
      "[2021-03-17 17:09:45,188] [INFO] [<module>] [15] : parsing frame 123/171.0\n",
      "[2021-03-17 17:09:46,314] [INFO] [<module>] [15] : parsing frame 124/171.0\n",
      "[2021-03-17 17:09:47,429] [INFO] [<module>] [15] : parsing frame 125/171.0\n",
      "[2021-03-17 17:09:48,555] [INFO] [<module>] [15] : parsing frame 126/171.0\n",
      "[2021-03-17 17:09:49,675] [INFO] [<module>] [15] : parsing frame 127/171.0\n",
      "[2021-03-17 17:09:50,808] [INFO] [<module>] [15] : parsing frame 128/171.0\n",
      "[2021-03-17 17:09:51,930] [INFO] [<module>] [15] : parsing frame 129/171.0\n",
      "[2021-03-17 17:09:53,054] [INFO] [<module>] [15] : parsing frame 130/171.0\n",
      "[2021-03-17 17:09:54,296] [INFO] [<module>] [15] : parsing frame 131/171.0\n",
      "[2021-03-17 17:09:55,586] [INFO] [<module>] [15] : parsing frame 132/171.0\n",
      "[2021-03-17 17:09:56,834] [INFO] [<module>] [15] : parsing frame 133/171.0\n",
      "[2021-03-17 17:09:58,079] [INFO] [<module>] [15] : parsing frame 134/171.0\n",
      "[2021-03-17 17:09:59,341] [INFO] [<module>] [15] : parsing frame 135/171.0\n",
      "[2021-03-17 17:10:00,660] [INFO] [<module>] [15] : parsing frame 136/171.0\n",
      "[2021-03-17 17:10:02,092] [INFO] [<module>] [15] : parsing frame 137/171.0\n",
      "[2021-03-17 17:10:03,345] [INFO] [<module>] [15] : parsing frame 138/171.0\n",
      "[2021-03-17 17:10:04,492] [INFO] [<module>] [15] : parsing frame 139/171.0\n",
      "[2021-03-17 17:10:05,658] [INFO] [<module>] [15] : parsing frame 140/171.0\n",
      "[2021-03-17 17:10:06,815] [INFO] [<module>] [15] : parsing frame 141/171.0\n",
      "[2021-03-17 17:10:07,954] [INFO] [<module>] [15] : parsing frame 142/171.0\n",
      "[2021-03-17 17:10:09,100] [INFO] [<module>] [15] : parsing frame 143/171.0\n",
      "[2021-03-17 17:10:10,254] [INFO] [<module>] [15] : parsing frame 144/171.0\n",
      "[2021-03-17 17:10:11,434] [INFO] [<module>] [15] : parsing frame 145/171.0\n",
      "[2021-03-17 17:10:12,605] [INFO] [<module>] [15] : parsing frame 146/171.0\n",
      "[2021-03-17 17:10:13,792] [INFO] [<module>] [15] : parsing frame 147/171.0\n",
      "[2021-03-17 17:10:14,965] [INFO] [<module>] [15] : parsing frame 148/171.0\n",
      "[2021-03-17 17:10:16,123] [INFO] [<module>] [15] : parsing frame 149/171.0\n",
      "[2021-03-17 17:10:17,302] [INFO] [<module>] [15] : parsing frame 150/171.0\n",
      "[2021-03-17 17:10:18,504] [INFO] [<module>] [15] : parsing frame 151/171.0\n",
      "[2021-03-17 17:10:19,825] [INFO] [<module>] [15] : parsing frame 152/171.0\n",
      "[2021-03-17 17:10:21,063] [INFO] [<module>] [15] : parsing frame 153/171.0\n",
      "[2021-03-17 17:10:22,323] [INFO] [<module>] [15] : parsing frame 154/171.0\n",
      "[2021-03-17 17:10:23,578] [INFO] [<module>] [15] : parsing frame 155/171.0\n",
      "[2021-03-17 17:10:24,858] [INFO] [<module>] [15] : parsing frame 156/171.0\n",
      "[2021-03-17 17:10:26,126] [INFO] [<module>] [15] : parsing frame 157/171.0\n",
      "[2021-03-17 17:10:27,381] [INFO] [<module>] [15] : parsing frame 158/171.0\n",
      "[2021-03-17 17:10:28,573] [INFO] [<module>] [15] : parsing frame 159/171.0\n",
      "[2021-03-17 17:10:29,736] [INFO] [<module>] [15] : parsing frame 160/171.0\n",
      "[2021-03-17 17:10:30,868] [INFO] [<module>] [15] : parsing frame 161/171.0\n",
      "[2021-03-17 17:10:32,033] [INFO] [<module>] [15] : parsing frame 162/171.0\n",
      "[2021-03-17 17:10:33,181] [INFO] [<module>] [15] : parsing frame 163/171.0\n",
      "[2021-03-17 17:10:34,322] [INFO] [<module>] [15] : parsing frame 164/171.0\n",
      "[2021-03-17 17:10:35,468] [INFO] [<module>] [15] : parsing frame 165/171.0\n",
      "[2021-03-17 17:10:36,623] [INFO] [<module>] [15] : parsing frame 166/171.0\n",
      "[2021-03-17 17:10:37,785] [INFO] [<module>] [15] : parsing frame 167/171.0\n",
      "[2021-03-17 17:10:38,937] [INFO] [<module>] [15] : parsing frame 168/171.0\n",
      "[2021-03-17 17:10:40,072] [INFO] [<module>] [15] : parsing frame 169/171.0\n",
      "[2021-03-17 17:10:41,220] [INFO] [<module>] [15] : parsing frame 170/171.0\n",
      "[2021-03-17 17:10:42,370] [INFO] [plot_result] [3] : Plotting results ...All 3 channels\n"
     ]
    },
    {
     "ename": "ValueError",
     "evalue": "x and y must have same first dimension, but have shapes (171,) and (1, 171)",
     "output_type": "error",
     "traceback": [
      "\u001B[0;31m---------------------------------------------------------------------------\u001B[0m",
      "\u001B[0;31mValueError\u001B[0m                                Traceback (most recent call last)",
      "\u001B[0;32m<ipython-input-94-f7a87aac1f1c>\u001B[0m in \u001B[0;36m<module>\u001B[0;34m()\u001B[0m\n\u001B[1;32m     37\u001B[0m     \u001B[0mframe_number\u001B[0m \u001B[0;34m=\u001B[0m \u001B[0mgreens\u001B[0m\u001B[0;34m.\u001B[0m\u001B[0msize\u001B[0m\u001B[0;34m\u001B[0m\u001B[0;34m\u001B[0m\u001B[0m\n\u001B[1;32m     38\u001B[0m \u001B[0maxis\u001B[0m \u001B[0;34m=\u001B[0m \u001B[0mnp\u001B[0m\u001B[0;34m.\u001B[0m\u001B[0marange\u001B[0m\u001B[0;34m(\u001B[0m\u001B[0;34m(\u001B[0m\u001B[0mframe_number\u001B[0m \u001B[0;34m/\u001B[0m \u001B[0mround_fps\u001B[0m\u001B[0;34m)\u001B[0m\u001B[0;34m,\u001B[0m \u001B[0mstep\u001B[0m\u001B[0;34m=\u001B[0m\u001B[0;34m(\u001B[0m\u001B[0;36m1\u001B[0m \u001B[0;34m/\u001B[0m \u001B[0;36m30\u001B[0m\u001B[0;34m)\u001B[0m\u001B[0;34m)\u001B[0m \u001B[0;31m# axis is Time\u001B[0m\u001B[0;34m\u001B[0m\u001B[0;34m\u001B[0m\u001B[0m\n\u001B[0;32m---> 39\u001B[0;31m \u001B[0mplot_result\u001B[0m\u001B[0;34m(\u001B[0m\u001B[0mgreens\u001B[0m\u001B[0;34m,\u001B[0m \u001B[0mreds\u001B[0m\u001B[0;34m,\u001B[0m \u001B[0mblues\u001B[0m\u001B[0;34m,\u001B[0m \u001B[0maxis\u001B[0m\u001B[0;34m,\u001B[0m \u001B[0;34m\"All 3 channels\"\u001B[0m\u001B[0;34m)\u001B[0m \u001B[0;31m# original signals\u001B[0m\u001B[0;34m\u001B[0m\u001B[0;34m\u001B[0m\u001B[0m\n\u001B[0m\u001B[1;32m     40\u001B[0m \u001B[0;31m# apply filtering on all the channels:\u001B[0m\u001B[0;34m\u001B[0m\u001B[0;34m\u001B[0m\u001B[0;34m\u001B[0m\u001B[0m\n\u001B[1;32m     41\u001B[0m \u001B[0mgreen_buttered\u001B[0m \u001B[0;34m=\u001B[0m \u001B[0mfilter_channel\u001B[0m\u001B[0;34m(\u001B[0m\u001B[0mgreens\u001B[0m\u001B[0;34m,\u001B[0m\u001B[0mround_fps\u001B[0m\u001B[0;34m)\u001B[0m\u001B[0;34m\u001B[0m\u001B[0;34m\u001B[0m\u001B[0m\n",
      "\u001B[0;32m<ipython-input-91-7af221a0d487>\u001B[0m in \u001B[0;36mplot_result\u001B[0;34m(greens, reds, blues, x_value, title)\u001B[0m\n\u001B[1;32m      7\u001B[0m     \u001B[0mplt\u001B[0m\u001B[0;34m.\u001B[0m\u001B[0mylabel\u001B[0m\u001B[0;34m(\u001B[0m\u001B[0;34m\"Value\"\u001B[0m\u001B[0;34m)\u001B[0m\u001B[0;34m\u001B[0m\u001B[0;34m\u001B[0m\u001B[0m\n\u001B[1;32m      8\u001B[0m     \u001B[0mplt\u001B[0m\u001B[0;34m.\u001B[0m\u001B[0msubplot\u001B[0m\u001B[0;34m(\u001B[0m\u001B[0;36m3\u001B[0m\u001B[0;34m,\u001B[0m \u001B[0;36m1\u001B[0m\u001B[0;34m,\u001B[0m \u001B[0;36m1\u001B[0m\u001B[0;34m)\u001B[0m\u001B[0;34m\u001B[0m\u001B[0;34m\u001B[0m\u001B[0m\n\u001B[0;32m----> 9\u001B[0;31m     \u001B[0mplt\u001B[0m\u001B[0;34m.\u001B[0m\u001B[0mplot\u001B[0m\u001B[0;34m(\u001B[0m\u001B[0mx_value\u001B[0m\u001B[0;34m,\u001B[0m \u001B[0mgreens\u001B[0m\u001B[0;34m,\u001B[0m \u001B[0mcolor\u001B[0m\u001B[0;34m=\u001B[0m\u001B[0;34m\"green\"\u001B[0m\u001B[0;34m)\u001B[0m\u001B[0;34m\u001B[0m\u001B[0;34m\u001B[0m\u001B[0m\n\u001B[0m\u001B[1;32m     10\u001B[0m     \u001B[0mplt\u001B[0m\u001B[0;34m.\u001B[0m\u001B[0msubplot\u001B[0m\u001B[0;34m(\u001B[0m\u001B[0;36m3\u001B[0m\u001B[0;34m,\u001B[0m \u001B[0;36m1\u001B[0m\u001B[0;34m,\u001B[0m \u001B[0;36m2\u001B[0m\u001B[0;34m)\u001B[0m\u001B[0;34m\u001B[0m\u001B[0;34m\u001B[0m\u001B[0m\n\u001B[1;32m     11\u001B[0m     \u001B[0mplt\u001B[0m\u001B[0;34m.\u001B[0m\u001B[0mplot\u001B[0m\u001B[0;34m(\u001B[0m\u001B[0mx_value\u001B[0m\u001B[0;34m,\u001B[0m \u001B[0mreds\u001B[0m\u001B[0;34m,\u001B[0m \u001B[0mcolor\u001B[0m\u001B[0;34m=\u001B[0m\u001B[0;34m\"red\"\u001B[0m\u001B[0;34m)\u001B[0m\u001B[0;34m\u001B[0m\u001B[0;34m\u001B[0m\u001B[0m\n",
      "\u001B[0;32md:\\studies\\bar_ilan\\year 3\\final_project\\koios\\venv\\lib\\site-packages\\matplotlib\\pyplot.py\u001B[0m in \u001B[0;36mplot\u001B[0;34m(scalex, scaley, data, *args, **kwargs)\u001B[0m\n\u001B[1;32m   2840\u001B[0m     return gca().plot(\n\u001B[1;32m   2841\u001B[0m         \u001B[0;34m*\u001B[0m\u001B[0margs\u001B[0m\u001B[0;34m,\u001B[0m \u001B[0mscalex\u001B[0m\u001B[0;34m=\u001B[0m\u001B[0mscalex\u001B[0m\u001B[0;34m,\u001B[0m \u001B[0mscaley\u001B[0m\u001B[0;34m=\u001B[0m\u001B[0mscaley\u001B[0m\u001B[0;34m,\u001B[0m\u001B[0;34m\u001B[0m\u001B[0;34m\u001B[0m\u001B[0m\n\u001B[0;32m-> 2842\u001B[0;31m         **({\"data\": data} if data is not None else {}), **kwargs)\n\u001B[0m\u001B[1;32m   2843\u001B[0m \u001B[0;34m\u001B[0m\u001B[0m\n\u001B[1;32m   2844\u001B[0m \u001B[0;34m\u001B[0m\u001B[0m\n",
      "\u001B[0;32md:\\studies\\bar_ilan\\year 3\\final_project\\koios\\venv\\lib\\site-packages\\matplotlib\\axes\\_axes.py\u001B[0m in \u001B[0;36mplot\u001B[0;34m(self, scalex, scaley, data, *args, **kwargs)\u001B[0m\n\u001B[1;32m   1741\u001B[0m         \"\"\"\n\u001B[1;32m   1742\u001B[0m         \u001B[0mkwargs\u001B[0m \u001B[0;34m=\u001B[0m \u001B[0mcbook\u001B[0m\u001B[0;34m.\u001B[0m\u001B[0mnormalize_kwargs\u001B[0m\u001B[0;34m(\u001B[0m\u001B[0mkwargs\u001B[0m\u001B[0;34m,\u001B[0m \u001B[0mmlines\u001B[0m\u001B[0;34m.\u001B[0m\u001B[0mLine2D\u001B[0m\u001B[0;34m)\u001B[0m\u001B[0;34m\u001B[0m\u001B[0;34m\u001B[0m\u001B[0m\n\u001B[0;32m-> 1743\u001B[0;31m         \u001B[0mlines\u001B[0m \u001B[0;34m=\u001B[0m \u001B[0;34m[\u001B[0m\u001B[0;34m*\u001B[0m\u001B[0mself\u001B[0m\u001B[0;34m.\u001B[0m\u001B[0m_get_lines\u001B[0m\u001B[0;34m(\u001B[0m\u001B[0;34m*\u001B[0m\u001B[0margs\u001B[0m\u001B[0;34m,\u001B[0m \u001B[0mdata\u001B[0m\u001B[0;34m=\u001B[0m\u001B[0mdata\u001B[0m\u001B[0;34m,\u001B[0m \u001B[0;34m**\u001B[0m\u001B[0mkwargs\u001B[0m\u001B[0;34m)\u001B[0m\u001B[0;34m]\u001B[0m\u001B[0;34m\u001B[0m\u001B[0;34m\u001B[0m\u001B[0m\n\u001B[0m\u001B[1;32m   1744\u001B[0m         \u001B[0;32mfor\u001B[0m \u001B[0mline\u001B[0m \u001B[0;32min\u001B[0m \u001B[0mlines\u001B[0m\u001B[0;34m:\u001B[0m\u001B[0;34m\u001B[0m\u001B[0;34m\u001B[0m\u001B[0m\n\u001B[1;32m   1745\u001B[0m             \u001B[0mself\u001B[0m\u001B[0;34m.\u001B[0m\u001B[0madd_line\u001B[0m\u001B[0;34m(\u001B[0m\u001B[0mline\u001B[0m\u001B[0;34m)\u001B[0m\u001B[0;34m\u001B[0m\u001B[0;34m\u001B[0m\u001B[0m\n",
      "\u001B[0;32md:\\studies\\bar_ilan\\year 3\\final_project\\koios\\venv\\lib\\site-packages\\matplotlib\\axes\\_base.py\u001B[0m in \u001B[0;36m__call__\u001B[0;34m(self, data, *args, **kwargs)\u001B[0m\n\u001B[1;32m    271\u001B[0m                 \u001B[0mthis\u001B[0m \u001B[0;34m+=\u001B[0m \u001B[0margs\u001B[0m\u001B[0;34m[\u001B[0m\u001B[0;36m0\u001B[0m\u001B[0;34m]\u001B[0m\u001B[0;34m,\u001B[0m\u001B[0;34m\u001B[0m\u001B[0;34m\u001B[0m\u001B[0m\n\u001B[1;32m    272\u001B[0m                 \u001B[0margs\u001B[0m \u001B[0;34m=\u001B[0m \u001B[0margs\u001B[0m\u001B[0;34m[\u001B[0m\u001B[0;36m1\u001B[0m\u001B[0;34m:\u001B[0m\u001B[0;34m]\u001B[0m\u001B[0;34m\u001B[0m\u001B[0;34m\u001B[0m\u001B[0m\n\u001B[0;32m--> 273\u001B[0;31m             \u001B[0;32myield\u001B[0m \u001B[0;32mfrom\u001B[0m \u001B[0mself\u001B[0m\u001B[0;34m.\u001B[0m\u001B[0m_plot_args\u001B[0m\u001B[0;34m(\u001B[0m\u001B[0mthis\u001B[0m\u001B[0;34m,\u001B[0m \u001B[0mkwargs\u001B[0m\u001B[0;34m)\u001B[0m\u001B[0;34m\u001B[0m\u001B[0;34m\u001B[0m\u001B[0m\n\u001B[0m\u001B[1;32m    274\u001B[0m \u001B[0;34m\u001B[0m\u001B[0m\n\u001B[1;32m    275\u001B[0m     \u001B[0;32mdef\u001B[0m \u001B[0mget_next_color\u001B[0m\u001B[0;34m(\u001B[0m\u001B[0mself\u001B[0m\u001B[0;34m)\u001B[0m\u001B[0;34m:\u001B[0m\u001B[0;34m\u001B[0m\u001B[0;34m\u001B[0m\u001B[0m\n",
      "\u001B[0;32md:\\studies\\bar_ilan\\year 3\\final_project\\koios\\venv\\lib\\site-packages\\matplotlib\\axes\\_base.py\u001B[0m in \u001B[0;36m_plot_args\u001B[0;34m(self, tup, kwargs)\u001B[0m\n\u001B[1;32m    397\u001B[0m \u001B[0;34m\u001B[0m\u001B[0m\n\u001B[1;32m    398\u001B[0m         \u001B[0;32mif\u001B[0m \u001B[0mx\u001B[0m\u001B[0;34m.\u001B[0m\u001B[0mshape\u001B[0m\u001B[0;34m[\u001B[0m\u001B[0;36m0\u001B[0m\u001B[0;34m]\u001B[0m \u001B[0;34m!=\u001B[0m \u001B[0my\u001B[0m\u001B[0;34m.\u001B[0m\u001B[0mshape\u001B[0m\u001B[0;34m[\u001B[0m\u001B[0;36m0\u001B[0m\u001B[0;34m]\u001B[0m\u001B[0;34m:\u001B[0m\u001B[0;34m\u001B[0m\u001B[0;34m\u001B[0m\u001B[0m\n\u001B[0;32m--> 399\u001B[0;31m             raise ValueError(f\"x and y must have same first dimension, but \"\n\u001B[0m\u001B[1;32m    400\u001B[0m                              f\"have shapes {x.shape} and {y.shape}\")\n\u001B[1;32m    401\u001B[0m         \u001B[0;32mif\u001B[0m \u001B[0mx\u001B[0m\u001B[0;34m.\u001B[0m\u001B[0mndim\u001B[0m \u001B[0;34m>\u001B[0m \u001B[0;36m2\u001B[0m \u001B[0;32mor\u001B[0m \u001B[0my\u001B[0m\u001B[0;34m.\u001B[0m\u001B[0mndim\u001B[0m \u001B[0;34m>\u001B[0m \u001B[0;36m2\u001B[0m\u001B[0;34m:\u001B[0m\u001B[0;34m\u001B[0m\u001B[0;34m\u001B[0m\u001B[0m\n",
      "\u001B[0;31mValueError\u001B[0m: x and y must have same first dimension, but have shapes (171,) and (1, 171)"
     ]
    },
    {
     "data": {
      "text/plain": "<Figure size 432x360 with 1 Axes>",
      "image/png": "[encoded data removed]"
     },
     "metadata": {
      "needs_background": "light"
     },
     "output_type": "display_data"
    }
   ],
   "source": [
    "# Parsing video:\n",
    "logging.info(\"Working on video \" + video_location)\n",
    "vidcap = cv2.VideoCapture(video_location)\n",
    "success, image = vidcap.read()\n",
    "fps = vidcap.get(cv2.CAP_PROP_FPS) # fs == sampling rate\n",
    "round_fps = np.round(fps)\n",
    "number_of_frames = vidcap.get(cv2.CAP_PROP_FRAME_COUNT)\n",
    "window_size = 30\n",
    "greens,reds,blues = [],[],[]\n",
    "frame_number = 0\n",
    "heart_rates = []\n",
    "logging.info(\"Parsing images ...\")\n",
    "while success:\n",
    "    logging.info(\"parsing frame \" + str(frame_number) + \"/\" + str(number_of_frames))\n",
    "    # im.save(\"your_file.jpeg\")\n",
    "    rois = parse_roi(cv2.cvtColor(image, cv2.COLOR_BGR2RGB))  # build image ROI (rois is a tuple contains two regions)\n",
    "    if rois is not None : \n",
    "#     image = cv2.imread(\"frame_roi_output.jpg\") # possible BUG: read the same image twice if face not detected.(FIXED)\n",
    "        roi = np.vstack((rois[0],rois[1]))\n",
    "        is_good_frame,greens,reds,blues = parse_RGB(roi, greens, reds, blues, frame_number)\n",
    "    if is_good_frame:\n",
    "        frame_number += 1\n",
    "    success, image = get_new_frame(vidcap)\n",
    "\n",
    "greens = greens.reshape(-1, greens.shape[-1])\n",
    "size = 171\n",
    "while len(greens) > 30 :\n",
    "    window_start = size - window_size\n",
    "    size -= window_size\n",
    "    print(\"window_start: \" + str(window_start) + \" , size: \" + str(size))\n",
    "    window = greens[window_start : window_start + window_size]\n",
    "    last_hr = heart_rates[-1] if len(heart_rates) > 0 else None\n",
    "    heart_rates.append(getHeartRate(window, last_hr))\n",
    "\n",
    "if frame_number != greens.size: # TO BE REVIEW BY EYAL, POSSIBLE BUG FIX HERE!\n",
    "    frame_number = greens.size\n",
    "axis = np.arange((frame_number / round_fps), step=(1 / 30)) # axis is Time\n",
    "plot_result(greens, reds, blues, axis, \"All 3 channels\") # original signals\n",
    "# apply filtering on all the channels:\n",
    "green_buttered = filter_channel(greens,round_fps)\n",
    "red_buttered = filter_channel(reds,round_fps)\n",
    "blue_buttered = filter_channel(blues,round_fps)\n",
    "# plotting the channels after apllying the filter\n",
    "plot_result(green_buttered, red_buttered, blue_buttered, axis, \"After Filter\") # after filtering"
   ],
   "metadata": {
    "collapsed": false,
    "pycharm": {
     "name": "#%%\n"
    }
   }
  },
  {
   "cell_type": "markdown",
   "metadata": {},
   "source": [
    "### PSD estimation using 'Welch' or 'Periodogram'\n"
   ]
  },
  {
   "cell_type": "code",
   "execution_count": null,
   "outputs": [],
   "source": [
    "#flattop\n",
    "# Welch method:\n",
    "f, Pxx_den = sig.welch(green_buttered, round_fps,'hamming', 1024, scaling='spectrum')"
   ],
   "metadata": {
    "collapsed": false,
    "pycharm": {
     "name": "#%%\n"
    }
   }
  },
  {
   "cell_type": "markdown",
   "source": [
    "### Plot final results"
   ],
   "metadata": {
    "collapsed": false,
    "pycharm": {
     "name": "#%% md\n"
    }
   }
  },
  {
   "cell_type": "code",
   "execution_count": null,
   "outputs": [],
   "source": [
    "plt.semilogy(f, Pxx_den)\n",
    "plt.ylim([1e-7, 1e2])\n",
    "plt.xlabel('frequency [Hz]')\n",
    "plt.ylabel('PSD [V**2/Hz]')\n",
    "plt.show()\n",
    "# periodogram method:\n",
    "f, Pxx_den = sig.periodogram(green_buttered, round_fps)\n",
    "plt.semilogy(f, Pxx_den)\n",
    "plt.ylim([1e-7, 1e2])\n",
    "plt.xlabel('frequency [Hz]')\n",
    "plt.ylabel('PSD [V**2/Hz]')\n",
    "plt.show()"
   ],
   "metadata": {
    "collapsed": false,
    "pycharm": {
     "name": "#%%\n"
    }
   }
  }
 ],
 "metadata": {
  "kernelspec": {
   "display_name": "Python 3",
   "language": "python",
   "name": "python3"
  }
 },
 "nbformat": 4,
 "nbformat_minor": 1
}