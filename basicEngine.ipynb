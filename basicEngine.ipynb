{
 "cells": [
  {
   "cell_type": "markdown",
   "metadata": {
    "collapsed": true,
    "pycharm": {
     "name": "#%% md\n"
    }
   },
   "source": [
    "# Basic engine implementation"
   ]
  },
  {
   "cell_type": "markdown",
   "metadata": {},
   "source": [
    "#### setup"
   ]
  },
  {
   "cell_type": "code",
   "execution_count": 12,
   "metadata": {
    "pycharm": {
     "name": "#%%\n"
    },
    "scrolled": true
   },
   "outputs": [
    {
     "name": "stderr",
     "output_type": "stream",
     "text": [
      "[2021-04-17 10:20:40,867] [INFO] [<module>] [13] : Starting ...\n"
     ]
    }
   ],
   "source": [
    "import face_recognition, PIL.Image, PIL.ImageDraw,math\n",
    "import numpy as np\n",
    "import logging\n",
    "import cv2\n",
    "import platform\n",
    "from matplotlib import pyplot as plt\n",
    "from PIL import Image\n",
    "import scipy.signal as sig\n",
    "\n",
    "FORMAT = '[%(asctime)s] [%(levelname)s] [%(funcName)s] [%(lineno)d] : %(message)s'\n",
    "logging.basicConfig(format=FORMAT, level=logging.INFO)\n",
    "\n",
    "logging.info(\"Starting ...\")\n",
    "if platform.system() == \"Windows\":\n",
    "    seperator = \"\\\\\"\n",
    "else:\n",
    "    seperator = \"/\"\n",
    "\n",
    "dir = \"perry-all-2\"\n",
    "# should be a parameter of the engine\n",
    "dataset_location = \"..\" + seperator + \"dataset\" + seperator + \"good_sync\" + seperator\n",
    "specific_dir = dir\n",
    "video_location = dataset_location + specific_dir + seperator + \"test.mp4\"\n",
    "video_location = \"test2.mp4\""
   ]
  },
  {
   "cell_type": "markdown",
   "metadata": {},
   "source": [
    "## running evm pre-processing"
   ]
  },
  {
   "cell_type": "code",
   "execution_count": 13,
   "metadata": {
    "pycharm": {
     "name": "#%%\n"
    }
   },
   "outputs": [],
   "source": [
    "#%run ./evm_preprocessing.ipynb\n",
    "#video_location = dataset_location + specific_dir + seperator + \"out.avi\"\n",
    "#video_location=\"out2.avi\""
   ]
  },
  {
   "cell_type": "markdown",
   "metadata": {},
   "source": [
    "#### Detecting the face landmarks and parsing the ROI"
   ]
  },
  {
   "cell_type": "code",
   "execution_count": 14,
   "metadata": {
    "pycharm": {
     "name": "#%%\n"
    },
    "scrolled": true
   },
   "outputs": [],
   "source": [
    "def parse_roi(frame):\n",
    "    # image = face_recognition.load_image_file(frame) # read image.\n",
    "    face_locations = face_recognition.face_locations(frame,model = 'hog') # detects all the faces in image\n",
    "    face_landmarks_list = face_recognition.face_landmarks(image)\n",
    "    \n",
    "    # iterate through all the faces.\n",
    "    for face_location in face_locations:\n",
    "        img = PIL.Image.fromarray(frame)\n",
    "        top,right,bottom,left = face_location # extract all face square points.\n",
    "        diff = math.floor((top - bottom) * 0.15) # 20 percent of the face len (toadd eyebrow top point).\n",
    "        \n",
    "        # finding the forehead\n",
    "        try:\n",
    "            right_eyebrow_landmarks = np.asarray(face_landmarks_list[0]['right_eyebrow']) # right eyebrow points.\n",
    "        except:\n",
    "            return None\n",
    "        right_eyebrow_landmarks.sort(axis=0)\n",
    "        rightest_point = right_eyebrow_landmarks[-1] # The most right point of the ROI(according to x).\n",
    "        top_right_eyebrow = right_eyebrow_landmarks.min(axis = 0)[1]\n",
    "        try:\n",
    "            left_eyebrow_landmarks = np.asarray(face_landmarks_list[0]['left_eyebrow'])\n",
    "        except:\n",
    "            return None\n",
    "        left_eyebrow_landmarks.sort(axis=0)\n",
    "        leftest_point = left_eyebrow_landmarks[0] # the most left point of ROI.(according to x)\n",
    "        top_left_eyebrow = left_eyebrow_landmarks.min(axis = 0)[1]\n",
    "        bottom = min(top_right_eyebrow,top_left_eyebrow).item(0) # bottom point of the forehead.\n",
    "        bottom = bottom - (0.05 * bottom) # improve bottom location by 2 percent.\n",
    "        forehead = img.crop((leftest_point[0], leftest_point[1]+diff, rightest_point[0],bottom+10)) # adding diff to top to make the forehead bigger.\n",
    "\n",
    "        # finding the second ROI:\n",
    "        try:\n",
    "            upper_mouth = np.asarray(face_landmarks_list[0]['top_lip']) # top_lip landmarks\n",
    "        except:\n",
    "            return None\n",
    "        upper_mouth_min = upper_mouth.min(axis = 0)[1] # The  top - lip upper point.\n",
    "        try:\n",
    "            upper_nose = np.asarray(face_landmarks_list[0]['nose_bridge'])\n",
    "        except:\n",
    "            return None\n",
    "        upper_nose_min = upper_nose.min(axis = 0)[1]  # noise bridge upper point.\n",
    "        upper_nose_min += upper_mouth_min * 0.1 # improving the noise bridge upper point.\n",
    "        nose_to_upper_lip = img.crop((leftest_point[0], upper_nose_min, rightest_point[0], upper_mouth_min))\n",
    "\n",
    "        return forehead, nose_to_upper_lip\n",
    "    return None # in case of which no face was detected"
   ]
  },
  {
   "cell_type": "markdown",
   "metadata": {},
   "source": [
    "### Check for bad frames\n",
    "##### R > 95 and G > 40 and B > 20 and R > G and R > B\n",
    "##### Based on https://arxiv.org/ftp/arxiv/papers/1708/1708.02694.pdf page 5"
   ]
  },
  {
   "cell_type": "code",
   "execution_count": 15,
   "metadata": {
    "pycharm": {
     "name": "#%%s\n"
    },
    "scrolled": true
   },
   "outputs": [],
   "source": [
    "red_min_val = 95\n",
    "green_min_val = 40\n",
    "blue_min_val = 20\n",
    "red_green_max_diff = 15\n",
    "def good_frame(blue, green, red):\n",
    "    if red <= red_min_val:\n",
    "        logging.warning(\"bad frame detected, reason: red > red_min_val\")\n",
    "        return False\n",
    "    if green <= green_min_val:\n",
    "        logging.warning(\"bad frame detected, reason: green > green_min_val\")\n",
    "        return False\n",
    "    if blue <= blue_min_val:\n",
    "        logging.warning(\"bad frame detected, reason: blue > blue_min_val\")\n",
    "        return False\n",
    "    if red <= green:\n",
    "        logging.warning(\"bad frame detected, reason: red > green\")\n",
    "        return False\n",
    "    if red <= blue:\n",
    "        logging.warning(\"bad frame detected, reason: red > blue\")\n",
    "        return False\n",
    "    if abs(red - green) <= red_green_max_diff:\n",
    "        logging.warning(\"bad frame detected, reason: abs(red - green) > red_green_max_diff\")\n",
    "        return False\n",
    "\n",
    "    return True"
   ]
  },
  {
   "cell_type": "code",
   "execution_count": 16,
   "metadata": {
    "pycharm": {
     "name": "#%%\n"
    },
    "scrolled": true
   },
   "outputs": [],
   "source": [
    "def get_new_frame(vidcap):\n",
    "    success, next_image = vidcap.read()\n",
    "    return success, next_image"
   ]
  },
  {
   "cell_type": "markdown",
   "metadata": {},
   "source": [
    "#### Plotting RGB arrays results"
   ]
  },
  {
   "cell_type": "code",
   "execution_count": 17,
   "metadata": {
    "pycharm": {
     "name": "#%%\n"
    },
    "scrolled": true
   },
   "outputs": [],
   "source": [
    "def plot_result(greens, reds, blues, x_value, title=\"\"):\n",
    "    logging.info(\"Plotting results ...\" + title)\n",
    "    plt.figure(figsize=(6, 5))\n",
    "    plt.title(title)\n",
    "    plt.xlabel(\"Time\")\n",
    "    plt.ylabel(\"Value\")\n",
    "    plt.subplot(3, 1, 1)\n",
    "    plt.plot(x_value, greens, color=\"green\")\n",
    "    plt.subplot(3, 1, 2)\n",
    "    plt.plot(x_value, reds, color=\"red\")\n",
    "    plt.subplot(3, 1, 3)\n",
    "    plt.plot(x_value, blues, color=\"blue\")\n",
    "    plt.show()\n",
    "    logging.info(\"Showing result\")"
   ]
  },
  {
   "cell_type": "markdown",
   "metadata": {},
   "source": [
    "#### Filtering:"
   ]
  },
  {
   "cell_type": "code",
   "execution_count": 18,
   "metadata": {
    "scrolled": true
   },
   "outputs": [],
   "source": [
    "def filter_channel(channel,fs):\n",
    "    \"\"\"\n",
    "    This method apply filter on a channel between 0.75HZ to 4HZ.\n",
    "    :param channel: Is a signal to apply the filter to.\n",
    "    :param fs: Is the sampling rate of channel.\n",
    "    :return: The filtered channel.\n",
    "    \"\"\"\n",
    "    bh, ah = sig.butter(4, 0.75 / (fs / 2), 'highpass')\n",
    "    bl, al = sig.butter(4, 4 / (fs / 2), 'lowpass')\n",
    "    channel = sig.filtfilt(bh, ah, channel) # applying the filter coefficient on the sig\n",
    "    #channel = np.absolute(channel)\n",
    "    channel_after_filter = sig.filtfilt(bl, al, channel) # applying the filter coefficient on the sig\n",
    "    return channel_after_filter"
   ]
  },
  {
   "cell_type": "markdown",
   "metadata": {},
   "source": [
    "#### Getting RGB values from a frame and adding them to arrays"
   ]
  },
  {
   "cell_type": "code",
   "execution_count": 19,
   "metadata": {},
   "outputs": [],
   "source": [
    "def parse_luminace(red, green, blue):\n",
    "    luminance_level = 0.2126 * red + 0.7152 * green + 0.0722 * blue\n",
    "    return luminance_level\n",
    "def parse_RGB(roi, color_sig):\n",
    "    \"\"\"\n",
    "    Parses an image to its RGB channels\n",
    "    :param image: the image to be parsed\n",
    "    :param vidcap:\n",
    "    :param greens: array containing green channel values\n",
    "    :param blues: array containing blue channel values\n",
    "    :param reds: array containing red channel values\n",
    "    :param frame_number - is the number of the frame of the video.\n",
    "    :return: a flag indicating if there is a next image, and the next image\n",
    "    \"\"\"\n",
    "#     plt.imshow(roi)\n",
    "#     plt.show()\n",
    "    try:\n",
    "        roi = cv2.cvtColor(roi, cv2.COLOR_RGB2BGR)\n",
    "    except:\n",
    "        return False, color_sig\n",
    "    new_blue,new_green,new_red = cv2.split(roi)\n",
    "    b_mean,g_mean,r_mean = np.mean(new_blue),np.mean(new_green),np.mean(new_red)\n",
    "    luminance_level = parse_luminace(r_mean, g_mean, b_mean)\n",
    "    if good_frame(b_mean,g_mean,r_mean):\n",
    "        color_channels = roi.reshape(-1, roi.shape[-1])\n",
    "        avg_color = color_channels.mean(axis=0)\n",
    "        color_sig.append(avg_color)\n",
    "        return True, color_sig, luminance_level\n",
    "    return False, color_sig, luminance_level"
   ]
  },
  {
   "cell_type": "markdown",
   "metadata": {},
   "source": [
    "#### Main loop - going over all the frames of the video"
   ]
  },
  {
   "cell_type": "code",
   "execution_count": 20,
   "metadata": {
    "pycharm": {
     "name": "#%%\n"
    },
    "scrolled": true
   },
   "outputs": [
    {
     "name": "stderr",
     "output_type": "stream",
     "text": [
      "[2021-04-17 10:20:41,047] [INFO] [<module>] [7] : Working on video test2.mp4\n",
      "[2021-04-17 10:20:41,121] [INFO] [<module>] [13] : Parsing images ...\n",
      "[2021-04-17 10:20:41,122] [INFO] [<module>] [15] : parsing frame 0/239.0\n",
      "[2021-04-17 10:20:42,575] [INFO] [<module>] [22] : luminance level: 196.9642874504443\n",
      "[2021-04-17 10:20:42,578] [INFO] [<module>] [15] : parsing frame 1/239.0\n",
      "[2021-04-17 10:20:44,161] [INFO] [<module>] [22] : luminance level: 196.78115368421052\n",
      "[2021-04-17 10:20:44,165] [INFO] [<module>] [15] : parsing frame 2/239.0\n",
      "[2021-04-17 10:20:45,589] [INFO] [<module>] [22] : luminance level: 197.14221805785127\n",
      "[2021-04-17 10:20:45,596] [INFO] [<module>] [15] : parsing frame 3/239.0\n",
      "[2021-04-17 10:20:47,010] [INFO] [<module>] [22] : luminance level: 196.78018069719752\n",
      "[2021-04-17 10:20:47,015] [INFO] [<module>] [15] : parsing frame 4/239.0\n",
      "[2021-04-17 10:20:48,241] [INFO] [<module>] [22] : luminance level: 197.21907708261318\n",
      "[2021-04-17 10:20:48,244] [INFO] [<module>] [15] : parsing frame 5/239.0\n",
      "[2021-04-17 10:20:49,476] [INFO] [<module>] [22] : luminance level: 195.87315263299664\n",
      "[2021-04-17 10:20:49,479] [INFO] [<module>] [15] : parsing frame 6/239.0\n",
      "[2021-04-17 10:20:50,848] [INFO] [<module>] [22] : luminance level: 197.3588288251748\n",
      "[2021-04-17 10:20:50,853] [INFO] [<module>] [15] : parsing frame 7/239.0\n",
      "[2021-04-17 10:20:52,091] [INFO] [<module>] [22] : luminance level: 196.39774883214162\n",
      "[2021-04-17 10:20:52,095] [INFO] [<module>] [15] : parsing frame 8/239.0\n",
      "[2021-04-17 10:20:53,404] [INFO] [<module>] [22] : luminance level: 196.56502086838535\n",
      "[2021-04-17 10:20:53,410] [INFO] [<module>] [15] : parsing frame 9/239.0\n",
      "[2021-04-17 10:20:54,689] [INFO] [<module>] [22] : luminance level: 197.43325508104297\n",
      "[2021-04-17 10:20:54,694] [INFO] [<module>] [15] : parsing frame 10/239.0\n",
      "[2021-04-17 10:20:55,924] [INFO] [<module>] [22] : luminance level: 196.71008604195805\n",
      "[2021-04-17 10:20:55,927] [INFO] [<module>] [15] : parsing frame 11/239.0\n",
      "[2021-04-17 10:20:57,213] [INFO] [<module>] [22] : luminance level: 195.76010026936027\n",
      "[2021-04-17 10:20:57,218] [INFO] [<module>] [15] : parsing frame 12/239.0\n",
      "[2021-04-17 10:20:58,472] [INFO] [<module>] [22] : luminance level: 196.62868356723126\n",
      "[2021-04-17 10:20:58,474] [INFO] [<module>] [15] : parsing frame 13/239.0\n",
      "[2021-04-17 10:20:59,732] [INFO] [<module>] [22] : luminance level: 196.16536431478966\n",
      "[2021-04-17 10:20:59,734] [INFO] [<module>] [15] : parsing frame 14/239.0\n",
      "[2021-04-17 10:21:01,049] [INFO] [<module>] [22] : luminance level: 195.69532791680643\n",
      "[2021-04-17 10:21:01,052] [INFO] [<module>] [15] : parsing frame 15/239.0\n",
      "[2021-04-17 10:21:02,666] [INFO] [<module>] [22] : luminance level: 197.07343970853572\n",
      "[2021-04-17 10:21:02,670] [INFO] [<module>] [15] : parsing frame 16/239.0\n",
      "[2021-04-17 10:21:04,029] [INFO] [<module>] [22] : luminance level: 197.48131789992954\n",
      "[2021-04-17 10:21:04,032] [INFO] [<module>] [15] : parsing frame 17/239.0\n",
      "[2021-04-17 10:21:05,301] [INFO] [<module>] [22] : luminance level: 197.3189931173807\n",
      "[2021-04-17 10:21:05,303] [INFO] [<module>] [15] : parsing frame 18/239.0\n",
      "[2021-04-17 10:21:06,618] [INFO] [<module>] [22] : luminance level: 196.31316561736767\n",
      "[2021-04-17 10:21:06,622] [INFO] [<module>] [15] : parsing frame 19/239.0\n",
      "[2021-04-17 10:21:07,970] [INFO] [<module>] [22] : luminance level: 198.05399083806816\n",
      "[2021-04-17 10:21:07,974] [INFO] [<module>] [15] : parsing frame 20/239.0\n",
      "[2021-04-17 10:21:09,299] [INFO] [<module>] [22] : luminance level: 196.5787695199183\n",
      "[2021-04-17 10:21:09,302] [INFO] [<module>] [15] : parsing frame 21/239.0\n",
      "[2021-04-17 10:21:10,600] [INFO] [<module>] [22] : luminance level: 197.7050212544045\n",
      "[2021-04-17 10:21:10,607] [INFO] [<module>] [15] : parsing frame 22/239.0\n",
      "[2021-04-17 10:21:11,864] [INFO] [<module>] [22] : luminance level: 197.68590494910495\n",
      "[2021-04-17 10:21:11,870] [INFO] [<module>] [15] : parsing frame 23/239.0\n",
      "[2021-04-17 10:21:13,156] [INFO] [<module>] [22] : luminance level: 197.66679842751844\n",
      "[2021-04-17 10:21:13,162] [INFO] [<module>] [15] : parsing frame 24/239.0\n",
      "[2021-04-17 10:21:14,444] [INFO] [<module>] [22] : luminance level: 197.6157904934688\n",
      "[2021-04-17 10:21:14,448] [INFO] [<module>] [15] : parsing frame 25/239.0\n",
      "[2021-04-17 10:21:15,705] [INFO] [<module>] [22] : luminance level: 196.25714242122717\n",
      "[2021-04-17 10:21:15,712] [INFO] [<module>] [15] : parsing frame 26/239.0\n",
      "[2021-04-17 10:21:16,984] [INFO] [<module>] [22] : luminance level: 196.0424338999673\n",
      "[2021-04-17 10:21:16,994] [INFO] [<module>] [15] : parsing frame 27/239.0\n",
      "[2021-04-17 10:21:18,289] [INFO] [<module>] [22] : luminance level: 195.8201243776107\n",
      "[2021-04-17 10:21:18,295] [INFO] [<module>] [15] : parsing frame 28/239.0\n",
      "[2021-04-17 10:21:19,564] [INFO] [<module>] [22] : luminance level: 196.6750460156945\n",
      "[2021-04-17 10:21:19,574] [INFO] [<module>] [15] : parsing frame 29/239.0\n",
      "[2021-04-17 10:21:20,813] [INFO] [<module>] [22] : luminance level: 197.4522894466231\n",
      "[2021-04-17 10:21:20,817] [INFO] [<module>] [15] : parsing frame 30/239.0\n",
      "[2021-04-17 10:21:22,112] [INFO] [<module>] [22] : luminance level: 196.84771571906353\n",
      "[2021-04-17 10:21:22,116] [INFO] [<module>] [15] : parsing frame 31/239.0\n",
      "[2021-04-17 10:21:23,394] [INFO] [<module>] [22] : luminance level: 195.7286963205887\n",
      "[2021-04-17 10:21:23,398] [INFO] [<module>] [15] : parsing frame 32/239.0\n",
      "[2021-04-17 10:21:24,626] [INFO] [<module>] [22] : luminance level: 196.3545363175123\n",
      "[2021-04-17 10:21:24,631] [INFO] [<module>] [15] : parsing frame 33/239.0\n",
      "[2021-04-17 10:21:25,909] [INFO] [<module>] [22] : luminance level: 195.49421271778402\n",
      "[2021-04-17 10:21:25,914] [INFO] [<module>] [15] : parsing frame 34/239.0\n",
      "[2021-04-17 10:21:27,231] [INFO] [<module>] [22] : luminance level: 195.86123776966477\n",
      "[2021-04-17 10:21:27,235] [INFO] [<module>] [15] : parsing frame 35/239.0\n",
      "[2021-04-17 10:21:28,590] [INFO] [<module>] [22] : luminance level: 194.83557105430293\n",
      "[2021-04-17 10:21:28,599] [INFO] [<module>] [15] : parsing frame 36/239.0\n",
      "[2021-04-17 10:21:29,896] [INFO] [<module>] [22] : luminance level: 195.24453815280464\n",
      "[2021-04-17 10:21:29,899] [INFO] [<module>] [15] : parsing frame 37/239.0\n",
      "[2021-04-17 10:21:31,161] [INFO] [<module>] [22] : luminance level: 197.11135510890588\n",
      "[2021-04-17 10:21:31,164] [INFO] [<module>] [15] : parsing frame 38/239.0\n",
      "[2021-04-17 10:21:32,446] [INFO] [<module>] [22] : luminance level: 196.25452402618657\n",
      "[2021-04-17 10:21:32,450] [INFO] [<module>] [15] : parsing frame 39/239.0\n",
      "[2021-04-17 10:21:33,783] [INFO] [<module>] [22] : luminance level: 196.40505960732767\n",
      "[2021-04-17 10:21:33,786] [INFO] [<module>] [15] : parsing frame 40/239.0\n",
      "[2021-04-17 10:21:35,150] [INFO] [<module>] [22] : luminance level: 194.64274193394726\n",
      "[2021-04-17 10:21:35,153] [INFO] [<module>] [15] : parsing frame 41/239.0\n",
      "[2021-04-17 10:21:36,456] [INFO] [<module>] [22] : luminance level: 195.27896051384985\n",
      "[2021-04-17 10:21:36,459] [INFO] [<module>] [15] : parsing frame 42/239.0\n",
      "[2021-04-17 10:21:37,811] [INFO] [<module>] [22] : luminance level: 196.4653935034413\n",
      "[2021-04-17 10:21:37,814] [INFO] [<module>] [15] : parsing frame 43/239.0\n",
      "[2021-04-17 10:21:39,211] [INFO] [<module>] [22] : luminance level: 195.7912069209153\n",
      "[2021-04-17 10:21:39,215] [INFO] [<module>] [15] : parsing frame 44/239.0\n",
      "[2021-04-17 10:21:40,570] [INFO] [<module>] [22] : luminance level: 197.1839041072349\n",
      "[2021-04-17 10:21:40,574] [INFO] [<module>] [15] : parsing frame 45/239.0\n",
      "[2021-04-17 10:21:41,873] [INFO] [<module>] [22] : luminance level: 196.58716944770856\n",
      "[2021-04-17 10:21:41,878] [INFO] [<module>] [15] : parsing frame 46/239.0\n",
      "[2021-04-17 10:21:43,237] [INFO] [<module>] [22] : luminance level: 196.56018342809364\n",
      "[2021-04-17 10:21:43,240] [INFO] [<module>] [15] : parsing frame 47/239.0\n",
      "[2021-04-17 10:21:44,582] [INFO] [<module>] [22] : luminance level: 195.9659848236259\n",
      "[2021-04-17 10:21:44,589] [INFO] [<module>] [15] : parsing frame 48/239.0\n",
      "[2021-04-17 10:21:46,013] [INFO] [<module>] [22] : luminance level: 196.8444398607337\n",
      "[2021-04-17 10:21:46,019] [INFO] [<module>] [15] : parsing frame 49/239.0\n",
      "[2021-04-17 10:21:47,409] [INFO] [<module>] [22] : luminance level: 196.96487526645234\n",
      "[2021-04-17 10:21:47,414] [INFO] [<module>] [15] : parsing frame 50/239.0\n"
     ]
    },
    {
     "name": "stderr",
     "output_type": "stream",
     "text": [
      "[2021-04-17 10:21:48,841] [INFO] [<module>] [22] : luminance level: 196.94979892563373\n",
      "[2021-04-17 10:21:48,846] [INFO] [<module>] [15] : parsing frame 51/239.0\n",
      "[2021-04-17 10:21:50,260] [INFO] [<module>] [22] : luminance level: 196.96408984388114\n",
      "[2021-04-17 10:21:50,264] [INFO] [<module>] [15] : parsing frame 52/239.0\n",
      "[2021-04-17 10:21:51,685] [INFO] [<module>] [22] : luminance level: 197.09996460535592\n",
      "[2021-04-17 10:21:51,692] [INFO] [<module>] [15] : parsing frame 53/239.0\n",
      "[2021-04-17 10:21:53,094] [INFO] [<module>] [22] : luminance level: 195.6296940563426\n",
      "[2021-04-17 10:21:53,102] [INFO] [<module>] [15] : parsing frame 54/239.0\n",
      "[2021-04-17 10:21:54,631] [INFO] [<module>] [22] : luminance level: 196.0002426119647\n",
      "[2021-04-17 10:21:54,636] [INFO] [<module>] [15] : parsing frame 55/239.0\n",
      "[2021-04-17 10:21:56,393] [INFO] [<module>] [22] : luminance level: 195.73712056595923\n",
      "[2021-04-17 10:21:56,402] [INFO] [<module>] [15] : parsing frame 56/239.0\n",
      "[2021-04-17 10:21:58,473] [INFO] [<module>] [22] : luminance level: 196.48882836879432\n",
      "[2021-04-17 10:21:58,478] [INFO] [<module>] [15] : parsing frame 57/239.0\n",
      "[2021-04-17 10:22:00,043] [INFO] [<module>] [22] : luminance level: 195.2242021393035\n",
      "[2021-04-17 10:22:00,051] [INFO] [<module>] [15] : parsing frame 58/239.0\n",
      "[2021-04-17 10:22:01,931] [INFO] [<module>] [22] : luminance level: 196.90815365326412\n",
      "[2021-04-17 10:22:01,947] [INFO] [<module>] [15] : parsing frame 59/239.0\n",
      "[2021-04-17 10:22:03,361] [INFO] [<module>] [22] : luminance level: 196.19199103984127\n",
      "[2021-04-17 10:22:03,364] [INFO] [<module>] [15] : parsing frame 60/239.0\n",
      "[2021-04-17 10:22:04,669] [INFO] [<module>] [22] : luminance level: 195.46536291271656\n",
      "[2021-04-17 10:22:04,672] [INFO] [<module>] [15] : parsing frame 61/239.0\n",
      "[2021-04-17 10:22:05,982] [INFO] [<module>] [22] : luminance level: 194.84800978260867\n",
      "[2021-04-17 10:22:05,987] [INFO] [<module>] [15] : parsing frame 62/239.0\n",
      "[2021-04-17 10:22:07,299] [INFO] [<module>] [22] : luminance level: 195.93867906189556\n",
      "[2021-04-17 10:22:07,304] [INFO] [<module>] [15] : parsing frame 63/239.0\n",
      "[2021-04-17 10:22:08,600] [INFO] [<module>] [22] : luminance level: 196.51240056847544\n",
      "[2021-04-17 10:22:08,608] [INFO] [<module>] [15] : parsing frame 64/239.0\n",
      "[2021-04-17 10:22:09,971] [INFO] [<module>] [22] : luminance level: 196.59664201779418\n",
      "[2021-04-17 10:22:09,976] [INFO] [<module>] [15] : parsing frame 65/239.0\n",
      "[2021-04-17 10:22:11,294] [INFO] [<module>] [22] : luminance level: 195.14468066361556\n",
      "[2021-04-17 10:22:11,297] [INFO] [<module>] [15] : parsing frame 66/239.0\n",
      "[2021-04-17 10:22:12,600] [INFO] [<module>] [22] : luminance level: 196.6439768923611\n",
      "[2021-04-17 10:22:12,603] [INFO] [<module>] [15] : parsing frame 67/239.0\n",
      "[2021-04-17 10:22:13,874] [INFO] [<module>] [22] : luminance level: 195.59064035377747\n",
      "[2021-04-17 10:22:13,879] [INFO] [<module>] [15] : parsing frame 68/239.0\n",
      "[2021-04-17 10:22:15,177] [INFO] [<module>] [22] : luminance level: 195.51068839477597\n",
      "[2021-04-17 10:22:15,183] [INFO] [<module>] [15] : parsing frame 69/239.0\n",
      "[2021-04-17 10:22:16,468] [INFO] [<module>] [22] : luminance level: 195.24612162471396\n",
      "[2021-04-17 10:22:16,472] [INFO] [<module>] [15] : parsing frame 70/239.0\n",
      "[2021-04-17 10:22:17,747] [INFO] [<module>] [22] : luminance level: 196.98592066496167\n",
      "[2021-04-17 10:22:17,752] [INFO] [<module>] [15] : parsing frame 71/239.0\n",
      "[2021-04-17 10:22:18,989] [INFO] [<module>] [22] : luminance level: 196.05041733503617\n",
      "[2021-04-17 10:22:18,993] [INFO] [<module>] [15] : parsing frame 72/239.0\n",
      "[2021-04-17 10:22:20,382] [INFO] [<module>] [22] : luminance level: 195.14131903737348\n",
      "[2021-04-17 10:22:20,387] [INFO] [<module>] [15] : parsing frame 73/239.0\n",
      "[2021-04-17 10:22:21,831] [INFO] [<module>] [22] : luminance level: 196.17773046384607\n",
      "[2021-04-17 10:22:21,834] [INFO] [<module>] [15] : parsing frame 74/239.0\n",
      "[2021-04-17 10:22:23,207] [INFO] [<module>] [22] : luminance level: 195.91258953350294\n",
      "[2021-04-17 10:22:23,216] [INFO] [<module>] [15] : parsing frame 75/239.0\n",
      "[2021-04-17 10:22:24,546] [INFO] [<module>] [22] : luminance level: 196.28921964947756\n",
      "[2021-04-17 10:22:24,549] [INFO] [<module>] [15] : parsing frame 76/239.0\n",
      "[2021-04-17 10:22:25,946] [INFO] [<module>] [22] : luminance level: 195.07630328538738\n",
      "[2021-04-17 10:22:25,949] [INFO] [<module>] [15] : parsing frame 77/239.0\n",
      "[2021-04-17 10:22:27,392] [INFO] [<module>] [22] : luminance level: 194.8827309452736\n",
      "[2021-04-17 10:22:27,395] [INFO] [<module>] [15] : parsing frame 78/239.0\n",
      "[2021-04-17 10:22:28,780] [INFO] [<module>] [22] : luminance level: 194.2534469436868\n",
      "[2021-04-17 10:22:28,783] [INFO] [<module>] [15] : parsing frame 79/239.0\n",
      "[2021-04-17 10:22:30,037] [INFO] [<module>] [22] : luminance level: 196.73982084942085\n",
      "[2021-04-17 10:22:30,045] [INFO] [<module>] [15] : parsing frame 80/239.0\n",
      "[2021-04-17 10:22:31,375] [INFO] [<module>] [22] : luminance level: 196.1149042980418\n",
      "[2021-04-17 10:22:31,377] [INFO] [<module>] [15] : parsing frame 81/239.0\n",
      "[2021-04-17 10:22:32,640] [INFO] [<module>] [22] : luminance level: 196.1617426651178\n",
      "[2021-04-17 10:22:32,648] [INFO] [<module>] [15] : parsing frame 82/239.0\n",
      "[2021-04-17 10:22:33,922] [INFO] [<module>] [22] : luminance level: 196.08398577829408\n",
      "[2021-04-17 10:22:33,925] [INFO] [<module>] [15] : parsing frame 83/239.0\n",
      "[2021-04-17 10:22:35,492] [INFO] [<module>] [22] : luminance level: 196.13331164951876\n",
      "[2021-04-17 10:22:35,504] [INFO] [<module>] [15] : parsing frame 84/239.0\n",
      "[2021-04-17 10:22:36,831] [INFO] [<module>] [22] : luminance level: 195.77719625694672\n",
      "[2021-04-17 10:22:36,842] [INFO] [<module>] [15] : parsing frame 85/239.0\n",
      "[2021-04-17 10:22:38,378] [INFO] [<module>] [22] : luminance level: 195.75857260667513\n",
      "[2021-04-17 10:22:38,381] [INFO] [<module>] [15] : parsing frame 86/239.0\n",
      "[2021-04-17 10:22:39,737] [INFO] [<module>] [22] : luminance level: 196.65413143841516\n",
      "[2021-04-17 10:22:39,742] [INFO] [<module>] [15] : parsing frame 87/239.0\n",
      "[2021-04-17 10:22:41,217] [INFO] [<module>] [22] : luminance level: 195.2858275961866\n",
      "[2021-04-17 10:22:41,219] [INFO] [<module>] [15] : parsing frame 88/239.0\n",
      "[2021-04-17 10:22:42,645] [INFO] [<module>] [22] : luminance level: 196.76423870298314\n",
      "[2021-04-17 10:22:42,650] [INFO] [<module>] [15] : parsing frame 89/239.0\n",
      "[2021-04-17 10:22:44,010] [INFO] [<module>] [22] : luminance level: 196.51455394871795\n",
      "[2021-04-17 10:22:44,022] [INFO] [<module>] [15] : parsing frame 90/239.0\n",
      "[2021-04-17 10:22:45,412] [INFO] [<module>] [22] : luminance level: 196.32956456503013\n",
      "[2021-04-17 10:22:45,422] [INFO] [<module>] [15] : parsing frame 91/239.0\n",
      "[2021-04-17 10:22:46,826] [INFO] [<module>] [22] : luminance level: 196.6188942745098\n",
      "[2021-04-17 10:22:46,830] [INFO] [<module>] [15] : parsing frame 92/239.0\n",
      "[2021-04-17 10:22:48,108] [INFO] [<module>] [22] : luminance level: 196.68397221436152\n",
      "[2021-04-17 10:22:48,111] [INFO] [<module>] [15] : parsing frame 93/239.0\n",
      "[2021-04-17 10:22:49,354] [INFO] [<module>] [22] : luminance level: 196.8546048453159\n",
      "[2021-04-17 10:22:49,358] [INFO] [<module>] [15] : parsing frame 94/239.0\n",
      "[2021-04-17 10:22:50,654] [INFO] [<module>] [22] : luminance level: 196.8758439037433\n",
      "[2021-04-17 10:22:50,659] [INFO] [<module>] [15] : parsing frame 95/239.0\n",
      "[2021-04-17 10:22:51,937] [INFO] [<module>] [22] : luminance level: 196.27829122034726\n",
      "[2021-04-17 10:22:51,941] [INFO] [<module>] [15] : parsing frame 96/239.0\n",
      "[2021-04-17 10:22:53,188] [INFO] [<module>] [22] : luminance level: 195.87211586089907\n",
      "[2021-04-17 10:22:53,190] [INFO] [<module>] [15] : parsing frame 97/239.0\n",
      "[2021-04-17 10:22:54,508] [INFO] [<module>] [22] : luminance level: 195.49514146215\n",
      "[2021-04-17 10:22:54,514] [INFO] [<module>] [15] : parsing frame 98/239.0\n",
      "[2021-04-17 10:22:55,741] [INFO] [<module>] [22] : luminance level: 196.56476000000004\n",
      "[2021-04-17 10:22:55,743] [INFO] [<module>] [15] : parsing frame 99/239.0\n",
      "[2021-04-17 10:22:57,008] [INFO] [<module>] [22] : luminance level: 196.03335340192498\n",
      "[2021-04-17 10:22:57,012] [INFO] [<module>] [15] : parsing frame 100/239.0\n",
      "[2021-04-17 10:22:58,304] [INFO] [<module>] [22] : luminance level: 195.61469960287286\n",
      "[2021-04-17 10:22:58,307] [INFO] [<module>] [15] : parsing frame 101/239.0\n"
     ]
    },
    {
     "name": "stderr",
     "output_type": "stream",
     "text": [
      "[2021-04-17 10:22:59,593] [INFO] [<module>] [22] : luminance level: 196.45845103386807\n",
      "[2021-04-17 10:22:59,595] [INFO] [<module>] [15] : parsing frame 102/239.0\n",
      "[2021-04-17 10:23:00,904] [INFO] [<module>] [22] : luminance level: 195.88164321375433\n",
      "[2021-04-17 10:23:00,909] [INFO] [<module>] [15] : parsing frame 103/239.0\n",
      "[2021-04-17 10:23:02,305] [INFO] [<module>] [22] : luminance level: 195.49701184577523\n",
      "[2021-04-17 10:23:02,308] [INFO] [<module>] [15] : parsing frame 104/239.0\n",
      "[2021-04-17 10:23:03,692] [INFO] [<module>] [22] : luminance level: 195.91388100949524\n",
      "[2021-04-17 10:23:03,695] [INFO] [<module>] [15] : parsing frame 105/239.0\n",
      "[2021-04-17 10:23:05,205] [INFO] [<module>] [22] : luminance level: 196.46410157264958\n",
      "[2021-04-17 10:23:05,209] [INFO] [<module>] [15] : parsing frame 106/239.0\n",
      "[2021-04-17 10:23:06,500] [INFO] [<module>] [22] : luminance level: 195.42617678424938\n",
      "[2021-04-17 10:23:06,506] [INFO] [<module>] [15] : parsing frame 107/239.0\n",
      "[2021-04-17 10:23:07,853] [INFO] [<module>] [22] : luminance level: 196.6741390990991\n",
      "[2021-04-17 10:23:07,856] [INFO] [<module>] [15] : parsing frame 108/239.0\n",
      "[2021-04-17 10:23:09,165] [INFO] [<module>] [22] : luminance level: 196.86389690896738\n",
      "[2021-04-17 10:23:09,167] [INFO] [<module>] [15] : parsing frame 109/239.0\n",
      "[2021-04-17 10:23:10,432] [INFO] [<module>] [22] : luminance level: 197.05692706597222\n",
      "[2021-04-17 10:23:10,438] [INFO] [<module>] [15] : parsing frame 110/239.0\n",
      "[2021-04-17 10:23:11,711] [INFO] [<module>] [22] : luminance level: 197.37648772378515\n",
      "[2021-04-17 10:23:11,719] [INFO] [<module>] [15] : parsing frame 111/239.0\n",
      "[2021-04-17 10:23:13,007] [INFO] [<module>] [22] : luminance level: 195.09439661691545\n",
      "[2021-04-17 10:23:13,013] [INFO] [<module>] [15] : parsing frame 112/239.0\n",
      "[2021-04-17 10:23:14,293] [INFO] [<module>] [22] : luminance level: 197.1078731955211\n",
      "[2021-04-17 10:23:14,295] [INFO] [<module>] [15] : parsing frame 113/239.0\n",
      "[2021-04-17 10:23:15,533] [INFO] [<module>] [22] : luminance level: 196.97801583869582\n",
      "[2021-04-17 10:23:15,536] [INFO] [<module>] [15] : parsing frame 114/239.0\n",
      "[2021-04-17 10:23:16,795] [INFO] [<module>] [22] : luminance level: 195.32244138222373\n",
      "[2021-04-17 10:23:16,799] [INFO] [<module>] [15] : parsing frame 115/239.0\n",
      "[2021-04-17 10:23:18,161] [INFO] [<module>] [22] : luminance level: 197.3443974901961\n",
      "[2021-04-17 10:23:18,166] [INFO] [<module>] [15] : parsing frame 116/239.0\n",
      "[2021-04-17 10:23:19,474] [INFO] [<module>] [22] : luminance level: 194.8197484355444\n",
      "[2021-04-17 10:23:19,484] [INFO] [<module>] [15] : parsing frame 117/239.0\n",
      "[2021-04-17 10:23:20,795] [INFO] [<module>] [22] : luminance level: 195.15993313506814\n",
      "[2021-04-17 10:23:20,800] [INFO] [<module>] [15] : parsing frame 118/239.0\n",
      "[2021-04-17 10:23:22,092] [INFO] [<module>] [22] : luminance level: 196.84901004306633\n",
      "[2021-04-17 10:23:22,100] [INFO] [<module>] [15] : parsing frame 119/239.0\n",
      "[2021-04-17 10:23:23,385] [INFO] [<module>] [22] : luminance level: 196.93137298611109\n",
      "[2021-04-17 10:23:23,387] [INFO] [<module>] [15] : parsing frame 120/239.0\n",
      "[2021-04-17 10:23:24,650] [INFO] [<module>] [22] : luminance level: 196.58248302356455\n",
      "[2021-04-17 10:23:24,656] [INFO] [<module>] [15] : parsing frame 121/239.0\n",
      "[2021-04-17 10:23:25,945] [INFO] [<module>] [22] : luminance level: 196.2757462238103\n",
      "[2021-04-17 10:23:25,950] [INFO] [<module>] [15] : parsing frame 122/239.0\n",
      "[2021-04-17 10:23:27,299] [INFO] [<module>] [22] : luminance level: 195.39493890073828\n",
      "[2021-04-17 10:23:27,312] [INFO] [<module>] [15] : parsing frame 123/239.0\n",
      "[2021-04-17 10:23:28,623] [INFO] [<module>] [22] : luminance level: 194.65844085009732\n",
      "[2021-04-17 10:23:28,630] [INFO] [<module>] [15] : parsing frame 124/239.0\n",
      "[2021-04-17 10:23:29,970] [INFO] [<module>] [22] : luminance level: 194.9690956725146\n",
      "[2021-04-17 10:23:29,975] [INFO] [<module>] [15] : parsing frame 125/239.0\n",
      "[2021-04-17 10:23:31,261] [INFO] [<module>] [22] : luminance level: 196.1951888339921\n",
      "[2021-04-17 10:23:31,266] [INFO] [<module>] [15] : parsing frame 126/239.0\n",
      "[2021-04-17 10:23:32,560] [INFO] [<module>] [22] : luminance level: 195.752854459039\n",
      "[2021-04-17 10:23:32,564] [INFO] [<module>] [15] : parsing frame 127/239.0\n",
      "[2021-04-17 10:23:33,919] [INFO] [<module>] [22] : luminance level: 195.24252989741083\n",
      "[2021-04-17 10:23:33,927] [INFO] [<module>] [15] : parsing frame 128/239.0\n",
      "[2021-04-17 10:23:35,229] [INFO] [<module>] [22] : luminance level: 195.32005206113172\n",
      "[2021-04-17 10:23:35,240] [INFO] [<module>] [15] : parsing frame 129/239.0\n",
      "[2021-04-17 10:23:36,581] [INFO] [<module>] [22] : luminance level: 195.9098416436059\n",
      "[2021-04-17 10:23:36,591] [INFO] [<module>] [15] : parsing frame 130/239.0\n",
      "[2021-04-17 10:23:37,919] [INFO] [<module>] [22] : luminance level: 194.9795336131687\n",
      "[2021-04-17 10:23:37,931] [INFO] [<module>] [15] : parsing frame 131/239.0\n",
      "[2021-04-17 10:23:39,491] [INFO] [<module>] [22] : luminance level: 195.75092743486624\n",
      "[2021-04-17 10:23:39,493] [INFO] [<module>] [15] : parsing frame 132/239.0\n",
      "[2021-04-17 10:23:40,951] [INFO] [<module>] [22] : luminance level: 195.5818276796643\n",
      "[2021-04-17 10:23:40,960] [INFO] [<module>] [15] : parsing frame 133/239.0\n",
      "[2021-04-17 10:23:42,272] [INFO] [<module>] [22] : luminance level: 195.11223273405696\n",
      "[2021-04-17 10:23:42,274] [INFO] [<module>] [15] : parsing frame 134/239.0\n",
      "[2021-04-17 10:23:43,575] [INFO] [<module>] [22] : luminance level: 196.10783829934323\n",
      "[2021-04-17 10:23:43,582] [INFO] [<module>] [15] : parsing frame 135/239.0\n",
      "[2021-04-17 10:23:44,910] [INFO] [<module>] [22] : luminance level: 195.0045470301528\n",
      "[2021-04-17 10:23:44,914] [INFO] [<module>] [15] : parsing frame 136/239.0\n",
      "[2021-04-17 10:23:46,239] [INFO] [<module>] [22] : luminance level: 196.90738776087724\n",
      "[2021-04-17 10:23:46,243] [INFO] [<module>] [15] : parsing frame 137/239.0\n",
      "[2021-04-17 10:23:47,617] [INFO] [<module>] [22] : luminance level: 197.09929814290768\n",
      "[2021-04-17 10:23:47,620] [INFO] [<module>] [15] : parsing frame 138/239.0\n",
      "[2021-04-17 10:23:49,053] [INFO] [<module>] [22] : luminance level: 196.41026674410884\n",
      "[2021-04-17 10:23:49,057] [INFO] [<module>] [15] : parsing frame 139/239.0\n",
      "[2021-04-17 10:23:50,289] [INFO] [<module>] [22] : luminance level: 194.81862165484637\n",
      "[2021-04-17 10:23:50,292] [INFO] [<module>] [15] : parsing frame 140/239.0\n",
      "[2021-04-17 10:23:51,533] [INFO] [<module>] [22] : luminance level: 196.2451906668846\n",
      "[2021-04-17 10:23:51,537] [INFO] [<module>] [15] : parsing frame 141/239.0\n",
      "[2021-04-17 10:23:52,819] [INFO] [<module>] [22] : luminance level: 196.70483030202456\n",
      "[2021-04-17 10:23:52,821] [INFO] [<module>] [15] : parsing frame 142/239.0\n",
      "[2021-04-17 10:23:54,180] [INFO] [<module>] [22] : luminance level: 197.04697683760685\n",
      "[2021-04-17 10:23:54,185] [INFO] [<module>] [15] : parsing frame 143/239.0\n",
      "[2021-04-17 10:23:55,442] [INFO] [<module>] [22] : luminance level: 196.5426998303647\n",
      "[2021-04-17 10:23:55,446] [INFO] [<module>] [15] : parsing frame 144/239.0\n",
      "[2021-04-17 10:23:56,686] [INFO] [<module>] [22] : luminance level: 195.7357031310837\n",
      "[2021-04-17 10:23:56,689] [INFO] [<module>] [15] : parsing frame 145/239.0\n",
      "[2021-04-17 10:23:57,928] [INFO] [<module>] [22] : luminance level: 195.75784731018047\n",
      "[2021-04-17 10:23:57,931] [INFO] [<module>] [15] : parsing frame 146/239.0\n",
      "[2021-04-17 10:23:59,177] [INFO] [<module>] [22] : luminance level: 197.55922515625\n",
      "[2021-04-17 10:23:59,182] [INFO] [<module>] [15] : parsing frame 147/239.0\n",
      "[2021-04-17 10:24:00,436] [INFO] [<module>] [22] : luminance level: 195.3546361927546\n",
      "[2021-04-17 10:24:00,443] [INFO] [<module>] [15] : parsing frame 148/239.0\n",
      "[2021-04-17 10:24:01,866] [INFO] [<module>] [22] : luminance level: 196.4868892088827\n",
      "[2021-04-17 10:24:01,869] [INFO] [<module>] [15] : parsing frame 149/239.0\n",
      "[2021-04-17 10:24:03,162] [INFO] [<module>] [22] : luminance level: 195.44726971399388\n",
      "[2021-04-17 10:24:03,170] [INFO] [<module>] [15] : parsing frame 150/239.0\n",
      "[2021-04-17 10:24:04,381] [INFO] [<module>] [22] : luminance level: 195.13039898550727\n",
      "[2021-04-17 10:24:04,395] [INFO] [<module>] [15] : parsing frame 151/239.0\n",
      "[2021-04-17 10:24:05,611] [INFO] [<module>] [22] : luminance level: 194.73351962428717\n",
      "[2021-04-17 10:24:05,617] [INFO] [<module>] [15] : parsing frame 152/239.0\n"
     ]
    },
    {
     "name": "stderr",
     "output_type": "stream",
     "text": [
      "[2021-04-17 10:24:06,837] [INFO] [<module>] [22] : luminance level: 197.2047398026598\n",
      "[2021-04-17 10:24:06,843] [INFO] [<module>] [15] : parsing frame 153/239.0\n",
      "[2021-04-17 10:24:08,129] [INFO] [<module>] [22] : luminance level: 195.51374871099048\n",
      "[2021-04-17 10:24:08,137] [INFO] [<module>] [15] : parsing frame 154/239.0\n",
      "[2021-04-17 10:24:09,430] [INFO] [<module>] [22] : luminance level: 196.55795435461485\n",
      "[2021-04-17 10:24:09,436] [INFO] [<module>] [15] : parsing frame 155/239.0\n",
      "[2021-04-17 10:24:10,794] [INFO] [<module>] [22] : luminance level: 196.32882193493873\n",
      "[2021-04-17 10:24:10,799] [INFO] [<module>] [15] : parsing frame 156/239.0\n",
      "[2021-04-17 10:24:12,105] [INFO] [<module>] [22] : luminance level: 196.9568425531915\n",
      "[2021-04-17 10:24:12,108] [INFO] [<module>] [15] : parsing frame 157/239.0\n",
      "[2021-04-17 10:24:13,609] [INFO] [<module>] [22] : luminance level: 195.00568482374186\n",
      "[2021-04-17 10:24:13,613] [INFO] [<module>] [15] : parsing frame 158/239.0\n",
      "[2021-04-17 10:24:14,989] [INFO] [<module>] [22] : luminance level: 195.26712733836032\n",
      "[2021-04-17 10:24:14,992] [INFO] [<module>] [15] : parsing frame 159/239.0\n",
      "[2021-04-17 10:24:16,413] [INFO] [<module>] [22] : luminance level: 197.7016189236111\n",
      "[2021-04-17 10:24:16,420] [INFO] [<module>] [15] : parsing frame 160/239.0\n",
      "[2021-04-17 10:24:17,911] [INFO] [<module>] [22] : luminance level: 198.11891625660377\n",
      "[2021-04-17 10:24:17,914] [INFO] [<module>] [15] : parsing frame 161/239.0\n",
      "[2021-04-17 10:24:19,236] [INFO] [<module>] [22] : luminance level: 197.5176640944882\n",
      "[2021-04-17 10:24:19,242] [INFO] [<module>] [15] : parsing frame 162/239.0\n",
      "[2021-04-17 10:24:20,570] [INFO] [<module>] [22] : luminance level: 198.123904171123\n",
      "[2021-04-17 10:24:20,574] [INFO] [<module>] [15] : parsing frame 163/239.0\n",
      "[2021-04-17 10:24:21,842] [INFO] [<module>] [22] : luminance level: 197.26890198089848\n",
      "[2021-04-17 10:24:21,848] [INFO] [<module>] [15] : parsing frame 164/239.0\n",
      "[2021-04-17 10:24:23,147] [INFO] [<module>] [22] : luminance level: 197.0869197796143\n",
      "[2021-04-17 10:24:23,150] [INFO] [<module>] [15] : parsing frame 165/239.0\n",
      "[2021-04-17 10:24:24,435] [INFO] [<module>] [22] : luminance level: 196.9679115116684\n",
      "[2021-04-17 10:24:24,442] [INFO] [<module>] [15] : parsing frame 166/239.0\n",
      "[2021-04-17 10:24:25,728] [INFO] [<module>] [22] : luminance level: 197.60587868582547\n",
      "[2021-04-17 10:24:25,735] [INFO] [<module>] [15] : parsing frame 167/239.0\n",
      "[2021-04-17 10:24:27,070] [INFO] [<module>] [22] : luminance level: 198.08638872346697\n",
      "[2021-04-17 10:24:27,083] [INFO] [<module>] [15] : parsing frame 168/239.0\n",
      "[2021-04-17 10:24:28,391] [INFO] [<module>] [22] : luminance level: 197.63003775687915\n",
      "[2021-04-17 10:24:28,397] [INFO] [<module>] [15] : parsing frame 169/239.0\n",
      "[2021-04-17 10:24:29,709] [INFO] [<module>] [22] : luminance level: 197.70037115384616\n",
      "[2021-04-17 10:24:29,717] [INFO] [<module>] [15] : parsing frame 170/239.0\n",
      "[2021-04-17 10:24:31,107] [INFO] [<module>] [22] : luminance level: 198.49509663020336\n",
      "[2021-04-17 10:24:31,111] [INFO] [<module>] [15] : parsing frame 171/239.0\n",
      "[2021-04-17 10:24:32,396] [INFO] [<module>] [22] : luminance level: 197.48135181124218\n",
      "[2021-04-17 10:24:32,406] [INFO] [<module>] [15] : parsing frame 172/239.0\n",
      "[2021-04-17 10:24:33,723] [INFO] [<module>] [22] : luminance level: 198.42644710293595\n",
      "[2021-04-17 10:24:33,727] [INFO] [<module>] [15] : parsing frame 173/239.0\n",
      "[2021-04-17 10:24:35,106] [INFO] [<module>] [22] : luminance level: 196.778770252905\n",
      "[2021-04-17 10:24:35,110] [INFO] [<module>] [15] : parsing frame 174/239.0\n",
      "[2021-04-17 10:24:36,374] [INFO] [<module>] [22] : luminance level: 196.38606048958405\n",
      "[2021-04-17 10:24:36,379] [INFO] [<module>] [15] : parsing frame 175/239.0\n",
      "[2021-04-17 10:24:37,641] [INFO] [<module>] [22] : luminance level: 197.46860395940536\n",
      "[2021-04-17 10:24:37,648] [INFO] [<module>] [15] : parsing frame 176/239.0\n",
      "[2021-04-17 10:24:38,870] [INFO] [<module>] [22] : luminance level: 196.43771881117885\n",
      "[2021-04-17 10:24:38,880] [INFO] [<module>] [15] : parsing frame 177/239.0\n",
      "[2021-04-17 10:24:40,138] [INFO] [<module>] [22] : luminance level: 197.19636342635766\n",
      "[2021-04-17 10:24:40,143] [INFO] [<module>] [15] : parsing frame 178/239.0\n",
      "[2021-04-17 10:24:41,382] [INFO] [<module>] [22] : luminance level: 197.69862867887042\n",
      "[2021-04-17 10:24:41,389] [INFO] [<module>] [15] : parsing frame 179/239.0\n",
      "[2021-04-17 10:24:42,658] [INFO] [<module>] [22] : luminance level: 196.3159417710944\n",
      "[2021-04-17 10:24:42,669] [INFO] [<module>] [15] : parsing frame 180/239.0\n",
      "[2021-04-17 10:24:43,900] [INFO] [<module>] [22] : luminance level: 196.36765565393713\n",
      "[2021-04-17 10:24:43,904] [INFO] [<module>] [15] : parsing frame 181/239.0\n",
      "[2021-04-17 10:24:45,205] [INFO] [<module>] [22] : luminance level: 198.01243557312253\n",
      "[2021-04-17 10:24:45,211] [INFO] [<module>] [15] : parsing frame 182/239.0\n",
      "[2021-04-17 10:24:46,431] [INFO] [<module>] [22] : luminance level: 195.44667698801743\n",
      "[2021-04-17 10:24:46,442] [INFO] [<module>] [15] : parsing frame 183/239.0\n",
      "[2021-04-17 10:24:47,655] [INFO] [<module>] [22] : luminance level: 196.53388223140496\n",
      "[2021-04-17 10:24:47,664] [INFO] [<module>] [15] : parsing frame 184/239.0\n",
      "[2021-04-17 10:24:48,870] [INFO] [<module>] [22] : luminance level: 196.09746172407762\n",
      "[2021-04-17 10:24:48,880] [INFO] [<module>] [15] : parsing frame 185/239.0\n",
      "[2021-04-17 10:24:50,168] [INFO] [<module>] [22] : luminance level: 197.83184045056322\n",
      "[2021-04-17 10:24:50,172] [INFO] [<module>] [15] : parsing frame 186/239.0\n",
      "[2021-04-17 10:24:51,432] [INFO] [<module>] [22] : luminance level: 194.71229049131014\n",
      "[2021-04-17 10:24:51,435] [INFO] [<module>] [15] : parsing frame 187/239.0\n",
      "[2021-04-17 10:24:52,616] [INFO] [<module>] [22] : luminance level: 196.58428698412695\n",
      "[2021-04-17 10:24:52,618] [INFO] [<module>] [15] : parsing frame 188/239.0\n",
      "[2021-04-17 10:24:53,669] [INFO] [<module>] [22] : luminance level: 197.59755253299275\n",
      "[2021-04-17 10:24:53,673] [INFO] [<module>] [15] : parsing frame 189/239.0\n",
      "[2021-04-17 10:24:54,727] [INFO] [<module>] [22] : luminance level: 196.1219974410774\n",
      "[2021-04-17 10:24:54,730] [INFO] [<module>] [15] : parsing frame 190/239.0\n",
      "[2021-04-17 10:24:55,813] [INFO] [<module>] [22] : luminance level: 197.20349832167832\n",
      "[2021-04-17 10:24:55,816] [INFO] [<module>] [15] : parsing frame 191/239.0\n",
      "[2021-04-17 10:24:57,428] [INFO] [<module>] [22] : luminance level: 197.59362914394765\n",
      "[2021-04-17 10:24:57,431] [INFO] [<module>] [15] : parsing frame 192/239.0\n",
      "[2021-04-17 10:24:58,664] [INFO] [<module>] [22] : luminance level: 197.5973643080983\n",
      "[2021-04-17 10:24:58,668] [INFO] [<module>] [15] : parsing frame 193/239.0\n",
      "[2021-04-17 10:24:59,969] [INFO] [<module>] [22] : luminance level: 197.81158329881657\n",
      "[2021-04-17 10:24:59,974] [INFO] [<module>] [15] : parsing frame 194/239.0\n",
      "[2021-04-17 10:25:01,179] [INFO] [<module>] [22] : luminance level: 196.98542995536454\n",
      "[2021-04-17 10:25:01,183] [INFO] [<module>] [15] : parsing frame 195/239.0\n",
      "[2021-04-17 10:25:02,399] [INFO] [<module>] [22] : luminance level: 195.77830574825748\n",
      "[2021-04-17 10:25:02,404] [INFO] [<module>] [15] : parsing frame 196/239.0\n",
      "[2021-04-17 10:25:03,581] [INFO] [<module>] [22] : luminance level: 196.5301537757437\n",
      "[2021-04-17 10:25:03,585] [INFO] [<module>] [15] : parsing frame 197/239.0\n",
      "[2021-04-17 10:25:04,797] [INFO] [<module>] [22] : luminance level: 196.68183530586768\n",
      "[2021-04-17 10:25:04,801] [INFO] [<module>] [15] : parsing frame 198/239.0\n",
      "[2021-04-17 10:25:05,933] [INFO] [<module>] [22] : luminance level: 197.63029226379717\n",
      "[2021-04-17 10:25:05,937] [INFO] [<module>] [15] : parsing frame 199/239.0\n",
      "[2021-04-17 10:25:07,020] [INFO] [<module>] [22] : luminance level: 196.81802118353343\n",
      "[2021-04-17 10:25:07,024] [INFO] [<module>] [15] : parsing frame 200/239.0\n",
      "[2021-04-17 10:25:08,099] [INFO] [<module>] [22] : luminance level: 197.61984247667516\n",
      "[2021-04-17 10:25:08,101] [INFO] [<module>] [15] : parsing frame 201/239.0\n",
      "[2021-04-17 10:25:09,152] [INFO] [<module>] [22] : luminance level: 195.24712680626595\n",
      "[2021-04-17 10:25:09,154] [INFO] [<module>] [15] : parsing frame 202/239.0\n",
      "[2021-04-17 10:25:10,243] [INFO] [<module>] [22] : luminance level: 197.4900539609839\n",
      "[2021-04-17 10:25:10,245] [INFO] [<module>] [15] : parsing frame 203/239.0\n"
     ]
    },
    {
     "name": "stderr",
     "output_type": "stream",
     "text": [
      "[2021-04-17 10:25:11,350] [INFO] [<module>] [22] : luminance level: 197.73498859531773\n",
      "[2021-04-17 10:25:11,353] [INFO] [<module>] [15] : parsing frame 204/239.0\n",
      "[2021-04-17 10:25:12,520] [INFO] [<module>] [22] : luminance level: 196.30083653516292\n",
      "[2021-04-17 10:25:12,524] [INFO] [<module>] [15] : parsing frame 205/239.0\n",
      "[2021-04-17 10:25:13,645] [INFO] [<module>] [22] : luminance level: 195.5147431253008\n",
      "[2021-04-17 10:25:13,647] [INFO] [<module>] [15] : parsing frame 206/239.0\n",
      "[2021-04-17 10:25:14,691] [INFO] [<module>] [22] : luminance level: 196.44015559110542\n",
      "[2021-04-17 10:25:14,696] [INFO] [<module>] [15] : parsing frame 207/239.0\n",
      "[2021-04-17 10:25:15,874] [INFO] [<module>] [22] : luminance level: 197.2042221885522\n",
      "[2021-04-17 10:25:15,877] [INFO] [<module>] [15] : parsing frame 208/239.0\n",
      "[2021-04-17 10:25:16,998] [INFO] [<module>] [22] : luminance level: 196.67299281537174\n",
      "[2021-04-17 10:25:17,004] [INFO] [<module>] [15] : parsing frame 209/239.0\n",
      "[2021-04-17 10:25:18,136] [INFO] [<module>] [22] : luminance level: 196.7550469208736\n",
      "[2021-04-17 10:25:18,139] [INFO] [<module>] [15] : parsing frame 210/239.0\n",
      "[2021-04-17 10:25:19,175] [INFO] [<module>] [22] : luminance level: 196.06604680451125\n",
      "[2021-04-17 10:25:19,181] [INFO] [<module>] [15] : parsing frame 211/239.0\n",
      "[2021-04-17 10:25:20,351] [INFO] [<module>] [22] : luminance level: 195.88864005172132\n",
      "[2021-04-17 10:25:20,354] [INFO] [<module>] [15] : parsing frame 212/239.0\n",
      "[2021-04-17 10:25:21,449] [INFO] [<module>] [22] : luminance level: 195.2231315665884\n",
      "[2021-04-17 10:25:21,452] [INFO] [<module>] [15] : parsing frame 213/239.0\n",
      "[2021-04-17 10:25:22,528] [INFO] [<module>] [22] : luminance level: 195.39958475063938\n",
      "[2021-04-17 10:25:22,534] [INFO] [<module>] [15] : parsing frame 214/239.0\n",
      "[2021-04-17 10:25:23,623] [INFO] [<module>] [22] : luminance level: 195.49610054953936\n",
      "[2021-04-17 10:25:23,627] [INFO] [<module>] [15] : parsing frame 215/239.0\n",
      "[2021-04-17 10:25:24,742] [INFO] [<module>] [22] : luminance level: 195.92021281144784\n",
      "[2021-04-17 10:25:24,750] [INFO] [<module>] [15] : parsing frame 216/239.0\n",
      "[2021-04-17 10:25:25,928] [INFO] [<module>] [22] : luminance level: 196.02060977455716\n",
      "[2021-04-17 10:25:25,930] [INFO] [<module>] [15] : parsing frame 217/239.0\n",
      "[2021-04-17 10:25:26,998] [INFO] [<module>] [22] : luminance level: 196.05466182915208\n",
      "[2021-04-17 10:25:27,001] [INFO] [<module>] [15] : parsing frame 218/239.0\n",
      "[2021-04-17 10:25:28,051] [INFO] [<module>] [22] : luminance level: 197.1268272895623\n",
      "[2021-04-17 10:25:28,054] [INFO] [<module>] [15] : parsing frame 219/239.0\n",
      "[2021-04-17 10:25:29,205] [INFO] [<module>] [22] : luminance level: 196.29451804160405\n",
      "[2021-04-17 10:25:29,210] [INFO] [<module>] [15] : parsing frame 220/239.0\n",
      "[2021-04-17 10:25:30,398] [INFO] [<module>] [22] : luminance level: 196.6397877477785\n",
      "[2021-04-17 10:25:30,402] [INFO] [<module>] [15] : parsing frame 221/239.0\n",
      "[2021-04-17 10:25:31,482] [INFO] [<module>] [22] : luminance level: 196.70507535580523\n",
      "[2021-04-17 10:25:31,486] [INFO] [<module>] [15] : parsing frame 222/239.0\n",
      "[2021-04-17 10:25:32,693] [INFO] [<module>] [22] : luminance level: 197.14778170631664\n",
      "[2021-04-17 10:25:32,695] [INFO] [<module>] [15] : parsing frame 223/239.0\n",
      "[2021-04-17 10:25:33,776] [INFO] [<module>] [22] : luminance level: 195.91328559377027\n",
      "[2021-04-17 10:25:33,778] [INFO] [<module>] [15] : parsing frame 224/239.0\n",
      "[2021-04-17 10:25:35,068] [INFO] [<module>] [22] : luminance level: 195.975368770279\n",
      "[2021-04-17 10:25:35,073] [INFO] [<module>] [15] : parsing frame 225/239.0\n",
      "[2021-04-17 10:25:36,282] [INFO] [<module>] [22] : luminance level: 197.58166243564705\n",
      "[2021-04-17 10:25:36,286] [INFO] [<module>] [15] : parsing frame 226/239.0\n",
      "[2021-04-17 10:25:37,479] [INFO] [<module>] [22] : luminance level: 196.29061996120896\n",
      "[2021-04-17 10:25:37,486] [INFO] [<module>] [15] : parsing frame 227/239.0\n",
      "[2021-04-17 10:25:38,546] [INFO] [<module>] [22] : luminance level: 197.56296334600762\n",
      "[2021-04-17 10:25:38,548] [INFO] [<module>] [15] : parsing frame 228/239.0\n",
      "[2021-04-17 10:25:39,697] [INFO] [<module>] [22] : luminance level: 195.67066890534977\n",
      "[2021-04-17 10:25:39,701] [INFO] [<module>] [15] : parsing frame 229/239.0\n",
      "[2021-04-17 10:25:40,860] [INFO] [<module>] [22] : luminance level: 196.966751729249\n",
      "[2021-04-17 10:25:40,869] [INFO] [<module>] [15] : parsing frame 230/239.0\n",
      "[2021-04-17 10:25:41,902] [INFO] [<module>] [22] : luminance level: 195.3704305068836\n",
      "[2021-04-17 10:25:41,906] [INFO] [<module>] [15] : parsing frame 231/239.0\n",
      "[2021-04-17 10:25:43,015] [INFO] [<module>] [22] : luminance level: 195.85618148148149\n",
      "[2021-04-17 10:25:43,019] [INFO] [<module>] [15] : parsing frame 232/239.0\n",
      "[2021-04-17 10:25:44,035] [INFO] [<module>] [22] : luminance level: 196.3280256105834\n",
      "[2021-04-17 10:25:44,038] [INFO] [<module>] [15] : parsing frame 233/239.0\n",
      "[2021-04-17 10:25:45,087] [INFO] [<module>] [22] : luminance level: 195.93041936795996\n",
      "[2021-04-17 10:25:45,090] [INFO] [<module>] [15] : parsing frame 234/239.0\n",
      "[2021-04-17 10:25:46,091] [INFO] [<module>] [22] : luminance level: 197.3288833916084\n",
      "[2021-04-17 10:25:46,093] [INFO] [<module>] [15] : parsing frame 235/239.0\n",
      "[2021-04-17 10:25:47,120] [INFO] [<module>] [22] : luminance level: 195.94179153198652\n",
      "[2021-04-17 10:25:47,123] [INFO] [<module>] [15] : parsing frame 236/239.0\n",
      "[2021-04-17 10:25:48,176] [INFO] [<module>] [22] : luminance level: 196.06257591597458\n",
      "[2021-04-17 10:25:48,178] [INFO] [<module>] [15] : parsing frame 237/239.0\n",
      "[2021-04-17 10:25:49,239] [INFO] [<module>] [22] : luminance level: 197.11580264631044\n",
      "[2021-04-17 10:25:49,242] [INFO] [<module>] [15] : parsing frame 238/239.0\n",
      "[2021-04-17 10:25:50,393] [INFO] [<module>] [22] : luminance level: 197.67331294871792\n"
     ]
    }
   ],
   "source": [
    "color_sig = []\n",
    "heart_rates = []\n",
    "good_frame_number = 0\n",
    "total_frame_number = 0\n",
    "\n",
    "# Parsing video:\n",
    "logging.info(\"Working on video \" + video_location)\n",
    "vidcap = cv2.VideoCapture(video_location)\n",
    "success, image = vidcap.read()\n",
    "fps = vidcap.get(cv2.CAP_PROP_FPS) # fs == sampling rate\n",
    "round_fps = np.round(fps)\n",
    "number_of_frames = vidcap.get(cv2.CAP_PROP_FRAME_COUNT)\n",
    "logging.info(\"Parsing images ...\")\n",
    "while success:\n",
    "    logging.info(\"parsing frame \" + str(total_frame_number) + \"/\" + str(number_of_frames))\n",
    "    rois = parse_roi(cv2.cvtColor(image, cv2.COLOR_BGR2RGB))  # build image ROI (rois is a tuple contains two regions)\n",
    "    if rois is not None : \n",
    "        roi = np.asarray(rois[0]) # Just the forehead\n",
    "        is_good_frame,color_sig, luminance_level = parse_RGB(roi, color_sig)\n",
    "        if is_good_frame:\n",
    "            good_frame_number += 1\n",
    "            logging.info(\"luminance level: \" + str(luminance_level))\n",
    "    total_frame_number += 1\n",
    "    success, image = get_new_frame(vidcap)"
   ]
  },
  {
   "cell_type": "code",
   "execution_count": 21,
   "metadata": {
    "scrolled": true
   },
   "outputs": [],
   "source": [
    "def print_results(window_sig, window, xlabel, ylabel, change_range):\n",
    "    fig = plt.figure()\n",
    "    ax = fig.subplots()\n",
    "    while len(window_sig) > len(window):\n",
    "        window_sig = window_sig[-1]\n",
    "    ax.plot(window_sig,window,color ='green')\n",
    "    if change_range:\n",
    "        plt.xlim([0, 5])\n",
    "\n",
    "    ax.set_xlabel(xlabel)\n",
    "    ax.set_ylabel(ylabel)\n",
    "    ax.set_xscale('linear')\n",
    "    ax.spines['bottom'].set_color('red')\n",
    "    ax.spines['left'].set_color('red')\n",
    "    ax.xaxis.label.set_color('red')\n",
    "    ax.yaxis.label.set_color('red')\n",
    "    ax.tick_params(axis='x', colors='red')\n",
    "    ax.tick_params(axis='y', colors='red')\n",
    "    plt.show()\n",
    "\n",
    "def find_hr_in_window(green, window_start, round_fps, window_id, window_size):\n",
    "    round_fps = int(round_fps)\n",
    "    if window_start + round_fps * window_size > len(green):\n",
    "        window = green[window_start : ]\n",
    "    else:\n",
    "        window = green[window_start : window_start + round_fps * window_size]\n",
    "    window_sig = np.arange(window.size/round_fps,step= (1/30))\n",
    "\n",
    "    print_results(window_sig, window, 'X-axis', 'Y-axis', False)\n",
    "\n",
    "    window = window - np.mean(window)\n",
    "    window = window / np.std(window)\n",
    "    print_results(window_sig, window, 'X-axis', 'Y-axis', False)\n",
    "\n",
    "    g = filter_channel(window,round_fps)\n",
    "    print_results(window_sig, g, 'X-axis', 'Y-axis', False)\n",
    "\n",
    "    f, Pxx_den = sig.periodogram(g, round_fps)\n",
    "\n",
    "    print_results(f, Pxx_den, 'frequency [Hz]', 'PSD [V**2/Hz]', True)\n",
    "    # plt.semilogy(f, Pxx_den)\n",
    "    # plt.ylim([1e-7, 1e2])\n",
    "    # plt.xlabel('frequency [Hz]')\n",
    "    # plt.ylabel('PSD [V**2/Hz]')\n",
    "    # plt.show()\n",
    "\n",
    "\n",
    "    max_val = Pxx_den.argmax()\n",
    "    logging.info(\"Heart rate of window \" + str(window_id) +\n",
    "                 \": \" + str(f[max_val]))"
   ]
  },
  {
   "cell_type": "code",
   "execution_count": 22,
   "metadata": {
    "pycharm": {
     "name": "#%%\n"
    }
   },
   "outputs": [
    {
     "data": {
      "image/png": "[encoded data removed]",
      "text/plain": [
       "<Figure size 432x288 with 1 Axes>"
      ]
     },
     "metadata": {
      "needs_background": "light"
     },
     "output_type": "display_data"
    },
    {
     "data": {
      "image/png": "[encoded data removed]",
      "text/plain": [
       "<Figure size 432x288 with 1 Axes>"
      ]
     },
     "metadata": {
      "needs_background": "light"
     },
     "output_type": "display_data"
    },
    {
     "data": {
      "image/png": "[encoded data removed]",
      "text/plain": [
       "<Figure size 432x288 with 1 Axes>"
      ]
     },
     "metadata": {
      "needs_background": "light"
     },
     "output_type": "display_data"
    },
    {
     "data": {
      "image/png": "[encoded data removed]",
      "text/plain": [
       "<Figure size 432x288 with 1 Axes>"
      ]
     },
     "metadata": {
      "needs_background": "light"
     },
     "output_type": "display_data"
    },
    {
     "name": "stderr",
     "output_type": "stream",
     "text": [
      "[2021-04-17 10:25:51,430] [INFO] [find_hr_in_window] [49] : Heart rate of window 1: 1.00418410041841\n"
     ]
    }
   ],
   "source": [
    "color_sig_array = np.asarray(color_sig)\n",
    "red = color_sig_array[:,0]\n",
    "green = color_sig_array[:,1]\n",
    "blue = color_sig_array[:,2]\n",
    "\n",
    "window_start = 0\n",
    "window_size = 30\n",
    "window_id = 0\n",
    "limit = good_frame_number - int(round_fps) * window_size\n",
    "while window_start < limit :\n",
    "    find_hr_in_window(green, window_start, round_fps, window_id, window_size)\n",
    "    window_start += int(round_fps) * window_size\n",
    "    window_id += 1\n",
    "if window_start < good_frame_number:\n",
    "    window_id += 1\n",
    "    find_hr_in_window(green, window_start, round_fps, window_id, good_frame_number - window_start)"
   ]
  },
  {
   "cell_type": "code",
   "execution_count": 23,
   "metadata": {},
   "outputs": [
    {
     "ename": "NameError",
     "evalue": "name 'Pxx_den' is not defined",
     "output_type": "error",
     "traceback": [
      "\u001B[0;31m---------------------------------------------------------------------------\u001B[0m",
      "\u001B[0;31mNameError\u001B[0m                                 Traceback (most recent call last)",
      "\u001B[0;32m<ipython-input-23-f8c38df7b4b3>\u001B[0m in \u001B[0;36m<module>\u001B[0;34m\u001B[0m\n\u001B[0;32m----> 1\u001B[0;31m \u001B[0ma\u001B[0m \u001B[0;34m=\u001B[0m \u001B[0mPxx_den\u001B[0m\u001B[0;34m\u001B[0m\u001B[0;34m\u001B[0m\u001B[0m\n\u001B[0m\u001B[1;32m      2\u001B[0m \u001B[0mind\u001B[0m \u001B[0;34m=\u001B[0m \u001B[0mnp\u001B[0m\u001B[0;34m.\u001B[0m\u001B[0margsort\u001B[0m\u001B[0;34m(\u001B[0m\u001B[0ma\u001B[0m\u001B[0;34m)\u001B[0m\u001B[0;34m\u001B[0m\u001B[0;34m\u001B[0m\u001B[0m\n\u001B[1;32m      3\u001B[0m \u001B[0mmax_ind\u001B[0m \u001B[0;34m=\u001B[0m \u001B[0mind\u001B[0m\u001B[0;34m[\u001B[0m\u001B[0;34m-\u001B[0m\u001B[0;36m5\u001B[0m\u001B[0;34m:\u001B[0m\u001B[0;34m]\u001B[0m\u001B[0;34m\u001B[0m\u001B[0;34m\u001B[0m\u001B[0m\n\u001B[1;32m      4\u001B[0m \u001B[0mprint\u001B[0m\u001B[0;34m(\u001B[0m\u001B[0mf\u001B[0m\u001B[0;34m[\u001B[0m\u001B[0mmax_ind\u001B[0m\u001B[0;34m]\u001B[0m\u001B[0;34m)\u001B[0m\u001B[0;34m\u001B[0m\u001B[0;34m\u001B[0m\u001B[0m\n\u001B[1;32m      5\u001B[0m \u001B[0mprint\u001B[0m\u001B[0;34m(\u001B[0m\u001B[0;34m\"HR for this video is: \"\u001B[0m \u001B[0;34m+\u001B[0m\u001B[0mstr\u001B[0m\u001B[0;34m(\u001B[0m\u001B[0mf\u001B[0m\u001B[0;34m[\u001B[0m\u001B[0mmax_ind\u001B[0m\u001B[0;34m]\u001B[0m\u001B[0;34m.\u001B[0m\u001B[0mmean\u001B[0m\u001B[0;34m(\u001B[0m\u001B[0;34m)\u001B[0m\u001B[0;34m)\u001B[0m\u001B[0;34m)\u001B[0m\u001B[0;34m\u001B[0m\u001B[0;34m\u001B[0m\u001B[0m\n",
      "\u001B[0;31mNameError\u001B[0m: name 'Pxx_den' is not defined"
     ]
    }
   ],
   "source": [
    "a = Pxx_den\n",
    "ind = np.argsort(a)\n",
    "max_ind = ind[-5:]\n",
    "print(f[max_ind])\n",
    "print(\"HR for this video is: \" +str(f[max_ind].mean()))"
   ]
  },
  {
   "cell_type": "code",
   "execution_count": null,
   "metadata": {
    "pycharm": {
     "name": "#%%\n"
    },
    "scrolled": true
   },
   "outputs": [],
   "source": [
    "if good_frame_number != greens.size: # TO BE REVIEW BY EYAL, POSSIBLE BUG FIX HERE!\n",
    "    frame_number = greens.size\n",
    "axis = np.arange((good_frame_number / round_fps), step=(1 / 30)) # axis is Time\n",
    "plot_result(greens, reds, blues, axis, \"All 3 channels\") # original signals\n",
    "# apply filtering on all the channels:\n",
    "green_buttered = filter_channel(greens,round_fps)\n",
    "red_buttered = filter_channel(reds,round_fps)\n",
    "blue_buttered = filter_channel(blues,round_fps)\n",
    "# plotting the channels after apllying the filter\n",
    "plot_result(green_buttered, red_buttered, blue_buttered, axis, \"After Filter\") # after filtering"
   ]
  },
  {
   "cell_type": "code",
   "execution_count": null,
   "metadata": {
    "pycharm": {
     "name": "#%%\n"
    },
    "scrolled": true
   },
   "outputs": [],
   "source": [
    "if good_frame_number != greens.size: # TO BE REVIEW BY EYAL, POSSIBLE BUG FIX HERE!\n",
    "    frame_number = greens.size\n",
    "axis = np.arange((good_frame_number / round_fps), step=(1 / 30)) # axis is Time\n",
    "plot_result(greens, reds, blues, axis, \"All 3 channels\") # original signals\n",
    "# apply filtering on all the channels:\n",
    "green_buttered = filter_channel(greens,round_fps)\n",
    "red_buttered = filter_channel(reds,round_fps)\n",
    "blue_buttered = filter_channel(blues,round_fps)\n",
    "# plotting the channels after apllying the filter\n",
    "plot_result(green_buttered, red_buttered, blue_buttered, axis, \"After Filter\") # after filtering"
   ]
  },
  {
   "cell_type": "markdown",
   "metadata": {},
   "source": [
    "### PSD estimation using 'Welch' or 'Periodogram'"
   ]
  },
  {
   "cell_type": "code",
   "execution_count": null,
   "metadata": {
    "pycharm": {
     "name": "#%%\n"
    },
    "scrolled": true
   },
   "outputs": [],
   "source": [
    "f, Pxx_den = sig.welch(green_buttered, round_fps,'flattop', 1024, scaling='spectrum')"
   ]
  },
  {
   "cell_type": "markdown",
   "metadata": {
    "pycharm": {
     "name": "#%% md\n"
    }
   },
   "source": [
    "### Plot final results"
   ]
  },
  {
   "cell_type": "code",
   "execution_count": null,
   "metadata": {
    "pycharm": {
     "name": "#%%\n"
    },
    "scrolled": true
   },
   "outputs": [],
   "source": [
    "plt.figure(f, Pxx_den)\n",
    "#plt.semilogy(f, Pxx_den)\n",
    "plt.ylim([1e-7, 1e2])\n",
    "plt.xlabel('frequency [Hz]')\n",
    "plt.ylabel('PSD [V**2/Hz]')\n",
    "plt.show()\n",
    "# periodogram method:\n",
    "f, Pxx_den = sig.periodogram(green_buttered, round_fps)\n",
    "plt.semilogy(f, Pxx_den)\n",
    "plt.ylim([1e-7, 1e2])\n",
    "plt.xlabel('frequency [Hz]')\n",
    "plt.ylabel('PSD [V**2/Hz]')\n",
    "plt.show()"
   ]
  }
 ],
 "metadata": {
  "kernelspec": {
   "display_name": "Python 3",
   "language": "python",
   "name": "python3"
  },
  "language_info": {
   "codemirror_mode": {
    "name": "ipython",
    "version": 3
   },
   "file_extension": ".py",
   "mimetype": "text/x-python",
   "name": "python",
   "nbconvert_exporter": "python",
   "pygments_lexer": "ipython3",
   "version": "3.8.5"
  }
 },
 "nbformat": 4,
 "nbformat_minor": 1
}