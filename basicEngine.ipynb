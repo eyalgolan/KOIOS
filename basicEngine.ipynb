{
 "cells": [
  {
   "cell_type": "markdown",
   "metadata": {
    "collapsed": true,
    "pycharm": {
     "name": "#%% md\n"
    }
   },
   "source": [
    "# Basic engine implementation"
   ]
  },
  {
   "cell_type": "markdown",
   "metadata": {},
   "source": [
    "#### setup"
   ]
  },
  {
   "cell_type": "code",
   "execution_count": 12,
   "metadata": {
    "pycharm": {
     "name": "#%%\n"
    },
    "scrolled": true
   },
   "outputs": [
    {
     "name": "stderr",
     "output_type": "stream",
     "text": [
      "[2021-04-03 12:06:31,515] [INFO] [<module>] [14] : Starting ...\n"
     ]
    }
   ],
   "source": [
    "import face_recognition, PIL.Image, PIL.ImageDraw,math\n",
    "import numpy as np\n",
    "import logging\n",
    "import cv2\n",
    "import platform\n",
    "from matplotlib import pyplot as plt\n",
    "from PIL import Image\n",
    "import scipy.signal as sig\n",
    "\n",
    "FORMAT = '[%(asctime)s] [%(levelname)s] [%(funcName)s] [%(lineno)d] : %(message)s'\n",
    "logging.basicConfig(format=FORMAT, level=logging.INFO)\n",
    "\n",
    "logging.info(\"Starting ...\")\n",
    "if platform.system() == \"Windows\":\n",
    "    seperator = \"\\\\\"\n",
    "else:\n",
    "    seperator = \"/\"\n",
    "\n",
    "dir = \"perry-all-2\"\n",
    "# should be a parameter of the engine\n",
    "dataset_location = \"..\" + seperator + \"dataset\" + seperator + \"good_sync\" + seperator\n",
    "specific_dir = dir\n",
    "#video_location = dataset_location + specific_dir + seperator + \"test.mp4\"\n",
    "video_location = \"face_magnified.mp4\""
   ]
  },
  {
   "cell_type": "markdown",
   "source": [
    "## running evm pre-processing"
   ],
   "metadata": {
    "collapsed": false
   }
  },
  {
   "cell_type": "code",
   "execution_count": 13,
   "outputs": [],
   "source": [
    "#%run ./evm_preprocessing.ipynb\n",
    "#video_location = dataset_location + specific_dir + seperator + \"out.avi\""
   ],
   "metadata": {
    "collapsed": false,
    "pycharm": {
     "name": "#%%\n"
    }
   }
  },
  {
   "cell_type": "markdown",
   "metadata": {},
   "source": [
    "#### Detecting the face landmarks and parsing the ROI"
   ]
  },
  {
   "cell_type": "code",
   "execution_count": 14,
   "metadata": {
    "pycharm": {
     "name": "#%%\n"
    },
    "scrolled": true
   },
   "outputs": [],
   "source": [
    "def parse_roi(frame):\n",
    "    # image = face_recognition.load_image_file(frame) # read image.\n",
    "    face_locations = face_recognition.face_locations(frame,model = 'hog') # detects all the faces in image\n",
    "    face_landmarks_list = face_recognition.face_landmarks(image)\n",
    "    \n",
    "    # iterate through all the faces.\n",
    "    for face_location in face_locations:\n",
    "        img = PIL.Image.fromarray(frame)\n",
    "        top,right,bottom,left = face_location # extract all face square points.\n",
    "        diff = math.floor((top - bottom) * 0.15) # 20 percent of the face len (toadd eyebrow top point).\n",
    "        \n",
    "        # finding the forehead\n",
    "        right_eyebrow_landmarks = np.asarray(face_landmarks_list[0]['right_eyebrow']) # right eyebrow points.\n",
    "        right_eyebrow_landmarks.sort(axis=0)\n",
    "        rightest_point = right_eyebrow_landmarks[-1] # The most right point of the ROI(according to x).\n",
    "        top_right_eyebrow = right_eyebrow_landmarks.min(axis = 0)[1]\n",
    "        left_eyebrow_landmarks = np.asarray(face_landmarks_list[0]['left_eyebrow'])\n",
    "        left_eyebrow_landmarks.sort(axis=0)\n",
    "        leftest_point = left_eyebrow_landmarks[0] # the most left point of ROI.(according to x)\n",
    "        top_left_eyebrow = left_eyebrow_landmarks.min(axis = 0)[1]\n",
    "        bottom = min(top_right_eyebrow,top_left_eyebrow).item(0) # bottom point of the forehead.\n",
    "        bottom = bottom - (0.05 * bottom) # improve bottom location by 2 percent.\n",
    "        forehead = img.crop((leftest_point[0], leftest_point[1]+diff, rightest_point[0],bottom+10)) # adding diff to top to make the forehead bigger.\n",
    "\n",
    "        # finding the second ROI:\n",
    "        upper_mouth = np.asarray(face_landmarks_list[0]['top_lip']) # top_lip landmarks\n",
    "        upper_mouth_min = upper_mouth.min(axis = 0)[1] # The  top - lip upper point.\n",
    "        upper_nose = np.asarray(face_landmarks_list[0]['nose_bridge'])\n",
    "        upper_nose_min = upper_nose.min(axis = 0)[1]  # noise bridge upper point.\n",
    "        upper_nose_min += upper_mouth_min * 0.1 # improving the noise bridge upper point.\n",
    "        nose_to_upper_lip = img.crop((leftest_point[0], upper_nose_min, rightest_point[0], upper_mouth_min))\n",
    "\n",
    "        return forehead, nose_to_upper_lip\n",
    "    return None # in case of which no face was detected"
   ]
  },
  {
   "cell_type": "markdown",
   "metadata": {},
   "source": [
    "### Check for bad frames\n",
    "##### R > 95 and G > 40 and B > 20 and R > G and R > B\n",
    "##### Based on https://arxiv.org/ftp/arxiv/papers/1708/1708.02694.pdf page 5"
   ]
  },
  {
   "cell_type": "code",
   "execution_count": 15,
   "metadata": {
    "pycharm": {
     "name": "#%%s\n"
    },
    "scrolled": true
   },
   "outputs": [],
   "source": [
    "red_min_val = 95\n",
    "green_min_val = 40\n",
    "blue_min_val = 20\n",
    "red_green_max_diff = 15\n",
    "def bad_frame(blue, green, red):\n",
    "    if red <= red_min_val:\n",
    "        logging.warning(\"bad frame detected, reason: red > red_min_val\")\n",
    "        return False\n",
    "    if green <= green_min_val:\n",
    "        logging.warning(\"bad frame detected, reason: green > green_min_val\")\n",
    "        return False\n",
    "    if blue <= blue_min_val:\n",
    "        logging.warning(\"bad frame detected, reason: blue > blue_min_val\")\n",
    "        return False\n",
    "    if red <= green:\n",
    "        logging.warning(\"bad frame detected, reason: red > green\")\n",
    "        return False\n",
    "    if red <= blue:\n",
    "        logging.warning(\"bad frame detected, reason: red > blue\")\n",
    "        return False\n",
    "    if abs(red - green) <= red_green_max_diff:\n",
    "        logging.warning(\"bad frame detected, reason: abs(red - green) > red_green_max_diff\")\n",
    "        return False\n",
    "\n",
    "    return True"
   ]
  },
  {
   "cell_type": "code",
   "execution_count": 16,
   "metadata": {
    "pycharm": {
     "name": "#%%\n"
    },
    "scrolled": true
   },
   "outputs": [],
   "source": [
    "def get_new_frame(vidcap):\n",
    "    success, next_image = vidcap.read()\n",
    "    return success, next_image"
   ]
  },
  {
   "cell_type": "markdown",
   "metadata": {},
   "source": [
    "#### Plotting RGB arrays results"
   ]
  },
  {
   "cell_type": "code",
   "execution_count": 17,
   "metadata": {
    "pycharm": {
     "name": "#%%\n"
    },
    "scrolled": true
   },
   "outputs": [],
   "source": [
    "def plot_result(greens, reds, blues, x_value, title=\"\"):\n",
    "    logging.info(\"Plotting results ...\" + title)\n",
    "    plt.figure(figsize=(6, 5))\n",
    "    plt.title(title)\n",
    "    plt.xlabel(\"Time\")\n",
    "    plt.ylabel(\"Value\")\n",
    "    plt.subplot(3, 1, 1)\n",
    "    plt.plot(x_value, greens, color=\"green\")\n",
    "    plt.subplot(3, 1, 2)\n",
    "    plt.plot(x_value, reds, color=\"red\")\n",
    "    plt.subplot(3, 1, 3)\n",
    "    plt.plot(x_value, blues, color=\"blue\")\n",
    "    plt.show()\n",
    "    logging.info(\"Showing result\")"
   ]
  },
  {
   "cell_type": "markdown",
   "metadata": {},
   "source": [
    "#### Filtering:"
   ]
  },
  {
   "cell_type": "code",
   "execution_count": 23,
   "metadata": {
    "scrolled": true
   },
   "outputs": [],
   "source": [
    "def filter_channel(channel,fs):\n",
    "    \"\"\"\n",
    "    This method apply filter on a channel between 0.75HZ to 4HZ.\n",
    "    :param channel: Is a signal to apply the filter to.\n",
    "    :param fs: Is the sampling rate of channel.\n",
    "    :return: The filtered channel.\n",
    "    \"\"\"\n",
    "    bh, ah = sig.butter(4, 0.75 / (fs / 2), 'highpass')\n",
    "    bl, al = sig.butter(4, 4 / (fs / 2), 'lowpass')\n",
    "    channel = sig.filtfilt(bh, ah, channel) # applying the filter coefficient on the sig\n",
    "    #channel = np.absolute(channel)\n",
    "    channel_after_filter = sig.filtfilt(bl, al, channel) # applying the filter coefficient on the sig\n",
    "    return channel_after_filter"
   ]
  },
  {
   "cell_type": "markdown",
   "metadata": {},
   "source": [
    "#### Getting RGB values from a frame and adding them to arrays"
   ]
  },
  {
   "cell_type": "code",
   "execution_count": 19,
   "metadata": {},
   "outputs": [],
   "source": [
    "def parse_RGB(roi, color_sig):\n",
    "    \"\"\"\n",
    "    Parses an image to its RGB channels\n",
    "    :param image: the image to be parsed\n",
    "    :param vidcap:\n",
    "    :param greens: array containing green channel values\n",
    "    :param blues: array containing blue channel values\n",
    "    :param reds: array containing red channel values\n",
    "    :param frame_number - is the number of the frame of the video.\n",
    "    :return: a flag indicating if there is a next image, and the next image\n",
    "    \"\"\"\n",
    "#     plt.imshow(roi)\n",
    "#     plt.show()\n",
    "    try:\n",
    "        roi = cv2.cvtColor(roi, cv2.COLOR_RGB2BGR)\n",
    "    except:\n",
    "        return False, color_sig\n",
    "    new_blue,new_green,new_red = cv2.split(roi)\n",
    "    b_mean,g_mean,r_mean = np.mean(new_blue),np.mean(new_green),np.mean(new_red)\n",
    "    #if not bad_frame(b_mean,g_mean,r_mean):\n",
    "    color_channels = roi.reshape(-1, roi.shape[-1])\n",
    "    avg_color = color_channels.mean(axis=0)\n",
    "    color_sig.append(avg_color)\n",
    "    return True, color_sig\n",
    "    #return False, color_sig"
   ]
  },
  {
   "cell_type": "markdown",
   "metadata": {},
   "source": [
    "#### Main loop - going over all the frames of the video"
   ]
  },
  {
   "cell_type": "code",
   "execution_count": 20,
   "metadata": {
    "pycharm": {
     "name": "#%%\n"
    },
    "scrolled": true
   },
   "outputs": [
    {
     "name": "stderr",
     "output_type": "stream",
     "text": [
      "[2021-04-03 12:06:31,768] [INFO] [<module>] [8] : Working on video face_magnified.mp4\n",
      "[2021-04-03 12:06:31,822] [INFO] [<module>] [14] : Parsing images ...\n",
      "[2021-04-03 12:06:31,825] [INFO] [<module>] [16] : parsing frame 0/242.0\n",
      "[2021-04-03 12:06:33,309] [INFO] [<module>] [16] : parsing frame 1/242.0\n",
      "[2021-04-03 12:06:34,703] [INFO] [<module>] [16] : parsing frame 2/242.0\n",
      "[2021-04-03 12:06:36,096] [INFO] [<module>] [16] : parsing frame 3/242.0\n",
      "[2021-04-03 12:06:37,394] [INFO] [<module>] [16] : parsing frame 4/242.0\n",
      "[2021-04-03 12:06:38,760] [INFO] [<module>] [16] : parsing frame 5/242.0\n",
      "[2021-04-03 12:06:40,091] [INFO] [<module>] [16] : parsing frame 6/242.0\n",
      "[2021-04-03 12:06:41,463] [INFO] [<module>] [16] : parsing frame 7/242.0\n",
      "[2021-04-03 12:06:42,740] [INFO] [<module>] [16] : parsing frame 8/242.0\n",
      "[2021-04-03 12:06:44,010] [INFO] [<module>] [16] : parsing frame 9/242.0\n",
      "[2021-04-03 12:06:45,237] [INFO] [<module>] [16] : parsing frame 10/242.0\n",
      "[2021-04-03 12:06:46,415] [INFO] [<module>] [16] : parsing frame 11/242.0\n",
      "[2021-04-03 12:06:47,608] [INFO] [<module>] [16] : parsing frame 12/242.0\n",
      "[2021-04-03 12:06:48,883] [INFO] [<module>] [16] : parsing frame 13/242.0\n",
      "[2021-04-03 12:06:50,149] [INFO] [<module>] [16] : parsing frame 14/242.0\n",
      "[2021-04-03 12:06:51,405] [INFO] [<module>] [16] : parsing frame 15/242.0\n",
      "[2021-04-03 12:06:52,683] [INFO] [<module>] [16] : parsing frame 16/242.0\n",
      "[2021-04-03 12:06:53,908] [INFO] [<module>] [16] : parsing frame 17/242.0\n",
      "[2021-04-03 12:06:55,199] [INFO] [<module>] [16] : parsing frame 18/242.0\n",
      "[2021-04-03 12:06:56,445] [INFO] [<module>] [16] : parsing frame 19/242.0\n",
      "[2021-04-03 12:06:57,681] [INFO] [<module>] [16] : parsing frame 20/242.0\n",
      "[2021-04-03 12:06:59,023] [INFO] [<module>] [16] : parsing frame 21/242.0\n",
      "[2021-04-03 12:07:00,256] [INFO] [<module>] [16] : parsing frame 22/242.0\n",
      "[2021-04-03 12:07:01,687] [INFO] [<module>] [16] : parsing frame 23/242.0\n",
      "[2021-04-03 12:07:03,004] [INFO] [<module>] [16] : parsing frame 24/242.0\n",
      "[2021-04-03 12:07:04,233] [INFO] [<module>] [16] : parsing frame 25/242.0\n",
      "[2021-04-03 12:07:05,561] [INFO] [<module>] [16] : parsing frame 26/242.0\n",
      "[2021-04-03 12:07:06,731] [INFO] [<module>] [16] : parsing frame 27/242.0\n",
      "[2021-04-03 12:07:07,929] [INFO] [<module>] [16] : parsing frame 28/242.0\n",
      "[2021-04-03 12:07:09,157] [INFO] [<module>] [16] : parsing frame 29/242.0\n",
      "[2021-04-03 12:07:10,404] [INFO] [<module>] [16] : parsing frame 30/242.0\n",
      "[2021-04-03 12:07:11,564] [INFO] [<module>] [16] : parsing frame 31/242.0\n",
      "[2021-04-03 12:07:12,791] [INFO] [<module>] [16] : parsing frame 32/242.0\n",
      "[2021-04-03 12:07:13,923] [INFO] [<module>] [16] : parsing frame 33/242.0\n",
      "[2021-04-03 12:07:15,046] [INFO] [<module>] [16] : parsing frame 34/242.0\n",
      "[2021-04-03 12:07:16,185] [INFO] [<module>] [16] : parsing frame 35/242.0\n",
      "[2021-04-03 12:07:17,359] [INFO] [<module>] [16] : parsing frame 36/242.0\n",
      "[2021-04-03 12:07:18,515] [INFO] [<module>] [16] : parsing frame 37/242.0\n",
      "[2021-04-03 12:07:19,814] [INFO] [<module>] [16] : parsing frame 38/242.0\n",
      "[2021-04-03 12:07:20,960] [INFO] [<module>] [16] : parsing frame 39/242.0\n",
      "[2021-04-03 12:07:22,175] [INFO] [<module>] [16] : parsing frame 40/242.0\n",
      "[2021-04-03 12:07:23,432] [INFO] [<module>] [16] : parsing frame 41/242.0\n",
      "[2021-04-03 12:07:24,736] [INFO] [<module>] [16] : parsing frame 42/242.0\n",
      "[2021-04-03 12:07:26,030] [INFO] [<module>] [16] : parsing frame 43/242.0\n",
      "[2021-04-03 12:07:27,315] [INFO] [<module>] [16] : parsing frame 44/242.0\n",
      "[2021-04-03 12:07:28,525] [INFO] [<module>] [16] : parsing frame 45/242.0\n",
      "[2021-04-03 12:07:29,790] [INFO] [<module>] [16] : parsing frame 46/242.0\n",
      "[2021-04-03 12:07:31,105] [INFO] [<module>] [16] : parsing frame 47/242.0\n",
      "[2021-04-03 12:07:32,398] [INFO] [<module>] [16] : parsing frame 48/242.0\n",
      "[2021-04-03 12:07:33,715] [INFO] [<module>] [16] : parsing frame 49/242.0\n",
      "[2021-04-03 12:07:35,047] [INFO] [<module>] [16] : parsing frame 50/242.0\n",
      "[2021-04-03 12:07:36,289] [INFO] [<module>] [16] : parsing frame 51/242.0\n",
      "[2021-04-03 12:07:37,519] [INFO] [<module>] [16] : parsing frame 52/242.0\n",
      "[2021-04-03 12:07:38,844] [INFO] [<module>] [16] : parsing frame 53/242.0\n",
      "[2021-04-03 12:07:40,065] [INFO] [<module>] [16] : parsing frame 54/242.0\n",
      "[2021-04-03 12:07:41,322] [INFO] [<module>] [16] : parsing frame 55/242.0\n",
      "[2021-04-03 12:07:42,547] [INFO] [<module>] [16] : parsing frame 56/242.0\n",
      "[2021-04-03 12:07:43,669] [INFO] [<module>] [16] : parsing frame 57/242.0\n",
      "[2021-04-03 12:07:44,793] [INFO] [<module>] [16] : parsing frame 58/242.0\n",
      "[2021-04-03 12:07:45,926] [INFO] [<module>] [16] : parsing frame 59/242.0\n",
      "[2021-04-03 12:07:47,048] [INFO] [<module>] [16] : parsing frame 60/242.0\n",
      "[2021-04-03 12:07:48,177] [INFO] [<module>] [16] : parsing frame 61/242.0\n",
      "[2021-04-03 12:07:49,304] [INFO] [<module>] [16] : parsing frame 62/242.0\n",
      "[2021-04-03 12:07:50,442] [INFO] [<module>] [16] : parsing frame 63/242.0\n",
      "[2021-04-03 12:07:51,619] [INFO] [<module>] [16] : parsing frame 64/242.0\n",
      "[2021-04-03 12:07:52,819] [INFO] [<module>] [16] : parsing frame 65/242.0\n",
      "[2021-04-03 12:07:53,955] [INFO] [<module>] [16] : parsing frame 66/242.0\n",
      "[2021-04-03 12:07:55,109] [INFO] [<module>] [16] : parsing frame 67/242.0\n",
      "[2021-04-03 12:07:56,274] [INFO] [<module>] [16] : parsing frame 68/242.0\n",
      "[2021-04-03 12:07:57,436] [INFO] [<module>] [16] : parsing frame 69/242.0\n",
      "[2021-04-03 12:07:58,719] [INFO] [<module>] [16] : parsing frame 70/242.0\n",
      "[2021-04-03 12:07:59,927] [INFO] [<module>] [16] : parsing frame 71/242.0\n",
      "[2021-04-03 12:08:01,137] [INFO] [<module>] [16] : parsing frame 72/242.0\n",
      "[2021-04-03 12:08:02,275] [INFO] [<module>] [16] : parsing frame 73/242.0\n",
      "[2021-04-03 12:08:03,474] [INFO] [<module>] [16] : parsing frame 74/242.0\n",
      "[2021-04-03 12:08:04,637] [INFO] [<module>] [16] : parsing frame 75/242.0\n",
      "[2021-04-03 12:08:05,843] [INFO] [<module>] [16] : parsing frame 76/242.0\n",
      "[2021-04-03 12:08:06,995] [INFO] [<module>] [16] : parsing frame 77/242.0\n",
      "[2021-04-03 12:08:08,141] [INFO] [<module>] [16] : parsing frame 78/242.0\n",
      "[2021-04-03 12:08:09,270] [INFO] [<module>] [16] : parsing frame 79/242.0\n",
      "[2021-04-03 12:08:10,407] [INFO] [<module>] [16] : parsing frame 80/242.0\n",
      "[2021-04-03 12:08:11,537] [INFO] [<module>] [16] : parsing frame 81/242.0\n",
      "[2021-04-03 12:08:12,680] [INFO] [<module>] [16] : parsing frame 82/242.0\n",
      "[2021-04-03 12:08:13,839] [INFO] [<module>] [16] : parsing frame 83/242.0\n",
      "[2021-04-03 12:08:14,968] [INFO] [<module>] [16] : parsing frame 84/242.0\n",
      "[2021-04-03 12:08:16,109] [INFO] [<module>] [16] : parsing frame 85/242.0\n",
      "[2021-04-03 12:08:17,241] [INFO] [<module>] [16] : parsing frame 86/242.0\n",
      "[2021-04-03 12:08:18,364] [INFO] [<module>] [16] : parsing frame 87/242.0\n",
      "[2021-04-03 12:08:19,495] [INFO] [<module>] [16] : parsing frame 88/242.0\n",
      "[2021-04-03 12:08:20,628] [INFO] [<module>] [16] : parsing frame 89/242.0\n",
      "[2021-04-03 12:08:21,767] [INFO] [<module>] [16] : parsing frame 90/242.0\n",
      "[2021-04-03 12:08:22,898] [INFO] [<module>] [16] : parsing frame 91/242.0\n",
      "[2021-04-03 12:08:24,020] [INFO] [<module>] [16] : parsing frame 92/242.0\n",
      "[2021-04-03 12:08:25,152] [INFO] [<module>] [16] : parsing frame 93/242.0\n",
      "[2021-04-03 12:08:26,285] [INFO] [<module>] [16] : parsing frame 94/242.0\n",
      "[2021-04-03 12:08:27,422] [INFO] [<module>] [16] : parsing frame 95/242.0\n",
      "[2021-04-03 12:08:28,559] [INFO] [<module>] [16] : parsing frame 96/242.0\n",
      "[2021-04-03 12:08:29,697] [INFO] [<module>] [16] : parsing frame 97/242.0\n",
      "[2021-04-03 12:08:30,832] [INFO] [<module>] [16] : parsing frame 98/242.0\n",
      "[2021-04-03 12:08:31,963] [INFO] [<module>] [16] : parsing frame 99/242.0\n",
      "[2021-04-03 12:08:33,083] [INFO] [<module>] [16] : parsing frame 100/242.0\n",
      "[2021-04-03 12:08:34,214] [INFO] [<module>] [16] : parsing frame 101/242.0\n",
      "[2021-04-03 12:08:35,353] [INFO] [<module>] [16] : parsing frame 102/242.0\n",
      "[2021-04-03 12:08:36,497] [INFO] [<module>] [16] : parsing frame 103/242.0\n",
      "[2021-04-03 12:08:37,657] [INFO] [<module>] [16] : parsing frame 104/242.0\n",
      "[2021-04-03 12:08:38,898] [INFO] [<module>] [16] : parsing frame 105/242.0\n",
      "[2021-04-03 12:08:40,109] [INFO] [<module>] [16] : parsing frame 106/242.0\n",
      "[2021-04-03 12:08:41,322] [INFO] [<module>] [16] : parsing frame 107/242.0\n",
      "[2021-04-03 12:08:42,499] [INFO] [<module>] [16] : parsing frame 108/242.0\n",
      "[2021-04-03 12:08:43,753] [INFO] [<module>] [16] : parsing frame 109/242.0\n",
      "[2021-04-03 12:08:45,008] [INFO] [<module>] [16] : parsing frame 110/242.0\n",
      "[2021-04-03 12:08:46,248] [INFO] [<module>] [16] : parsing frame 111/242.0\n",
      "[2021-04-03 12:08:47,382] [INFO] [<module>] [16] : parsing frame 112/242.0\n",
      "[2021-04-03 12:08:48,521] [INFO] [<module>] [16] : parsing frame 113/242.0\n",
      "[2021-04-03 12:08:49,654] [INFO] [<module>] [16] : parsing frame 114/242.0\n",
      "[2021-04-03 12:08:50,815] [INFO] [<module>] [16] : parsing frame 115/242.0\n",
      "[2021-04-03 12:08:51,940] [INFO] [<module>] [16] : parsing frame 116/242.0\n",
      "[2021-04-03 12:08:53,072] [INFO] [<module>] [16] : parsing frame 117/242.0\n",
      "[2021-04-03 12:08:54,297] [INFO] [<module>] [16] : parsing frame 118/242.0\n",
      "[2021-04-03 12:08:55,512] [INFO] [<module>] [16] : parsing frame 119/242.0\n",
      "[2021-04-03 12:08:56,667] [INFO] [<module>] [16] : parsing frame 120/242.0\n",
      "[2021-04-03 12:08:57,840] [INFO] [<module>] [16] : parsing frame 121/242.0\n",
      "[2021-04-03 12:08:58,965] [INFO] [<module>] [16] : parsing frame 122/242.0\n",
      "[2021-04-03 12:09:00,135] [INFO] [<module>] [16] : parsing frame 123/242.0\n",
      "[2021-04-03 12:09:01,307] [INFO] [<module>] [16] : parsing frame 124/242.0\n",
      "[2021-04-03 12:09:02,446] [INFO] [<module>] [16] : parsing frame 125/242.0\n",
      "[2021-04-03 12:09:03,581] [INFO] [<module>] [16] : parsing frame 126/242.0\n",
      "[2021-04-03 12:09:04,712] [INFO] [<module>] [16] : parsing frame 127/242.0\n",
      "[2021-04-03 12:09:05,850] [INFO] [<module>] [16] : parsing frame 128/242.0\n",
      "[2021-04-03 12:09:07,009] [INFO] [<module>] [16] : parsing frame 129/242.0\n",
      "[2021-04-03 12:09:08,206] [INFO] [<module>] [16] : parsing frame 130/242.0\n",
      "[2021-04-03 12:09:09,385] [INFO] [<module>] [16] : parsing frame 131/242.0\n",
      "[2021-04-03 12:09:10,513] [INFO] [<module>] [16] : parsing frame 132/242.0\n",
      "[2021-04-03 12:09:11,642] [INFO] [<module>] [16] : parsing frame 133/242.0\n",
      "[2021-04-03 12:09:12,780] [INFO] [<module>] [16] : parsing frame 134/242.0\n",
      "[2021-04-03 12:09:13,923] [INFO] [<module>] [16] : parsing frame 135/242.0\n",
      "[2021-04-03 12:09:15,050] [INFO] [<module>] [16] : parsing frame 136/242.0\n",
      "[2021-04-03 12:09:16,185] [INFO] [<module>] [16] : parsing frame 137/242.0\n",
      "[2021-04-03 12:09:17,314] [INFO] [<module>] [16] : parsing frame 138/242.0\n",
      "[2021-04-03 12:09:18,448] [INFO] [<module>] [16] : parsing frame 139/242.0\n",
      "[2021-04-03 12:09:19,574] [INFO] [<module>] [16] : parsing frame 140/242.0\n",
      "[2021-04-03 12:09:20,736] [INFO] [<module>] [16] : parsing frame 141/242.0\n",
      "[2021-04-03 12:09:21,912] [INFO] [<module>] [16] : parsing frame 142/242.0\n",
      "[2021-04-03 12:09:23,087] [INFO] [<module>] [16] : parsing frame 143/242.0\n",
      "[2021-04-03 12:09:24,215] [INFO] [<module>] [16] : parsing frame 144/242.0\n",
      "[2021-04-03 12:09:25,349] [INFO] [<module>] [16] : parsing frame 145/242.0\n",
      "[2021-04-03 12:09:26,491] [INFO] [<module>] [16] : parsing frame 146/242.0\n",
      "[2021-04-03 12:09:27,621] [INFO] [<module>] [16] : parsing frame 147/242.0\n",
      "[2021-04-03 12:09:28,761] [INFO] [<module>] [16] : parsing frame 148/242.0\n",
      "[2021-04-03 12:09:29,903] [INFO] [<module>] [16] : parsing frame 149/242.0\n",
      "[2021-04-03 12:09:31,039] [INFO] [<module>] [16] : parsing frame 150/242.0\n",
      "[2021-04-03 12:09:32,175] [INFO] [<module>] [16] : parsing frame 151/242.0\n",
      "[2021-04-03 12:09:33,324] [INFO] [<module>] [16] : parsing frame 152/242.0\n",
      "[2021-04-03 12:09:34,521] [INFO] [<module>] [16] : parsing frame 153/242.0\n",
      "[2021-04-03 12:09:35,709] [INFO] [<module>] [16] : parsing frame 154/242.0\n",
      "[2021-04-03 12:09:36,842] [INFO] [<module>] [16] : parsing frame 155/242.0\n",
      "[2021-04-03 12:09:38,029] [INFO] [<module>] [16] : parsing frame 156/242.0\n",
      "[2021-04-03 12:09:39,258] [INFO] [<module>] [16] : parsing frame 157/242.0\n",
      "[2021-04-03 12:09:40,450] [INFO] [<module>] [16] : parsing frame 158/242.0\n",
      "[2021-04-03 12:09:41,586] [INFO] [<module>] [16] : parsing frame 159/242.0\n",
      "[2021-04-03 12:09:42,733] [INFO] [<module>] [16] : parsing frame 160/242.0\n",
      "[2021-04-03 12:09:43,874] [INFO] [<module>] [16] : parsing frame 161/242.0\n",
      "[2021-04-03 12:09:45,000] [INFO] [<module>] [16] : parsing frame 162/242.0\n",
      "[2021-04-03 12:09:46,113] [INFO] [<module>] [16] : parsing frame 163/242.0\n",
      "[2021-04-03 12:09:47,332] [INFO] [<module>] [16] : parsing frame 164/242.0\n",
      "[2021-04-03 12:09:48,500] [INFO] [<module>] [16] : parsing frame 165/242.0\n",
      "[2021-04-03 12:09:49,656] [INFO] [<module>] [16] : parsing frame 166/242.0\n",
      "[2021-04-03 12:09:50,810] [INFO] [<module>] [16] : parsing frame 167/242.0\n",
      "[2021-04-03 12:09:51,973] [INFO] [<module>] [16] : parsing frame 168/242.0\n",
      "[2021-04-03 12:09:53,096] [INFO] [<module>] [16] : parsing frame 169/242.0\n",
      "[2021-04-03 12:09:54,219] [INFO] [<module>] [16] : parsing frame 170/242.0\n",
      "[2021-04-03 12:09:55,352] [INFO] [<module>] [16] : parsing frame 171/242.0\n",
      "[2021-04-03 12:09:56,489] [INFO] [<module>] [16] : parsing frame 172/242.0\n",
      "[2021-04-03 12:09:57,597] [INFO] [<module>] [16] : parsing frame 173/242.0\n",
      "[2021-04-03 12:09:58,724] [INFO] [<module>] [16] : parsing frame 174/242.0\n",
      "[2021-04-03 12:10:00,142] [INFO] [<module>] [16] : parsing frame 175/242.0\n",
      "[2021-04-03 12:10:01,324] [INFO] [<module>] [16] : parsing frame 176/242.0\n",
      "[2021-04-03 12:10:02,463] [INFO] [<module>] [16] : parsing frame 177/242.0\n",
      "[2021-04-03 12:10:03,599] [INFO] [<module>] [16] : parsing frame 178/242.0\n",
      "[2021-04-03 12:10:04,730] [INFO] [<module>] [16] : parsing frame 179/242.0\n",
      "[2021-04-03 12:10:05,861] [INFO] [<module>] [16] : parsing frame 180/242.0\n",
      "[2021-04-03 12:10:06,992] [INFO] [<module>] [16] : parsing frame 181/242.0\n",
      "[2021-04-03 12:10:08,121] [INFO] [<module>] [16] : parsing frame 182/242.0\n",
      "[2021-04-03 12:10:09,257] [INFO] [<module>] [16] : parsing frame 183/242.0\n",
      "[2021-04-03 12:10:10,395] [INFO] [<module>] [16] : parsing frame 184/242.0\n",
      "[2021-04-03 12:10:11,522] [INFO] [<module>] [16] : parsing frame 185/242.0\n",
      "[2021-04-03 12:10:12,662] [INFO] [<module>] [16] : parsing frame 186/242.0\n",
      "[2021-04-03 12:10:13,783] [INFO] [<module>] [16] : parsing frame 187/242.0\n",
      "[2021-04-03 12:10:14,928] [INFO] [<module>] [16] : parsing frame 188/242.0\n",
      "[2021-04-03 12:10:16,052] [INFO] [<module>] [16] : parsing frame 189/242.0\n",
      "[2021-04-03 12:10:17,187] [INFO] [<module>] [16] : parsing frame 190/242.0\n",
      "[2021-04-03 12:10:18,318] [INFO] [<module>] [16] : parsing frame 191/242.0\n",
      "[2021-04-03 12:10:19,435] [INFO] [<module>] [16] : parsing frame 192/242.0\n",
      "[2021-04-03 12:10:20,569] [INFO] [<module>] [16] : parsing frame 193/242.0\n",
      "[2021-04-03 12:10:21,703] [INFO] [<module>] [16] : parsing frame 194/242.0\n",
      "[2021-04-03 12:10:22,840] [INFO] [<module>] [16] : parsing frame 195/242.0\n",
      "[2021-04-03 12:10:23,961] [INFO] [<module>] [16] : parsing frame 196/242.0\n",
      "[2021-04-03 12:10:25,085] [INFO] [<module>] [16] : parsing frame 197/242.0\n",
      "[2021-04-03 12:10:26,227] [INFO] [<module>] [16] : parsing frame 198/242.0\n",
      "[2021-04-03 12:10:27,363] [INFO] [<module>] [16] : parsing frame 199/242.0\n",
      "[2021-04-03 12:10:28,490] [INFO] [<module>] [16] : parsing frame 200/242.0\n",
      "[2021-04-03 12:10:29,617] [INFO] [<module>] [16] : parsing frame 201/242.0\n",
      "[2021-04-03 12:10:30,740] [INFO] [<module>] [16] : parsing frame 202/242.0\n",
      "[2021-04-03 12:10:31,869] [INFO] [<module>] [16] : parsing frame 203/242.0\n",
      "[2021-04-03 12:10:32,999] [INFO] [<module>] [16] : parsing frame 204/242.0\n",
      "[2021-04-03 12:10:34,139] [INFO] [<module>] [16] : parsing frame 205/242.0\n",
      "[2021-04-03 12:10:35,255] [INFO] [<module>] [16] : parsing frame 206/242.0\n",
      "[2021-04-03 12:10:36,371] [INFO] [<module>] [16] : parsing frame 207/242.0\n",
      "[2021-04-03 12:10:37,515] [INFO] [<module>] [16] : parsing frame 208/242.0\n",
      "[2021-04-03 12:10:38,718] [INFO] [<module>] [16] : parsing frame 209/242.0\n",
      "[2021-04-03 12:10:39,904] [INFO] [<module>] [16] : parsing frame 210/242.0\n",
      "[2021-04-03 12:10:41,091] [INFO] [<module>] [16] : parsing frame 211/242.0\n",
      "[2021-04-03 12:10:42,232] [INFO] [<module>] [16] : parsing frame 212/242.0\n",
      "[2021-04-03 12:10:43,357] [INFO] [<module>] [16] : parsing frame 213/242.0\n",
      "[2021-04-03 12:10:44,476] [INFO] [<module>] [16] : parsing frame 214/242.0\n",
      "[2021-04-03 12:10:45,594] [INFO] [<module>] [16] : parsing frame 215/242.0\n",
      "[2021-04-03 12:10:46,737] [INFO] [<module>] [16] : parsing frame 216/242.0\n",
      "[2021-04-03 12:10:47,880] [INFO] [<module>] [16] : parsing frame 217/242.0\n",
      "[2021-04-03 12:10:49,013] [INFO] [<module>] [16] : parsing frame 218/242.0\n",
      "[2021-04-03 12:10:50,146] [INFO] [<module>] [16] : parsing frame 219/242.0\n",
      "[2021-04-03 12:10:51,320] [INFO] [<module>] [16] : parsing frame 220/242.0\n",
      "[2021-04-03 12:10:52,444] [INFO] [<module>] [16] : parsing frame 221/242.0\n",
      "[2021-04-03 12:10:53,576] [INFO] [<module>] [16] : parsing frame 222/242.0\n",
      "[2021-04-03 12:10:54,706] [INFO] [<module>] [16] : parsing frame 223/242.0\n",
      "[2021-04-03 12:10:55,833] [INFO] [<module>] [16] : parsing frame 224/242.0\n",
      "[2021-04-03 12:10:56,962] [INFO] [<module>] [16] : parsing frame 225/242.0\n",
      "[2021-04-03 12:10:58,104] [INFO] [<module>] [16] : parsing frame 226/242.0\n",
      "[2021-04-03 12:10:59,229] [INFO] [<module>] [16] : parsing frame 227/242.0\n",
      "[2021-04-03 12:11:00,446] [INFO] [<module>] [16] : parsing frame 228/242.0\n",
      "[2021-04-03 12:11:01,693] [INFO] [<module>] [16] : parsing frame 229/242.0\n",
      "[2021-04-03 12:11:02,819] [INFO] [<module>] [16] : parsing frame 230/242.0\n",
      "[2021-04-03 12:11:03,943] [INFO] [<module>] [16] : parsing frame 231/242.0\n",
      "[2021-04-03 12:11:05,093] [INFO] [<module>] [16] : parsing frame 232/242.0\n",
      "[2021-04-03 12:11:06,217] [INFO] [<module>] [16] : parsing frame 233/242.0\n",
      "[2021-04-03 12:11:07,356] [INFO] [<module>] [16] : parsing frame 234/242.0\n",
      "[2021-04-03 12:11:08,474] [INFO] [<module>] [16] : parsing frame 235/242.0\n",
      "[2021-04-03 12:11:09,606] [INFO] [<module>] [16] : parsing frame 236/242.0\n",
      "[2021-04-03 12:11:10,733] [INFO] [<module>] [16] : parsing frame 237/242.0\n",
      "[2021-04-03 12:11:11,866] [INFO] [<module>] [16] : parsing frame 238/242.0\n",
      "[2021-04-03 12:11:13,007] [INFO] [<module>] [16] : parsing frame 239/242.0\n",
      "[2021-04-03 12:11:14,136] [INFO] [<module>] [16] : parsing frame 240/242.0\n",
      "[2021-04-03 12:11:15,265] [INFO] [<module>] [16] : parsing frame 241/242.0\n"
     ]
    }
   ],
   "source": [
    "color_sig = []\n",
    "heart_rates = []\n",
    "good_frame_number = 0\n",
    "total_frame_number = 0\n",
    "\n",
    "# Parsing video:\n",
    "logging.info(\"Working on video \" + video_location)\n",
    "vidcap = cv2.VideoCapture(video_location)\n",
    "success, image = vidcap.read()\n",
    "fps = vidcap.get(cv2.CAP_PROP_FPS) # fs == sampling rate\n",
    "round_fps = np.round(fps)\n",
    "number_of_frames = vidcap.get(cv2.CAP_PROP_FRAME_COUNT)\n",
    "logging.info(\"Parsing images ...\")\n",
    "while success:\n",
    "    logging.info(\"parsing frame \" + str(total_frame_number) + \"/\" + str(number_of_frames))\n",
    "    rois = parse_roi(cv2.cvtColor(image, cv2.COLOR_BGR2RGB))  # build image ROI (rois is a tuple contains two regions)\n",
    "    if rois is not None : \n",
    "        roi = np.asarray(rois[0]) # Just the forehead\n",
    "        is_good_frame,color_sig = parse_RGB(roi, color_sig)\n",
    "        if is_good_frame:\n",
    "            good_frame_number += 1\n",
    "    total_frame_number += 1\n",
    "    success, image = get_new_frame(vidcap)"
   ]
  },
  {
   "cell_type": "code",
   "execution_count": 25,
   "metadata": {
    "scrolled": true
   },
   "outputs": [],
   "source": [
    "def find_hr_in_window(green, window_start, round_fps, window_id, window_size):\n",
    "    round_fps = int(round_fps)\n",
    "    if window_start + round_fps * window_size > len(green):\n",
    "        window = green[window_start : ]\n",
    "    else:\n",
    "        window = green[window_start : window_start + round_fps * window_size]\n",
    "    window_sig = np.arange(window.size/round_fps,step= (1/30))\n",
    "    ax = plt.axes()\n",
    "    ax.set_facecolor(\"white\")\n",
    "    plt.plot(window_sig,window,color ='green')\n",
    "    plt.show()\n",
    "\n",
    "    window = window - np.mean(window)\n",
    "    window = window / np.std(window)\n",
    "    plt.plot(window_sig,window,color ='green')\n",
    "    plt.show()\n",
    "\n",
    "    g = filter_channel(window,round_fps)\n",
    "\n",
    "    plt.plot(window_sig,g,color ='green')\n",
    "    plt.show()\n",
    "\n",
    "    f, Pxx_den = sig.periodogram(g, round_fps)\n",
    "\n",
    "    plt.semilogy(f, Pxx_den)\n",
    "    plt.ylim([1e-7, 1e2])\n",
    "    plt.xlabel('frequency [Hz]')\n",
    "    plt.ylabel('PSD [V**2/Hz]')\n",
    "    plt.show()\n",
    "\n",
    "\n",
    "    max_val = Pxx_den.argmax()\n",
    "    logging.info(\"Heart rate of window \" + str(window_id) +\n",
    "                 \": \" + str(f[max_val]))"
   ]
  },
  {
   "cell_type": "code",
   "execution_count": 26,
   "outputs": [
    {
     "data": {
      "text/plain": "<Figure size 432x288 with 1 Axes>",
      "image/png": "[encoded data removed]"
     },
     "metadata": {
      "needs_background": "light"
     },
     "output_type": "display_data"
    },
    {
     "data": {
      "text/plain": "<Figure size 432x288 with 1 Axes>",
      "image/png": "[encoded data removed]"
     },
     "metadata": {
      "needs_background": "light"
     },
     "output_type": "display_data"
    },
    {
     "data": {
      "text/plain": "<Figure size 432x288 with 1 Axes>",
      "image/png": "[encoded data removed]"
     },
     "metadata": {
      "needs_background": "light"
     },
     "output_type": "display_data"
    },
    {
     "data": {
      "text/plain": "<Figure size 432x288 with 1 Axes>",
      "image/png": "[encoded data removed]"
     },
     "metadata": {
      "needs_background": "light"
     },
     "output_type": "display_data"
    },
    {
     "name": "stderr",
     "output_type": "stream",
     "text": [
      "[2021-04-03 12:18:53,778] [INFO] [find_hr_in_window] [35] : Heart rate of window 1: 0.9917355371900827\n",
      "d:\\studies\\bar_ilan\\year 3\\final_project\\koios\\venv\\lib\\site-packages\\numpy\\core\\fromnumeric.py:3373: RuntimeWarning: Mean of empty slice.\n",
      "  out=out, **kwargs)\n",
      "d:\\studies\\bar_ilan\\year 3\\final_project\\koios\\venv\\lib\\site-packages\\numpy\\core\\_methods.py:170: RuntimeWarning: invalid value encountered in double_scalars\n",
      "  ret = ret.dtype.type(ret / rcount)\n",
      "d:\\studies\\bar_ilan\\year 3\\final_project\\koios\\venv\\lib\\site-packages\\numpy\\core\\_methods.py:234: RuntimeWarning: Degrees of freedom <= 0 for slice\n",
      "  keepdims=keepdims)\n",
      "d:\\studies\\bar_ilan\\year 3\\final_project\\koios\\venv\\lib\\site-packages\\numpy\\core\\_methods.py:195: RuntimeWarning: invalid value encountered in true_divide\n",
      "  arrmean, rcount, out=arrmean, casting='unsafe', subok=False)\n",
      "d:\\studies\\bar_ilan\\year 3\\final_project\\koios\\venv\\lib\\site-packages\\numpy\\core\\_methods.py:226: RuntimeWarning: invalid value encountered in double_scalars\n",
      "  ret = ret.dtype.type(ret / rcount)\n"
     ]
    },
    {
     "data": {
      "text/plain": "<Figure size 432x288 with 1 Axes>",
      "image/png": "[encoded data removed]"
     },
     "metadata": {
      "needs_background": "light"
     },
     "output_type": "display_data"
    },
    {
     "data": {
      "text/plain": "<Figure size 432x288 with 1 Axes>",
      "image/png": "[encoded data removed]"
     },
     "metadata": {
      "needs_background": "light"
     },
     "output_type": "display_data"
    },
    {
     "ename": "ValueError",
     "evalue": "The length of the input vector x must be greater than padlen, which is 15.",
     "output_type": "error",
     "traceback": [
      "\u001B[0;31m---------------------------------------------------------------------------\u001B[0m",
      "\u001B[0;31mValueError\u001B[0m                                Traceback (most recent call last)",
      "\u001B[0;32m<ipython-input-26-0741340dfb24>\u001B[0m in \u001B[0;36m<module>\u001B[0;34m()\u001B[0m\n\u001B[1;32m     12\u001B[0m     \u001B[0mwindow_start\u001B[0m \u001B[0;34m+=\u001B[0m \u001B[0mint\u001B[0m\u001B[0;34m(\u001B[0m\u001B[0mround_fps\u001B[0m\u001B[0;34m)\u001B[0m \u001B[0;34m*\u001B[0m \u001B[0mwindow_size\u001B[0m\u001B[0;34m\u001B[0m\u001B[0;34m\u001B[0m\u001B[0m\n\u001B[1;32m     13\u001B[0m     \u001B[0mwindow_id\u001B[0m \u001B[0;34m+=\u001B[0m \u001B[0;36m1\u001B[0m\u001B[0;34m\u001B[0m\u001B[0;34m\u001B[0m\u001B[0m\n\u001B[0;32m---> 14\u001B[0;31m \u001B[0mfind_hr_in_window\u001B[0m\u001B[0;34m(\u001B[0m\u001B[0mgreen\u001B[0m\u001B[0;34m,\u001B[0m \u001B[0mwindow_start\u001B[0m\u001B[0;34m,\u001B[0m \u001B[0mround_fps\u001B[0m\u001B[0;34m,\u001B[0m \u001B[0mwindow_id\u001B[0m\u001B[0;34m,\u001B[0m \u001B[0mwindow_size\u001B[0m\u001B[0;34m)\u001B[0m\u001B[0;34m\u001B[0m\u001B[0;34m\u001B[0m\u001B[0m\n\u001B[0m\u001B[1;32m     15\u001B[0m \u001B[0;34m\u001B[0m\u001B[0m\n",
      "\u001B[0;32m<ipython-input-25-2756b655e795>\u001B[0m in \u001B[0;36mfind_hr_in_window\u001B[0;34m(green, window_start, round_fps, window_id, window_size)\u001B[0m\n\u001B[1;32m     17\u001B[0m     \u001B[0mplt\u001B[0m\u001B[0;34m.\u001B[0m\u001B[0mshow\u001B[0m\u001B[0;34m(\u001B[0m\u001B[0;34m)\u001B[0m\u001B[0;34m\u001B[0m\u001B[0;34m\u001B[0m\u001B[0m\n\u001B[1;32m     18\u001B[0m \u001B[0;34m\u001B[0m\u001B[0m\n\u001B[0;32m---> 19\u001B[0;31m     \u001B[0mg\u001B[0m \u001B[0;34m=\u001B[0m \u001B[0mfilter_channel\u001B[0m\u001B[0;34m(\u001B[0m\u001B[0mwindow\u001B[0m\u001B[0;34m,\u001B[0m\u001B[0mround_fps\u001B[0m\u001B[0;34m)\u001B[0m\u001B[0;34m\u001B[0m\u001B[0;34m\u001B[0m\u001B[0m\n\u001B[0m\u001B[1;32m     20\u001B[0m \u001B[0;34m\u001B[0m\u001B[0m\n\u001B[1;32m     21\u001B[0m     \u001B[0mplt\u001B[0m\u001B[0;34m.\u001B[0m\u001B[0mplot\u001B[0m\u001B[0;34m(\u001B[0m\u001B[0mwindow_sig\u001B[0m\u001B[0;34m,\u001B[0m\u001B[0mg\u001B[0m\u001B[0;34m,\u001B[0m\u001B[0mcolor\u001B[0m \u001B[0;34m=\u001B[0m\u001B[0;34m'green'\u001B[0m\u001B[0;34m)\u001B[0m\u001B[0;34m\u001B[0m\u001B[0;34m\u001B[0m\u001B[0m\n",
      "\u001B[0;32m<ipython-input-23-53466f91fdfb>\u001B[0m in \u001B[0;36mfilter_channel\u001B[0;34m(channel, fs)\u001B[0m\n\u001B[1;32m      9\u001B[0m     \u001B[0mbh\u001B[0m\u001B[0;34m,\u001B[0m \u001B[0mah\u001B[0m \u001B[0;34m=\u001B[0m \u001B[0msig\u001B[0m\u001B[0;34m.\u001B[0m\u001B[0mbutter\u001B[0m\u001B[0;34m(\u001B[0m\u001B[0;36m4\u001B[0m\u001B[0;34m,\u001B[0m \u001B[0;36m0.75\u001B[0m \u001B[0;34m/\u001B[0m \u001B[0;34m(\u001B[0m\u001B[0mfs\u001B[0m \u001B[0;34m/\u001B[0m \u001B[0;36m2\u001B[0m\u001B[0;34m)\u001B[0m\u001B[0;34m,\u001B[0m \u001B[0;34m'highpass'\u001B[0m\u001B[0;34m)\u001B[0m\u001B[0;34m\u001B[0m\u001B[0;34m\u001B[0m\u001B[0m\n\u001B[1;32m     10\u001B[0m     \u001B[0mbl\u001B[0m\u001B[0;34m,\u001B[0m \u001B[0mal\u001B[0m \u001B[0;34m=\u001B[0m \u001B[0msig\u001B[0m\u001B[0;34m.\u001B[0m\u001B[0mbutter\u001B[0m\u001B[0;34m(\u001B[0m\u001B[0;36m4\u001B[0m\u001B[0;34m,\u001B[0m \u001B[0;36m4\u001B[0m \u001B[0;34m/\u001B[0m \u001B[0;34m(\u001B[0m\u001B[0mfs\u001B[0m \u001B[0;34m/\u001B[0m \u001B[0;36m2\u001B[0m\u001B[0;34m)\u001B[0m\u001B[0;34m,\u001B[0m \u001B[0;34m'lowpass'\u001B[0m\u001B[0;34m)\u001B[0m\u001B[0;34m\u001B[0m\u001B[0;34m\u001B[0m\u001B[0m\n\u001B[0;32m---> 11\u001B[0;31m     \u001B[0mchannel\u001B[0m \u001B[0;34m=\u001B[0m \u001B[0msig\u001B[0m\u001B[0;34m.\u001B[0m\u001B[0mfiltfilt\u001B[0m\u001B[0;34m(\u001B[0m\u001B[0mbh\u001B[0m\u001B[0;34m,\u001B[0m \u001B[0mah\u001B[0m\u001B[0;34m,\u001B[0m \u001B[0mchannel\u001B[0m\u001B[0;34m)\u001B[0m \u001B[0;31m# applying the filter coefficient on the sig\u001B[0m\u001B[0;34m\u001B[0m\u001B[0;34m\u001B[0m\u001B[0m\n\u001B[0m\u001B[1;32m     12\u001B[0m     \u001B[0;31m#channel = np.absolute(channel)\u001B[0m\u001B[0;34m\u001B[0m\u001B[0;34m\u001B[0m\u001B[0;34m\u001B[0m\u001B[0m\n\u001B[1;32m     13\u001B[0m     \u001B[0mchannel_after_filter\u001B[0m \u001B[0;34m=\u001B[0m \u001B[0msig\u001B[0m\u001B[0;34m.\u001B[0m\u001B[0mfiltfilt\u001B[0m\u001B[0;34m(\u001B[0m\u001B[0mbl\u001B[0m\u001B[0;34m,\u001B[0m \u001B[0mal\u001B[0m\u001B[0;34m,\u001B[0m \u001B[0mchannel\u001B[0m\u001B[0;34m)\u001B[0m \u001B[0;31m# applying the filter coefficient on the sig\u001B[0m\u001B[0;34m\u001B[0m\u001B[0;34m\u001B[0m\u001B[0m\n",
      "\u001B[0;32md:\\studies\\bar_ilan\\year 3\\final_project\\koios\\venv\\lib\\site-packages\\scipy\\signal\\signaltools.py\u001B[0m in \u001B[0;36mfiltfilt\u001B[0;34m(b, a, x, axis, padtype, padlen, method, irlen)\u001B[0m\n\u001B[1;32m   3892\u001B[0m     \u001B[0;31m# method == \"pad\"\u001B[0m\u001B[0;34m\u001B[0m\u001B[0;34m\u001B[0m\u001B[0;34m\u001B[0m\u001B[0m\n\u001B[1;32m   3893\u001B[0m     edge, ext = _validate_pad(padtype, padlen, x, axis,\n\u001B[0;32m-> 3894\u001B[0;31m                               ntaps=max(len(a), len(b)))\n\u001B[0m\u001B[1;32m   3895\u001B[0m \u001B[0;34m\u001B[0m\u001B[0m\n\u001B[1;32m   3896\u001B[0m     \u001B[0;31m# Get the steady state of the filter's step response.\u001B[0m\u001B[0;34m\u001B[0m\u001B[0;34m\u001B[0m\u001B[0;34m\u001B[0m\u001B[0m\n",
      "\u001B[0;32md:\\studies\\bar_ilan\\year 3\\final_project\\koios\\venv\\lib\\site-packages\\scipy\\signal\\signaltools.py\u001B[0m in \u001B[0;36m_validate_pad\u001B[0;34m(padtype, padlen, x, axis, ntaps)\u001B[0m\n\u001B[1;32m   3942\u001B[0m     \u001B[0;32mif\u001B[0m \u001B[0mx\u001B[0m\u001B[0;34m.\u001B[0m\u001B[0mshape\u001B[0m\u001B[0;34m[\u001B[0m\u001B[0maxis\u001B[0m\u001B[0;34m]\u001B[0m \u001B[0;34m<=\u001B[0m \u001B[0medge\u001B[0m\u001B[0;34m:\u001B[0m\u001B[0;34m\u001B[0m\u001B[0;34m\u001B[0m\u001B[0m\n\u001B[1;32m   3943\u001B[0m         raise ValueError(\"The length of the input vector x must be greater \"\n\u001B[0;32m-> 3944\u001B[0;31m                          \"than padlen, which is %d.\" % edge)\n\u001B[0m\u001B[1;32m   3945\u001B[0m \u001B[0;34m\u001B[0m\u001B[0m\n\u001B[1;32m   3946\u001B[0m     \u001B[0;32mif\u001B[0m \u001B[0mpadtype\u001B[0m \u001B[0;32mis\u001B[0m \u001B[0;32mnot\u001B[0m \u001B[0;32mNone\u001B[0m \u001B[0;32mand\u001B[0m \u001B[0medge\u001B[0m \u001B[0;34m>\u001B[0m \u001B[0;36m0\u001B[0m\u001B[0;34m:\u001B[0m\u001B[0;34m\u001B[0m\u001B[0;34m\u001B[0m\u001B[0m\n",
      "\u001B[0;31mValueError\u001B[0m: The length of the input vector x must be greater than padlen, which is 15."
     ]
    }
   ],
   "source": [
    "color_sig_array = np.asarray(color_sig)\n",
    "red = color_sig_array[:,0]\n",
    "green = color_sig_array[:,1]\n",
    "blue = color_sig_array[:,2]\n",
    "\n",
    "window_start = 0\n",
    "window_size = 30\n",
    "window_id = 1\n",
    "while window_start < round_fps * window_size:\n",
    "    find_hr_in_window(green, window_start, round_fps, window_id, window_size)\n",
    "    window_start += int(round_fps) * window_size\n",
    "    window_id += 1\n",
    "find_hr_in_window(green, window_start, round_fps, window_id, window_size)"
   ],
   "metadata": {
    "collapsed": false,
    "pycharm": {
     "name": "#%%\n"
    }
   }
  },
  {
   "cell_type": "code",
   "execution_count": null,
   "metadata": {},
   "outputs": [],
   "source": [
    "a = Pxx_den\n",
    "ind = np.argsort(a)\n",
    "max_ind = ind[-5:]\n",
    "print(f[max_ind])\n",
    "print(\"HR for this video is: \" +str(f[max_ind].mean()))"
   ]
  },
  {
   "cell_type": "code",
   "execution_count": null,
   "metadata": {
    "pycharm": {
     "name": "#%%\n"
    },
    "scrolled": true
   },
   "outputs": [],
   "source": [
    "if good_frame_number != greens.size: # TO BE REVIEW BY EYAL, POSSIBLE BUG FIX HERE!\n",
    "    frame_number = greens.size\n",
    "axis = np.arange((good_frame_number / round_fps), step=(1 / 30)) # axis is Time\n",
    "plot_result(greens, reds, blues, axis, \"All 3 channels\") # original signals\n",
    "# apply filtering on all the channels:\n",
    "green_buttered = filter_channel(greens,round_fps)\n",
    "red_buttered = filter_channel(reds,round_fps)\n",
    "blue_buttered = filter_channel(blues,round_fps)\n",
    "# plotting the channels after apllying the filter\n",
    "plot_result(green_buttered, red_buttered, blue_buttered, axis, \"After Filter\") # after filtering"
   ]
  },
  {
   "cell_type": "code",
   "execution_count": null,
   "metadata": {
    "pycharm": {
     "name": "#%%\n"
    },
    "scrolled": true
   },
   "outputs": [],
   "source": [
    "if good_frame_number != greens.size: # TO BE REVIEW BY EYAL, POSSIBLE BUG FIX HERE!\n",
    "    frame_number = greens.size\n",
    "axis = np.arange((good_frame_number / round_fps), step=(1 / 30)) # axis is Time\n",
    "plot_result(greens, reds, blues, axis, \"All 3 channels\") # original signals\n",
    "# apply filtering on all the channels:\n",
    "green_buttered = filter_channel(greens,round_fps)\n",
    "red_buttered = filter_channel(reds,round_fps)\n",
    "blue_buttered = filter_channel(blues,round_fps)\n",
    "# plotting the channels after apllying the filter\n",
    "plot_result(green_buttered, red_buttered, blue_buttered, axis, \"After Filter\") # after filtering"
   ]
  },
  {
   "cell_type": "markdown",
   "metadata": {},
   "source": [
    "### PSD estimation using 'Welch' or 'Periodogram'"
   ]
  },
  {
   "cell_type": "code",
   "execution_count": null,
   "metadata": {
    "pycharm": {
     "name": "#%%\n"
    },
    "scrolled": true
   },
   "outputs": [],
   "source": [
    "f, Pxx_den = sig.welch(green_buttered, round_fps,'flattop', 1024, scaling='spectrum')"
   ]
  },
  {
   "cell_type": "markdown",
   "metadata": {
    "pycharm": {
     "name": "#%% md\n"
    }
   },
   "source": [
    "### Plot final results"
   ]
  },
  {
   "cell_type": "code",
   "execution_count": null,
   "metadata": {
    "pycharm": {
     "name": "#%%\n"
    },
    "scrolled": true
   },
   "outputs": [],
   "source": [
    "plt.figure(f, Pxx_den)\n",
    "#plt.semilogy(f, Pxx_den)\n",
    "plt.ylim([1e-7, 1e2])\n",
    "plt.xlabel('frequency [Hz]')\n",
    "plt.ylabel('PSD [V**2/Hz]')\n",
    "plt.show()\n",
    "# periodogram method:\n",
    "f, Pxx_den = sig.periodogram(green_buttered, round_fps)\n",
    "plt.semilogy(f, Pxx_den)\n",
    "plt.ylim([1e-7, 1e2])\n",
    "plt.xlabel('frequency [Hz]')\n",
    "plt.ylabel('PSD [V**2/Hz]')\n",
    "plt.show()"
   ]
  }
 ],
 "metadata": {
  "kernelspec": {
   "display_name": "Python 3",
   "language": "python",
   "name": "python3"
  },
  "language_info": {
   "codemirror_mode": {
    "name": "ipython",
    "version": 3
   },
   "file_extension": ".py",
   "mimetype": "text/x-python",
   "name": "python",
   "nbconvert_exporter": "python",
   "pygments_lexer": "ipython3",
   "version": "3.8.5"
  }
 },
 "nbformat": 4,
 "nbformat_minor": 1
}