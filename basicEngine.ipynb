{
 "cells": [
  {
   "cell_type": "markdown",
   "metadata": {
    "collapsed": true,
    "pycharm": {
     "name": "#%% md\n"
    }
   },
   "source": [
    "# Basic engine implementation"
   ]
  },
  {
   "cell_type": "markdown",
   "metadata": {},
   "source": [
    "#### setup"
   ]
  },
  {
   "cell_type": "code",
   "execution_count": 27,
   "metadata": {
    "pycharm": {
     "is_executing": false,
     "name": "#%%\n"
    }
   },
   "outputs": [
    {
     "name": "stderr",
     "output_type": "stream",
     "text": [
      "[2021-03-12 17:13:06,971] [INFO] [<module>] [13] : Starting ...\n"
     ]
    }
   ],
   "source": [
    "import face_recognition, PIL.Image, PIL.ImageDraw,math\n",
    "import numpy as np\n",
    "import logging\n",
    "import cv2\n",
    "import platform\n",
    "from matplotlib import pyplot as plt\n",
    "from PIL import Image\n",
    "import scipy.signal as sig\n",
    "\n",
    "FORMAT = '[%(asctime)s] [%(levelname)s] [%(funcName)s] [%(lineno)d] : %(message)s'\n",
    "logging.basicConfig(format=FORMAT, level=logging.INFO)\n",
    "\n",
    "logging.info(\"Starting ...\")\n",
    "if platform.system() == \"Windows\":\n",
    "    seperator = \"\\\\\"\n",
    "else:\n",
    "    seperator = \"/\"\n",
    "\n",
    "dir = \"perry-all-2\"\n",
    "# should be a parameter of the engine\n",
    "dataset_location = \"..\" + seperator + \"dataset\" + seperator + \"good_sync\" + seperator\n",
    "specific_dir = dir\n",
    "video_location = dataset_location + specific_dir + seperator + \"test.mp4\"\n"
   ]
  },
  {
   "cell_type": "markdown",
   "metadata": {},
   "source": [
    "#### Detecting the face landmarks and parsing the ROI"
   ]
  },
  {
   "cell_type": "code",
   "execution_count": 28,
   "metadata": {
    "pycharm": {
     "is_executing": false,
     "name": "#%%\n"
    }
   },
   "outputs": [],
   "source": [
    "def parse_roi(frame):\n",
    "    # image = face_recognition.load_image_file(frame) # read image.\n",
    "    face_locations = face_recognition.face_locations(frame,model = 'hog') # detects all the faces in image\n",
    "    face_landmarks_list = face_recognition.face_landmarks(image)\n",
    "    \n",
    "    # iterate through all the faces.\n",
    "    for face_location in face_locations:\n",
    "#         img = PIL.Image.open(frame)\n",
    "        img = PIL.Image.fromarray(frame)\n",
    "        top,right,bottom,left = face_location # extract all face square points.\n",
    "        diff = math.floor((top - bottom) * 0.2) # 30 percent of the face len (toadd eyebrow top point).\n",
    "        # Finding the forehead.\n",
    "        right_eyebrow_landmarks = np.asarray(face_landmarks_list[0]['right_eyebrow']) # right eyebrow points.\n",
    "        right_eyebrow_landmarks.sort(axis=0)\n",
    "        rightest_point = right_eyebrow_landmarks[-1] # The most right point of the ROI(according to x).\n",
    "        top_right_eyebrow = right_eyebrow_landmarks.min(axis = 0)[1]\n",
    "        left_eyebrow_landmarks = np.asarray(face_landmarks_list[0]['left_eyebrow'])\n",
    "        left_eyebrow_landmarks.sort(axis=0)\n",
    "        leftest_point = left_eyebrow_landmarks[0] # the most left point of ROI.(according to x)\n",
    "        top_left_eyebrow = left_eyebrow_landmarks.min(axis = 0)[1]\n",
    "        bottom = min(top_right_eyebrow,top_left_eyebrow).item(0) # bottom point of the forehead.\n",
    "        bottom = bottom - (0.05 * bottom) # improve bottom location by 2 percent.\n",
    "        forehead = img.crop((leftest_point[0], leftest_point[1]+diff, rightest_point[0],bottom)) # adding diff to top to make the forehead bigger.\n",
    "\n",
    "        # Finding the second ROI:\n",
    "        upper_mouth = np.asarray(face_landmarks_list[0]['top_lip']) # top_lip landmarks\n",
    "        upper_mouth_min = upper_mouth.min(axis = 0)[1] # The  top - lip upper point.\n",
    "        upper_nose = np.asarray(face_landmarks_list[0]['nose_bridge'])\n",
    "        upper_nose_min = upper_nose.min(axis = 0)[1]  # noise bridge upper point.\n",
    "        upper_nose_min += upper_mouth_min * 0.1 # improving the noise bridge upper point.\n",
    "        nose_to_upper_lip = img.crop((leftest_point[0], upper_nose_min, rightest_point[0], upper_mouth_min))\n",
    "#         try:\n",
    "#             concat_roi_areas = np.concatenate((forehead, nose_to_upper_lip), axis=0)\n",
    "#             cv2.imwrite('frame_roi_output.jpg', concat_roi_areas)\n",
    "        return (forehead, nose_to_upper_lip)\n",
    "#         except:\n",
    "#             logging.warning(\"concat of roi areas failed\")\n",
    "#             return None\n",
    "    return None # in case of which no face was detected"
   ]
  },
  {
   "cell_type": "code",
   "execution_count": 29,
   "metadata": {
    "pycharm": {
     "is_executing": false,
     "name": "#%%s\n"
    }
   },
   "outputs": [],
   "source": [
    "#R > 95 and G > 40 and B > 20 and R > G and R > B\n",
    "# based on https://arxiv.org/ftp/arxiv/papers/1708/1708.02694.pdf page 5\n",
    "def bad_frame(blue, green, red):\n",
    "    if red > 95 and green > 40 and blue > 20 and red >green and red > blue:\n",
    "        return False\n",
    "    logging.warning(\"bad frame detected\")\n",
    "    return True"
   ]
  },
  {
   "cell_type": "markdown",
   "metadata": {},
   "source": [
    "#### Getting RGB values from a frame and adding them to arrays"
   ]
  },
  {
   "cell_type": "code",
   "execution_count": 30,
   "metadata": {
    "pycharm": {
     "is_executing": false,
     "name": "#%%s\n"
    }
   },
   "outputs": [],
   "source": [
    "def parse_RGB(image, greens, reds, blues, frame_number):\n",
    "    \"\"\"\n",
    "    Parses an image to its RGB channels\n",
    "    :param image: the image to be parsed\n",
    "    :param vidcap:\n",
    "    :param greens: array containing green channel values\n",
    "    :param blues: array containing blue channel values\n",
    "    :param reds: array containing red channel values\n",
    "    :param frame_number - is the number of the frame of the video.\n",
    "    :return: a flag indicating if there is a next image, and the next image\n",
    "    \"\"\"\n",
    "    im = cv2.cvtColor(image, cv2.COLOR_RGB2BGR)\n",
    "    blue, green, red = cv2.split(im)\n",
    "    if not bad_frame(np.mean(blue), np.mean(green), np.mean(red)):\n",
    "        greens[0, frame_number] = np.mean(green)\n",
    "        blues[0, frame_number] = np.mean(blue)\n",
    "        reds[0, frame_number] = np.mean(red)\n",
    "        return True\n",
    "    return False"
   ]
  },
  {
   "cell_type": "code",
   "execution_count": 31,
   "metadata": {
    "pycharm": {
     "is_executing": false,
     "name": "#%%s\n"
    }
   },
   "outputs": [],
   "source": [
    "def get_new_frame(vidcap):\n",
    "    success, image = vidcap.read()\n",
    "    return success, image"
   ]
  },
  {
   "cell_type": "markdown",
   "metadata": {},
   "source": [
    "#### Plotting RGB arrays results"
   ]
  },
  {
   "cell_type": "code",
   "execution_count": 32,
   "metadata": {
    "pycharm": {
     "is_executing": false,
     "name": "#%%\n"
    }
   },
   "outputs": [],
   "source": [
    "def plot_result(greens, reds, blues, x_value, title=\"\"):\n",
    "    logging.info(\"Plotting results ...\" + title)\n",
    "    x_value = x_value.reshape(1, x_value.shape[0])\n",
    "    r = reds.tolist()[0]\n",
    "    b = blues.tolist()[0]\n",
    "    g = greens.tolist()[0]\n",
    "    x = x_value.tolist()[0]\n",
    "    plt.figure(figsize=(6, 5))\n",
    "    plt.title(title)\n",
    "    plt.xlabel(\"Time\")\n",
    "    plt.ylabel(\"Value\")\n",
    "    plt.subplot(3, 1, 1)\n",
    "    plt.plot(x, g, color=\"green\")\n",
    "    plt.subplot(3, 1, 2)\n",
    "    plt.plot(x, r, color=\"red\")\n",
    "    plt.subplot(3, 1, 3)\n",
    "    plt.plot(x, b, color=\"blue\")\n",
    "    plt.show()\n",
    "    logging.info(\"Showing result\")\n"
   ]
  },
  {
   "cell_type": "markdown",
   "metadata": {},
   "source": [
    "#### Filtering:"
   ]
  },
  {
   "cell_type": "code",
   "execution_count": 33,
   "metadata": {
    "pycharm": {
     "is_executing": false
    }
   },
   "outputs": [],
   "source": [
    "def filter_channel(channel,fs):\n",
    "    bh, ah = sig.butter(4, 0.75 / (fs / 2), 'highpass')\n",
    "    bl, al = sig.butter(4, 4 / (fs / 2), 'lowpass')\n",
    "    channel = sig.filtfilt(bh, ah, channel)\n",
    "    channel = np.absolute(channel)\n",
    "    channel_after_filter = sig.filtfilt(bl, al, channel)\n",
    "    return channel_after_filter"
   ]
  },
  {
   "cell_type": "markdown",
   "metadata": {},
   "source": [
    "#### Main loop - going over all the frames of the video"
   ]
  },
  {
   "cell_type": "code",
   "execution_count": 34,
   "metadata": {
    "pycharm": {
     "is_executing": false,
     "name": "#%%\n"
    },
    "scrolled": true
   },
   "outputs": [
    {
     "name": "stderr",
     "output_type": "stream",
     "text": [
      "[2021-03-12 17:13:07,037] [INFO] [<module>] [1] : Working on video ../dataset/good_sync/perry-all-2/test.mp4\n",
      "[2021-03-12 17:13:07,066] [INFO] [<module>] [11] : Parsing images ...\n",
      "[2021-03-12 17:13:07,067] [INFO] [<module>] [13] : parsing frame 0/179.0\n",
      "[2021-03-12 17:13:07,447] [INFO] [<module>] [13] : parsing frame 1/179.0\n",
      "[2021-03-12 17:13:07,822] [INFO] [<module>] [13] : parsing frame 2/179.0\n",
      "[2021-03-12 17:13:08,187] [INFO] [<module>] [13] : parsing frame 3/179.0\n",
      "[2021-03-12 17:13:08,550] [INFO] [<module>] [13] : parsing frame 4/179.0\n",
      "[2021-03-12 17:13:08,908] [INFO] [<module>] [13] : parsing frame 5/179.0\n",
      "[2021-03-12 17:13:09,270] [INFO] [<module>] [13] : parsing frame 6/179.0\n",
      "[2021-03-12 17:13:09,633] [INFO] [<module>] [13] : parsing frame 7/179.0\n",
      "[2021-03-12 17:13:09,987] [INFO] [<module>] [13] : parsing frame 8/179.0\n",
      "[2021-03-12 17:13:10,341] [INFO] [<module>] [13] : parsing frame 9/179.0\n",
      "[2021-03-12 17:13:10,693] [INFO] [<module>] [13] : parsing frame 10/179.0\n",
      "[2021-03-12 17:13:11,049] [INFO] [<module>] [13] : parsing frame 11/179.0\n",
      "[2021-03-12 17:13:11,398] [INFO] [<module>] [13] : parsing frame 12/179.0\n",
      "[2021-03-12 17:13:11,779] [INFO] [<module>] [13] : parsing frame 13/179.0\n",
      "[2021-03-12 17:13:12,159] [INFO] [<module>] [13] : parsing frame 14/179.0\n",
      "[2021-03-12 17:13:12,538] [INFO] [<module>] [13] : parsing frame 15/179.0\n",
      "[2021-03-12 17:13:12,912] [INFO] [<module>] [13] : parsing frame 16/179.0\n",
      "[2021-03-12 17:13:13,280] [INFO] [<module>] [13] : parsing frame 17/179.0\n",
      "[2021-03-12 17:13:13,643] [INFO] [<module>] [13] : parsing frame 18/179.0\n",
      "[2021-03-12 17:13:14,008] [INFO] [<module>] [13] : parsing frame 19/179.0\n",
      "[2021-03-12 17:13:14,366] [INFO] [<module>] [13] : parsing frame 20/179.0\n",
      "[2021-03-12 17:13:14,745] [INFO] [<module>] [13] : parsing frame 21/179.0\n",
      "[2021-03-12 17:13:15,120] [INFO] [<module>] [13] : parsing frame 22/179.0\n",
      "[2021-03-12 17:13:15,501] [INFO] [<module>] [13] : parsing frame 23/179.0\n",
      "[2021-03-12 17:13:15,871] [INFO] [<module>] [13] : parsing frame 24/179.0\n",
      "[2021-03-12 17:13:16,249] [INFO] [<module>] [13] : parsing frame 25/179.0\n",
      "[2021-03-12 17:13:16,622] [INFO] [<module>] [13] : parsing frame 26/179.0\n",
      "[2021-03-12 17:13:16,997] [INFO] [<module>] [13] : parsing frame 27/179.0\n",
      "[2021-03-12 17:13:17,365] [INFO] [<module>] [13] : parsing frame 28/179.0\n",
      "[2021-03-12 17:13:17,746] [INFO] [<module>] [13] : parsing frame 29/179.0\n",
      "[2021-03-12 17:13:18,121] [INFO] [<module>] [13] : parsing frame 30/179.0\n",
      "[2021-03-12 17:13:18,491] [INFO] [<module>] [13] : parsing frame 31/179.0\n",
      "[2021-03-12 17:13:18,876] [INFO] [<module>] [13] : parsing frame 32/179.0\n",
      "[2021-03-12 17:13:19,257] [INFO] [<module>] [13] : parsing frame 33/179.0\n",
      "[2021-03-12 17:13:19,633] [INFO] [<module>] [13] : parsing frame 34/179.0\n",
      "[2021-03-12 17:13:20,002] [INFO] [<module>] [13] : parsing frame 35/179.0\n",
      "[2021-03-12 17:13:20,373] [INFO] [<module>] [13] : parsing frame 36/179.0\n",
      "[2021-03-12 17:13:20,741] [INFO] [<module>] [13] : parsing frame 37/179.0\n",
      "[2021-03-12 17:13:21,109] [INFO] [<module>] [13] : parsing frame 38/179.0\n",
      "[2021-03-12 17:13:21,470] [INFO] [<module>] [13] : parsing frame 39/179.0\n",
      "[2021-03-12 17:13:21,846] [INFO] [<module>] [13] : parsing frame 40/179.0\n",
      "[2021-03-12 17:13:22,219] [INFO] [<module>] [13] : parsing frame 41/179.0\n",
      "[2021-03-12 17:13:22,587] [INFO] [<module>] [13] : parsing frame 42/179.0\n",
      "[2021-03-12 17:13:22,957] [INFO] [<module>] [13] : parsing frame 43/179.0\n",
      "[2021-03-12 17:13:23,332] [INFO] [<module>] [13] : parsing frame 44/179.0\n",
      "[2021-03-12 17:13:23,699] [INFO] [<module>] [13] : parsing frame 45/179.0\n",
      "[2021-03-12 17:13:24,079] [INFO] [<module>] [13] : parsing frame 46/179.0\n",
      "[2021-03-12 17:13:24,456] [INFO] [<module>] [13] : parsing frame 47/179.0\n",
      "[2021-03-12 17:13:24,836] [INFO] [<module>] [13] : parsing frame 48/179.0\n",
      "[2021-03-12 17:13:25,219] [INFO] [<module>] [13] : parsing frame 49/179.0\n",
      "[2021-03-12 17:13:25,600] [INFO] [<module>] [13] : parsing frame 50/179.0\n",
      "[2021-03-12 17:13:25,970] [INFO] [<module>] [13] : parsing frame 51/179.0\n",
      "[2021-03-12 17:13:26,349] [INFO] [<module>] [13] : parsing frame 52/179.0\n",
      "[2021-03-12 17:13:26,732] [INFO] [<module>] [13] : parsing frame 53/179.0\n",
      "[2021-03-12 17:13:27,113] [INFO] [<module>] [13] : parsing frame 54/179.0\n",
      "[2021-03-12 17:13:27,495] [INFO] [<module>] [13] : parsing frame 55/179.0\n",
      "[2021-03-12 17:13:27,872] [INFO] [<module>] [13] : parsing frame 56/179.0\n",
      "[2021-03-12 17:13:28,252] [INFO] [<module>] [13] : parsing frame 57/179.0\n",
      "[2021-03-12 17:13:28,631] [INFO] [<module>] [13] : parsing frame 58/179.0\n",
      "[2021-03-12 17:13:28,997] [INFO] [<module>] [13] : parsing frame 59/179.0\n",
      "[2021-03-12 17:13:29,369] [INFO] [<module>] [13] : parsing frame 60/179.0\n",
      "[2021-03-12 17:13:29,744] [INFO] [<module>] [13] : parsing frame 61/179.0\n",
      "[2021-03-12 17:13:30,122] [INFO] [<module>] [13] : parsing frame 62/179.0\n",
      "[2021-03-12 17:13:30,499] [INFO] [<module>] [13] : parsing frame 63/179.0\n",
      "[2021-03-12 17:13:30,874] [INFO] [<module>] [13] : parsing frame 64/179.0\n",
      "[2021-03-12 17:13:31,252] [INFO] [<module>] [13] : parsing frame 65/179.0\n",
      "[2021-03-12 17:13:31,631] [INFO] [<module>] [13] : parsing frame 66/179.0\n",
      "[2021-03-12 17:13:32,013] [INFO] [<module>] [13] : parsing frame 67/179.0\n",
      "[2021-03-12 17:13:32,389] [INFO] [<module>] [13] : parsing frame 68/179.0\n",
      "[2021-03-12 17:13:32,770] [INFO] [<module>] [13] : parsing frame 69/179.0\n",
      "[2021-03-12 17:13:33,150] [INFO] [<module>] [13] : parsing frame 70/179.0\n",
      "[2021-03-12 17:13:33,526] [INFO] [<module>] [13] : parsing frame 71/179.0\n",
      "[2021-03-12 17:13:33,903] [INFO] [<module>] [13] : parsing frame 72/179.0\n",
      "[2021-03-12 17:13:34,282] [INFO] [<module>] [13] : parsing frame 73/179.0\n",
      "[2021-03-12 17:13:34,661] [INFO] [<module>] [13] : parsing frame 74/179.0\n",
      "[2021-03-12 17:13:35,042] [INFO] [<module>] [13] : parsing frame 75/179.0\n",
      "[2021-03-12 17:13:35,419] [INFO] [<module>] [13] : parsing frame 76/179.0\n",
      "[2021-03-12 17:13:35,803] [INFO] [<module>] [13] : parsing frame 77/179.0\n",
      "[2021-03-12 17:13:36,181] [INFO] [<module>] [13] : parsing frame 78/179.0\n",
      "[2021-03-12 17:13:36,635] [INFO] [<module>] [13] : parsing frame 79/179.0\n",
      "[2021-03-12 17:13:37,029] [INFO] [<module>] [13] : parsing frame 80/179.0\n",
      "[2021-03-12 17:13:37,412] [INFO] [<module>] [13] : parsing frame 81/179.0\n",
      "[2021-03-12 17:13:37,790] [INFO] [<module>] [13] : parsing frame 82/179.0\n",
      "[2021-03-12 17:13:38,171] [INFO] [<module>] [13] : parsing frame 83/179.0\n",
      "[2021-03-12 17:13:38,549] [INFO] [<module>] [13] : parsing frame 84/179.0\n",
      "[2021-03-12 17:13:38,926] [INFO] [<module>] [13] : parsing frame 85/179.0\n",
      "[2021-03-12 17:13:39,327] [INFO] [<module>] [13] : parsing frame 86/179.0\n",
      "[2021-03-12 17:13:39,703] [INFO] [<module>] [13] : parsing frame 87/179.0\n",
      "[2021-03-12 17:13:40,080] [INFO] [<module>] [13] : parsing frame 88/179.0\n",
      "[2021-03-12 17:13:40,448] [INFO] [<module>] [13] : parsing frame 89/179.0\n",
      "[2021-03-12 17:13:40,810] [INFO] [<module>] [13] : parsing frame 90/179.0\n",
      "[2021-03-12 17:13:41,171] [INFO] [<module>] [13] : parsing frame 91/179.0\n",
      "[2021-03-12 17:13:41,535] [INFO] [<module>] [13] : parsing frame 92/179.0\n",
      "[2021-03-12 17:13:41,895] [INFO] [<module>] [13] : parsing frame 93/179.0\n",
      "[2021-03-12 17:13:42,261] [INFO] [<module>] [13] : parsing frame 94/179.0\n",
      "[2021-03-12 17:13:42,645] [INFO] [<module>] [13] : parsing frame 95/179.0\n",
      "[2021-03-12 17:13:43,024] [INFO] [<module>] [13] : parsing frame 96/179.0\n",
      "[2021-03-12 17:13:43,406] [INFO] [<module>] [13] : parsing frame 97/179.0\n",
      "[2021-03-12 17:13:43,786] [INFO] [<module>] [13] : parsing frame 98/179.0\n",
      "[2021-03-12 17:13:44,188] [INFO] [<module>] [13] : parsing frame 99/179.0\n",
      "[2021-03-12 17:13:44,584] [INFO] [<module>] [13] : parsing frame 100/179.0\n",
      "[2021-03-12 17:13:44,982] [INFO] [<module>] [13] : parsing frame 101/179.0\n",
      "[2021-03-12 17:13:45,359] [INFO] [<module>] [13] : parsing frame 102/179.0\n",
      "[2021-03-12 17:13:45,726] [INFO] [<module>] [13] : parsing frame 103/179.0\n",
      "[2021-03-12 17:13:46,098] [INFO] [<module>] [13] : parsing frame 104/179.0\n",
      "[2021-03-12 17:13:46,476] [INFO] [<module>] [13] : parsing frame 105/179.0\n",
      "[2021-03-12 17:13:46,860] [INFO] [<module>] [13] : parsing frame 106/179.0\n",
      "[2021-03-12 17:13:47,227] [INFO] [<module>] [13] : parsing frame 107/179.0\n",
      "[2021-03-12 17:13:47,614] [INFO] [<module>] [13] : parsing frame 108/179.0\n"
     ]
    },
    {
     "name": "stderr",
     "output_type": "stream",
     "text": [
      "[2021-03-12 17:13:47,997] [INFO] [<module>] [13] : parsing frame 109/179.0\n",
      "[2021-03-12 17:13:48,380] [INFO] [<module>] [13] : parsing frame 110/179.0\n",
      "[2021-03-12 17:13:48,761] [INFO] [<module>] [13] : parsing frame 111/179.0\n",
      "[2021-03-12 17:13:49,145] [INFO] [<module>] [13] : parsing frame 112/179.0\n",
      "[2021-03-12 17:13:49,516] [INFO] [<module>] [13] : parsing frame 113/179.0\n",
      "[2021-03-12 17:13:49,885] [INFO] [<module>] [13] : parsing frame 114/179.0\n",
      "[2021-03-12 17:13:50,255] [INFO] [<module>] [13] : parsing frame 115/179.0\n",
      "[2021-03-12 17:13:50,631] [INFO] [<module>] [13] : parsing frame 116/179.0\n",
      "[2021-03-12 17:13:50,999] [INFO] [<module>] [13] : parsing frame 117/179.0\n",
      "[2021-03-12 17:13:51,368] [INFO] [<module>] [13] : parsing frame 118/179.0\n",
      "[2021-03-12 17:13:51,737] [INFO] [<module>] [13] : parsing frame 119/179.0\n",
      "[2021-03-12 17:13:52,109] [INFO] [<module>] [13] : parsing frame 120/179.0\n",
      "[2021-03-12 17:13:52,488] [INFO] [<module>] [13] : parsing frame 121/179.0\n",
      "[2021-03-12 17:13:52,870] [INFO] [<module>] [13] : parsing frame 122/179.0\n",
      "[2021-03-12 17:13:53,238] [INFO] [<module>] [13] : parsing frame 123/179.0\n",
      "[2021-03-12 17:13:53,636] [INFO] [<module>] [13] : parsing frame 124/179.0\n",
      "[2021-03-12 17:13:54,005] [INFO] [<module>] [13] : parsing frame 125/179.0\n",
      "[2021-03-12 17:13:54,384] [INFO] [<module>] [13] : parsing frame 126/179.0\n",
      "[2021-03-12 17:13:54,823] [INFO] [<module>] [13] : parsing frame 127/179.0\n",
      "[2021-03-12 17:13:55,196] [INFO] [<module>] [13] : parsing frame 128/179.0\n",
      "[2021-03-12 17:13:55,573] [INFO] [<module>] [13] : parsing frame 129/179.0\n",
      "[2021-03-12 17:13:55,969] [INFO] [<module>] [13] : parsing frame 130/179.0\n",
      "[2021-03-12 17:13:56,363] [INFO] [<module>] [13] : parsing frame 131/179.0\n",
      "[2021-03-12 17:13:56,755] [INFO] [<module>] [13] : parsing frame 132/179.0\n",
      "[2021-03-12 17:13:57,161] [INFO] [<module>] [13] : parsing frame 133/179.0\n",
      "[2021-03-12 17:13:57,586] [INFO] [<module>] [13] : parsing frame 134/179.0\n",
      "[2021-03-12 17:13:57,994] [INFO] [<module>] [13] : parsing frame 135/179.0\n",
      "[2021-03-12 17:13:58,379] [INFO] [<module>] [13] : parsing frame 136/179.0\n",
      "[2021-03-12 17:13:58,773] [INFO] [<module>] [13] : parsing frame 137/179.0\n",
      "[2021-03-12 17:13:59,173] [INFO] [<module>] [13] : parsing frame 138/179.0\n",
      "[2021-03-12 17:13:59,567] [INFO] [<module>] [13] : parsing frame 139/179.0\n",
      "[2021-03-12 17:13:59,958] [INFO] [<module>] [13] : parsing frame 140/179.0\n",
      "[2021-03-12 17:14:00,352] [INFO] [<module>] [13] : parsing frame 141/179.0\n",
      "[2021-03-12 17:14:00,735] [INFO] [<module>] [13] : parsing frame 142/179.0\n",
      "[2021-03-12 17:14:01,114] [INFO] [<module>] [13] : parsing frame 143/179.0\n",
      "[2021-03-12 17:14:01,488] [INFO] [<module>] [13] : parsing frame 144/179.0\n",
      "[2021-03-12 17:14:01,867] [INFO] [<module>] [13] : parsing frame 145/179.0\n",
      "[2021-03-12 17:14:02,249] [INFO] [<module>] [13] : parsing frame 146/179.0\n",
      "[2021-03-12 17:14:02,622] [INFO] [<module>] [13] : parsing frame 147/179.0\n",
      "[2021-03-12 17:14:02,999] [INFO] [<module>] [13] : parsing frame 148/179.0\n",
      "[2021-03-12 17:14:03,374] [INFO] [<module>] [13] : parsing frame 149/179.0\n",
      "[2021-03-12 17:14:03,757] [INFO] [<module>] [13] : parsing frame 150/179.0\n",
      "[2021-03-12 17:14:04,138] [INFO] [<module>] [13] : parsing frame 151/179.0\n",
      "[2021-03-12 17:14:04,512] [INFO] [<module>] [13] : parsing frame 152/179.0\n",
      "[2021-03-12 17:14:04,888] [INFO] [<module>] [13] : parsing frame 153/179.0\n",
      "[2021-03-12 17:14:05,272] [INFO] [<module>] [13] : parsing frame 154/179.0\n",
      "[2021-03-12 17:14:05,672] [INFO] [<module>] [13] : parsing frame 155/179.0\n",
      "[2021-03-12 17:14:06,047] [INFO] [<module>] [13] : parsing frame 156/179.0\n",
      "[2021-03-12 17:14:06,421] [INFO] [<module>] [13] : parsing frame 157/179.0\n",
      "[2021-03-12 17:14:06,794] [INFO] [<module>] [13] : parsing frame 158/179.0\n",
      "[2021-03-12 17:14:07,165] [INFO] [<module>] [13] : parsing frame 159/179.0\n",
      "[2021-03-12 17:14:07,539] [INFO] [<module>] [13] : parsing frame 160/179.0\n",
      "[2021-03-12 17:14:07,910] [INFO] [<module>] [13] : parsing frame 161/179.0\n",
      "[2021-03-12 17:14:08,280] [INFO] [<module>] [13] : parsing frame 162/179.0\n",
      "[2021-03-12 17:14:08,648] [INFO] [<module>] [13] : parsing frame 163/179.0\n",
      "[2021-03-12 17:14:09,014] [INFO] [<module>] [13] : parsing frame 164/179.0\n",
      "[2021-03-12 17:14:09,383] [INFO] [<module>] [13] : parsing frame 165/179.0\n",
      "[2021-03-12 17:14:09,749] [INFO] [<module>] [13] : parsing frame 166/179.0\n",
      "[2021-03-12 17:14:10,118] [INFO] [<module>] [13] : parsing frame 167/179.0\n",
      "[2021-03-12 17:14:10,487] [INFO] [<module>] [13] : parsing frame 168/179.0\n",
      "[2021-03-12 17:14:10,856] [INFO] [<module>] [13] : parsing frame 169/179.0\n",
      "[2021-03-12 17:14:11,224] [INFO] [<module>] [13] : parsing frame 170/179.0\n",
      "[2021-03-12 17:14:11,591] [INFO] [<module>] [13] : parsing frame 171/179.0\n",
      "[2021-03-12 17:14:11,963] [INFO] [<module>] [13] : parsing frame 172/179.0\n",
      "[2021-03-12 17:14:12,344] [INFO] [<module>] [13] : parsing frame 173/179.0\n",
      "[2021-03-12 17:14:12,800] [INFO] [<module>] [13] : parsing frame 174/179.0\n",
      "[2021-03-12 17:14:13,196] [INFO] [<module>] [13] : parsing frame 175/179.0\n",
      "[2021-03-12 17:14:13,619] [INFO] [<module>] [13] : parsing frame 176/179.0\n",
      "[2021-03-12 17:14:13,995] [INFO] [<module>] [13] : parsing frame 177/179.0\n",
      "[2021-03-12 17:14:14,375] [INFO] [<module>] [13] : parsing frame 178/179.0\n",
      "[2021-03-12 17:14:14,750] [INFO] [plot_result] [2] : Plotting results ...All 3 channels\n"
     ]
    },
    {
     "data": {
      "image/png": "[encoded data removed]",
      "text/plain": [
       "<Figure size 432x360 with 3 Axes>"
      ]
     },
     "metadata": {
      "needs_background": "light"
     },
     "output_type": "display_data"
    },
    {
     "name": "stderr",
     "output_type": "stream",
     "text": [
      "[2021-03-12 17:14:14,994] [INFO] [plot_result] [19] : Showing result\n",
      "[2021-03-12 17:14:14,998] [INFO] [plot_result] [2] : Plotting results ...After Filter\n"
     ]
    },
    {
     "data": {
      "image/png": "[encoded data removed]",
      "text/plain": [
       "<Figure size 432x360 with 3 Axes>"
      ]
     },
     "metadata": {
      "needs_background": "light"
     },
     "output_type": "display_data"
    },
    {
     "name": "stderr",
     "output_type": "stream",
     "text": [
      "[2021-03-12 17:14:15,224] [INFO] [plot_result] [19] : Showing result\n"
     ]
    }
   ],
   "source": [
    "\n",
    "logging.info(\"Working on video \" + video_location)\n",
    "vidcap = cv2.VideoCapture(video_location)\n",
    "success, image = vidcap.read()\n",
    "fps = vidcap.get(cv2.CAP_PROP_FPS)\n",
    "number_of_frames = vidcap.get(cv2.CAP_PROP_FRAME_COUNT)\n",
    "x_value = np.arange((number_of_frames / np.round(fps)), step=(1 / 30))\n",
    "greens = np.zeros((1, int(number_of_frames)))  # instead of lists\n",
    "reds = np.zeros((1, int(number_of_frames)))\n",
    "blues = np.zeros((1, int(number_of_frames)))\n",
    "frame_number = 0\n",
    "logging.info(\"Parsing images ...\")\n",
    "while success:\n",
    "    logging.info(\"parsing frame \" + str(frame_number) + \"/\" + str(number_of_frames))\n",
    "    # im.save(\"your_file.jpeg\")\n",
    "    roi = parse_roi(cv2.cvtColor(image, cv2.COLOR_BGR2RGB))  # build image ROI\n",
    "    if roi != None: \n",
    "#     image = cv2.imread(\"frame_roi_output.jpg\") # possible BUG: read the same image twice if face not detected.\n",
    "        is_good_frame = parse_RGB(np.vstack((roi[0],roi[1])), greens, reds, blues, frame_number)\n",
    "    success, image = get_new_frame(vidcap)\n",
    "    if is_good_frame:\n",
    "        frame_number += 1\n",
    "plot_result(greens, reds, blues, x_value, \"All 3 channels\") # original signals\n",
    "\n",
    "\n",
    "green_buttered = filter_channel(greens,fps)\n",
    "red_buttered = filter_channel(reds,fps)\n",
    "blue_buttered = filter_channel(blues,fps)\n",
    "\n",
    "\n",
    "plot_result(green_buttered, red_buttered, blue_buttered, x_value, \"After Filter\") # after filtering\n",
    "\n",
    "\n"
   ]
  },
  {
   "cell_type": "markdown",
   "metadata": {},
   "source": [
    "### PSD estimation using 'Welch' or 'Periodogram'"
   ]
  },
  {
   "cell_type": "code",
   "execution_count": 35,
   "metadata": {
    "pycharm": {
     "is_executing": false
    },
    "scrolled": true
   },
   "outputs": [
    {
     "name": "stderr",
     "output_type": "stream",
     "text": [
      "/Library/Frameworks/Python.framework/Versions/3.8/lib/python3.8/site-packages/scipy/signal/spectral.py:1961: UserWarning: nperseg = 1024 is greater than input length  = 179, using nperseg = 179\n",
      "  warnings.warn('nperseg = {0:d} is greater than input length '\n"
     ]
    },
    {
     "data": {
      "image/png": "[encoded data removed]",
      "text/plain": [
       "<Figure size 432x288 with 1 Axes>"
      ]
     },
     "metadata": {
      "needs_background": "light"
     },
     "output_type": "display_data"
    },
    {
     "data": {
      "image/png": "[encoded data removed]",
      "text/plain": [
       "<Figure size 432x288 with 1 Axes>"
      ]
     },
     "metadata": {
      "needs_background": "light"
     },
     "output_type": "display_data"
    }
   ],
   "source": [
    "f, Pxx_den = sig.welch(green_buttered.tolist()[0], fps,'flattop', 1024, scaling='spectrum')\n",
    "plt.semilogy(f, Pxx_den)\n",
    "plt.ylim([1e-7, 1e2])\n",
    "plt.xlabel('frequency [Hz]')\n",
    "plt.ylabel('PSD [V**2/Hz]')\n",
    "plt.show()\n",
    "\n",
    "f, Pxx_den = sig.periodogram(green_buttered.tolist()[0], fps)\n",
    "plt.semilogy(f, Pxx_den)\n",
    "plt.ylim([1e-7, 1e2])\n",
    "plt.xlabel('frequency [Hz]')\n",
    "plt.ylabel('PSD [V**2/Hz]')\n",
    "plt.show()"
   ]
  }
 ],
 "metadata": {
  "kernelspec": {
   "display_name": "Python 3",
   "language": "python",
   "name": "python3"
  },
  "language_info": {
   "codemirror_mode": {
    "name": "ipython",
    "version": 3
   },
   "file_extension": ".py",
   "mimetype": "text/x-python",
   "name": "python",
   "nbconvert_exporter": "python",
   "pygments_lexer": "ipython3",
   "version": "3.8.5"
  },
  "pycharm": {
   "stem_cell": {
    "cell_type": "raw",
    "metadata": {
     "collapsed": false
    },
    "source": []
   }
  }
 },
 "nbformat": 4,
 "nbformat_minor": 1
}
