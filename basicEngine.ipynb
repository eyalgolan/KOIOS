{
 "cells": [
  {
   "cell_type": "markdown",
   "metadata": {
    "collapsed": true,
    "pycharm": {
     "name": "#%% md\n"
    }
   },
   "source": [
    "# Basic engine implementation"
   ]
  },
  {
   "cell_type": "markdown",
   "metadata": {},
   "source": [
    "#### setup"
   ]
  },
  {
   "cell_type": "code",
   "execution_count": 129,
   "metadata": {
    "pycharm": {
     "name": "#%%\n"
    },
    "scrolled": true
   },
   "outputs": [
    {
     "name": "stderr",
     "output_type": "stream",
     "text": [
      "[2021-03-20 12:50:19,737] [INFO] [<module>] [13] : Starting ...\n"
     ]
    }
   ],
   "source": [
    "import face_recognition, PIL.Image, PIL.ImageDraw,math\n",
    "import numpy as np\n",
    "import logging\n",
    "import cv2\n",
    "import platform\n",
    "from matplotlib import pyplot as plt\n",
    "from PIL import Image\n",
    "import scipy.signal as sig\n",
    "\n",
    "FORMAT = '[%(asctime)s] [%(levelname)s] [%(funcName)s] [%(lineno)d] : %(message)s'\n",
    "logging.basicConfig(format=FORMAT, level=logging.INFO)\n",
    "\n",
    "logging.info(\"Starting ...\")\n",
    "if platform.system() == \"Windows\":\n",
    "    seperator = \"\\\\\"\n",
    "else:\n",
    "    seperator = \"/\"\n",
    "\n",
    "dir = \"perry-all-2\"\n",
    "# should be a parameter of the engine\n",
    "dataset_location = \"..\" + seperator + \"dataset\" + seperator + \"good_sync\" + seperator\n",
    "specific_dir = dir\n",
    "video_location = dataset_location + specific_dir + seperator + \"test.mp4\"\n"
   ]
  },
  {
   "cell_type": "markdown",
   "metadata": {},
   "source": [
    "#### Detecting the face landmarks and parsing the ROI"
   ]
  },
  {
   "cell_type": "code",
   "execution_count": 130,
   "metadata": {
    "pycharm": {
     "name": "#%%\n"
    },
    "scrolled": true
   },
   "outputs": [],
   "source": [
    "def parse_roi(frame):\n",
    "    # image = face_recognition.load_image_file(frame) # read image.\n",
    "    face_locations = face_recognition.face_locations(frame,model = 'hog') # detects all the faces in image\n",
    "    face_landmarks_list = face_recognition.face_landmarks(image)\n",
    "    \n",
    "    # iterate through all the faces.\n",
    "    for face_location in face_locations:\n",
    "        img = PIL.Image.fromarray(frame)\n",
    "        top,right,bottom,left = face_location # extract all face square points.\n",
    "        diff = math.floor((top - bottom) * 0.15) # 20 percent of the face len (toadd eyebrow top point).\n",
    "        \n",
    "        # finding the forehead\n",
    "        right_eyebrow_landmarks = np.asarray(face_landmarks_list[0]['right_eyebrow']) # right eyebrow points.\n",
    "        right_eyebrow_landmarks.sort(axis=0)\n",
    "        rightest_point = right_eyebrow_landmarks[-1] # The most right point of the ROI(according to x).\n",
    "        top_right_eyebrow = right_eyebrow_landmarks.min(axis = 0)[1]\n",
    "        left_eyebrow_landmarks = np.asarray(face_landmarks_list[0]['left_eyebrow'])\n",
    "        left_eyebrow_landmarks.sort(axis=0)\n",
    "        leftest_point = left_eyebrow_landmarks[0] # the most left point of ROI.(according to x)\n",
    "        top_left_eyebrow = left_eyebrow_landmarks.min(axis = 0)[1]\n",
    "        bottom = min(top_right_eyebrow,top_left_eyebrow).item(0) # bottom point of the forehead.\n",
    "        bottom = bottom - (0.05 * bottom) # improve bottom location by 2 percent.\n",
    "        forehead = img.crop((leftest_point[0], leftest_point[1]+diff, rightest_point[0],bottom+10)) # adding diff to top to make the forehead bigger.\n",
    "\n",
    "        # finding the second ROI:\n",
    "        upper_mouth = np.asarray(face_landmarks_list[0]['top_lip']) # top_lip landmarks\n",
    "        upper_mouth_min = upper_mouth.min(axis = 0)[1] # The  top - lip upper point.\n",
    "        upper_nose = np.asarray(face_landmarks_list[0]['nose_bridge'])\n",
    "        upper_nose_min = upper_nose.min(axis = 0)[1]  # noise bridge upper point.\n",
    "        upper_nose_min += upper_mouth_min * 0.1 # improving the noise bridge upper point.\n",
    "        nose_to_upper_lip = img.crop((leftest_point[0], upper_nose_min, rightest_point[0], upper_mouth_min))\n",
    "\n",
    "        return forehead, nose_to_upper_lip\n",
    "    return None # in case of which no face was detected"
   ]
  },
  {
   "cell_type": "markdown",
   "metadata": {},
   "source": [
    "### Check for bad frames\n",
    "##### R > 95 and G > 40 and B > 20 and R > G and R > B\n",
    "##### Based on https://arxiv.org/ftp/arxiv/papers/1708/1708.02694.pdf page 5"
   ]
  },
  {
   "cell_type": "code",
   "execution_count": 131,
   "metadata": {
    "pycharm": {
     "name": "#%%s\n"
    },
    "scrolled": true
   },
   "outputs": [],
   "source": [
    "def bad_frame(blue, green, red):\n",
    "    if red > 95 and green > 40 and blue > 20 and red >green and red > blue:\n",
    "        return False\n",
    "    logging.warning(\"bad frame detected\")\n",
    "    return True"
   ]
  },
  {
   "cell_type": "code",
   "execution_count": 132,
   "metadata": {
    "pycharm": {
     "name": "#%%\n"
    },
    "scrolled": true
   },
   "outputs": [],
   "source": [
    "def get_new_frame(vidcap):\n",
    "    success, next_image = vidcap.read()\n",
    "    return success, next_image"
   ]
  },
  {
   "cell_type": "markdown",
   "metadata": {},
   "source": [
    "#### Plotting RGB arrays results"
   ]
  },
  {
   "cell_type": "code",
   "execution_count": 133,
   "metadata": {
    "pycharm": {
     "name": "#%%\n"
    },
    "scrolled": true
   },
   "outputs": [],
   "source": [
    "def plot_result(greens, reds, blues, x_value, title=\"\"):\n",
    "    logging.info(\"Plotting results ...\" + title)\n",
    "    plt.figure(figsize=(6, 5))\n",
    "    plt.title(title)\n",
    "    plt.xlabel(\"Time\")\n",
    "    plt.ylabel(\"Value\")\n",
    "    plt.subplot(3, 1, 1)\n",
    "    plt.plot(x_value, greens, color=\"green\")\n",
    "    plt.subplot(3, 1, 2)\n",
    "    plt.plot(x_value, reds, color=\"red\")\n",
    "    plt.subplot(3, 1, 3)\n",
    "    plt.plot(x_value, blues, color=\"blue\")\n",
    "    plt.show()\n",
    "    logging.info(\"Showing result\")"
   ]
  },
  {
   "cell_type": "markdown",
   "metadata": {},
   "source": [
    "#### Filtering:"
   ]
  },
  {
   "cell_type": "code",
   "execution_count": 134,
   "metadata": {
    "scrolled": true
   },
   "outputs": [],
   "source": [
    "def filter_channel(channel,fs):\n",
    "    \"\"\"\n",
    "    This method apply filter on a channel between 0.75HZ to 4HZ.\n",
    "    :param channel: Is a signal to apply the filter to.\n",
    "    :param fs: Is the sampling rate of channel.\n",
    "    :return: The filtered channel.\n",
    "    \"\"\"\n",
    "    bh, ah = sig.butter(4, 0.75 / (fs / 2), 'highpass')\n",
    "    bl, al = sig.butter(4, 4 / (fs / 2), 'lowpass')\n",
    "    channel = sig.filtfilt(bh, ah, channel) # applying the filter coefficient on the sig\n",
    "    channel = np.absolute(channel)\n",
    "    channel_after_filter = sig.filtfilt(bl, al, channel) # applying the filter coefficient on the sig\n",
    "    return channel_after_filter"
   ]
  },
  {
   "cell_type": "code",
   "execution_count": 135,
   "metadata": {
    "pycharm": {
     "name": "#%%\n"
    },
    "scrolled": true
   },
   "outputs": [],
   "source": [
    "def plotSignals(signals, label):\n",
    "    seconds = np.arange(0, WINDOW_TIME_SEC, 1.0 / FPS)\n",
    "    colors = [\"r\", \"g\", \"b\"]\n",
    "    fig = plt.figure()\n",
    "    fig.patch.set_facecolor('white')\n",
    "    for i in range(3):\n",
    "        plt.plot(seconds, signals[:,i], colors[i])\n",
    "    plt.xlabel('Time (sec)', fontsize=17)\n",
    "    plt.ylabel(label, fontsize=17)\n",
    "    plt.tick_params(axis='x', labelsize=17)\n",
    "    plt.tick_params(axis='y', labelsize=17)\n",
    "    plt.show()\n",
    "\n",
    "def plotSpectrum(freqs, powerSpec):\n",
    "    idx = np.argsort(freqs)\n",
    "    fig = plt.figure()\n",
    "    fig.patch.set_facecolor('white')\n",
    "    for i in range(3):\n",
    "        plt.plot(freqs[idx], powerSpec[idx,i])\n",
    "    plt.xlabel(\"Frequency (Hz)\", fontsize=17)\n",
    "    plt.ylabel(\"Power\", fontsize=17)\n",
    "    plt.tick_params(axis='x', labelsize=17)\n",
    "    plt.tick_params(axis='y', labelsize=17)\n",
    "    plt.xlim([0.75, 4])\n",
    "    plt.show()"
   ]
  },
  {
   "cell_type": "code",
   "execution_count": 136,
   "metadata": {
    "pycharm": {
     "name": "#%%\n"
    },
    "scrolled": true
   },
   "outputs": [],
   "source": [
    "from sklearn.decomposition import FastICA\n",
    "MIN_HR_BPM = 45.0\n",
    "MAX_HR_BMP = 240.0\n",
    "SEC_PER_MIN = 60\n",
    "FPS = 14.99\n",
    "WINDOW_TIME_SEC = 30\n",
    "WINDOW_SIZE = int(np.ceil(WINDOW_TIME_SEC * FPS))\n",
    "\n",
    "def getHeartRate(window):\n",
    "    # Normalize across the window to have zero-mean and unit variance\n",
    "    mean = np.mean(window, axis=0)\n",
    "    std = np.std(window, axis=0)\n",
    "    normalized = (window - mean) / std\n",
    "\n",
    "    # Separate into three source signals using ICA\n",
    "    ica = FastICA()\n",
    "    srcSig = ica.fit_transform(normalized)\n",
    "\n",
    "    # Find power spectrum\n",
    "    powerSpec = np.abs(np.fft.fft(srcSig, axis=0))**2\n",
    "    freqs = np.fft.fftfreq(WINDOW_SIZE, 1.0 / FPS)\n",
    "\n",
    "    # Find heart rate\n",
    "    maxPwrSrc = np.max(powerSpec, axis=1)\n",
    "    validIdx = np.where((freqs >= MIN_HR_BPM / SEC_PER_MIN) & (freqs <= MAX_HR_BMP / SEC_PER_MIN))\n",
    "    validPwr = maxPwrSrc[validIdx]\n",
    "    validFreqs = freqs[validIdx]\n",
    "    maxPwrIdx = np.argmax(validPwr)\n",
    "    hr = validFreqs[maxPwrIdx]\n",
    "    print(hr)\n",
    "\n",
    "    plotSignals(normalized, \"Normalized color intensity\")\n",
    "    plotSignals(srcSig, \"Source signal strength\")\n",
    "    plotSpectrum(freqs, powerSpec)\n",
    "\n",
    "    return hr"
   ]
  },
  {
   "cell_type": "markdown",
   "metadata": {},
   "source": [
    "#### Getting RGB values from a frame and adding them to arrays"
   ]
  },
  {
   "cell_type": "code",
   "execution_count": 137,
   "metadata": {},
   "outputs": [],
   "source": [
    "def parse_RGB(roi, color_sig):\n",
    "    \"\"\"\n",
    "    Parses an image to its RGB channels\n",
    "    :param image: the image to be parsed\n",
    "    :param vidcap:\n",
    "    :param greens: array containing green channel values\n",
    "    :param blues: array containing blue channel values\n",
    "    :param reds: array containing red channel values\n",
    "    :param frame_number - is the number of the frame of the video.\n",
    "    :return: a flag indicating if there is a next image, and the next image\n",
    "    \"\"\"\n",
    "#     plt.imshow(roi)\n",
    "#     plt.show()\n",
    "    roi = cv2.cvtColor(roi, cv2.COLOR_RGB2BGR)\n",
    "    new_blue,new_green,new_red = cv2.split(roi)\n",
    "    b_mean,g_mean,r_mean = np.mean(new_blue),np.mean(new_green),np.mean(new_red)\n",
    "    if not bad_frame(b_mean,g_mean,r_mean):\n",
    "        color_channels = roi.reshape(-1, roi.shape[-1])\n",
    "        avg_color = color_channels.mean(axis=0) \n",
    "        color_sig.append(avg_color)\n",
    "        return True, color_sig\n",
    "    return False, color_sig"
   ]
  },
  {
   "cell_type": "markdown",
   "metadata": {},
   "source": [
    "#### Main loop - going over all the frames of the video"
   ]
  },
  {
   "cell_type": "code",
   "execution_count": 138,
   "metadata": {
    "pycharm": {
     "name": "#%%\n"
    },
    "scrolled": true
   },
   "outputs": [
    {
     "name": "stderr",
     "output_type": "stream",
     "text": [
      "[2021-03-20 12:50:19,813] [INFO] [<module>] [7] : Working on video ../dataset/good_sync/perry-all-2/test.mp4\n",
      "[2021-03-20 12:50:19,839] [INFO] [<module>] [13] : Parsing images ...\n",
      "[2021-03-20 12:50:19,840] [INFO] [<module>] [15] : parsing frame 0/179.0\n",
      "[2021-03-20 12:50:20,205] [INFO] [<module>] [15] : parsing frame 1/179.0\n",
      "[2021-03-20 12:50:20,605] [INFO] [<module>] [15] : parsing frame 2/179.0\n",
      "[2021-03-20 12:50:20,981] [INFO] [<module>] [15] : parsing frame 3/179.0\n",
      "[2021-03-20 12:50:21,364] [INFO] [<module>] [15] : parsing frame 4/179.0\n",
      "[2021-03-20 12:50:21,742] [INFO] [<module>] [15] : parsing frame 5/179.0\n",
      "[2021-03-20 12:50:22,122] [INFO] [<module>] [15] : parsing frame 6/179.0\n",
      "[2021-03-20 12:50:22,505] [INFO] [<module>] [15] : parsing frame 7/179.0\n",
      "[2021-03-20 12:50:22,890] [INFO] [<module>] [15] : parsing frame 8/179.0\n",
      "[2021-03-20 12:50:23,275] [INFO] [<module>] [15] : parsing frame 9/179.0\n",
      "[2021-03-20 12:50:23,654] [INFO] [<module>] [15] : parsing frame 10/179.0\n",
      "[2021-03-20 12:50:24,019] [INFO] [<module>] [15] : parsing frame 11/179.0\n",
      "[2021-03-20 12:50:24,396] [INFO] [<module>] [15] : parsing frame 12/179.0\n",
      "[2021-03-20 12:50:24,759] [INFO] [<module>] [15] : parsing frame 13/179.0\n",
      "[2021-03-20 12:50:25,127] [INFO] [<module>] [15] : parsing frame 14/179.0\n",
      "[2021-03-20 12:50:25,492] [INFO] [<module>] [15] : parsing frame 15/179.0\n",
      "[2021-03-20 12:50:25,857] [INFO] [<module>] [15] : parsing frame 16/179.0\n",
      "[2021-03-20 12:50:26,223] [INFO] [<module>] [15] : parsing frame 17/179.0\n",
      "[2021-03-20 12:50:26,588] [INFO] [<module>] [15] : parsing frame 18/179.0\n",
      "[2021-03-20 12:50:26,952] [INFO] [<module>] [15] : parsing frame 19/179.0\n",
      "[2021-03-20 12:50:27,320] [INFO] [<module>] [15] : parsing frame 20/179.0\n",
      "[2021-03-20 12:50:27,696] [INFO] [<module>] [15] : parsing frame 21/179.0\n",
      "[2021-03-20 12:50:28,063] [INFO] [<module>] [15] : parsing frame 22/179.0\n",
      "[2021-03-20 12:50:28,429] [INFO] [<module>] [15] : parsing frame 23/179.0\n",
      "[2021-03-20 12:50:28,790] [INFO] [<module>] [15] : parsing frame 24/179.0\n",
      "[2021-03-20 12:50:29,155] [INFO] [<module>] [15] : parsing frame 25/179.0\n",
      "[2021-03-20 12:50:29,522] [INFO] [<module>] [15] : parsing frame 26/179.0\n",
      "[2021-03-20 12:50:29,883] [INFO] [<module>] [15] : parsing frame 27/179.0\n",
      "[2021-03-20 12:50:30,244] [INFO] [<module>] [15] : parsing frame 28/179.0\n",
      "[2021-03-20 12:50:30,607] [INFO] [<module>] [15] : parsing frame 29/179.0\n",
      "[2021-03-20 12:50:30,969] [INFO] [<module>] [15] : parsing frame 30/179.0\n",
      "[2021-03-20 12:50:31,330] [INFO] [<module>] [15] : parsing frame 31/179.0\n",
      "[2021-03-20 12:50:31,693] [INFO] [<module>] [15] : parsing frame 32/179.0\n",
      "[2021-03-20 12:50:32,059] [INFO] [<module>] [15] : parsing frame 33/179.0\n",
      "[2021-03-20 12:50:32,426] [INFO] [<module>] [15] : parsing frame 34/179.0\n",
      "[2021-03-20 12:50:32,789] [INFO] [<module>] [15] : parsing frame 35/179.0\n",
      "[2021-03-20 12:50:33,159] [INFO] [<module>] [15] : parsing frame 36/179.0\n",
      "[2021-03-20 12:50:33,524] [INFO] [<module>] [15] : parsing frame 37/179.0\n",
      "[2021-03-20 12:50:33,898] [INFO] [<module>] [15] : parsing frame 38/179.0\n",
      "[2021-03-20 12:50:34,269] [INFO] [<module>] [15] : parsing frame 39/179.0\n",
      "[2021-03-20 12:50:34,635] [INFO] [<module>] [15] : parsing frame 40/179.0\n",
      "[2021-03-20 12:50:35,006] [INFO] [<module>] [15] : parsing frame 41/179.0\n",
      "[2021-03-20 12:50:35,369] [INFO] [<module>] [15] : parsing frame 42/179.0\n",
      "[2021-03-20 12:50:35,737] [INFO] [<module>] [15] : parsing frame 43/179.0\n",
      "[2021-03-20 12:50:36,109] [INFO] [<module>] [15] : parsing frame 44/179.0\n",
      "[2021-03-20 12:50:36,474] [INFO] [<module>] [15] : parsing frame 45/179.0\n",
      "[2021-03-20 12:50:36,839] [INFO] [<module>] [15] : parsing frame 46/179.0\n",
      "[2021-03-20 12:50:37,204] [INFO] [<module>] [15] : parsing frame 47/179.0\n",
      "[2021-03-20 12:50:37,569] [INFO] [<module>] [15] : parsing frame 48/179.0\n",
      "[2021-03-20 12:50:37,934] [INFO] [<module>] [15] : parsing frame 49/179.0\n",
      "[2021-03-20 12:50:38,297] [INFO] [<module>] [15] : parsing frame 50/179.0\n",
      "[2021-03-20 12:50:38,663] [INFO] [<module>] [15] : parsing frame 51/179.0\n",
      "[2021-03-20 12:50:39,029] [INFO] [<module>] [15] : parsing frame 52/179.0\n",
      "[2021-03-20 12:50:39,395] [INFO] [<module>] [15] : parsing frame 53/179.0\n",
      "[2021-03-20 12:50:39,758] [INFO] [<module>] [15] : parsing frame 54/179.0\n",
      "[2021-03-20 12:50:40,123] [INFO] [<module>] [15] : parsing frame 55/179.0\n",
      "[2021-03-20 12:50:40,488] [INFO] [<module>] [15] : parsing frame 56/179.0\n",
      "[2021-03-20 12:50:40,849] [INFO] [<module>] [15] : parsing frame 57/179.0\n",
      "[2021-03-20 12:50:41,211] [INFO] [<module>] [15] : parsing frame 58/179.0\n",
      "[2021-03-20 12:50:41,573] [INFO] [<module>] [15] : parsing frame 59/179.0\n",
      "[2021-03-20 12:50:41,936] [INFO] [<module>] [15] : parsing frame 60/179.0\n",
      "[2021-03-20 12:50:42,298] [INFO] [<module>] [15] : parsing frame 61/179.0\n",
      "[2021-03-20 12:50:42,664] [INFO] [<module>] [15] : parsing frame 62/179.0\n",
      "[2021-03-20 12:50:43,026] [INFO] [<module>] [15] : parsing frame 63/179.0\n",
      "[2021-03-20 12:50:43,393] [INFO] [<module>] [15] : parsing frame 64/179.0\n",
      "[2021-03-20 12:50:43,759] [INFO] [<module>] [15] : parsing frame 65/179.0\n",
      "[2021-03-20 12:50:44,123] [INFO] [<module>] [15] : parsing frame 66/179.0\n",
      "[2021-03-20 12:50:44,487] [INFO] [<module>] [15] : parsing frame 67/179.0\n",
      "[2021-03-20 12:50:44,850] [INFO] [<module>] [15] : parsing frame 68/179.0\n",
      "[2021-03-20 12:50:45,214] [INFO] [<module>] [15] : parsing frame 69/179.0\n",
      "[2021-03-20 12:50:45,578] [INFO] [<module>] [15] : parsing frame 70/179.0\n",
      "[2021-03-20 12:50:45,944] [INFO] [<module>] [15] : parsing frame 71/179.0\n",
      "[2021-03-20 12:50:46,324] [INFO] [<module>] [15] : parsing frame 72/179.0\n",
      "[2021-03-20 12:50:46,704] [INFO] [<module>] [15] : parsing frame 73/179.0\n",
      "[2021-03-20 12:50:47,069] [INFO] [<module>] [15] : parsing frame 74/179.0\n",
      "[2021-03-20 12:50:47,433] [INFO] [<module>] [15] : parsing frame 75/179.0\n",
      "[2021-03-20 12:50:47,803] [INFO] [<module>] [15] : parsing frame 76/179.0\n",
      "[2021-03-20 12:50:48,168] [INFO] [<module>] [15] : parsing frame 77/179.0\n",
      "[2021-03-20 12:50:48,534] [INFO] [<module>] [15] : parsing frame 78/179.0\n",
      "[2021-03-20 12:50:48,902] [INFO] [<module>] [15] : parsing frame 79/179.0\n",
      "[2021-03-20 12:50:49,266] [INFO] [<module>] [15] : parsing frame 80/179.0\n",
      "[2021-03-20 12:50:49,632] [INFO] [<module>] [15] : parsing frame 81/179.0\n",
      "[2021-03-20 12:50:49,997] [INFO] [<module>] [15] : parsing frame 82/179.0\n",
      "[2021-03-20 12:50:50,361] [INFO] [<module>] [15] : parsing frame 83/179.0\n",
      "[2021-03-20 12:50:50,723] [INFO] [<module>] [15] : parsing frame 84/179.0\n",
      "[2021-03-20 12:50:51,085] [INFO] [<module>] [15] : parsing frame 85/179.0\n",
      "[2021-03-20 12:50:51,467] [INFO] [<module>] [15] : parsing frame 86/179.0\n",
      "[2021-03-20 12:50:51,845] [INFO] [<module>] [15] : parsing frame 87/179.0\n",
      "[2021-03-20 12:50:52,225] [INFO] [<module>] [15] : parsing frame 88/179.0\n",
      "[2021-03-20 12:50:52,595] [INFO] [<module>] [15] : parsing frame 89/179.0\n",
      "[2021-03-20 12:50:52,978] [INFO] [<module>] [15] : parsing frame 90/179.0\n",
      "[2021-03-20 12:50:53,360] [INFO] [<module>] [15] : parsing frame 91/179.0\n",
      "[2021-03-20 12:50:53,746] [INFO] [<module>] [15] : parsing frame 92/179.0\n",
      "[2021-03-20 12:50:54,127] [INFO] [<module>] [15] : parsing frame 93/179.0\n",
      "[2021-03-20 12:50:54,505] [INFO] [<module>] [15] : parsing frame 94/179.0\n",
      "[2021-03-20 12:50:54,893] [INFO] [<module>] [15] : parsing frame 95/179.0\n",
      "[2021-03-20 12:50:55,270] [INFO] [<module>] [15] : parsing frame 96/179.0\n",
      "[2021-03-20 12:50:55,652] [INFO] [<module>] [15] : parsing frame 97/179.0\n",
      "[2021-03-20 12:50:56,028] [INFO] [<module>] [15] : parsing frame 98/179.0\n",
      "[2021-03-20 12:50:56,394] [INFO] [<module>] [15] : parsing frame 99/179.0\n",
      "[2021-03-20 12:50:56,777] [INFO] [<module>] [15] : parsing frame 100/179.0\n",
      "[2021-03-20 12:50:57,149] [INFO] [<module>] [15] : parsing frame 101/179.0\n",
      "[2021-03-20 12:50:57,532] [INFO] [<module>] [15] : parsing frame 102/179.0\n",
      "[2021-03-20 12:50:57,902] [INFO] [<module>] [15] : parsing frame 103/179.0\n",
      "[2021-03-20 12:50:58,284] [INFO] [<module>] [15] : parsing frame 104/179.0\n",
      "[2021-03-20 12:50:58,652] [INFO] [<module>] [15] : parsing frame 105/179.0\n",
      "[2021-03-20 12:50:59,026] [INFO] [<module>] [15] : parsing frame 106/179.0\n",
      "[2021-03-20 12:50:59,392] [INFO] [<module>] [15] : parsing frame 107/179.0\n",
      "[2021-03-20 12:50:59,762] [INFO] [<module>] [15] : parsing frame 108/179.0\n"
     ]
    },
    {
     "name": "stderr",
     "output_type": "stream",
     "text": [
      "[2021-03-20 12:51:00,138] [INFO] [<module>] [15] : parsing frame 109/179.0\n",
      "[2021-03-20 12:51:00,519] [INFO] [<module>] [15] : parsing frame 110/179.0\n",
      "[2021-03-20 12:51:00,891] [INFO] [<module>] [15] : parsing frame 111/179.0\n",
      "[2021-03-20 12:51:01,302] [INFO] [<module>] [15] : parsing frame 112/179.0\n",
      "[2021-03-20 12:51:01,692] [INFO] [<module>] [15] : parsing frame 113/179.0\n",
      "[2021-03-20 12:51:02,079] [INFO] [<module>] [15] : parsing frame 114/179.0\n",
      "[2021-03-20 12:51:02,465] [INFO] [<module>] [15] : parsing frame 115/179.0\n",
      "[2021-03-20 12:51:02,849] [INFO] [<module>] [15] : parsing frame 116/179.0\n",
      "[2021-03-20 12:51:03,231] [INFO] [<module>] [15] : parsing frame 117/179.0\n",
      "[2021-03-20 12:51:03,613] [INFO] [<module>] [15] : parsing frame 118/179.0\n",
      "[2021-03-20 12:51:03,979] [INFO] [<module>] [15] : parsing frame 119/179.0\n",
      "[2021-03-20 12:51:04,350] [INFO] [<module>] [15] : parsing frame 120/179.0\n",
      "[2021-03-20 12:51:04,715] [INFO] [<module>] [15] : parsing frame 121/179.0\n",
      "[2021-03-20 12:51:05,081] [INFO] [<module>] [15] : parsing frame 122/179.0\n",
      "[2021-03-20 12:51:05,445] [INFO] [<module>] [15] : parsing frame 123/179.0\n",
      "[2021-03-20 12:51:05,810] [INFO] [<module>] [15] : parsing frame 124/179.0\n",
      "[2021-03-20 12:51:06,175] [INFO] [<module>] [15] : parsing frame 125/179.0\n",
      "[2021-03-20 12:51:06,540] [INFO] [<module>] [15] : parsing frame 126/179.0\n",
      "[2021-03-20 12:51:06,914] [INFO] [<module>] [15] : parsing frame 127/179.0\n",
      "[2021-03-20 12:51:07,293] [INFO] [<module>] [15] : parsing frame 128/179.0\n",
      "[2021-03-20 12:51:07,674] [INFO] [<module>] [15] : parsing frame 129/179.0\n",
      "[2021-03-20 12:51:08,054] [INFO] [<module>] [15] : parsing frame 130/179.0\n",
      "[2021-03-20 12:51:08,438] [INFO] [<module>] [15] : parsing frame 131/179.0\n",
      "[2021-03-20 12:51:08,802] [INFO] [<module>] [15] : parsing frame 132/179.0\n",
      "[2021-03-20 12:51:09,185] [INFO] [<module>] [15] : parsing frame 133/179.0\n",
      "[2021-03-20 12:51:09,558] [INFO] [<module>] [15] : parsing frame 134/179.0\n",
      "[2021-03-20 12:51:09,926] [INFO] [<module>] [15] : parsing frame 135/179.0\n",
      "[2021-03-20 12:51:10,310] [INFO] [<module>] [15] : parsing frame 136/179.0\n",
      "[2021-03-20 12:51:10,684] [INFO] [<module>] [15] : parsing frame 137/179.0\n",
      "[2021-03-20 12:51:11,065] [INFO] [<module>] [15] : parsing frame 138/179.0\n",
      "[2021-03-20 12:51:11,451] [INFO] [<module>] [15] : parsing frame 139/179.0\n",
      "[2021-03-20 12:51:11,814] [INFO] [<module>] [15] : parsing frame 140/179.0\n",
      "[2021-03-20 12:51:12,193] [INFO] [<module>] [15] : parsing frame 141/179.0\n",
      "[2021-03-20 12:51:12,558] [INFO] [<module>] [15] : parsing frame 142/179.0\n",
      "[2021-03-20 12:51:12,923] [INFO] [<module>] [15] : parsing frame 143/179.0\n",
      "[2021-03-20 12:51:13,285] [INFO] [<module>] [15] : parsing frame 144/179.0\n",
      "[2021-03-20 12:51:13,650] [INFO] [<module>] [15] : parsing frame 145/179.0\n",
      "[2021-03-20 12:51:14,027] [INFO] [<module>] [15] : parsing frame 146/179.0\n",
      "[2021-03-20 12:51:14,406] [INFO] [<module>] [15] : parsing frame 147/179.0\n",
      "[2021-03-20 12:51:14,777] [INFO] [<module>] [15] : parsing frame 148/179.0\n",
      "[2021-03-20 12:51:15,155] [INFO] [<module>] [15] : parsing frame 149/179.0\n",
      "[2021-03-20 12:51:15,531] [INFO] [<module>] [15] : parsing frame 150/179.0\n",
      "[2021-03-20 12:51:15,912] [INFO] [<module>] [15] : parsing frame 151/179.0\n",
      "[2021-03-20 12:51:16,289] [INFO] [<module>] [15] : parsing frame 152/179.0\n",
      "[2021-03-20 12:51:16,668] [INFO] [<module>] [15] : parsing frame 153/179.0\n",
      "[2021-03-20 12:51:17,051] [INFO] [<module>] [15] : parsing frame 154/179.0\n",
      "[2021-03-20 12:51:17,429] [INFO] [<module>] [15] : parsing frame 155/179.0\n",
      "[2021-03-20 12:51:17,805] [INFO] [<module>] [15] : parsing frame 156/179.0\n",
      "[2021-03-20 12:51:18,184] [INFO] [<module>] [15] : parsing frame 157/179.0\n",
      "[2021-03-20 12:51:18,563] [INFO] [<module>] [15] : parsing frame 158/179.0\n",
      "[2021-03-20 12:51:18,937] [INFO] [<module>] [15] : parsing frame 159/179.0\n",
      "[2021-03-20 12:51:19,321] [INFO] [<module>] [15] : parsing frame 160/179.0\n",
      "[2021-03-20 12:51:19,687] [INFO] [<module>] [15] : parsing frame 161/179.0\n",
      "[2021-03-20 12:51:20,064] [INFO] [<module>] [15] : parsing frame 162/179.0\n",
      "[2021-03-20 12:51:20,446] [INFO] [<module>] [15] : parsing frame 163/179.0\n",
      "[2021-03-20 12:51:20,815] [INFO] [<module>] [15] : parsing frame 164/179.0\n",
      "[2021-03-20 12:51:21,192] [INFO] [<module>] [15] : parsing frame 165/179.0\n",
      "[2021-03-20 12:51:21,573] [INFO] [<module>] [15] : parsing frame 166/179.0\n",
      "[2021-03-20 12:51:21,939] [INFO] [<module>] [15] : parsing frame 167/179.0\n",
      "[2021-03-20 12:51:22,320] [INFO] [<module>] [15] : parsing frame 168/179.0\n",
      "[2021-03-20 12:51:22,695] [INFO] [<module>] [15] : parsing frame 169/179.0\n",
      "[2021-03-20 12:51:23,067] [INFO] [<module>] [15] : parsing frame 170/179.0\n",
      "[2021-03-20 12:51:23,449] [INFO] [<module>] [15] : parsing frame 171/179.0\n",
      "[2021-03-20 12:51:23,824] [INFO] [<module>] [15] : parsing frame 172/179.0\n",
      "[2021-03-20 12:51:24,200] [INFO] [<module>] [15] : parsing frame 173/179.0\n",
      "[2021-03-20 12:51:24,581] [INFO] [<module>] [15] : parsing frame 174/179.0\n",
      "[2021-03-20 12:51:24,954] [INFO] [<module>] [15] : parsing frame 175/179.0\n",
      "[2021-03-20 12:51:25,333] [INFO] [<module>] [15] : parsing frame 176/179.0\n",
      "[2021-03-20 12:51:25,718] [INFO] [<module>] [15] : parsing frame 177/179.0\n",
      "[2021-03-20 12:51:26,101] [INFO] [<module>] [15] : parsing frame 178/179.0\n"
     ]
    }
   ],
   "source": [
    "color_sig = []\n",
    "heart_rates = []\n",
    "good_frame_number = 0\n",
    "total_frame_number = 0\n",
    "\n",
    "# Parsing video:\n",
    "logging.info(\"Working on video \" + video_location)\n",
    "vidcap = cv2.VideoCapture(video_location)\n",
    "success, image = vidcap.read()\n",
    "fps = vidcap.get(cv2.CAP_PROP_FPS) # fs == sampling rate\n",
    "round_fps = np.round(fps)\n",
    "number_of_frames = vidcap.get(cv2.CAP_PROP_FRAME_COUNT)\n",
    "logging.info(\"Parsing images ...\")\n",
    "while success:\n",
    "    logging.info(\"parsing frame \" + str(total_frame_number) + \"/\" + str(number_of_frames))\n",
    "    rois = parse_roi(cv2.cvtColor(image, cv2.COLOR_BGR2RGB))  # build image ROI (rois is a tuple contains two regions)\n",
    "    if rois is not None : \n",
    "        roi = np.asarray(rois[0]) # Just the forehead\n",
    "        is_good_frame,color_sig = parse_RGB(roi, color_sig)\n",
    "        if is_good_frame:\n",
    "            good_frame_number += 1\n",
    "    total_frame_number += 1\n",
    "    success, image = get_new_frame(vidcap)"
   ]
  },
  {
   "cell_type": "code",
   "execution_count": 139,
   "metadata": {
    "scrolled": true
   },
   "outputs": [
    {
     "data": {
      "image/png": "[encoded data removed]",
      "text/plain": [
       "<Figure size 432x288 with 1 Axes>"
      ]
     },
     "metadata": {
      "needs_background": "light"
     },
     "output_type": "display_data"
    },
    {
     "data": {
      "image/png": "[encoded data removed]",
      "text/plain": [
       "<Figure size 432x288 with 1 Axes>"
      ]
     },
     "metadata": {
      "needs_background": "light"
     },
     "output_type": "display_data"
    },
    {
     "data": {
      "image/png": "[encoded data removed]",
      "text/plain": [
       "<Figure size 432x288 with 1 Axes>"
      ]
     },
     "metadata": {
      "needs_background": "light"
     },
     "output_type": "display_data"
    },
    {
     "data": {
      "image/png": "[encoded data removed]",
      "text/plain": [
       "<Figure size 432x288 with 1 Axes>"
      ]
     },
     "metadata": {
      "needs_background": "light"
     },
     "output_type": "display_data"
    },
    {
     "name": "stdout",
     "output_type": "stream",
     "text": [
      "0.6703910614525139\n"
     ]
    }
   ],
   "source": [
    "color_sig_array = np.asarray(color_sig)\n",
    "red = color_sig_array[:,0]\n",
    "green = color_sig_array[:,1]\n",
    "blue = color_sig_array[:,2]\n",
    "\n",
    "green_sig = np.arange(green.size/round_fps,step= (1/30))\n",
    "plt.plot(green_sig,green,color ='green')\n",
    "plt.show()\n",
    "\n",
    "\n",
    "green = green - np.mean(green)\n",
    "green = green / np.std(green)\n",
    "plt.plot(green_sig,green,color ='green')\n",
    "plt.show()\n",
    "\n",
    "g = filter_channel(green,round_fps)\n",
    "\n",
    "\n",
    "plt.plot(green_sig,g,color ='green')\n",
    "plt.show()\n",
    "\n",
    "f, Pxx_den = sig.periodogram(g, round_fps)\n",
    "plt.semilogy(f, Pxx_den)\n",
    "plt.ylim([1e-7, 1e2])\n",
    "plt.xlabel('frequency [Hz]')\n",
    "plt.ylabel('PSD [V**2/Hz]')\n",
    "plt.show()\n",
    "\n",
    "\n",
    "max_val = Pxx_den.argmax()\n",
    "print(f[max_val])\n"
   ]
  },
  {
   "cell_type": "code",
   "execution_count": 142,
   "metadata": {},
   "outputs": [
    {
     "name": "stdout",
     "output_type": "stream",
     "text": [
      "[0.83798883 3.35195531 3.18435754 0.33519553 0.67039106]\n",
      "HR for this video is: 1.675977653631285\n"
     ]
    }
   ],
   "source": [
    "a = Pxx_den\n",
    "ind = np.argsort(a)\n",
    "max_ind = ind[-5:]\n",
    "print(f[max_ind])\n",
    "print(\"HR for this video is: \" +str(f[max_ind].mean()))"
   ]
  },
  {
   "cell_type": "code",
   "execution_count": null,
   "metadata": {
    "pycharm": {
     "name": "#%%\n"
    },
    "scrolled": true
   },
   "outputs": [],
   "source": [
    "window_time_sec = 1\n",
    "window_size = int(np.ceil(window_time_sec * round_fps))\n",
    "\n",
    "window_start = color_sig.shape[1]\n",
    "while window_start > window_size :\n",
    "    window_start -= window_size\n",
    "    window = color_sig[window_start : window_start + window_size]\n",
    "    last_hr = heart_rates[-1] if len(heart_rates) > 0 else None\n",
    "    heart_rates.append(getHeartRate(window))"
   ]
  },
  {
   "cell_type": "code",
   "execution_count": null,
   "metadata": {
    "pycharm": {
     "name": "#%%\n"
    },
    "scrolled": true
   },
   "outputs": [],
   "source": [
    "if frame_number != greens.size: # TO BE REVIEW BY EYAL, POSSIBLE BUG FIX HERE!\n",
    "    frame_number = greens.size\n",
    "axis = np.arange((frame_number / round_fps), step=(1 / 30)) # axis is Time\n",
    "plot_result(greens, reds, blues, axis, \"All 3 channels\") # original signals\n",
    "# apply filtering on all the channels:\n",
    "green_buttered = filter_channel(greens,round_fps)\n",
    "red_buttered = filter_channel(reds,round_fps)\n",
    "blue_buttered = filter_channel(blues,round_fps)\n",
    "# plotting the channels after apllying the filter\n",
    "plot_result(green_buttered, red_buttered, blue_buttered, axis, \"After Filter\") # after filtering"
   ]
  },
  {
   "cell_type": "markdown",
   "metadata": {
    "pycharm": {
     "is_executing": true,
     "name": "#%% md\n"
    },
    "scrolled": true
   },
   "source": [
    "### PSD estimation using 'Welch' or 'Periodogram'"
   ]
  },
  {
   "cell_type": "code",
   "execution_count": null,
   "metadata": {
    "pycharm": {
     "name": "#%%\n"
    },
    "scrolled": true
   },
   "outputs": [],
   "source": [
    "window_time_sec = 1\n",
    "window_size = int(np.ceil(window_time_sec * round_fps))\n",
    "\n",
    "window_start = color_sig.shape[1]\n",
    "while window_start > window_size :\n",
    "    window_start -= window_size\n",
    "    window = color_sig[window_start : window_start + window_size]\n",
    "    last_hr = heart_rates[-1] if len(heart_rates) > 0 else None\n",
    "    heart_rates.append(getHeartRate(window))"
   ]
  },
  {
   "cell_type": "code",
   "execution_count": null,
   "metadata": {
    "pycharm": {
     "name": "#%%\n"
    },
    "scrolled": true
   },
   "outputs": [],
   "source": [
    "getHeartRate(color_sig)"
   ]
  },
  {
   "cell_type": "code",
   "execution_count": null,
   "metadata": {
    "pycharm": {
     "name": "#%%\n"
    },
    "scrolled": true
   },
   "outputs": [],
   "source": [
    "if frame_number != greens.size: # TO BE REVIEW BY EYAL, POSSIBLE BUG FIX HERE!\n",
    "    frame_number = greens.size\n",
    "axis = np.arange((frame_number / round_fps), step=(1 / 30)) # axis is Time\n",
    "plot_result(greens, reds, blues, axis, \"All 3 channels\") # original signals\n",
    "# apply filtering on all the channels:\n",
    "green_buttered = filter_channel(greens,round_fps)\n",
    "red_buttered = filter_channel(reds,round_fps)\n",
    "blue_buttered = filter_channel(blues,round_fps)\n",
    "# plotting the channels after apllying the filter\n",
    "plot_result(green_buttered, red_buttered, blue_buttered, axis, \"After Filter\") # after filtering"
   ]
  },
  {
   "cell_type": "markdown",
   "metadata": {},
   "source": [
    "### PSD estimation using 'Welch' or 'Periodogram'\n",
    "\n"
   ]
  },
  {
   "cell_type": "code",
   "execution_count": null,
   "metadata": {
    "pycharm": {
     "name": "#%%\n"
    },
    "scrolled": true
   },
   "outputs": [],
   "source": [
    "f, Pxx_den = sig.welch(green_buttered, round_fps,'flattop', 1024, scaling='spectrum')"
   ]
  },
  {
   "cell_type": "markdown",
   "metadata": {
    "pycharm": {
     "name": "#%% md\n"
    }
   },
   "source": [
    "### Plot final results"
   ]
  },
  {
   "cell_type": "code",
   "execution_count": null,
   "metadata": {
    "pycharm": {
     "name": "#%%\n"
    },
    "scrolled": true
   },
   "outputs": [],
   "source": [
    "plt.semilogy(f, Pxx_den)\n",
    "plt.ylim([1e-7, 1e2])\n",
    "plt.xlabel('frequency [Hz]')\n",
    "plt.ylabel('PSD [V**2/Hz]')\n",
    "plt.show()\n",
    "# periodogram method:\n",
    "f, Pxx_den = sig.periodogram(green_buttered, round_fps)\n",
    "plt.semilogy(f, Pxx_den)\n",
    "plt.ylim([1e-7, 1e2])\n",
    "plt.xlabel('frequency [Hz]')\n",
    "plt.ylabel('PSD [V**2/Hz]')\n",
    "plt.show()"
   ]
  }
 ],
 "metadata": {
  "kernelspec": {
   "display_name": "Python 3",
   "language": "python",
   "name": "python3"
  },
  "language_info": {
   "codemirror_mode": {
    "name": "ipython",
    "version": 3
   },
   "file_extension": ".py",
   "mimetype": "text/x-python",
   "name": "python",
   "nbconvert_exporter": "python",
   "pygments_lexer": "ipython3",
   "version": "3.8.5"
  }
 },
 "nbformat": 4,
 "nbformat_minor": 1
}
