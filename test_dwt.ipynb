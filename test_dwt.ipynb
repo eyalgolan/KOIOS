{
 "cells": [
  {
   "cell_type": "markdown",
   "metadata": {},
   "source": [
    "# Basic engine implementation"
   ]
  },
  {
   "cell_type": "markdown",
   "metadata": {},
   "source": [
    "#### setup"
   ]
  },
  {
   "cell_type": "code",
   "execution_count": 13,
   "metadata": {
    "pycharm": {
     "name": "#%%\n"
    }
   },
   "outputs": [
    {
     "name": "stderr",
     "output_type": "stream",
     "text": [
      "[2021-05-08 09:52:49,665] [INFO] [<module>] [13] : Starting ...\n"
     ]
    }
   ],
   "source": [
    "import face_recognition, PIL.Image, PIL.ImageDraw,math\n",
    "import numpy as np\n",
    "import logging\n",
    "import cv2\n",
    "import platform\n",
    "from matplotlib import pyplot as plt\n",
    "from PIL import Image\n",
    "import scipy.signal as sig\n",
    "\n",
    "FORMAT = '[%(asctime)s] [%(levelname)s] [%(funcName)s] [%(lineno)d] : %(message)s'\n",
    "logging.basicConfig(format=FORMAT, level=logging.INFO)\n",
    "\n",
    "logging.info(\"Starting ...\")\n",
    "if platform.system() == \"Windows\":\n",
    "    seperator = \"\\\\\"\n",
    "else:\n",
    "    seperator = \"/\"\n",
    "\n",
    "dir = \"perry-all-2\"\n",
    "# should be a parameter of the engine\n",
    "dataset_location = \"..\" + seperator + \"dataset\" + seperator + \"good_sync\" + seperator\n",
    "specific_dir = dir\n",
    "video_location = dataset_location + specific_dir + seperator + \"test1.mp4\"\n",
    "video_location = './eyal7.mp4'"
   ]
  },
  {
   "cell_type": "markdown",
   "metadata": {},
   "source": [
    "## running evm pre-processing"
   ]
  },
  {
   "cell_type": "code",
   "execution_count": 14,
   "metadata": {
    "pycharm": {
     "name": "#%%\n"
    }
   },
   "outputs": [],
   "source": [
    "# %run ./evm_preprocessing.ipynb\n",
    "# video_location = dataset_location + specific_dir + seperator + \"out.avi\"\n",
    "# video_location=\"out2.avi\""
   ]
  },
  {
   "cell_type": "markdown",
   "metadata": {},
   "source": [
    "#### Detecting the face landmarks and parsing the ROI"
   ]
  },
  {
   "cell_type": "code",
   "execution_count": 15,
   "metadata": {
    "pycharm": {
     "name": "#%%\n"
    }
   },
   "outputs": [],
   "source": [
    "def parse_roi(frame):\n",
    "    # image = face_recognition.load_image_file(frame) # read image.\n",
    "    face_locations = face_recognition.face_locations(frame,model = 'hog') # detects all the faces in image\n",
    "    face_landmarks_list = face_recognition.face_landmarks(image)\n",
    "    \n",
    "    # iterate through all the faces.\n",
    "    for face_location in face_locations:\n",
    "        img = PIL.Image.fromarray(frame)\n",
    "        top,right,bottom,left = face_location # extract all face square points.\n",
    "        diff = math.floor((top - bottom) * 0.15) # 20 percent of the face len (to add eyebrow top point).\n",
    "        \n",
    "        # finding the forehead\n",
    "        try:\n",
    "            right_eyebrow_landmarks = np.asarray(face_landmarks_list[0]['right_eyebrow']) # right eyebrow points.\n",
    "        except:\n",
    "            return None\n",
    "        right_eyebrow_landmarks.sort(axis=0)\n",
    "        rightest_point = right_eyebrow_landmarks[-1] # The most right point of the ROI(according to x).\n",
    "        top_right_eyebrow = right_eyebrow_landmarks.min(axis = 0)[1]\n",
    "        try:\n",
    "            left_eyebrow_landmarks = np.asarray(face_landmarks_list[0]['left_eyebrow'])\n",
    "        except:\n",
    "            return None\n",
    "        left_eyebrow_landmarks.sort(axis=0)\n",
    "        leftest_point = left_eyebrow_landmarks[0] # the most left point of ROI.(according to x)\n",
    "        top_left_eyebrow = left_eyebrow_landmarks.min(axis = 0)[1]\n",
    "        bottom = min(top_right_eyebrow,top_left_eyebrow).item(0) # bottom point of the forehead.\n",
    "        bottom = bottom - (0.05 * bottom) # improve bottom location by 2 percent.\n",
    "        forehead = img.crop((leftest_point[0], leftest_point[1]+diff, rightest_point[0],bottom+10)) # adding diff to top to make the forehead bigger.\n",
    "\n",
    "        # finding the second ROI:\n",
    "        try:\n",
    "            upper_mouth = np.asarray(face_landmarks_list[0]['top_lip']) # top_lip landmarks\n",
    "        except:\n",
    "            return None\n",
    "        upper_mouth_min = upper_mouth.min(axis = 0)[1] # The  top - lip upper point.\n",
    "        try:\n",
    "            upper_nose = np.asarray(face_landmarks_list[0]['nose_bridge'])\n",
    "        except:\n",
    "            return None\n",
    "        upper_nose_min = upper_nose.min(axis = 0)[1]  # noise bridge upper point.\n",
    "        upper_nose_min += upper_mouth_min * 0.1 # improving the noise bridge upper point.\n",
    "        nose_to_upper_lip = img.crop((leftest_point[0], upper_nose_min, rightest_point[0], upper_mouth_min))\n",
    "\n",
    "        return forehead, nose_to_upper_lip\n",
    "    return None # in case of which no face was detected"
   ]
  },
  {
   "cell_type": "markdown",
   "metadata": {},
   "source": [
    "### Check for bad frames\n",
    "##### R > 95 and G > 40 and B > 20 and R > G and R > B\n",
    "##### Based on https://arxiv.org/ftp/arxiv/papers/1708/1708.02694.pdf page 5"
   ]
  },
  {
   "cell_type": "code",
   "execution_count": 16,
   "metadata": {
    "pycharm": {
     "name": "#%%s\n"
    }
   },
   "outputs": [],
   "source": [
    "red_min_val = 95\n",
    "green_min_val = 40\n",
    "blue_min_val = 20\n",
    "red_green_max_diff = 15\n",
    "def good_frame(blue, green, red):\n",
    "    if red <= red_min_val:\n",
    "        logging.warning(\"bad frame detected, reason: red > red_min_val\")\n",
    "        return False\n",
    "    if green <= green_min_val:\n",
    "        logging.warning(\"bad frame detected, reason: green > green_min_val\")\n",
    "        return False\n",
    "    if blue <= blue_min_val:\n",
    "        logging.warning(\"bad frame detected, reason: blue > blue_min_val\")\n",
    "        return False\n",
    "    if red <= green:\n",
    "        logging.warning(\"bad frame detected, reason: red > green\")\n",
    "        return False\n",
    "    if red <= blue:\n",
    "        logging.warning(\"bad frame detected, reason: red > blue\")\n",
    "        return False\n",
    "    if abs(red - green) <= red_green_max_diff:\n",
    "        logging.warning(\"bad frame detected, reason: abs(red - green) > red_green_max_diff\")\n",
    "        return False\n",
    "\n",
    "    return True"
   ]
  },
  {
   "cell_type": "code",
   "execution_count": 17,
   "metadata": {
    "pycharm": {
     "name": "#%%\n"
    }
   },
   "outputs": [],
   "source": [
    "def get_new_frame(vidcap):\n",
    "    success, next_image = vidcap.read()\n",
    "    return success, next_image"
   ]
  },
  {
   "cell_type": "markdown",
   "metadata": {},
   "source": [
    "#### Plotting RGB arrays results"
   ]
  },
  {
   "cell_type": "code",
   "execution_count": 18,
   "metadata": {
    "pycharm": {
     "name": "#%%\n"
    }
   },
   "outputs": [],
   "source": [
    "def plot_result(greens, reds, blues, x_value, title=\"\"):\n",
    "    logging.info(\"Plotting results ...\" + title)\n",
    "    plt.figure(figsize=(6, 5))\n",
    "    plt.title(title)\n",
    "    plt.xlabel(\"Time\")\n",
    "    plt.ylabel(\"Value\")\n",
    "    plt.subplot(3, 1, 1)\n",
    "    plt.plot(x_value, greens, color=\"green\")\n",
    "    plt.subplot(3, 1, 2)\n",
    "    plt.plot(x_value, reds, color=\"red\")\n",
    "    plt.subplot(3, 1, 3)\n",
    "    plt.plot(x_value, blues, color=\"blue\")\n",
    "    plt.show()\n",
    "    logging.info(\"Showing result\")"
   ]
  },
  {
   "cell_type": "markdown",
   "metadata": {},
   "source": [
    "#### Filtering:"
   ]
  },
  {
   "cell_type": "code",
   "execution_count": 19,
   "metadata": {
    "pycharm": {
     "name": "#%%\n"
    }
   },
   "outputs": [],
   "source": [
    "def filter_channel(channel,fs):\n",
    "    \"\"\"\n",
    "    This method apply filter on a channel between 0.75HZ to 4HZ.\n",
    "    :param channel: Is a signal to apply the filter to.\n",
    "    :param fs: Is the sampling rate of channel.\n",
    "    :return: The filtered channel.\n",
    "    \"\"\"\n",
    "    bh, ah = sig.butter(4, 0.75 / (fs / 2), 'highpass')\n",
    "    bl, al = sig.butter(4, 4 / (fs / 2), 'lowpass')\n",
    "    channel = sig.filtfilt(bh, ah, channel) # applying the filter coefficient on the sig\n",
    "    #channel = np.absolute(channel)\n",
    "    channel_after_filter = sig.filtfilt(bl, al, channel) # applying the filter coefficient on the sig\n",
    "    return channel_after_filter"
   ]
  },
  {
   "cell_type": "markdown",
   "metadata": {},
   "source": [
    "#### Getting RGB values from a frame and adding them to arrays"
   ]
  },
  {
   "cell_type": "code",
   "execution_count": 20,
   "metadata": {
    "pycharm": {
     "name": "#%%\n"
    }
   },
   "outputs": [],
   "source": [
    "def parse_luminace(red, green, blue):\n",
    "    luminance_level = 0.2126 * red + 0.7152 * green + 0.0722 * blue\n",
    "    return luminance_level\n",
    "def parse_RGB(roi, color_sig):\n",
    "    \"\"\"\n",
    "    Parses an image to its RGB channels\n",
    "    :param image: the image to be parsed\n",
    "    :param vidcap:\n",
    "    :param greens: array containing green channel values\n",
    "    :param blues: array containing blue channel values\n",
    "    :param reds: array containing red channel values\n",
    "    :param frame_number - is the number of the frame of the video.\n",
    "    :return: a flag indicating if there is a next image, and the next image\n",
    "    \"\"\"\n",
    "#     plt.imshow(roi)\n",
    "#     plt.show()\n",
    "    try:\n",
    "        for r in roi:\n",
    "            cv2.cvtColor(r, cv2.COLOR_RGB2BGR)\n",
    "    except:\n",
    "        return False, color_sig\n",
    "    for r,i in enumerate(roi):\n",
    "        new_blue,new_green,new_red = cv2.split(r)\n",
    "        b_mean,g_mean,r_mean = np.mean(new_blue),np.mean(new_green),np.mean(new_red)\n",
    "        luminance_level = parse_luminace(r_mean, g_mean, b_mean)\n",
    "        if good_frame(b_mean,g_mean,r_mean):\n",
    "            color_channels = r.reshape(-1, r.shape[-1])\n",
    "            avg_color = color_channels.mean(axis=0)\n",
    "            color_sig[i].append(avg_color)\n",
    "            return True, color_sig, luminance_level\n",
    "    return False, color_sig, luminance_level"
   ]
  },
  {
   "cell_type": "markdown",
   "metadata": {},
   "source": [
    "#### Main loop - going over all the frames of the video"
   ]
  },
  {
   "cell_type": "code",
   "execution_count": 21,
   "metadata": {
    "pycharm": {
     "name": "#%%\n"
    },
    "scrolled": true
   },
   "outputs": [
    {
     "name": "stderr",
     "output_type": "stream",
     "text": [
      "[2021-05-08 09:52:49,732] [INFO] [<module>] [7] : Working on video ./eyal7.mp4\n",
      "[2021-05-08 09:52:49,786] [INFO] [<module>] [13] : Parsing images ...\n",
      "[2021-05-08 09:52:49,786] [INFO] [<module>] [15] : parsing frame 0/1229.0\n",
      "[2021-05-08 09:52:51,648] [INFO] [<module>] [15] : parsing frame 1/1229.0\n",
      "[2021-05-08 09:52:53,457] [INFO] [<module>] [15] : parsing frame 2/1229.0\n",
      "[2021-05-08 09:52:55,262] [INFO] [<module>] [15] : parsing frame 3/1229.0\n",
      "[2021-05-08 09:52:57,064] [INFO] [<module>] [15] : parsing frame 4/1229.0\n",
      "[2021-05-08 09:52:58,866] [INFO] [<module>] [15] : parsing frame 5/1229.0\n",
      "[2021-05-08 09:53:00,684] [INFO] [<module>] [15] : parsing frame 6/1229.0\n",
      "[2021-05-08 09:53:02,558] [INFO] [<module>] [15] : parsing frame 7/1229.0\n",
      "[2021-05-08 09:53:04,424] [INFO] [<module>] [15] : parsing frame 8/1229.0\n",
      "[2021-05-08 09:53:06,286] [INFO] [<module>] [15] : parsing frame 9/1229.0\n",
      "[2021-05-08 09:53:08,152] [INFO] [<module>] [15] : parsing frame 10/1229.0\n",
      "[2021-05-08 09:53:09,984] [INFO] [<module>] [15] : parsing frame 11/1229.0\n",
      "[2021-05-08 09:53:11,810] [INFO] [<module>] [15] : parsing frame 12/1229.0\n",
      "[2021-05-08 09:53:13,631] [INFO] [<module>] [15] : parsing frame 13/1229.0\n",
      "[2021-05-08 09:53:15,457] [INFO] [<module>] [15] : parsing frame 14/1229.0\n",
      "[2021-05-08 09:53:17,273] [INFO] [<module>] [15] : parsing frame 15/1229.0\n",
      "[2021-05-08 09:53:19,110] [INFO] [<module>] [15] : parsing frame 16/1229.0\n",
      "[2021-05-08 09:53:20,927] [INFO] [<module>] [15] : parsing frame 17/1229.0\n",
      "[2021-05-08 09:53:22,748] [INFO] [<module>] [15] : parsing frame 18/1229.0\n",
      "[2021-05-08 09:53:24,575] [INFO] [<module>] [15] : parsing frame 19/1229.0\n",
      "[2021-05-08 09:53:26,386] [INFO] [<module>] [15] : parsing frame 20/1229.0\n",
      "[2021-05-08 09:53:28,204] [INFO] [<module>] [15] : parsing frame 21/1229.0\n",
      "[2021-05-08 09:53:30,016] [INFO] [<module>] [15] : parsing frame 22/1229.0\n",
      "[2021-05-08 09:53:31,826] [INFO] [<module>] [15] : parsing frame 23/1229.0\n",
      "[2021-05-08 09:53:33,644] [INFO] [<module>] [15] : parsing frame 24/1229.0\n",
      "[2021-05-08 09:53:35,456] [INFO] [<module>] [15] : parsing frame 25/1229.0\n",
      "[2021-05-08 09:53:37,271] [INFO] [<module>] [15] : parsing frame 26/1229.0\n",
      "[2021-05-08 09:53:39,083] [INFO] [<module>] [15] : parsing frame 27/1229.0\n",
      "[2021-05-08 09:53:40,894] [INFO] [<module>] [15] : parsing frame 28/1229.0\n",
      "[2021-05-08 09:53:42,693] [INFO] [<module>] [15] : parsing frame 29/1229.0\n",
      "[2021-05-08 09:53:44,499] [INFO] [<module>] [15] : parsing frame 30/1229.0\n",
      "[2021-05-08 09:53:46,306] [INFO] [<module>] [15] : parsing frame 31/1229.0\n",
      "[2021-05-08 09:53:48,123] [INFO] [<module>] [15] : parsing frame 32/1229.0\n",
      "[2021-05-08 09:53:49,931] [INFO] [<module>] [15] : parsing frame 33/1229.0\n",
      "[2021-05-08 09:53:51,733] [INFO] [<module>] [15] : parsing frame 34/1229.0\n",
      "[2021-05-08 09:53:53,542] [INFO] [<module>] [15] : parsing frame 35/1229.0\n",
      "[2021-05-08 09:53:55,350] [INFO] [<module>] [15] : parsing frame 36/1229.0\n",
      "[2021-05-08 09:53:57,169] [INFO] [<module>] [15] : parsing frame 37/1229.0\n",
      "[2021-05-08 09:53:58,999] [INFO] [<module>] [15] : parsing frame 38/1229.0\n",
      "[2021-05-08 09:54:00,819] [INFO] [<module>] [15] : parsing frame 39/1229.0\n",
      "[2021-05-08 09:54:02,630] [INFO] [<module>] [15] : parsing frame 40/1229.0\n",
      "[2021-05-08 09:54:04,455] [INFO] [<module>] [15] : parsing frame 41/1229.0\n",
      "[2021-05-08 09:54:06,298] [INFO] [<module>] [23] : luminance level: 120.47766884210526\n",
      "[2021-05-08 09:54:06,301] [INFO] [<module>] [15] : parsing frame 42/1229.0\n",
      "[2021-05-08 09:54:08,120] [INFO] [<module>] [15] : parsing frame 43/1229.0\n",
      "[2021-05-08 09:54:09,946] [INFO] [<module>] [15] : parsing frame 44/1229.0\n",
      "[2021-05-08 09:54:11,765] [INFO] [<module>] [15] : parsing frame 45/1229.0\n",
      "[2021-05-08 09:54:13,579] [INFO] [<module>] [15] : parsing frame 46/1229.0\n",
      "[2021-05-08 09:54:15,398] [INFO] [<module>] [15] : parsing frame 47/1229.0\n",
      "[2021-05-08 09:54:17,213] [INFO] [<module>] [15] : parsing frame 48/1229.0\n",
      "[2021-05-08 09:54:19,034] [INFO] [<module>] [15] : parsing frame 49/1229.0\n",
      "[2021-05-08 09:54:20,860] [INFO] [<module>] [15] : parsing frame 50/1229.0\n",
      "[2021-05-08 09:54:22,678] [INFO] [<module>] [15] : parsing frame 51/1229.0\n",
      "[2021-05-08 09:54:24,501] [INFO] [<module>] [15] : parsing frame 52/1229.0\n",
      "[2021-05-08 09:54:26,346] [INFO] [<module>] [15] : parsing frame 53/1229.0\n",
      "[2021-05-08 09:54:28,162] [INFO] [<module>] [15] : parsing frame 54/1229.0\n",
      "[2021-05-08 09:54:29,972] [INFO] [<module>] [15] : parsing frame 55/1229.0\n",
      "[2021-05-08 09:54:31,796] [INFO] [<module>] [15] : parsing frame 56/1229.0\n",
      "[2021-05-08 09:54:33,606] [INFO] [<module>] [15] : parsing frame 57/1229.0\n",
      "[2021-05-08 09:54:35,421] [INFO] [<module>] [15] : parsing frame 58/1229.0\n",
      "[2021-05-08 09:54:37,250] [INFO] [<module>] [15] : parsing frame 59/1229.0\n"
     ]
    },
    {
     "ename": "ValueError",
     "evalue": "all the input arrays must have same number of dimensions, but the array at index 0 has 2 dimension(s) and the array at index 1 has 3 dimension(s)",
     "output_type": "error",
     "traceback": [
      "\u001b[0;31m---------------------------------------------------------------------------\u001b[0m",
      "\u001b[0;31mValueError\u001b[0m                                Traceback (most recent call last)",
      "\u001b[0;32m<ipython-input-21-9714c946f092>\u001b[0m in \u001b[0;36m<module>\u001b[0;34m\u001b[0m\n\u001b[1;32m     17\u001b[0m     \u001b[0;32mif\u001b[0m \u001b[0mrois\u001b[0m \u001b[0;32mis\u001b[0m \u001b[0;32mnot\u001b[0m \u001b[0;32mNone\u001b[0m \u001b[0;34m:\u001b[0m\u001b[0;34m\u001b[0m\u001b[0;34m\u001b[0m\u001b[0m\n\u001b[1;32m     18\u001b[0m \u001b[0;31m#         roi = np.asarray(rois[0]) # Just the forehead\u001b[0m\u001b[0;34m\u001b[0m\u001b[0;34m\u001b[0m\u001b[0;34m\u001b[0m\u001b[0m\n\u001b[0;32m---> 19\u001b[0;31m         \u001b[0mroi\u001b[0m \u001b[0;34m=\u001b[0m \u001b[0mnp\u001b[0m\u001b[0;34m.\u001b[0m\u001b[0mvstack\u001b[0m\u001b[0;34m(\u001b[0m\u001b[0;34m(\u001b[0m\u001b[0mrois\u001b[0m\u001b[0;34m[\u001b[0m\u001b[0;36m0\u001b[0m\u001b[0;34m]\u001b[0m\u001b[0;34m,\u001b[0m \u001b[0mrois\u001b[0m\u001b[0;34m[\u001b[0m\u001b[0;36m1\u001b[0m\u001b[0;34m]\u001b[0m\u001b[0;34m)\u001b[0m\u001b[0;34m)\u001b[0m\u001b[0;34m\u001b[0m\u001b[0;34m\u001b[0m\u001b[0m\n\u001b[0m\u001b[1;32m     20\u001b[0m         \u001b[0mis_good_frame\u001b[0m\u001b[0;34m,\u001b[0m\u001b[0mcolor_sig\u001b[0m\u001b[0;34m,\u001b[0m \u001b[0mluminance_level\u001b[0m \u001b[0;34m=\u001b[0m \u001b[0mparse_RGB\u001b[0m\u001b[0;34m(\u001b[0m\u001b[0mroi\u001b[0m\u001b[0;34m,\u001b[0m \u001b[0mcolor_sig\u001b[0m\u001b[0;34m)\u001b[0m\u001b[0;34m\u001b[0m\u001b[0;34m\u001b[0m\u001b[0m\n\u001b[1;32m     21\u001b[0m         \u001b[0;32mif\u001b[0m \u001b[0mis_good_frame\u001b[0m\u001b[0;34m:\u001b[0m\u001b[0;34m\u001b[0m\u001b[0;34m\u001b[0m\u001b[0m\n",
      "\u001b[0;32m<__array_function__ internals>\u001b[0m in \u001b[0;36mvstack\u001b[0;34m(*args, **kwargs)\u001b[0m\n",
      "\u001b[0;32m/Library/Frameworks/Python.framework/Versions/3.8/lib/python3.8/site-packages/numpy/core/shape_base.py\u001b[0m in \u001b[0;36mvstack\u001b[0;34m(tup)\u001b[0m\n\u001b[1;32m    281\u001b[0m     \u001b[0;32mif\u001b[0m \u001b[0;32mnot\u001b[0m \u001b[0misinstance\u001b[0m\u001b[0;34m(\u001b[0m\u001b[0marrs\u001b[0m\u001b[0;34m,\u001b[0m \u001b[0mlist\u001b[0m\u001b[0;34m)\u001b[0m\u001b[0;34m:\u001b[0m\u001b[0;34m\u001b[0m\u001b[0;34m\u001b[0m\u001b[0m\n\u001b[1;32m    282\u001b[0m         \u001b[0marrs\u001b[0m \u001b[0;34m=\u001b[0m \u001b[0;34m[\u001b[0m\u001b[0marrs\u001b[0m\u001b[0;34m]\u001b[0m\u001b[0;34m\u001b[0m\u001b[0;34m\u001b[0m\u001b[0m\n\u001b[0;32m--> 283\u001b[0;31m     \u001b[0;32mreturn\u001b[0m \u001b[0m_nx\u001b[0m\u001b[0;34m.\u001b[0m\u001b[0mconcatenate\u001b[0m\u001b[0;34m(\u001b[0m\u001b[0marrs\u001b[0m\u001b[0;34m,\u001b[0m \u001b[0;36m0\u001b[0m\u001b[0;34m)\u001b[0m\u001b[0;34m\u001b[0m\u001b[0;34m\u001b[0m\u001b[0m\n\u001b[0m\u001b[1;32m    284\u001b[0m \u001b[0;34m\u001b[0m\u001b[0m\n\u001b[1;32m    285\u001b[0m \u001b[0;34m\u001b[0m\u001b[0m\n",
      "\u001b[0;32m<__array_function__ internals>\u001b[0m in \u001b[0;36mconcatenate\u001b[0;34m(*args, **kwargs)\u001b[0m\n",
      "\u001b[0;31mValueError\u001b[0m: all the input arrays must have same number of dimensions, but the array at index 0 has 2 dimension(s) and the array at index 1 has 3 dimension(s)"
     ]
    }
   ],
   "source": [
    "color_sig = [[]]\n",
    "heart_rates = []\n",
    "good_frame_number = 0\n",
    "total_frame_number = 0\n",
    "\n",
    "# Parsing video:\n",
    "logging.info(\"Working on video \" + video_location)\n",
    "vidcap = cv2.VideoCapture(video_location)\n",
    "success, image = vidcap.read()\n",
    "fps = vidcap.get(cv2.CAP_PROP_FPS) # fs == sampling rate\n",
    "round_fps = np.round(fps)\n",
    "number_of_frames = vidcap.get(cv2.CAP_PROP_FRAME_COUNT)\n",
    "logging.info(\"Parsing images ...\")\n",
    "while success:\n",
    "    logging.info(\"parsing frame \" + str(total_frame_number) + \"/\" + str(number_of_frames))\n",
    "    rois = parse_roi(cv2.cvtColor(image, cv2.COLOR_BGR2RGB))  # build image ROI (rois is a tuple contains two regions)\n",
    "    if rois is not None : \n",
    "#         roi = np.asarray(rois[0]) # Just the forehead\n",
    "        roi = np.vstack((rois[0], rois[1]))\n",
    "        is_good_frame,color_sig, luminance_level = parse_RGB(roi, color_sig)\n",
    "        if is_good_frame:\n",
    "            good_frame_number += 1\n",
    "            logging.info(\"luminance level: \" + str(luminance_level))\n",
    "    total_frame_number += 1\n",
    "    success, image = get_new_frame(vidcap)\n"
   ]
  },
  {
   "cell_type": "code",
   "execution_count": null,
   "metadata": {
    "pycharm": {
     "name": "#%%\n"
    }
   },
   "outputs": [],
   "source": [
    "def print_results(window_sig, window, xlabel, ylabel, change_range):\n",
    "    fig = plt.figure()\n",
    "    ax = fig.subplots()\n",
    "    while len(window_sig) > len(window):\n",
    "        window_sig = window_sig[-1]\n",
    "    ax.plot(window_sig,window,color ='green')\n",
    "    if change_range:\n",
    "        plt.xlim([0, 5])\n",
    "\n",
    "    ax.set_xlabel(xlabel)\n",
    "    ax.set_ylabel(ylabel)\n",
    "    ax.set_xscale('linear')\n",
    "    ax.spines['bottom'].set_color('red')\n",
    "    ax.spines['left'].set_color('red')\n",
    "    ax.xaxis.label.set_color('red')\n",
    "    ax.yaxis.label.set_color('red')\n",
    "    ax.tick_params(axis='x', colors='red')\n",
    "    ax.tick_params(axis='y', colors='red')\n",
    "    plt.show()\n",
    "\n",
    "def find_hr_in_window(green, window_start, round_fps, window_id, window_size):\n",
    "    round_fps = int(round_fps)\n",
    "    if window_start + round_fps * window_size > len(green):\n",
    "        window = green[window_start : ]\n",
    "    else:\n",
    "        window = green[window_start : window_start + round_fps * window_size]\n",
    "    window_sig = np.arange(window.size/round_fps,step= (1/30))\n",
    "\n",
    "    print_results(window_sig, window, 'X-axis', 'Y-axis', False)\n",
    "\n",
    "    window = window - np.mean(window)\n",
    "    window = window / np.std(window)\n",
    "    print_results(window_sig, window, 'X-axis', 'Y-axis', False)\n",
    "\n",
    "    g = filter_channel(window,round_fps)\n",
    "    print_results(window_sig, g, 'X-axis', 'Y-axis', False)\n",
    "\n",
    "    f, Pxx_den = sig.periodogram(g, round_fps)\n",
    "\n",
    "    print_results(f, Pxx_den, 'frequency [Hz]', 'PSD [V**2/Hz]', True)\n",
    "    # plt.semilogy(f, Pxx_den)\n",
    "    # plt.ylim([1e-7, 1e2])\n",
    "    # plt.xlabel('frequency [Hz]')\n",
    "    # plt.ylabel('PSD [V**2/Hz]')\n",
    "    # plt.show()\n",
    "\n",
    "\n",
    "    max_val = Pxx_den.argmax()\n",
    "    logging.info(\"Heart rate of window \" + str(window_id) +\n",
    "                 \": \" + str(f[max_val]))"
   ]
  },
  {
   "cell_type": "code",
   "execution_count": null,
   "metadata": {
    "pycharm": {
     "name": "#%%\n"
    }
   },
   "outputs": [],
   "source": [
    "# color_sig_array = np.asarray(color_sig)\n",
    "# red = color_sig_array[:,0]\n",
    "# green = color_sig_array[:,1]\n",
    "# blue = color_sig_array[:,2]\n",
    "# \n",
    "# window_start = 0\n",
    "# window_size = 30\n",
    "# window_id = 0\n",
    "# limit = good_frame_number - int(round_fps) * window_size\n",
    "# while window_start < limit :\n",
    "#     find_hr_in_window(green, window_start, round_fps, window_id, window_size)\n",
    "#     window_start += int(round_fps) * window_size\n",
    "#     window_id += 1\n",
    "# if window_start < good_frame_number:\n",
    "#     window_id += 1\n",
    "#     find_hr_in_window(green, window_start, round_fps, window_id, good_frame_number - window_start)"
   ]
  },
  {
   "cell_type": "code",
   "execution_count": 14,
   "metadata": {
    "pycharm": {
     "is_executing": false,
     "name": "#%%\n"
    },
    "scrolled": true
   },
   "outputs": [
    {
     "name": "stdout",
     "output_type": "stream",
     "text": [
      "(2, 1024)\n"
     ]
    },
    {
     "data": {
      "text/plain": [
       "[<matplotlib.lines.Line2D at 0x7fa3ead52310>]"
      ]
     },
     "execution_count": 14,
     "metadata": {},
     "output_type": "execute_result"
    },
    {
     "data": {
      "image/png": "[encoded data removed]",
      "text/plain": [
       "<Figure size 1080x432 with 2 Axes>"
      ]
     },
     "metadata": {
      "needs_background": "light"
     },
     "output_type": "display_data"
    }
   ],
   "source": [
    "import pywt\n",
    "from sklearn.decomposition import PCA\n",
    "from sklearn.covariance import MinCovDet as MCD\n",
    "import numpy as np\n",
    "from sklearn.preprocessing import StandardScaler\n",
    "from skimage.restoration import denoise_wavelet\n",
    "from matplotlib import pyplot as plt\n",
    "import numpy as np\n",
    "import scipy,itertools\n",
    "from skimage.restoration import denoise_wavelet\n",
    "\n",
    "def eigenvalue_decomposition(mat):\n",
    "        \"\"\" return (diagonal,orthogonal matrix)\n",
    "        \"\"\"\n",
    "        \"\"\"\n",
    "        \"\"\"\n",
    "        # eigen_vals, eigen_vectors\n",
    "        eigen_vals, eigen_vectors = np.linalg.eigh(mat)\n",
    "        d = np.diag(eigen_vals)\n",
    "        return d,eigen_vectors\n",
    "\n",
    "def cartesian_product(xi,v):\n",
    "    cartez_prod = list(itertools.product(xi,v))\n",
    "    return np.asarray(cartez_prod).T\n",
    "    \n",
    "def multivariate_video_signal(signal):\n",
    "    \"\"\"\n",
    "    Algorithm 1\n",
    "    :param signal: is a 2D signal. One dimension the signal from the forehead, and second is from above the upper lip\n",
    "    :return: multivariate PPG!\n",
    "    \"\"\"\n",
    "    H, J = 2, 4\n",
    "    num_of_sampels = signal.shape[1]\n",
    "    wavelet = pywt.Wavelet('sym2') \n",
    "    coeff_all = pywt.wavedec(signal, wavelet, level=J) \n",
    "    approx_4,det_4,det_3,det_2,det_1 = coeff_all\n",
    "    details = [det_1,det_2,det_3,det_4]\n",
    "    noise_mat = MCD(random_state=0).fit(details[0].T).covariance_\n",
    "    # decomposing noise matrix: \n",
    "    d,v = eigenvalue_decomposition(noise_mat) # noise_matrix = v * d *v.T\n",
    "    diag_vals = d.diagonal()\n",
    "    xi_hats = []\n",
    "    for j in range(0, J ):\n",
    "        xi_j = np.dot(details[j].T,v).T\n",
    "#         xi_j = cartesian_product(details[j].T,v)\n",
    "        xi_hat_hs = []\n",
    "        for h in range(0, H):\n",
    "            gama_h = np.sqrt(2 * diag_vals[h] * np.log(num_of_sampels))\n",
    "            xi_hat_hs.append(pywt.threshold(data=xi_j[h], value=gama_h))\n",
    "        xi_hats.append(np.vstack((xi_hat_hs[0],xi_hat_hs[1])))\n",
    "    # scaling function basis change:\n",
    "    phi = approx_4.T\n",
    "    pca = PCA()\n",
    "    phi_norm = StandardScaler().fit_transform(phi) # normalize \n",
    "    pca.fit(phi_norm)\n",
    "    phi_hat = pca.transform(phi_norm).T # new scaling function\n",
    "    #reconstructing the signal:\n",
    "    coeffs = list(reversed(xi_hats))\n",
    "    coeffs.insert(0,phi_hat) # coeeffs is in a form of [cA4,cD4,cD3,cD2,cD1]\n",
    "    multivariate_ppg = pywt.waverec(coeffs,wavelet) # reconstruction\n",
    "    return multivariate_ppg\n",
    "\n",
    "# data that i used to test the algorithm:\n",
    "# x = pywt.data.ecg().astype(float) / 256\n",
    "# y = pywt.data.ecg().astype(float) / 256\n",
    "# sigma = 0.05\n",
    "# x_noisy = x + sigma * np.random.randn(x.size)\n",
    "# y_noisy = x + 2*sigma * np.random.randn(y.size)\n",
    "# combined = np.vstack((x_noisy, y_noisy)) # making 2d array\n",
    "ppg_hat = multivariate_video_signal(color_sig)\n",
    "plt.figure(figsize=(15,6))\n",
    "plt.subplot(2,1,1)\n",
    "plt.plot(ppg_hat[0],\"red\")\n",
    "plt.subplot(2,1,2)\n",
    "\n",
    "# plt.plot(ppg_hat,color = 'red')\n"
   ]
  },
  {
   "cell_type": "code",
   "execution_count": 25,
   "metadata": {
    "pycharm": {
     "name": "#%%\n"
    }
   },
   "outputs": [
    {
     "name": "stdout",
     "output_type": "stream",
     "text": [
      "(637,)\n"
     ]
    },
    {
     "ename": "ValueError",
     "evalue": "Input array has fewer dimensions than the specified axes",
     "output_type": "error",
     "traceback": [
      "\u001b[0;31m---------------------------------------------------------------------------\u001b[0m",
      "\u001b[0;31mValueError\u001b[0m                                Traceback (most recent call last)",
      "\u001b[0;32m<ipython-input-25-9e7887ac42d8>\u001b[0m in \u001b[0;36m<module>\u001b[0;34m\u001b[0m\n\u001b[1;32m     50\u001b[0m \u001b[0;34m\u001b[0m\u001b[0m\n\u001b[1;32m     51\u001b[0m \u001b[0mprint\u001b[0m\u001b[0;34m(\u001b[0m\u001b[0mgreen\u001b[0m\u001b[0;34m.\u001b[0m\u001b[0mshape\u001b[0m\u001b[0;34m)\u001b[0m\u001b[0;34m\u001b[0m\u001b[0;34m\u001b[0m\u001b[0m\n\u001b[0;32m---> 52\u001b[0;31m \u001b[0mmultivariate_Video_Signal\u001b[0m\u001b[0;34m(\u001b[0m\u001b[0mgreen\u001b[0m\u001b[0;34m)\u001b[0m\u001b[0;34m\u001b[0m\u001b[0;34m\u001b[0m\u001b[0m\n\u001b[0m",
      "\u001b[0;32m<ipython-input-25-9e7887ac42d8>\u001b[0m in \u001b[0;36mmultivariate_Video_Signal\u001b[0;34m(signal)\u001b[0m\n\u001b[1;32m     17\u001b[0m     \u001b[0mdwt_res\u001b[0m \u001b[0;34m=\u001b[0m \u001b[0;34m[\u001b[0m\u001b[0;34m(\u001b[0m\u001b[0;32mNone\u001b[0m\u001b[0;34m,\u001b[0m \u001b[0msignal\u001b[0m\u001b[0;34m)\u001b[0m\u001b[0;34m]\u001b[0m\u001b[0;34m\u001b[0m\u001b[0;34m\u001b[0m\u001b[0m\n\u001b[1;32m     18\u001b[0m     \u001b[0;32mfor\u001b[0m \u001b[0mi\u001b[0m \u001b[0;32min\u001b[0m \u001b[0mrange\u001b[0m\u001b[0;34m(\u001b[0m\u001b[0;36m0\u001b[0m\u001b[0;34m,\u001b[0m \u001b[0mJ\u001b[0m\u001b[0;34m)\u001b[0m\u001b[0;34m:\u001b[0m\u001b[0;34m\u001b[0m\u001b[0;34m\u001b[0m\u001b[0m\n\u001b[0;32m---> 19\u001b[0;31m         \u001b[0mapprox_i\u001b[0m\u001b[0;34m,\u001b[0m \u001b[0mdet_i\u001b[0m \u001b[0;34m=\u001b[0m \u001b[0mpywt\u001b[0m\u001b[0;34m.\u001b[0m\u001b[0mdwt2\u001b[0m\u001b[0;34m(\u001b[0m\u001b[0mdwt_res\u001b[0m\u001b[0;34m[\u001b[0m\u001b[0mi\u001b[0m\u001b[0;34m]\u001b[0m\u001b[0;34m[\u001b[0m\u001b[0;36m1\u001b[0m\u001b[0;34m]\u001b[0m\u001b[0;34m,\u001b[0m \u001b[0;34m'sym2'\u001b[0m\u001b[0;34m)\u001b[0m\u001b[0;34m\u001b[0m\u001b[0;34m\u001b[0m\u001b[0m\n\u001b[0m\u001b[1;32m     20\u001b[0m         \u001b[0mdwt_res\u001b[0m\u001b[0;34m.\u001b[0m\u001b[0mappend\u001b[0m\u001b[0;34m(\u001b[0m\u001b[0;34m(\u001b[0m\u001b[0mdet_i\u001b[0m\u001b[0;34m,\u001b[0m \u001b[0mapprox_i\u001b[0m\u001b[0;34m)\u001b[0m\u001b[0;34m)\u001b[0m\u001b[0;34m\u001b[0m\u001b[0;34m\u001b[0m\u001b[0m\n\u001b[1;32m     21\u001b[0m     \u001b[0mprint\u001b[0m\u001b[0;34m(\u001b[0m\u001b[0mnp\u001b[0m\u001b[0;34m.\u001b[0m\u001b[0masarray\u001b[0m\u001b[0;34m(\u001b[0m\u001b[0mdwt_res\u001b[0m\u001b[0;34m[\u001b[0m\u001b[0;36m1\u001b[0m\u001b[0;34m]\u001b[0m\u001b[0;34m[\u001b[0m\u001b[0;36m0\u001b[0m\u001b[0;34m]\u001b[0m\u001b[0;34m)\u001b[0m\u001b[0;34m.\u001b[0m\u001b[0mshape\u001b[0m\u001b[0;34m)\u001b[0m\u001b[0;34m\u001b[0m\u001b[0;34m\u001b[0m\u001b[0m\n",
      "\u001b[0;32m/Library/Frameworks/Python.framework/Versions/3.8/lib/python3.8/site-packages/pywt/_multidim.py\u001b[0m in \u001b[0;36mdwt2\u001b[0;34m(data, wavelet, mode, axes)\u001b[0m\n\u001b[1;32m     68\u001b[0m         \u001b[0;32mraise\u001b[0m \u001b[0mValueError\u001b[0m\u001b[0;34m(\u001b[0m\u001b[0;34m\"Expected 2 axes\"\u001b[0m\u001b[0;34m)\u001b[0m\u001b[0;34m\u001b[0m\u001b[0;34m\u001b[0m\u001b[0m\n\u001b[1;32m     69\u001b[0m     \u001b[0;32mif\u001b[0m \u001b[0mdata\u001b[0m\u001b[0;34m.\u001b[0m\u001b[0mndim\u001b[0m \u001b[0;34m<\u001b[0m \u001b[0mlen\u001b[0m\u001b[0;34m(\u001b[0m\u001b[0mnp\u001b[0m\u001b[0;34m.\u001b[0m\u001b[0munique\u001b[0m\u001b[0;34m(\u001b[0m\u001b[0maxes\u001b[0m\u001b[0;34m)\u001b[0m\u001b[0;34m)\u001b[0m\u001b[0;34m:\u001b[0m\u001b[0;34m\u001b[0m\u001b[0;34m\u001b[0m\u001b[0m\n\u001b[0;32m---> 70\u001b[0;31m         raise ValueError(\"Input array has fewer dimensions than the specified \"\n\u001b[0m\u001b[1;32m     71\u001b[0m                          \"axes\")\n\u001b[1;32m     72\u001b[0m \u001b[0;34m\u001b[0m\u001b[0m\n",
      "\u001b[0;31mValueError\u001b[0m: Input array has fewer dimensions than the specified axes"
     ]
    }
   ],
   "source": [
    "# Peaks detection + write to csv the times"
   ]
  },
  {
   "cell_type": "markdown",
   "metadata": {},
   "source": [
    "# Peaks detection + write to csv the times"
   ]
  },
  {
   "cell_type": "code",
   "execution_count": null,
   "metadata": {
    "pycharm": {
     "name": "#%%\n"
    }
   },
   "outputs": [],
   "source": [
    "import pandas as pd\n",
    "def indexes(y, thres=0.3, min_dist=1, thres_abs=False):\n",
    "    if isinstance(y, np.ndarray) and np.issubdtype(y.dtype, np.unsignedinteger):\n",
    "        raise ValueError(\"y must be signed\")\n",
    "\n",
    "    if not thres_abs:\n",
    "        thres = thres * (np.max(y) - np.min(y)) + np.min(y)\n",
    "\n",
    "    min_dist = int(min_dist)\n",
    "\n",
    "    # compute first order difference\n",
    "    dy = np.diff(y)\n",
    "\n",
    "    # propagate left and right values successively to fill all plateau pixels (0-value)\n",
    "    zeros, = np.where(dy == 0)\n",
    "\n",
    "    # check if the signal is totally flat\n",
    "    if len(zeros) == len(y) - 1:\n",
    "        return np.array([])\n",
    "\n",
    "    if len(zeros):\n",
    "        # compute first order difference of zero indexes\n",
    "        zeros_diff = np.diff(zeros)\n",
    "        # check when zeros are not chained together\n",
    "        zeros_diff_not_one, = np.add(np.where(zeros_diff != 1), 1)\n",
    "        # make an array of the chained zero indexes\n",
    "        zero_plateaus = np.split(zeros, zeros_diff_not_one)\n",
    "\n",
    "        # fix if leftmost value in dy is zero\n",
    "        if zero_plateaus[0][0] == 0:\n",
    "            dy[zero_plateaus[0]] = dy[zero_plateaus[0][-1] + 1]\n",
    "            zero_plateaus.pop(0)\n",
    "\n",
    "        # fix if rightmost value of dy is zero\n",
    "        if len(zero_plateaus) and zero_plateaus[-1][-1] == len(dy) - 1:\n",
    "            dy[zero_plateaus[-1]] = dy[zero_plateaus[-1][0] - 1]\n",
    "            zero_plateaus.pop(-1)\n",
    "\n",
    "        # for each chain of zero indexes\n",
    "        for plateau in zero_plateaus:\n",
    "            median = np.median(plateau)\n",
    "            # set leftmost values to leftmost non zero values\n",
    "            dy[plateau[plateau < median]] = dy[plateau[0] - 1]\n",
    "            # set rightmost and middle values to rightmost non zero values\n",
    "            dy[plateau[plateau >= median]] = dy[plateau[-1] + 1]\n",
    "\n",
    "    # find the peaks by using the first order difference\n",
    "    peaks = np.where(\n",
    "        (np.hstack([dy, 0.0]) < 0.0)\n",
    "        & (np.hstack([0.0, dy]) > 0.0)\n",
    "        & (np.greater(y, thres))\n",
    "    )[0]\n",
    "\n",
    "    # handle multiple peaks, respecting the minimum distance\n",
    "    if peaks.size > 1 and min_dist > 1:\n",
    "        highest = peaks[np.argsort(y[peaks])][::-1]\n",
    "        rem = np.ones(y.size, dtype=bool)\n",
    "        rem[peaks] = False\n",
    "\n",
    "        for peak in highest:\n",
    "            if not rem[peak]:\n",
    "                sl = slice(max(0, peak - min_dist), peak + min_dist + 1)\n",
    "                rem[sl] = True\n",
    "                rem[peak] = False\n",
    "\n",
    "        peaks = np.arange(y.size)[~rem]\n",
    "\n",
    "    return peaks\n",
    "green_buttered = filter_channel(green,round_fps)\n",
    "peaks = indexes(green_buttered,min_dist=20)\n",
    "# peaks, _ = sig.find_peaks(x, height=0.75)\n",
    "x = np.arange(window_size,step=1/round_fps)\n",
    "plt.plot(x,green_buttered,'-go',markerfacecolor='red',markevery=peaks)\n",
    "plt.show()\n",
    "np.savetxt(\"time_of_peaks.csv\", x[peaks], delimiter=\",\")"
   ]
  },
  {
   "cell_type": "code",
   "execution_count": null,
   "metadata": {
    "pycharm": {
     "name": "#%%\n"
    }
   },
   "outputs": [],
   "source": [
    "# a = Pxx_den\n",
    "# ind = np.argsort(a)\n",
    "# max_ind = ind[-5:]\n",
    "# print(f[max_ind])\n",
    "# print(\"HR for this video is: \" +str(f[max_ind].mean()))"
   ]
  },
  {
   "cell_type": "code",
   "execution_count": null,
   "metadata": {
    "pycharm": {
     "name": "#%%\n"
    }
   },
   "outputs": [],
   "source": [
    "# if good_frame_number != greens.size: # TO BE REVIEW BY EYAL, POSSIBLE BUG FIX HERE!\n",
    "#     frame_number = greens.size\n",
    "# axis = np.arange((good_frame_number / round_fps), step=(1 / 30)) # axis is Time\n",
    "# plot_result(greens, reds, blues, axis, \"All 3 channels\") # original signals\n",
    "# # apply filtering on all the channels:\n",
    "# green_buttered = filter_channel(greens,round_fps)\n",
    "# red_buttered = filter_channel(reds,round_fps)\n",
    "# blue_buttered = filter_channel(blues,round_fps)\n",
    "# # plotting the channels after apllying the filter\n",
    "# plot_result(green_buttered, red_buttered, blue_buttered, axis, \"After Filter\") # after filtering"
   ]
  },
  {
   "cell_type": "code",
   "execution_count": null,
   "metadata": {
    "pycharm": {
     "name": "#%%\n"
    }
   },
   "outputs": [],
   "source": [
    "# if good_frame_number != greens.size: # TO BE REVIEW BY EYAL, POSSIBLE BUG FIX HERE!\n",
    "#     frame_number = greens.size\n",
    "# axis = np.arange((good_frame_number / round_fps), step=(1 / 30)) # axis is Time\n",
    "# plot_result(greens, reds, blues, axis, \"All 3 channels\") # original signals\n",
    "# # apply filtering on all the channels:\n",
    "# green_buttered = filter_channel(greens,round_fps)\n",
    "# red_buttered = filter_channel(reds,round_fps)\n",
    "# blue_buttered = filter_channel(blues,round_fps)\n",
    "# # plotting the channels after apllying the filter\n",
    "# plot_result(green_buttered, red_buttered, blue_buttered, axis, \"After Filter\") # after filtering"
   ]
  },
  {
   "cell_type": "markdown",
   "metadata": {},
   "source": [
    "### PSD estimation using 'Welch' or 'Periodogram'"
   ]
  },
  {
   "cell_type": "code",
   "execution_count": null,
   "metadata": {
    "pycharm": {
     "name": "#%%\n"
    }
   },
   "outputs": [],
   "source": [
    "# f, Pxx_den = sig.welch(green_buttered, round_fps,'flattop', 1024, scaling='spectrum')"
   ]
  },
  {
   "cell_type": "markdown",
   "metadata": {},
   "source": [
    "### Plot final results"
   ]
  },
  {
   "cell_type": "code",
   "execution_count": 4,
   "metadata": {
    "pycharm": {
     "name": "#%%\n"
    }
   },
   "outputs": [],
   "source": [
    "# plt.figure(f, Pxx_den)\n",
    "# #plt.semilogy(f, Pxx_den)\n",
    "# plt.ylim([1e-7, 1e2])\n",
    "# plt.xlabel('frequency [Hz]')\n",
    "# plt.ylabel('PSD [V**2/Hz]')\n",
    "# plt.show()\n",
    "# # periodogram method:\n",
    "# f, Pxx_den = sig.periodogram(green_buttered, round_fps)\n",
    "# plt.semilogy(f, Pxx_den)\n",
    "# plt.ylim([1e-7, 1e2])\n",
    "# plt.xlabel('frequency [Hz]')\n",
    "# plt.ylabel('PSD [V**2/Hz]')\n",
    "# plt.show()\n",
    "\n"
   ]
  }
 ],
 "metadata": {
  "kernelspec": {
   "display_name": "Python 3",
   "language": "python",
   "name": "python3"
  },
  "language_info": {
   "codemirror_mode": {
    "name": "ipython",
    "version": 3
   },
   "file_extension": ".py",
   "mimetype": "text/x-python",
   "name": "python",
   "nbconvert_exporter": "python",
   "pygments_lexer": "ipython3",
   "version": "3.8.5"
  },
  "pycharm": {
   "stem_cell": {
    "cell_type": "raw",
    "source": [],
    "metadata": {
     "collapsed": false
    }
   }
  }
 },
 "nbformat": 4,
 "nbformat_minor": 1
}