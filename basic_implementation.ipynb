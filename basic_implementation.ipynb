{
 "cells": [
  {
   "cell_type": "markdown",
   "metadata": {},
   "source": [
    "# Basic implementation using jupyter notebook"
   ]
  },
  {
   "cell_type": "code",
   "execution_count": 35,
   "metadata": {
    "pycharm": {
     "name": "#%%s\n"
    }
   },
   "outputs": [
    {
     "name": "stderr",
     "output_type": "stream",
     "text": [
      "[2021-01-05 14:11:41,630] [INFO] [<module>] [11] : Starting ...\n"
     ]
    }
   ],
   "source": [
    "import logging, numpy as np\n",
    "from scipy import signal\n",
    "from matplotlib import pyplot as plt\n",
    "import cv2\n",
    "import platform\n",
    "\n",
    "FORMAT = '[%(asctime)s] [%(levelname)s] [%(funcName)s] [%(lineno)d] : %(message)s'\n",
    "logging.basicConfig(format=FORMAT, level=logging.INFO)\n",
    "\n",
    "logging.info(\"Starting ...\")\n",
    "if platform.system() == \"Windows\":\n",
    "    seperator = \"\\\\\"\n",
    "else:\n",
    "    seperator = \"/\"\n",
    "\n",
    "dir = \"perry-all-2\"\n",
    "\n",
    "\n",
    "\n"
   ]
  },
  {
   "cell_type": "markdown",
   "metadata": {},
   "source": [
    "#### rotate image:"
   ]
  },
  {
   "cell_type": "code",
   "execution_count": 36,
   "metadata": {
    "pycharm": {
     "name": "#%%s\n"
    }
   },
   "outputs": [],
   "source": [
    "def rotate_image(mat, angle):\n",
    "    \"\"\"\n",
    "    Rotates an image (angle in degrees) and expands image to avoid cropping\n",
    "    \"\"\"\n",
    "\n",
    "    height, width = mat.shape[:2]  # image shape has 3 dimensions\n",
    "    image_center = (\n",
    "        width / 2,\n",
    "        height / 2)  # getRotationMatrix2D needs coordinates in reverse order (width, height) compared to shape\n",
    "\n",
    "    rotation_mat = cv2.getRotationMatrix2D(image_center, angle, 1.)\n",
    "\n",
    "    # rotation calculates the cos and sin, taking absolutes of those.\n",
    "    abs_cos = abs(rotation_mat[0, 0])\n",
    "    abs_sin = abs(rotation_mat[0, 1])\n",
    "\n",
    "    # find the new width and height bounds\n",
    "    bound_w = int(height * abs_sin + width * abs_cos)\n",
    "    bound_h = int(height * abs_cos + width * abs_sin)\n",
    "\n",
    "    # subtract old image center (bringing image back to origo) and adding the new image center coordinates\n",
    "    rotation_mat[0, 2] += bound_w / 2 - image_center[0]\n",
    "    rotation_mat[1, 2] += bound_h / 2 - image_center[1]\n",
    "\n",
    "    # rotate image with the new bounds and translated rotation matrix\n",
    "    rotated_mat = cv2.warpAffine(mat, rotation_mat, (bound_w, bound_h))\n",
    "    return rotated_mat\n"
   ]
  },
  {
   "cell_type": "markdown",
   "metadata": {},
   "source": [
    "### Parse roi:"
   ]
  },
  {
   "cell_type": "code",
   "execution_count": 37,
   "metadata": {
    "pycharm": {
     "name": "#%%s\n"
    }
   },
   "outputs": [],
   "source": [
    "def parse_roi(image):\n",
    "    \"\"\"\n",
    "    Upon receiving an image, finds a face (if exists) and writes it as an image\n",
    "    :param image: the image to be parsed\n",
    "    \"\"\"\n",
    "    gray = cv2.cvtColor(image, cv2.COLOR_BGR2GRAY)  # perform grayscale\n",
    "    flag_face_detected = False\n",
    "    face_cascade = cv2.CascadeClassifier(\n",
    "        cv2.data.haarcascades + \"haarcascade_frontalface_default.xml\")\n",
    "    face = face_cascade.detectMultiScale(\n",
    "        gray,\n",
    "        scaleFactor=1.3,\n",
    "        minNeighbors=3,\n",
    "        minSize=(30, 30)\n",
    "    )\n",
    "    for (x, y, w, h) in face:\n",
    "        flag_face_detected = True\n",
    "        cv2.rectangle(image, (x, y), (x + w, y + h), (0, 255, 0), 2)\n",
    "        roi_color = image[y:y + h, x:x + w]\n",
    "        # print(\"[INFO] Object found. Saving locally.\")\n",
    "        cv2.imwrite('faces_detected.jpg', roi_color)\n",
    "        roi_color_rgb = cv2.cvtColor(roi_color, cv2.COLOR_BGR2RGB)\n",
    "        # plt.imshow(roi_color_rgb)\n",
    "        # plt.show()\n",
    "    if not flag_face_detected:\n",
    "        logging.warning(\"No face detected in image\")"
   ]
  },
  {
   "cell_type": "markdown",
   "metadata": {},
   "source": [
    "#### Plot results:"
   ]
  },
  {
   "cell_type": "code",
   "execution_count": 38,
   "metadata": {
    "pycharm": {
     "name": "#%%s\n"
    }
   },
   "outputs": [],
   "source": [
    "def plot_result(greens, reds, blues, x_value, title=\"\"):\n",
    "    logging.info(\"Plotting results ...\" + title)\n",
    "    x_value = x_value.reshape(1, x_value.shape[0])\n",
    "    r = reds.tolist()[0]\n",
    "    b = blues.tolist()[0]\n",
    "    g = greens.tolist()[0]\n",
    "    x = x_value.tolist()[0]\n",
    "    plt.figure(figsize=(6, 5))\n",
    "    plt.title(title)\n",
    "    plt.xlabel(\"Time\")\n",
    "    plt.ylabel(\"Value\")\n",
    "    plt.subplot(3, 1, 1)\n",
    "    plt.plot(x, g, color=\"green\")\n",
    "    plt.subplot(3, 1, 2)\n",
    "    plt.plot(x, r, color=\"red\")\n",
    "    plt.subplot(3, 1, 3)\n",
    "    plt.plot(x, b, color=\"blue\")\n",
    "    plt.show()\n",
    "    logging.info(\"Showing result\")"
   ]
  },
  {
   "cell_type": "markdown",
   "metadata": {},
   "source": [
    "### calculate mean:"
   ]
  },
  {
   "cell_type": "code",
   "execution_count": 39,
   "metadata": {
    "pycharm": {
     "name": "#%%s\n"
    }
   },
   "outputs": [],
   "source": [
    "def parse_RGB(image, vidcap, greens, reds, blues, frame_number):\n",
    "    \"\"\"\n",
    "    Parses an image to its RGB channels\n",
    "    :param image: the image to be parsed\n",
    "    :param vidcap:\n",
    "    :param greens: array containing green channel values\n",
    "    :param blues: array containing blue channel values\n",
    "    :param reds: array containing red channel values\n",
    "    :param frame_number - is the number of the frame of the video.\n",
    "    :return: a flag indicating if there is a next image, and the next image\n",
    "    \"\"\"\n",
    "    blue, green, red = cv2.split(image)\n",
    "    greens[0, frame_number] = np.mean(green)\n",
    "    blues[0, frame_number] = np.mean(blue)\n",
    "    reds[0, frame_number] = np.mean(red)\n",
    "    success, image = vidcap.read()\n",
    "    return success, image"
   ]
  },
  {
   "cell_type": "markdown",
   "metadata": {
    "pycharm": {
     "name": "#%% md\n"
    }
   },
   "source": [
    "### read video frames"
   ]
  },
  {
   "cell_type": "code",
   "execution_count": 40,
   "metadata": {
    "pycharm": {
     "name": "#%%s\n"
    }
   },
   "outputs": [
    {
     "name": "stderr",
     "output_type": "stream",
     "text": [
      "[2021-01-05 14:11:41,730] [INFO] [<module>] [5] : Working on video ..\\dataset\\good_sync\\perry-all-2\\test.mp4\n",
      "[2021-01-05 14:11:41,848] [INFO] [<module>] [16] : Parsing images ...\n",
      "[2021-01-05 14:12:20,933] [WARNING] [parse_roi] [27] : No face detected in image\n",
      "[2021-01-05 14:12:21,021] [WARNING] [parse_roi] [27] : No face detected in image\n",
      "[2021-01-05 14:12:21,115] [WARNING] [parse_roi] [27] : No face detected in image\n",
      "[2021-01-05 14:12:21,198] [WARNING] [parse_roi] [27] : No face detected in image\n",
      "[2021-01-05 14:12:21,281] [WARNING] [parse_roi] [27] : No face detected in image\n",
      "[2021-01-05 14:12:21,377] [WARNING] [parse_roi] [27] : No face detected in image\n",
      "[2021-01-05 14:12:21,475] [WARNING] [parse_roi] [27] : No face detected in image\n",
      "[2021-01-05 14:12:21,570] [WARNING] [parse_roi] [27] : No face detected in image\n",
      "[2021-01-05 14:12:21,681] [WARNING] [parse_roi] [27] : No face detected in image\n",
      "[2021-01-05 14:12:21,794] [WARNING] [parse_roi] [27] : No face detected in image\n",
      "[2021-01-05 14:12:21,886] [WARNING] [parse_roi] [27] : No face detected in image\n",
      "[2021-01-05 14:12:21,976] [WARNING] [parse_roi] [27] : No face detected in image\n",
      "[2021-01-05 14:12:22,063] [WARNING] [parse_roi] [27] : No face detected in image\n",
      "[2021-01-05 14:12:22,158] [WARNING] [parse_roi] [27] : No face detected in image\n",
      "[2021-01-05 14:12:22,235] [WARNING] [parse_roi] [27] : No face detected in image\n",
      "[2021-01-05 14:12:22,324] [WARNING] [parse_roi] [27] : No face detected in image\n",
      "[2021-01-05 14:12:22,418] [WARNING] [parse_roi] [27] : No face detected in image\n",
      "[2021-01-05 14:12:22,497] [WARNING] [parse_roi] [27] : No face detected in image\n",
      "[2021-01-05 14:12:22,585] [WARNING] [parse_roi] [27] : No face detected in image\n",
      "[2021-01-05 14:12:22,664] [WARNING] [parse_roi] [27] : No face detected in image\n",
      "[2021-01-05 14:12:22,750] [WARNING] [parse_roi] [27] : No face detected in image\n",
      "[2021-01-05 14:12:22,824] [WARNING] [parse_roi] [27] : No face detected in image\n",
      "[2021-01-05 14:12:22,907] [WARNING] [parse_roi] [27] : No face detected in image\n",
      "[2021-01-05 14:12:22,980] [WARNING] [parse_roi] [27] : No face detected in image\n",
      "[2021-01-05 14:12:23,051] [WARNING] [parse_roi] [27] : No face detected in image\n",
      "[2021-01-05 14:12:23,140] [WARNING] [parse_roi] [27] : No face detected in image\n",
      "[2021-01-05 14:12:23,845] [WARNING] [parse_roi] [27] : No face detected in image\n",
      "[2021-01-05 14:12:23,915] [WARNING] [parse_roi] [27] : No face detected in image\n",
      "[2021-01-05 14:12:23,989] [WARNING] [parse_roi] [27] : No face detected in image\n",
      "[2021-01-05 14:12:24,072] [WARNING] [parse_roi] [27] : No face detected in image\n",
      "[2021-01-05 14:12:24,150] [WARNING] [parse_roi] [27] : No face detected in image\n",
      "[2021-01-05 14:12:24,223] [WARNING] [parse_roi] [27] : No face detected in image\n",
      "[2021-01-05 14:12:24,302] [WARNING] [parse_roi] [27] : No face detected in image\n",
      "[2021-01-05 14:12:24,382] [WARNING] [parse_roi] [27] : No face detected in image\n",
      "[2021-01-05 14:12:24,456] [WARNING] [parse_roi] [27] : No face detected in image\n",
      "[2021-01-05 14:12:24,547] [WARNING] [parse_roi] [27] : No face detected in image\n",
      "[2021-01-05 14:12:24,626] [WARNING] [parse_roi] [27] : No face detected in image\n",
      "[2021-01-05 14:12:24,720] [WARNING] [parse_roi] [27] : No face detected in image\n",
      "[2021-01-05 14:12:24,796] [WARNING] [parse_roi] [27] : No face detected in image\n",
      "[2021-01-05 14:12:24,880] [WARNING] [parse_roi] [27] : No face detected in image\n",
      "[2021-01-05 14:12:24,958] [WARNING] [parse_roi] [27] : No face detected in image\n",
      "[2021-01-05 14:12:25,043] [WARNING] [parse_roi] [27] : No face detected in image\n",
      "[2021-01-05 14:12:25,123] [WARNING] [parse_roi] [27] : No face detected in image\n",
      "[2021-01-05 14:12:25,214] [WARNING] [parse_roi] [27] : No face detected in image\n",
      "[2021-01-05 14:12:25,308] [WARNING] [parse_roi] [27] : No face detected in image\n",
      "[2021-01-05 14:12:25,405] [WARNING] [parse_roi] [27] : No face detected in image\n",
      "[2021-01-05 14:12:25,565] [WARNING] [parse_roi] [27] : No face detected in image\n",
      "[2021-01-05 14:12:25,643] [WARNING] [parse_roi] [27] : No face detected in image\n",
      "[2021-01-05 14:12:25,723] [WARNING] [parse_roi] [27] : No face detected in image\n",
      "[2021-01-05 14:12:25,803] [WARNING] [parse_roi] [27] : No face detected in image\n",
      "[2021-01-05 14:12:25,879] [WARNING] [parse_roi] [27] : No face detected in image\n",
      "[2021-01-05 14:12:25,951] [WARNING] [parse_roi] [27] : No face detected in image\n",
      "[2021-01-05 14:12:26,023] [WARNING] [parse_roi] [27] : No face detected in image\n",
      "[2021-01-05 14:12:26,113] [WARNING] [parse_roi] [27] : No face detected in image\n",
      "[2021-01-05 14:12:26,211] [WARNING] [parse_roi] [27] : No face detected in image\n",
      "[2021-01-05 14:12:35,122] [WARNING] [parse_roi] [27] : No face detected in image\n",
      "[2021-01-05 14:12:35,224] [WARNING] [parse_roi] [27] : No face detected in image\n",
      "[2021-01-05 14:12:35,342] [WARNING] [parse_roi] [27] : No face detected in image\n",
      "[2021-01-05 14:12:35,447] [WARNING] [parse_roi] [27] : No face detected in image\n",
      "[2021-01-05 14:12:35,552] [WARNING] [parse_roi] [27] : No face detected in image\n",
      "[2021-01-05 14:12:46,995] [WARNING] [parse_roi] [27] : No face detected in image\n",
      "[2021-01-05 14:12:47,144] [WARNING] [parse_roi] [27] : No face detected in image\n",
      "[2021-01-05 14:12:49,083] [WARNING] [parse_roi] [27] : No face detected in image\n",
      "[2021-01-05 14:12:49,162] [WARNING] [parse_roi] [27] : No face detected in image\n",
      "[2021-01-05 14:12:49,236] [WARNING] [parse_roi] [27] : No face detected in image\n",
      "[2021-01-05 14:12:49,314] [WARNING] [parse_roi] [27] : No face detected in image\n",
      "[2021-01-05 14:12:49,391] [WARNING] [parse_roi] [27] : No face detected in image\n",
      "[2021-01-05 14:12:49,475] [WARNING] [parse_roi] [27] : No face detected in image\n",
      "[2021-01-05 14:12:49,563] [WARNING] [parse_roi] [27] : No face detected in image\n",
      "[2021-01-05 14:12:49,648] [WARNING] [parse_roi] [27] : No face detected in image\n",
      "[2021-01-05 14:12:49,724] [WARNING] [parse_roi] [27] : No face detected in image\n",
      "[2021-01-05 14:12:49,807] [WARNING] [parse_roi] [27] : No face detected in image\n",
      "[2021-01-05 14:12:49,890] [WARNING] [parse_roi] [27] : No face detected in image\n",
      "[2021-01-05 14:12:49,979] [WARNING] [parse_roi] [27] : No face detected in image\n",
      "[2021-01-05 14:12:50,080] [WARNING] [parse_roi] [27] : No face detected in image\n",
      "[2021-01-05 14:12:50,166] [WARNING] [parse_roi] [27] : No face detected in image\n",
      "[2021-01-05 14:12:50,253] [WARNING] [parse_roi] [27] : No face detected in image\n",
      "[2021-01-05 14:12:50,339] [WARNING] [parse_roi] [27] : No face detected in image\n",
      "[2021-01-05 14:12:50,425] [WARNING] [parse_roi] [27] : No face detected in image\n",
      "[2021-01-05 14:12:50,508] [WARNING] [parse_roi] [27] : No face detected in image\n",
      "[2021-01-05 14:12:50,592] [WARNING] [parse_roi] [27] : No face detected in image\n",
      "[2021-01-05 14:12:51,497] [WARNING] [parse_roi] [27] : No face detected in image\n",
      "[2021-01-05 14:12:51,661] [WARNING] [parse_roi] [27] : No face detected in image\n",
      "[2021-01-05 14:12:51,740] [WARNING] [parse_roi] [27] : No face detected in image\n",
      "[2021-01-05 14:12:51,817] [WARNING] [parse_roi] [27] : No face detected in image\n",
      "[2021-01-05 14:12:51,908] [WARNING] [parse_roi] [27] : No face detected in image\n",
      "[2021-01-05 14:12:52,060] [WARNING] [parse_roi] [27] : No face detected in image\n",
      "[2021-01-05 14:12:52,164] [WARNING] [parse_roi] [27] : No face detected in image\n",
      "[2021-01-05 14:12:52,270] [WARNING] [parse_roi] [27] : No face detected in image\n",
      "[2021-01-05 14:12:52,375] [WARNING] [parse_roi] [27] : No face detected in image\n",
      "[2021-01-05 14:12:52,478] [WARNING] [parse_roi] [27] : No face detected in image\n",
      "[2021-01-05 14:12:52,568] [WARNING] [parse_roi] [27] : No face detected in image\n",
      "[2021-01-05 14:12:52,649] [WARNING] [parse_roi] [27] : No face detected in image\n",
      "[2021-01-05 14:12:52,738] [WARNING] [parse_roi] [27] : No face detected in image\n",
      "[2021-01-05 14:12:52,827] [WARNING] [parse_roi] [27] : No face detected in image\n",
      "[2021-01-05 14:12:52,923] [WARNING] [parse_roi] [27] : No face detected in image\n",
      "[2021-01-05 14:12:53,020] [WARNING] [parse_roi] [27] : No face detected in image\n",
      "[2021-01-05 14:12:53,117] [WARNING] [parse_roi] [27] : No face detected in image\n",
      "[2021-01-05 14:12:53,218] [WARNING] [parse_roi] [27] : No face detected in image\n"
     ]
    }
   ],
   "source": [
    "dataset_location = \"..\" + seperator + \"dataset\" + seperator + \"good_sync\" + seperator\n",
    "specific_dir = dir\n",
    "video_location = dataset_location + specific_dir + seperator + \"test.mp4\"\n",
    "logging.info(\"Working on video \" + video_location)\n",
    "vidcap = cv2.VideoCapture(video_location)\n",
    "success, image = vidcap.read()\n",
    "# image = cv2.rotate(image, cv2.cv2.ROTATE_90_COUNTERCLOCKWISE)\n",
    "fps = vidcap.get(cv2.CAP_PROP_FPS)\n",
    "number_of_frames = vidcap.get(cv2.CAP_PROP_FRAME_COUNT)\n",
    "x_value = np.arange((number_of_frames / np.round(fps)), step=(1 / 30))\n",
    "greens = np.zeros((1, int(number_of_frames)))  # instead of lists\n",
    "reds = np.zeros((1, int(number_of_frames)))\n",
    "blues = np.zeros((1, int(number_of_frames)))\n",
    "frame_number = 0\n",
    "logging.info(\"Parsing images ...\")\n",
    "while success:\n",
    "    # image = rotate_image(image, 90)\n",
    "    parse_roi(image)  # build image ROI\n",
    "    image = cv2.imread(\"faces_detected.jpg\") # possible BUG: read the same image twice if face not detected.\n",
    "    success, image = parse_RGB(image, vidcap, greens, reds, blues, frame_number)\n",
    "    frame_number += 1\n",
    "    # image = cv2.rotate(image, cv2.cv2.ROTATE_90_COUNTERCLOCKWISE)\n",
    "    # cv2.imshow(\"Rotated (Correct)\", image)"
   ]
  },
  {
   "cell_type": "markdown",
   "metadata": {},
   "source": [
    "### Butter filter:"
   ]
  },
  {
   "cell_type": "code",
   "execution_count": 41,
   "metadata": {
    "pycharm": {
     "name": "#%%s\n"
    }
   },
   "outputs": [],
   "source": [
    "def apply_butter_filter(sig,fs):\n",
    "    \"\"\"\n",
    "    Filter signal using Butter filter and filtfilt. \n",
    "    :param sig: is the signal to be filtered\n",
    "    :return: the filtered signal\n",
    "    \"\"\"\n",
    "    logging.info(\"Applying butter filter...\")\n",
    "    # NOTE: 4 is the order,filternig valuesshould be between 0 to 1,\n",
    "    #Hence we multiply the freq. by 2 and divide by fs witch is the fps of the video.\n",
    "    bh,ah = signal.butter(4,4*2/fs,btype='highpass') # high pass at 4 hz Coefficients \n",
    "    bl,al = signal.butter(4,2/fs,btype='lowpass') # low pass at 1 hz  Coefficients\n",
    "    sig = signal.filtfilt(bh,ah,sig) # applying the filter coefficients on the signal.\n",
    "    sig = np.absolute(sig)\n",
    "    sig = signal.filtfilt(bl,al,sig)\n",
    "    return sig \n",
    "\n"
   ]
  },
  {
   "cell_type": "markdown",
   "metadata": {
    "pycharm": {
     "name": "#%% md\n"
    }
   },
   "source": [
    "### Plot after butter filter and the original signals ( A sanity check)"
   ]
  },
  {
   "cell_type": "code",
   "execution_count": 42,
   "metadata": {
    "pycharm": {
     "name": "#%%s\n"
    }
   },
   "outputs": [
    {
     "name": "stderr",
     "output_type": "stream",
     "text": [
      "[2021-01-05 14:12:55,806] [INFO] [plot_result] [3] : Plotting results ...All 3 channels\n",
      "[2021-01-05 14:12:56,433] [INFO] [plot_result] [20] : Showing result\n",
      "[2021-01-05 14:12:56,434] [INFO] [apply_butter_filter] [8] : Applying butter filter...\n",
      "[2021-01-05 14:12:56,507] [INFO] [apply_butter_filter] [8] : Applying butter filter...\n",
      "[2021-01-05 14:12:56,511] [INFO] [apply_butter_filter] [8] : Applying butter filter...\n",
      "[2021-01-05 14:12:56,983] [INFO] [<module>] [18] : Finished parsing the video.\n"
     ]
    },
    {
     "data": {
      "text/plain": "<Figure size 432x360 with 3 Axes>",
      "image/png": "[encoded data removed]"
     },
     "metadata": {
      "needs_background": "light"
     },
     "output_type": "display_data"
    },
    {
     "data": {
      "text/plain": "<Figure size 432x360 with 3 Axes>",
      "image/png": "[encoded data removed]"
     },
     "metadata": {
      "needs_background": "light"
     },
     "output_type": "display_data"
    }
   ],
   "source": [
    "plot_result(greens, reds, blues, x_value, \"All 3 channels\") # original signals\n",
    "greens_buttered = apply_butter_filter(greens,fs=fps)\n",
    "blues_buttered = apply_butter_filter(blues,fs=fps)\n",
    "reds_buttered = apply_butter_filter(reds,fs=fps)\n",
    "plt.figure(figsize=(6, 5))\n",
    "plt.title(\"After filter\")\n",
    "plt.subplot(3,1,1)\n",
    "plt.plot(x_value.tolist(), greens_buttered.tolist()[0], color=\"green\")\n",
    "plt.grid(True)\n",
    "plt.subplot(3,1,2)\n",
    "plt.plot(x_value.tolist(), reds_buttered.tolist()[0], color=\"red\")\n",
    "plt.grid(True)\n",
    "plt.subplot(3,1,3)\n",
    "plt.plot(x_value.tolist(), blues_buttered.tolist()[0], color=\"blue\")\n",
    "plt.grid(True)\n",
    "plt.show()\n",
    "logging.info(\"Finished parsing the video.\")\n",
    "\n"
   ]
  },
  {
   "cell_type": "code",
   "execution_count": 42,
   "metadata": {},
   "outputs": [],
   "source": []
  }
 ],
 "metadata": {
  "kernelspec": {
   "display_name": "Python 3",
   "language": "python",
   "name": "python3"
  },
  "language_info": {
   "codemirror_mode": {
    "name": "ipython",
    "version": 3
   },
   "file_extension": ".py",
   "mimetype": "text/x-python",
   "name": "python",
   "nbconvert_exporter": "python",
   "pygments_lexer": "ipython3",
   "version": "3.7.4"
  }
 },
 "nbformat": 4,
 "nbformat_minor": 1
}