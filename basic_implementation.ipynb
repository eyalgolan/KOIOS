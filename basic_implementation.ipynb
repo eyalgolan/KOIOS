{
 "cells": [
  {
   "cell_type": "markdown",
   "metadata": {},
   "source": [
    "# Basic implementation using jupyter notebook"
   ]
  },
  {
   "cell_type": "code",
   "execution_count": 1,
   "metadata": {
    "pycharm": {
     "is_executing": false,
     "name": "#%%s\n"
    }
   },
   "outputs": [
    {
     "name": "stderr",
     "text": [
      "[2021-01-01 15:48:01,945] [INFO] [<module>] [10] : Starting ...\n"
     ],
     "output_type": "stream"
    }
   ],
   "source": [
    "import logging, numpy as np\n",
    "from scipy import signal\n",
    "from matplotlib import pyplot as plt\n",
    "import cv2\n",
    "import platform\n",
    "\n",
    "FORMAT = '[%(asctime)s] [%(levelname)s] [%(funcName)s] [%(lineno)d] : %(message)s'\n",
    "logging.basicConfig(format=FORMAT, level=logging.INFO)\n",
    "\n",
    "logging.info(\"Starting ...\")\n",
    "if platform.system() == \"Windows\":\n",
    "    seperator = \"\\\\\"\n",
    "else:\n",
    "    seperator = \"/\"\n",
    "\n",
    "dir = \"perry-all-2\"\n",
    "\n",
    "\n",
    "\n"
   ]
  },
  {
   "cell_type": "markdown",
   "metadata": {},
   "source": [
    "#### rotate image:"
   ]
  },
  {
   "cell_type": "code",
   "execution_count": 2,
   "metadata": {
    "pycharm": {
     "is_executing": false,
     "name": "#%%s\n"
    }
   },
   "outputs": [],
   "source": [
    "def rotate_image(mat, angle):\n",
    "    \"\"\"\n",
    "    Rotates an image (angle in degrees) and expands image to avoid cropping\n",
    "    \"\"\"\n",
    "\n",
    "    height, width = mat.shape[:2]  # image shape has 3 dimensions\n",
    "    image_center = (\n",
    "        width / 2,\n",
    "        height / 2)  # getRotationMatrix2D needs coordinates in reverse order (width, height) compared to shape\n",
    "\n",
    "    rotation_mat = cv2.getRotationMatrix2D(image_center, angle, 1.)\n",
    "\n",
    "    # rotation calculates the cos and sin, taking absolutes of those.\n",
    "    abs_cos = abs(rotation_mat[0, 0])\n",
    "    abs_sin = abs(rotation_mat[0, 1])\n",
    "\n",
    "    # find the new width and height bounds\n",
    "    bound_w = int(height * abs_sin + width * abs_cos)\n",
    "    bound_h = int(height * abs_cos + width * abs_sin)\n",
    "\n",
    "    # subtract old image center (bringing image back to origo) and adding the new image center coordinates\n",
    "    rotation_mat[0, 2] += bound_w / 2 - image_center[0]\n",
    "    rotation_mat[1, 2] += bound_h / 2 - image_center[1]\n",
    "\n",
    "    # rotate image with the new bounds and translated rotation matrix\n",
    "    rotated_mat = cv2.warpAffine(mat, rotation_mat, (bound_w, bound_h))\n",
    "    return rotated_mat\n"
   ]
  },
  {
   "cell_type": "markdown",
   "metadata": {},
   "source": [
    "### Parse roi:"
   ]
  },
  {
   "cell_type": "code",
   "execution_count": 3,
   "metadata": {
    "pycharm": {
     "is_executing": false,
     "name": "#%%s\n"
    }
   },
   "outputs": [],
   "source": [
    "def parse_roi(image):\n",
    "    \"\"\"\n",
    "    Upon receiving an image, finds a face (if exists) and writes it as an image\n",
    "    :param image: the image to be parsed\n",
    "    \"\"\"\n",
    "    gray = cv2.cvtColor(image, cv2.COLOR_BGR2GRAY)  # perform grayscale\n",
    "    flag_face_detected = False\n",
    "    face_cascade = cv2.CascadeClassifier(\n",
    "        cv2.data.haarcascades + \"haarcascade_frontalface_default.xml\")\n",
    "    face = face_cascade.detectMultiScale(\n",
    "        gray,\n",
    "        scaleFactor=1.3,\n",
    "        minNeighbors=3,\n",
    "        minSize=(30, 30)\n",
    "    )\n",
    "    for (x, y, w, h) in face:\n",
    "        flag_face_detected = True\n",
    "        cv2.rectangle(image, (x, y), (x + w, y + h), (0, 255, 0), 2)\n",
    "        roi_color = image[y:y + h, x:x + w]\n",
    "        # print(\"[INFO] Object found. Saving locally.\")\n",
    "        cv2.imwrite('faces_detected.jpg', roi_color)\n",
    "        roi_color_rgb = cv2.cvtColor(roi_color, cv2.COLOR_BGR2RGB)\n",
    "        # plt.imshow(roi_color_rgb)\n",
    "        # plt.show()\n",
    "    if not flag_face_detected:\n",
    "        logging.warning(\"No face detected in image\")"
   ]
  },
  {
   "cell_type": "markdown",
   "metadata": {},
   "source": [
    "#### Plot results:"
   ]
  },
  {
   "cell_type": "code",
   "execution_count": 4,
   "metadata": {
    "pycharm": {
     "is_executing": false,
     "name": "#%%s\n"
    }
   },
   "outputs": [],
   "source": [
    "def plot_result(greens, reds, blues, x_value, title=\"\"):\n",
    "    logging.info(\"Plotting results ...\" + title)\n",
    "    x_value = x_value.reshape(1, x_value.shape[0])\n",
    "    r = reds.tolist()[0]\n",
    "    b = blues.tolist()[0]\n",
    "    g = greens.tolist()[0]\n",
    "    x = x_value.tolist()[0]\n",
    "    plt.figure(figsize=(6, 5))\n",
    "    plt.title(title)\n",
    "    plt.xlabel(\"Time\")\n",
    "    plt.ylabel(\"Value\")\n",
    "    plt.subplot(3, 1, 1)\n",
    "    plt.plot(x, g, color=\"green\")\n",
    "    plt.subplot(3, 1, 2)\n",
    "    plt.plot(x, r, color=\"red\")\n",
    "    plt.subplot(3, 1, 3)\n",
    "    plt.plot(x, b, color=\"blue\")\n",
    "    plt.show()\n",
    "    logging.info(\"Showing result\")"
   ]
  },
  {
   "cell_type": "markdown",
   "metadata": {},
   "source": [
    "### calculate mean:"
   ]
  },
  {
   "cell_type": "code",
   "execution_count": 5,
   "metadata": {
    "pycharm": {
     "is_executing": false,
     "name": "#%%s\n"
    }
   },
   "outputs": [],
   "source": [
    "def parse_RGB(image, vidcap, greens, reds, blues, frame_number):\n",
    "    \"\"\"\n",
    "    Parses an image to its RGB channels\n",
    "    :param image: the image to be parsed\n",
    "    :param vidcap:\n",
    "    :param greens: array containing green channel values\n",
    "    :param blues: array containing blue channel values\n",
    "    :param reds: array containing red channel values\n",
    "    :param frame_number - is the number of the frame of the video.\n",
    "    :return: a flag indicating if there is a next image, and the next image\n",
    "    \"\"\"\n",
    "    blue, green, red = cv2.split(image)\n",
    "    greens[0, frame_number] = np.mean(green)\n",
    "    blues[0, frame_number] = np.mean(blue)\n",
    "    reds[0, frame_number] = np.mean(red)\n",
    "    success, image = vidcap.read()\n",
    "    return success, image"
   ]
  },
  {
   "cell_type": "markdown",
   "metadata": {
    "pycharm": {
     "name": "#%% md\n"
    }
   },
   "source": [
    "### read video frames"
   ]
  },
  {
   "cell_type": "code",
   "execution_count": 6,
   "metadata": {
    "pycharm": {
     "is_executing": false,
     "name": "#%%s\n"
    }
   },
   "outputs": [
    {
     "name": "stderr",
     "text": [
      "[2021-01-01 15:48:01,989] [INFO] [<module>] [4] : Working on video ../dataset/good_sync/perry-all-2/ptest.mp4\n",
      "[2021-01-01 15:48:02,032] [INFO] [<module>] [15] : Parsing images ...\n",
      "[2021-01-01 15:50:23,432] [WARNING] [parse_roi] [26] : No face detected in image\n",
      "[2021-01-01 15:50:23,468] [WARNING] [parse_roi] [26] : No face detected in image\n",
      "[2021-01-01 15:50:23,503] [WARNING] [parse_roi] [26] : No face detected in image\n",
      "[2021-01-01 15:50:23,534] [WARNING] [parse_roi] [26] : No face detected in image\n",
      "[2021-01-01 15:50:23,567] [WARNING] [parse_roi] [26] : No face detected in image\n",
      "[2021-01-01 15:50:23,667] [WARNING] [parse_roi] [26] : No face detected in image\n",
      "[2021-01-01 15:50:23,704] [WARNING] [parse_roi] [26] : No face detected in image\n",
      "[2021-01-01 15:50:23,737] [WARNING] [parse_roi] [26] : No face detected in image\n",
      "[2021-01-01 15:50:23,770] [WARNING] [parse_roi] [26] : No face detected in image\n",
      "[2021-01-01 15:50:23,802] [WARNING] [parse_roi] [26] : No face detected in image\n",
      "[2021-01-01 15:50:23,834] [WARNING] [parse_roi] [26] : No face detected in image\n",
      "[2021-01-01 15:50:23,867] [WARNING] [parse_roi] [26] : No face detected in image\n",
      "[2021-01-01 15:50:23,898] [WARNING] [parse_roi] [26] : No face detected in image\n",
      "[2021-01-01 15:50:23,931] [WARNING] [parse_roi] [26] : No face detected in image\n",
      "[2021-01-01 15:50:23,963] [WARNING] [parse_roi] [26] : No face detected in image\n",
      "[2021-01-01 15:50:23,996] [WARNING] [parse_roi] [26] : No face detected in image\n",
      "[2021-01-01 15:50:24,027] [WARNING] [parse_roi] [26] : No face detected in image\n",
      "[2021-01-01 15:50:24,061] [WARNING] [parse_roi] [26] : No face detected in image\n",
      "[2021-01-01 15:50:24,092] [WARNING] [parse_roi] [26] : No face detected in image\n",
      "[2021-01-01 15:50:24,123] [WARNING] [parse_roi] [26] : No face detected in image\n",
      "[2021-01-01 15:50:24,156] [WARNING] [parse_roi] [26] : No face detected in image\n",
      "[2021-01-01 15:50:24,191] [WARNING] [parse_roi] [26] : No face detected in image\n",
      "[2021-01-01 15:50:24,222] [WARNING] [parse_roi] [26] : No face detected in image\n",
      "[2021-01-01 15:50:24,255] [WARNING] [parse_roi] [26] : No face detected in image\n",
      "[2021-01-01 15:50:24,287] [WARNING] [parse_roi] [26] : No face detected in image\n",
      "[2021-01-01 15:50:24,319] [WARNING] [parse_roi] [26] : No face detected in image\n",
      "[2021-01-01 15:50:24,353] [WARNING] [parse_roi] [26] : No face detected in image\n",
      "[2021-01-01 15:50:24,387] [WARNING] [parse_roi] [26] : No face detected in image\n",
      "[2021-01-01 15:50:24,854] [WARNING] [parse_roi] [26] : No face detected in image\n",
      "[2021-01-01 15:50:24,885] [WARNING] [parse_roi] [26] : No face detected in image\n",
      "[2021-01-01 15:50:24,918] [WARNING] [parse_roi] [26] : No face detected in image\n",
      "[2021-01-01 15:50:24,986] [WARNING] [parse_roi] [26] : No face detected in image\n",
      "[2021-01-01 15:50:25,016] [WARNING] [parse_roi] [26] : No face detected in image\n",
      "[2021-01-01 15:50:25,053] [WARNING] [parse_roi] [26] : No face detected in image\n",
      "[2021-01-01 15:50:25,086] [WARNING] [parse_roi] [26] : No face detected in image\n",
      "[2021-01-01 15:50:25,120] [WARNING] [parse_roi] [26] : No face detected in image\n",
      "[2021-01-01 15:50:25,152] [WARNING] [parse_roi] [26] : No face detected in image\n",
      "[2021-01-01 15:50:25,183] [WARNING] [parse_roi] [26] : No face detected in image\n",
      "[2021-01-01 15:50:25,216] [WARNING] [parse_roi] [26] : No face detected in image\n",
      "[2021-01-01 15:50:25,249] [WARNING] [parse_roi] [26] : No face detected in image\n",
      "[2021-01-01 15:50:25,283] [WARNING] [parse_roi] [26] : No face detected in image\n",
      "[2021-01-01 15:50:25,316] [WARNING] [parse_roi] [26] : No face detected in image\n",
      "[2021-01-01 15:50:25,349] [WARNING] [parse_roi] [26] : No face detected in image\n",
      "[2021-01-01 15:50:25,382] [WARNING] [parse_roi] [26] : No face detected in image\n",
      "[2021-01-01 15:50:25,413] [WARNING] [parse_roi] [26] : No face detected in image\n",
      "[2021-01-01 15:50:25,446] [WARNING] [parse_roi] [26] : No face detected in image\n",
      "[2021-01-01 15:50:25,487] [WARNING] [parse_roi] [26] : No face detected in image\n",
      "[2021-01-01 15:50:25,519] [WARNING] [parse_roi] [26] : No face detected in image\n",
      "[2021-01-01 15:50:25,550] [WARNING] [parse_roi] [26] : No face detected in image\n",
      "[2021-01-01 15:50:25,583] [WARNING] [parse_roi] [26] : No face detected in image\n",
      "[2021-01-01 15:50:25,615] [WARNING] [parse_roi] [26] : No face detected in image\n",
      "[2021-01-01 15:50:25,649] [WARNING] [parse_roi] [26] : No face detected in image\n",
      "[2021-01-01 15:50:25,681] [WARNING] [parse_roi] [26] : No face detected in image\n",
      "[2021-01-01 15:50:25,714] [WARNING] [parse_roi] [26] : No face detected in image\n",
      "[2021-01-01 15:50:25,784] [WARNING] [parse_roi] [26] : No face detected in image\n",
      "[2021-01-01 15:50:25,817] [WARNING] [parse_roi] [26] : No face detected in image\n",
      "[2021-01-01 15:50:25,850] [WARNING] [parse_roi] [26] : No face detected in image\n",
      "[2021-01-01 15:50:25,882] [WARNING] [parse_roi] [26] : No face detected in image\n",
      "[2021-01-01 15:50:25,913] [WARNING] [parse_roi] [26] : No face detected in image\n",
      "[2021-01-01 15:50:25,946] [WARNING] [parse_roi] [26] : No face detected in image\n",
      "[2021-01-01 15:50:25,985] [WARNING] [parse_roi] [26] : No face detected in image\n",
      "[2021-01-01 15:50:26,019] [WARNING] [parse_roi] [26] : No face detected in image\n",
      "[2021-01-01 15:50:26,052] [WARNING] [parse_roi] [26] : No face detected in image\n",
      "[2021-01-01 15:50:26,086] [WARNING] [parse_roi] [26] : No face detected in image\n",
      "[2021-01-01 15:50:26,117] [WARNING] [parse_roi] [26] : No face detected in image\n",
      "[2021-01-01 15:50:26,151] [WARNING] [parse_roi] [26] : No face detected in image\n",
      "[2021-01-01 15:50:26,183] [WARNING] [parse_roi] [26] : No face detected in image\n",
      "[2021-01-01 15:50:26,217] [WARNING] [parse_roi] [26] : No face detected in image\n",
      "[2021-01-01 15:50:26,249] [WARNING] [parse_roi] [26] : No face detected in image\n"
     ],
     "output_type": "stream"
    }
   ],
   "source": [
    "dataset_location = \"..\" + seperator + \"dataset\" + seperator + \"good_sync\" + seperator\n",
    "specific_dir = dir\n",
    "video_location = dataset_location + specific_dir + seperator + \"ptest.mp4\"\n",
    "logging.info(\"Working on video \" + video_location)\n",
    "vidcap = cv2.VideoCapture(video_location)\n",
    "success, image = vidcap.read()\n",
    "# image = cv2.rotate(image, cv2.cv2.ROTATE_90_COUNTERCLOCKWISE)\n",
    "fps = vidcap.get(cv2.CAP_PROP_FPS)\n",
    "number_of_frames = vidcap.get(cv2.CAP_PROP_FRAME_COUNT)\n",
    "x_value = np.arange((number_of_frames / np.round(fps)), step=(1 / 30))\n",
    "greens = np.zeros((1, int(number_of_frames)))  # instead of lists\n",
    "reds = np.zeros((1, int(number_of_frames)))\n",
    "blues = np.zeros((1, int(number_of_frames)))\n",
    "frame_number = 0\n",
    "logging.info(\"Parsing images ...\")\n",
    "while success:\n",
    "    # image = rotate_image(image, 90)\n",
    "    parse_roi(image)  # build image ROI\n",
    "    image = cv2.imread(\"faces_detected.jpg\") # possible BUG: read the same image twice if face not detected.\n",
    "    success, image = parse_RGB(image, vidcap, greens, reds, blues, frame_number)\n",
    "    frame_number += 1\n",
    "    # image = cv2.rotate(image, cv2.cv2.ROTATE_90_COUNTERCLOCKWISE)\n",
    "    # cv2.imshow(\"Rotated (Correct)\", image)"
   ]
  },
  {
   "cell_type": "markdown",
   "metadata": {},
   "source": [
    "### Butter filter:"
   ]
  },
  {
   "cell_type": "code",
   "execution_count": 7,
   "metadata": {
    "pycharm": {
     "is_executing": false,
     "name": "#%%s\n"
    }
   },
   "outputs": [],
   "source": [
    "def apply_butter_filter(sig,fs):\n",
    "    \"\"\"\n",
    "    Filter signal using Butter filter and filtfilt. \n",
    "    :param sig: is the signal to be filtered\n",
    "    :return: the filtered signal\n",
    "    \"\"\"\n",
    "    logging.info(\"Applying butter filter...\")\n",
    "    # NOTE: 4 is the order,filternig valuesshould be between 0 to 1,\n",
    "    #Hence we multiply the freq. by 2 and divide by fs witch is the fps of the video.\n",
    "    bh,ah = signal.butter(4,4*2/fs,btype='highpass') # high pass at 4 hz Coefficients \n",
    "    bl,al = signal.butter(4,(1*2)/fs,btype='lowpass') # low pass at 1 hz  Coefficients\n",
    "    sig = signal.filtfilt(bh,ah,sig) # applying the filter coefficients on the signal.\n",
    "    sig = np.absolute(sig)\n",
    "    sig = signal.filtfilt(bl,al,sig)\n",
    "#     wn = 2*np.array([0.1,4]) / fs\n",
    "#     b,a = signal.butter(4,wn,btype=\"bandpass\")\n",
    "#     sig = signal.filtfilt(b,a,sig)\n",
    "#     sig = np.absolute(sig)\n",
    "    return sig \n",
    "\n"
   ]
  },
  {
   "cell_type": "markdown",
   "metadata": {
    "pycharm": {
     "name": "#%% md\n"
    }
   },
   "source": [
    "### Plot after butter filter and the original signals ( A sanity check)"
   ]
  },
  {
   "cell_type": "code",
   "execution_count": 8,
   "metadata": {
    "pycharm": {
     "is_executing": false,
     "name": "#%%s\n"
    }
   },
   "outputs": [
    {
     "name": "stderr",
     "text": [
      "[2021-01-01 15:50:26,262] [INFO] [plot_result] [2] : Plotting results ...All 3 channels\n",
      "[2021-01-01 15:50:26,579] [INFO] [plot_result] [19] : Showing result\n",
      "[2021-01-01 15:50:26,580] [INFO] [apply_butter_filter] [7] : Applying butter filter...\n",
      "[2021-01-01 15:50:26,585] [INFO] [apply_butter_filter] [7] : Applying butter filter...\n",
      "[2021-01-01 15:50:26,588] [INFO] [apply_butter_filter] [7] : Applying butter filter...\n",
      "[2021-01-01 15:50:26,859] [INFO] [<module>] [17] : Finished parsing the video.\n"
     ],
     "output_type": "stream"
    },
    {
     "data": {
      "text/plain": "<Figure size 432x360 with 3 Axes>",
      "image/png": "[encoded data removed]"
     },
     "metadata": {
      "needs_background": "light"
     },
     "output_type": "display_data"
    },
    {
     "data": {
      "text/plain": "<Figure size 432x360 with 3 Axes>",
      "image/png": "[encoded data removed]"
     },
     "metadata": {
      "needs_background": "light"
     },
     "output_type": "display_data"
    }
   ],
   "source": [
    "plot_result(greens, reds, blues, x_value, \"All 3 channels\") # original signals\n",
    "greens_buttered = apply_butter_filter(greens,fs=fps)\n",
    "blues_buttered = apply_butter_filter(blues,fs=fps)\n",
    "reds_buttered = apply_butter_filter(reds,fs=fps)\n",
    "plt.figure(figsize=(6, 5))\n",
    "plt.title(\"After filter\")\n",
    "plt.subplot(3,1,1)\n",
    "plt.plot(x_value.tolist(), greens_buttered.tolist()[0], color=\"green\")\n",
    "plt.grid(True)\n",
    "plt.subplot(3,1,2)\n",
    "plt.plot(x_value.tolist(), reds_buttered.tolist()[0], color=\"red\")\n",
    "plt.grid(True)\n",
    "plt.subplot(3,1,3)\n",
    "plt.plot(x_value.tolist(), blues_buttered.tolist()[0], color=\"blue\")\n",
    "plt.grid(True)\n",
    "plt.show()\n",
    "logging.info(\"Finished parsing the video.\")\n",
    "\n"
   ]
  },
  {
   "cell_type": "code",
   "execution_count": 8,
   "metadata": {
    "pycharm": {
     "is_executing": false
    }
   },
   "outputs": [],
   "source": [
    "#%%md\n",
    "### Pwelch\n"
   ]
  },
  {
   "cell_type": "code",
   "execution_count": 9,
   "metadata": {
    "pycharm": {
     "is_executing": false
    }
   },
   "outputs": [],
   "source": [
    "f,p = signal.welch(greens_buttered, fps, 'flattop', nperseg = 1024, scaling='spectrum')\n",
    "f = f.reshape(1,513).tolist()[0]\n",
    "a = np.sqrt(p)\n",
    "b = a.tolist()[0]\n",
    "plt.figure(figsize=(6,5))\n",
    "plt.semilogy(f,b)\n",
    "plt.xlabel(\"freq. [Hz]\")\n",
    "plt.show()"
   ]
  },
  {
   "cell_type": "code",
   "execution_count": 10,
   "metadata": {
    "pycharm": {
     "is_executing": false
    }
   },
   "outputs": [
    {
     "data": {
      "text/plain": "<Figure size 432x360 with 1 Axes>",
      "image/png": "[encoded data removed]"
     },
     "metadata": {
      "needs_background": "light"
     },
     "output_type": "display_data"
    }
   ],
   "source": []
  }
 ],
 "metadata": {
  "kernelspec": {
   "display_name": "Python 3",
   "language": "python",
   "name": "python3"
  },
  "language_info": {
   "codemirror_mode": {
    "name": "ipython",
    "version": 3
   },
   "file_extension": ".py",
   "mimetype": "text/x-python",
   "name": "python",
   "nbconvert_exporter": "python",
   "pygments_lexer": "ipython3",
   "version": "3.8.5"
  },
  "pycharm": {
   "stem_cell": {
    "cell_type": "raw",
    "source": [],
    "metadata": {
     "collapsed": false
    }
   }
  }
 },
 "nbformat": 4,
 "nbformat_minor": 1
}