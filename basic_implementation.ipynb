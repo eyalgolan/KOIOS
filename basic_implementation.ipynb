{
 "cells": [
  {
   "cell_type": "markdown",
   "metadata": {},
   "source": [
    "# Basic implementation using jupyter notebook"
   ]
  },
  {
   "cell_type": "code",
   "execution_count": 12,
   "metadata": {
    "pycharm": {
     "is_executing": false,
     "name": "#%%\n"
    }
   },
   "outputs": [
    {
     "name": "stderr",
     "output_type": "stream",
     "text": [
      "[2020-12-25 19:15:29,352] [INFO] [<module>] [10] : Starting ...\n"
     ]
    }
   ],
   "source": [
    "import logging, numpy as np\n",
    "from scipy import signal\n",
    "from matplotlib import pyplot as plt\n",
    "import cv2\n",
    "import platform\n",
    "\n",
    "FORMAT = '[%(asctime)s] [%(levelname)s] [%(funcName)s] [%(lineno)d] : %(message)s'\n",
    "logging.basicConfig(format=FORMAT, level=logging.INFO)\n",
    "\n",
    "logging.info(\"Starting ...\")\n",
    "if platform.system() == \"Windows\":\n",
    "    seperator = \"\\\\\"\n",
    "else:\n",
    "    seperator = \"/\"\n",
    "\n",
    "dir = \"perry-all-2\"\n"
   ]
  },
  {
   "cell_type": "markdown",
   "metadata": {},
   "source": [
    "#### Plot results:"
   ]
  },
  {
   "cell_type": "code",
   "execution_count": 13,
   "metadata": {
    "pycharm": {
     "is_executing": false,
     "name": "#%%\n"
    }
   },
   "outputs": [],
   "source": [
    "def plot_result(greens, reds, blues, x_value, title=\"\"):\n",
    "    logging.info(\"Plotting results ...\" + title)\n",
    "    x_value = x_value.reshape(1, 179)\n",
    "    r = reds.tolist()[0]\n",
    "    b = blues.tolist()[0]\n",
    "    g = greens.tolist()[0]\n",
    "    x = x_value.tolist()[0]\n",
    "    plt.figure(figsize=(6, 5))\n",
    "    plt.title(title)\n",
    "    plt.xlabel(\"Time\")\n",
    "    plt.ylabel(\"Value\")\n",
    "    plt.subplot(3, 1, 1)\n",
    "    plt.plot(x, g, color=\"green\")\n",
    "    plt.subplot(3, 1, 2)\n",
    "    plt.plot(x, r, color=\"red\")\n",
    "    plt.subplot(3, 1, 3)\n",
    "    plt.plot(x, b, color=\"blue\")\n",
    "    plt.show()\n",
    "    logging.info(\"Showing result\")\n"
   ]
  },
  {
   "cell_type": "markdown",
   "metadata": {},
   "source": [
    "#### rotate image:"
   ]
  },
  {
   "cell_type": "code",
   "execution_count": 14,
   "metadata": {
    "pycharm": {
     "is_executing": false,
     "name": "#%%\n"
    }
   },
   "outputs": [],
   "source": [
    "def rotate_image(mat, angle):\n",
    "    \"\"\"\n",
    "    Rotates an image (angle in degrees) and expands image to avoid cropping\n",
    "    \"\"\"\n",
    "\n",
    "    height, width = mat.shape[:2]  # image shape has 3 dimensions\n",
    "    image_center = (\n",
    "        width / 2,\n",
    "        height / 2)  # getRotationMatrix2D needs coordinates in reverse order (width, height) compared to shape\n",
    "\n",
    "    rotation_mat = cv2.getRotationMatrix2D(image_center, angle, 1.)\n",
    "\n",
    "    # rotation calculates the cos and sin, taking absolutes of those.\n",
    "    abs_cos = abs(rotation_mat[0, 0])\n",
    "    abs_sin = abs(rotation_mat[0, 1])\n",
    "\n",
    "    # find the new width and height bounds\n",
    "    bound_w = int(height * abs_sin + width * abs_cos)\n",
    "    bound_h = int(height * abs_cos + width * abs_sin)\n",
    "\n",
    "    # subtract old image center (bringing image back to origo) and adding the new image center coordinates\n",
    "    rotation_mat[0, 2] += bound_w / 2 - image_center[0]\n",
    "    rotation_mat[1, 2] += bound_h / 2 - image_center[1]\n",
    "\n",
    "    # rotate image with the new bounds and translated rotation matrix\n",
    "    rotated_mat = cv2.warpAffine(mat, rotation_mat, (bound_w, bound_h))\n",
    "    return rotated_mat\n"
   ]
  },
  {
   "cell_type": "markdown",
   "metadata": {},
   "source": [
    "### Parse roi:"
   ]
  },
  {
   "cell_type": "code",
   "execution_count": 15,
   "metadata": {
    "pycharm": {
     "is_executing": false,
     "name": "#%%\n"
    }
   },
   "outputs": [],
   "source": [
    "def parse_roi(image):\n",
    "    \"\"\"\n",
    "    Upon receiving an image, finds a face (if exists) and writes it as an image\n",
    "    :param image: the image to be parsed\n",
    "    \"\"\"\n",
    "    gray = cv2.cvtColor(image, cv2.COLOR_BGR2GRAY)  # perform grayscale\n",
    "    flag_face_detected = False\n",
    "    face_cascade = cv2.CascadeClassifier(\n",
    "        cv2.data.haarcascades + \"haarcascade_frontalface_default.xml\")\n",
    "    face = face_cascade.detectMultiScale(\n",
    "        gray,\n",
    "        scaleFactor=1.3,\n",
    "        minNeighbors=3,\n",
    "        minSize=(30, 30)\n",
    "    )\n",
    "    for (x, y, w, h) in face:\n",
    "        flag_face_detected = True\n",
    "        cv2.rectangle(image, (x, y), (x + w, y + h), (0, 255, 0), 2)\n",
    "        roi_color = image[y:y + h, x:x + w]\n",
    "        # print(\"[INFO] Object found. Saving locally.\")\n",
    "        cv2.imwrite('faces_detected.jpg', roi_color)\n",
    "        roi_color_rgb = cv2.cvtColor(roi_color, cv2.COLOR_BGR2RGB)\n",
    "        # plt.imshow(roi_color_rgb)\n",
    "        # plt.show()\n",
    "    if not flag_face_detected:\n",
    "        logging.warning(\"No face detected in image\")\n"
   ]
  },
  {
   "cell_type": "markdown",
   "metadata": {},
   "source": [
    "### calculate mean:"
   ]
  },
  {
   "cell_type": "code",
   "execution_count": 16,
   "metadata": {
    "pycharm": {
     "is_executing": false,
     "name": "#%%\n"
    }
   },
   "outputs": [],
   "source": [
    "def parse_RGB(image, vidcap, greens, reds, blues, frame_number):\n",
    "    \"\"\"\n",
    "    Parses an image to its RGB channels\n",
    "    :param image: the image to be parsed\n",
    "    :param vidcap:\n",
    "    :param greens: array containing green channel values\n",
    "    :param blues: array containing blue channel values\n",
    "    :param reds: array containing red channel values\n",
    "    :param frame_number - is the number of the frame of the video.\n",
    "    :return: a flag indicating if there is a next image, and the next image\n",
    "    \"\"\"\n",
    "    blue, green, red = cv2.split(image)\n",
    "    greens[0, frame_number] = np.mean(green)\n",
    "    blues[0, frame_number] = np.mean(blue)\n",
    "    reds[0, frame_number] = np.mean(red)\n",
    "    success, image = vidcap.read()\n",
    "    return success, image\n"
   ]
  },
  {
   "cell_type": "markdown",
   "metadata": {},
   "source": [
    "### Butter filter:\n"
   ]
  },
  {
   "cell_type": "code",
   "execution_count": 16,
   "metadata": {
    "pycharm": {
     "is_executing": false,
     "name": "#%%s\n"
    }
   },
   "outputs": [],
   "source": []
  },
  {
   "cell_type": "markdown",
   "metadata": {},
   "source": [
    "# Basic implementation using jupyter notebook"
   ]
  },
  {
   "cell_type": "code",
   "execution_count": 17,
   "metadata": {
    "pycharm": {
     "is_executing": false,
     "name": "#%%\n"
    }
   },
   "outputs": [
    {
     "name": "stderr",
     "output_type": "stream",
     "text": [
      "[2020-12-25 19:15:29,420] [INFO] [<module>] [10] : Starting ...\n"
     ]
    }
   ],
   "source": [
    "import logging, numpy as np\n",
    "from scipy import signal\n",
    "from matplotlib import pyplot as plt\n",
    "import cv2\n",
    "import platform\n",
    "\n",
    "FORMAT = '[%(asctime)s] [%(levelname)s] [%(funcName)s] [%(lineno)d] : %(message)s'\n",
    "logging.basicConfig(format=FORMAT, level=logging.INFO)\n",
    "\n",
    "logging.info(\"Starting ...\")\n",
    "if platform.system() == \"Windows\":\n",
    "    seperator = \"\\\\\"\n",
    "else:\n",
    "    seperator = \"/\"\n",
    "\n",
    "dir = \"perry-all-2\"\n",
    "\n",
    "\n",
    "# %% md\n",
    "\n",
    "#### Plot results:\n",
    "\n",
    "# %%\n",
    "\n",
    "def plot_result(greens, reds, blues, x_value, title=\"\"):\n",
    "    logging.info(\"Plotting results ...\" + title)\n",
    "    x_value = x_value.reshape(1, x_value.shape[0])\n",
    "    r = reds.tolist()[0]\n",
    "    b = blues.tolist()[0]\n",
    "    g = greens.tolist()[0]\n",
    "    x = x_value.tolist()[0]\n",
    "    plt.figure(figsize=(6, 5))\n",
    "    plt.title(title)\n",
    "    plt.xlabel(\"Time\")\n",
    "    plt.ylabel(\"Value\")\n",
    "    plt.subplot(3, 1, 1)\n",
    "    plt.plot(x, g, color=\"green\")\n",
    "    plt.subplot(3, 1, 2)\n",
    "    plt.plot(x, r, color=\"red\")\n",
    "    plt.subplot(3, 1, 3)\n",
    "    plt.plot(x, b, color=\"blue\")\n",
    "    plt.show()\n",
    "    logging.info(\"Showing result\")\n"
   ]
  },
  {
   "cell_type": "markdown",
   "metadata": {},
   "source": [
    "#### rotate image:"
   ]
  },
  {
   "cell_type": "code",
   "execution_count": 18,
   "metadata": {
    "pycharm": {
     "is_executing": false,
     "name": "#%%\n"
    }
   },
   "outputs": [],
   "source": [
    "def rotate_image(mat, angle):\n",
    "    \"\"\"\n",
    "    Rotates an image (angle in degrees) and expands image to avoid cropping\n",
    "    \"\"\"\n",
    "\n",
    "    height, width = mat.shape[:2]  # image shape has 3 dimensions\n",
    "    image_center = (\n",
    "        width / 2,\n",
    "        height / 2)  # getRotationMatrix2D needs coordinates in reverse order (width, height) compared to shape\n",
    "\n",
    "    rotation_mat = cv2.getRotationMatrix2D(image_center, angle, 1.)\n",
    "\n",
    "    # rotation calculates the cos and sin, taking absolutes of those.\n",
    "    abs_cos = abs(rotation_mat[0, 0])\n",
    "    abs_sin = abs(rotation_mat[0, 1])\n",
    "\n",
    "    # find the new width and height bounds\n",
    "    bound_w = int(height * abs_sin + width * abs_cos)\n",
    "    bound_h = int(height * abs_cos + width * abs_sin)\n",
    "\n",
    "    # subtract old image center (bringing image back to origo) and adding the new image center coordinates\n",
    "    rotation_mat[0, 2] += bound_w / 2 - image_center[0]\n",
    "    rotation_mat[1, 2] += bound_h / 2 - image_center[1]\n",
    "\n",
    "    # rotate image with the new bounds and translated rotation matrix\n",
    "    rotated_mat = cv2.warpAffine(mat, rotation_mat, (bound_w, bound_h))\n",
    "    return rotated_mat\n"
   ]
  },
  {
   "cell_type": "markdown",
   "metadata": {},
   "source": [
    "### Parse roi:"
   ]
  },
  {
   "cell_type": "code",
   "execution_count": 19,
   "metadata": {
    "pycharm": {
     "is_executing": false,
     "name": "#%%\n"
    }
   },
   "outputs": [],
   "source": [
    "def parse_roi(image):\n",
    "    \"\"\"\n",
    "    Upon receiving an image, finds a face (if exists) and writes it as an image\n",
    "    :param image: the image to be parsed\n",
    "    \"\"\"\n",
    "    gray = cv2.cvtColor(image, cv2.COLOR_BGR2GRAY)  # perform grayscale\n",
    "    flag_face_detected = False\n",
    "    face_cascade = cv2.CascadeClassifier(\n",
    "        cv2.data.haarcascades + \"haarcascade_frontalface_default.xml\")\n",
    "    face = face_cascade.detectMultiScale(\n",
    "        gray,\n",
    "        scaleFactor=1.3,\n",
    "        minNeighbors=3,\n",
    "        minSize=(30, 30)\n",
    "    )\n",
    "    for (x, y, w, h) in face:\n",
    "        flag_face_detected = True\n",
    "        cv2.rectangle(image, (x, y), (x + w, y + h), (0, 255, 0), 2)\n",
    "        roi_color = image[y:y + h, x:x + w]\n",
    "        # print(\"[INFO] Object found. Saving locally.\")\n",
    "        cv2.imwrite('faces_detected.jpg', roi_color)\n",
    "        roi_color_rgb = cv2.cvtColor(roi_color, cv2.COLOR_BGR2RGB)\n",
    "        # plt.imshow(roi_color_rgb)\n",
    "        # plt.show()\n",
    "    if not flag_face_detected:\n",
    "        logging.warning(\"No face detected in image\")\n"
   ]
  },
  {
   "cell_type": "markdown",
   "metadata": {},
   "source": [
    "### calculate mean:"
   ]
  },
  {
   "cell_type": "code",
   "execution_count": 20,
   "metadata": {
    "pycharm": {
     "is_executing": false,
     "name": "#%%\n"
    }
   },
   "outputs": [],
   "source": [
    "def parse_RGB(image, vidcap, greens, reds, blues, frame_number):\n",
    "    \"\"\"\n",
    "    Parses an image to its RGB channels\n",
    "    :param image: the image to be parsed\n",
    "    :param vidcap:\n",
    "    :param greens: array containing green channel values\n",
    "    :param blues: array containing blue channel values\n",
    "    :param reds: array containing red channel values\n",
    "    :param frame_number - is the number of the frame of the video.\n",
    "    :return: a flag indicating if there is a next image, and the next image\n",
    "    \"\"\"\n",
    "    blue, green, red = cv2.split(image)\n",
    "    greens[0, frame_number] = np.mean(green)\n",
    "    blues[0, frame_number] = np.mean(blue)\n",
    "    reds[0, frame_number] = np.mean(red)\n",
    "    success, image = vidcap.read()\n",
    "    return success, image"
   ]
  },
  {
   "cell_type": "markdown",
   "metadata": {
    "pycharm": {
     "name": "#%% md\n"
    }
   },
   "source": [
    "### read vido frames"
   ]
  },
  {
   "cell_type": "code",
   "execution_count": 21,
   "metadata": {
    "pycharm": {
     "is_executing": false,
     "name": "#%%s\n"
    }
   },
   "outputs": [
    {
     "name": "stderr",
     "output_type": "stream",
     "text": [
      "[2020-12-25 19:15:29,454] [INFO] [<module>] [4] : Working on video ../dataset/good_sync/perry-all-2/ptest.mp4\n",
      "[2020-12-25 19:15:29,479] [INFO] [<module>] [15] : Parsing images ...\n",
      "[2020-12-25 19:17:35,724] [WARNING] [parse_roi] [26] : No face detected in image\n",
      "[2020-12-25 19:17:35,757] [WARNING] [parse_roi] [26] : No face detected in image\n",
      "[2020-12-25 19:17:35,792] [WARNING] [parse_roi] [26] : No face detected in image\n",
      "[2020-12-25 19:17:35,823] [WARNING] [parse_roi] [26] : No face detected in image\n",
      "[2020-12-25 19:17:35,930] [WARNING] [parse_roi] [26] : No face detected in image\n",
      "[2020-12-25 19:17:35,964] [WARNING] [parse_roi] [26] : No face detected in image\n",
      "[2020-12-25 19:17:36,004] [WARNING] [parse_roi] [26] : No face detected in image\n",
      "[2020-12-25 19:17:36,035] [WARNING] [parse_roi] [26] : No face detected in image\n",
      "[2020-12-25 19:17:36,077] [WARNING] [parse_roi] [26] : No face detected in image\n",
      "[2020-12-25 19:17:36,115] [WARNING] [parse_roi] [26] : No face detected in image\n",
      "[2020-12-25 19:17:36,151] [WARNING] [parse_roi] [26] : No face detected in image\n",
      "[2020-12-25 19:17:36,189] [WARNING] [parse_roi] [26] : No face detected in image\n",
      "[2020-12-25 19:17:36,225] [WARNING] [parse_roi] [26] : No face detected in image\n",
      "[2020-12-25 19:17:36,270] [WARNING] [parse_roi] [26] : No face detected in image\n",
      "[2020-12-25 19:17:36,326] [WARNING] [parse_roi] [26] : No face detected in image\n",
      "[2020-12-25 19:17:36,361] [WARNING] [parse_roi] [26] : No face detected in image\n",
      "[2020-12-25 19:17:36,443] [WARNING] [parse_roi] [26] : No face detected in image\n",
      "[2020-12-25 19:17:36,480] [WARNING] [parse_roi] [26] : No face detected in image\n",
      "[2020-12-25 19:17:36,537] [WARNING] [parse_roi] [26] : No face detected in image\n",
      "[2020-12-25 19:17:36,590] [WARNING] [parse_roi] [26] : No face detected in image\n",
      "[2020-12-25 19:17:36,632] [WARNING] [parse_roi] [26] : No face detected in image\n",
      "[2020-12-25 19:17:36,667] [WARNING] [parse_roi] [26] : No face detected in image\n",
      "[2020-12-25 19:17:36,708] [WARNING] [parse_roi] [26] : No face detected in image\n",
      "[2020-12-25 19:17:36,860] [WARNING] [parse_roi] [26] : No face detected in image\n",
      "[2020-12-25 19:17:36,896] [WARNING] [parse_roi] [26] : No face detected in image\n",
      "[2020-12-25 19:17:36,930] [WARNING] [parse_roi] [26] : No face detected in image\n",
      "[2020-12-25 19:17:36,963] [WARNING] [parse_roi] [26] : No face detected in image\n",
      "[2020-12-25 19:17:36,997] [WARNING] [parse_roi] [26] : No face detected in image\n",
      "[2020-12-25 19:17:37,590] [WARNING] [parse_roi] [26] : No face detected in image\n",
      "[2020-12-25 19:17:37,622] [WARNING] [parse_roi] [26] : No face detected in image\n",
      "[2020-12-25 19:17:37,656] [WARNING] [parse_roi] [26] : No face detected in image\n",
      "[2020-12-25 19:17:37,789] [WARNING] [parse_roi] [26] : No face detected in image\n",
      "[2020-12-25 19:17:37,823] [WARNING] [parse_roi] [26] : No face detected in image\n",
      "[2020-12-25 19:17:37,857] [WARNING] [parse_roi] [26] : No face detected in image\n",
      "[2020-12-25 19:17:37,955] [WARNING] [parse_roi] [26] : No face detected in image\n",
      "[2020-12-25 19:17:38,019] [WARNING] [parse_roi] [26] : No face detected in image\n",
      "[2020-12-25 19:17:38,056] [WARNING] [parse_roi] [26] : No face detected in image\n",
      "[2020-12-25 19:17:38,089] [WARNING] [parse_roi] [26] : No face detected in image\n",
      "[2020-12-25 19:17:38,144] [WARNING] [parse_roi] [26] : No face detected in image\n",
      "[2020-12-25 19:17:38,206] [WARNING] [parse_roi] [26] : No face detected in image\n",
      "[2020-12-25 19:17:38,239] [WARNING] [parse_roi] [26] : No face detected in image\n",
      "[2020-12-25 19:17:38,272] [WARNING] [parse_roi] [26] : No face detected in image\n",
      "[2020-12-25 19:17:38,373] [WARNING] [parse_roi] [26] : No face detected in image\n",
      "[2020-12-25 19:17:38,411] [WARNING] [parse_roi] [26] : No face detected in image\n",
      "[2020-12-25 19:17:38,446] [WARNING] [parse_roi] [26] : No face detected in image\n",
      "[2020-12-25 19:17:38,480] [WARNING] [parse_roi] [26] : No face detected in image\n",
      "[2020-12-25 19:17:38,536] [WARNING] [parse_roi] [26] : No face detected in image\n",
      "[2020-12-25 19:17:38,570] [WARNING] [parse_roi] [26] : No face detected in image\n",
      "[2020-12-25 19:17:38,624] [WARNING] [parse_roi] [26] : No face detected in image\n",
      "[2020-12-25 19:17:38,659] [WARNING] [parse_roi] [26] : No face detected in image\n",
      "[2020-12-25 19:17:38,713] [WARNING] [parse_roi] [26] : No face detected in image\n",
      "[2020-12-25 19:17:38,768] [WARNING] [parse_roi] [26] : No face detected in image\n",
      "[2020-12-25 19:17:38,801] [WARNING] [parse_roi] [26] : No face detected in image\n",
      "[2020-12-25 19:17:38,834] [WARNING] [parse_roi] [26] : No face detected in image\n",
      "[2020-12-25 19:17:38,922] [WARNING] [parse_roi] [26] : No face detected in image\n",
      "[2020-12-25 19:17:38,959] [WARNING] [parse_roi] [26] : No face detected in image\n",
      "[2020-12-25 19:17:38,996] [WARNING] [parse_roi] [26] : No face detected in image\n",
      "[2020-12-25 19:17:39,038] [WARNING] [parse_roi] [26] : No face detected in image\n",
      "[2020-12-25 19:17:39,081] [WARNING] [parse_roi] [26] : No face detected in image\n",
      "[2020-12-25 19:17:39,123] [WARNING] [parse_roi] [26] : No face detected in image\n",
      "[2020-12-25 19:17:39,162] [WARNING] [parse_roi] [26] : No face detected in image\n",
      "[2020-12-25 19:17:39,197] [WARNING] [parse_roi] [26] : No face detected in image\n",
      "[2020-12-25 19:17:39,234] [WARNING] [parse_roi] [26] : No face detected in image\n",
      "[2020-12-25 19:17:39,273] [WARNING] [parse_roi] [26] : No face detected in image\n",
      "[2020-12-25 19:17:39,314] [WARNING] [parse_roi] [26] : No face detected in image\n",
      "[2020-12-25 19:17:39,387] [WARNING] [parse_roi] [26] : No face detected in image\n",
      "[2020-12-25 19:17:39,431] [WARNING] [parse_roi] [26] : No face detected in image\n",
      "[2020-12-25 19:17:39,471] [WARNING] [parse_roi] [26] : No face detected in image\n",
      "[2020-12-25 19:17:39,513] [WARNING] [parse_roi] [26] : No face detected in image\n"
     ]
    }
   ],
   "source": [
    "dataset_location = \"..\" + seperator + \"dataset\" + seperator + \"good_sync\" + seperator\n",
    "specific_dir = dir\n",
    "video_location = dataset_location + specific_dir + seperator + \"ptest.mp4\"\n",
    "logging.info(\"Working on video \" + video_location)\n",
    "vidcap = cv2.VideoCapture(video_location)\n",
    "success, image = vidcap.read()\n",
    "# image = cv2.rotate(image, cv2.cv2.ROTATE_90_COUNTERCLOCKWISE)\n",
    "fps = vidcap.get(cv2.CAP_PROP_FPS)\n",
    "number_of_frames = vidcap.get(cv2.CAP_PROP_FRAME_COUNT)\n",
    "x_value = np.arange((number_of_frames / np.round(fps)), step=(1 / 30))\n",
    "greens = np.zeros((1, int(number_of_frames)))  # instead of lists\n",
    "reds = np.zeros((1, int(number_of_frames)))\n",
    "blues = np.zeros((1, int(number_of_frames)))\n",
    "frame_number = 0\n",
    "logging.info(\"Parsing images ...\")\n",
    "while success:\n",
    "    # image = rotate_image(image, 90)\n",
    "    parse_roi(image)  # build image ROI\n",
    "    image = cv2.imread(\"faces_detected.jpg\") # possible BUG: read the same image twice if face not detected.\n",
    "    success, image = parse_RGB(image, vidcap, greens, reds, blues, frame_number)\n",
    "    frame_number += 1\n",
    "    # image = cv2.rotate(image, cv2.cv2.ROTATE_90_COUNTERCLOCKWISE)\n",
    "    # cv2.imshow(\"Rotated (Correct)\", image)"
   ]
  },
  {
   "cell_type": "markdown",
   "metadata": {},
   "source": [
    "### read video frames:"
   ]
  },
  {
   "cell_type": "code",
   "execution_count": 28,
   "metadata": {
    "pycharm": {
     "is_executing": false,
     "name": "#%%\n"
    }
   },
   "outputs": [
    {
     "name": "stderr",
     "text": [
      "[2020-12-25 19:23:35,676] [INFO] [plot_result] [26] : Plotting results ...All 3 channels\n",
      "[2020-12-25 19:23:35,959] [INFO] [plot_result] [43] : Showing result\n",
      "[2020-12-25 19:23:35,960] [INFO] [apply_butter_filter] [9] : Applying butter filter...\n",
      "[2020-12-25 19:23:35,963] [INFO] [apply_butter_filter] [9] : Applying butter filter...\n",
      "[2020-12-25 19:23:35,966] [INFO] [apply_butter_filter] [9] : Applying butter filter...\n",
      "[2020-12-25 19:23:36,362] [INFO] [<module>] [35] : Finished parsing the video.\n"
     ],
     "output_type": "stream"
    },
    {
     "data": {
      "text/plain": "<Figure size 432x360 with 3 Axes>",
      "image/png": "[encoded data removed]"
     },
     "metadata": {
      "needs_background": "light"
     },
     "output_type": "display_data"
    },
    {
     "data": {
      "text/plain": "<Figure size 432x360 with 3 Axes>",
      "image/png": "[encoded data removed]"
     },
     "metadata": {
      "needs_background": "light"
     },
     "output_type": "display_data"
    }
   ],
   "source": [
    "\n",
    "plot_result(greens, reds, blues, x_value, \"All 3 channels\")\n",
    "\n",
    "def apply_butter_filter(sig,fs):\n",
    "    \"\"\"\n",
    "    Filter signal using Butter filter method.\n",
    "    :param sig: is the signal to be filtered\n",
    "    :return: the filtered signal\n",
    "    \"\"\"\n",
    "    logging.info(\"Applying butter filter...\")\n",
    "    fc = np.array([0.1,4])\n",
    "    wn = 2 * fc /fs\n",
    "    bh,ah = signal.butter(4,4/50,btype='highpass')\n",
    "    bl,al = signal.butter(4,1/50,btype='lowpass')\n",
    "    sig = signal.filtfilt(bh,ah,sig)\n",
    "    sig = np.absolute(sig)\n",
    "    sig = signal.filtfilt(bl,al,sig)\n",
    "    return sig\n",
    "\n",
    "\n",
    "greens_buttered = apply_butter_filter(greens,fs=fps)\n",
    "blues_buttered = apply_butter_filter(blues,fs=fps)\n",
    "reds_buttered = apply_butter_filter(reds,fs=fps)\n",
    "plt.figure(figsize=(6, 5))\n",
    "plt.title(\"Buttered band pass\")\n",
    "plt.subplot(3,1,1)\n",
    "plt.plot(x_value.tolist(), greens_buttered.tolist()[0], color=\"green\")\n",
    "plt.grid(True)\n",
    "plt.subplot(3,1,2)\n",
    "plt.plot(x_value.tolist(), reds_buttered.tolist()[0], color=\"red\")\n",
    "plt.grid(True)\n",
    "plt.subplot(3,1,3)\n",
    "plt.plot(x_value.tolist(), blues_buttered.tolist()[0], color=\"blue\")\n",
    "plt.grid(True)\n",
    "plt.show()\n",
    "logging.info(\"Finished parsing the video.\")\n"
   ]
  },
  {
   "cell_type": "code",
   "execution_count": null,
   "metadata": {},
   "outputs": [],
   "source": []
  }
 ],
 "metadata": {
  "kernelspec": {
   "display_name": "Python 3",
   "language": "python",
   "name": "python3"
  },
  "language_info": {
   "codemirror_mode": {
    "name": "ipython",
    "version": 3
   },
   "file_extension": ".py",
   "mimetype": "text/x-python",
   "name": "python",
   "nbconvert_exporter": "python",
   "pygments_lexer": "ipython3",
   "version": "3.8.5"
  },
  "pycharm": {
   "stem_cell": {
    "cell_type": "raw",
    "metadata": {
     "collapsed": false
    },
    "source": []
   }
  }
 },
 "nbformat": 4,
 "nbformat_minor": 1
}