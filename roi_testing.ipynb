{
 "cells": [
  {
   "cell_type": "markdown",
   "source": [
    "# Testing the paper's roi detection method.\n"
   ],
   "metadata": {
    "collapsed": false
   }
  },
  {
   "cell_type": "code",
   "execution_count": 5,
   "outputs": [
    {
     "ename": "KeyboardInterrupt",
     "evalue": "",
     "output_type": "error",
     "traceback": [
      "\u001B[0;31m---------------------------------------------------------------------------\u001B[0m",
      "\u001B[0;31mKeyboardInterrupt\u001B[0m                         Traceback (most recent call last)",
      "\u001B[0;32m<ipython-input-5-5f0eb727317a>\u001B[0m in \u001B[0;36m<module>\u001B[0;34m()\u001B[0m\n\u001B[1;32m     15\u001B[0m \u001B[0mgray\u001B[0m \u001B[0;34m=\u001B[0m \u001B[0mcv2\u001B[0m\u001B[0;34m.\u001B[0m\u001B[0mcvtColor\u001B[0m\u001B[0;34m(\u001B[0m\u001B[0mimage\u001B[0m\u001B[0;34m,\u001B[0m \u001B[0mcv2\u001B[0m\u001B[0;34m.\u001B[0m\u001B[0mCOLOR_BGR2GRAY\u001B[0m\u001B[0;34m)\u001B[0m\u001B[0;34m\u001B[0m\u001B[0;34m\u001B[0m\u001B[0m\n\u001B[1;32m     16\u001B[0m \u001B[0;34m\u001B[0m\u001B[0m\n\u001B[0;32m---> 17\u001B[0;31m \u001B[0mface_locations\u001B[0m \u001B[0;34m=\u001B[0m \u001B[0mfr\u001B[0m\u001B[0;34m.\u001B[0m\u001B[0mface_locations\u001B[0m\u001B[0;34m(\u001B[0m\u001B[0mimage\u001B[0m\u001B[0;34m)\u001B[0m\u001B[0;34m\u001B[0m\u001B[0;34m\u001B[0m\u001B[0m\n\u001B[0m\u001B[1;32m     18\u001B[0m \u001B[0mface_encodings\u001B[0m \u001B[0;34m=\u001B[0m \u001B[0mfr\u001B[0m\u001B[0;34m.\u001B[0m\u001B[0mface_encodings\u001B[0m\u001B[0;34m(\u001B[0m\u001B[0mimage\u001B[0m\u001B[0;34m,\u001B[0m \u001B[0mface_locations\u001B[0m\u001B[0;34m)\u001B[0m\u001B[0;34m\u001B[0m\u001B[0;34m\u001B[0m\u001B[0m\n\u001B[1;32m     19\u001B[0m \u001B[0;34m\u001B[0m\u001B[0m\n",
      "\u001B[0;32md:\\studies\\bar_ilan\\year 3\\final_project\\koios\\venv\\lib\\site-packages\\face_recognition\\api.py\u001B[0m in \u001B[0;36mface_locations\u001B[0;34m(img, number_of_times_to_upsample, model)\u001B[0m\n\u001B[1;32m    119\u001B[0m         \u001B[0;32mreturn\u001B[0m \u001B[0;34m[\u001B[0m\u001B[0m_trim_css_to_bounds\u001B[0m\u001B[0;34m(\u001B[0m\u001B[0m_rect_to_css\u001B[0m\u001B[0;34m(\u001B[0m\u001B[0mface\u001B[0m\u001B[0;34m.\u001B[0m\u001B[0mrect\u001B[0m\u001B[0;34m)\u001B[0m\u001B[0;34m,\u001B[0m \u001B[0mimg\u001B[0m\u001B[0;34m.\u001B[0m\u001B[0mshape\u001B[0m\u001B[0;34m)\u001B[0m \u001B[0;32mfor\u001B[0m \u001B[0mface\u001B[0m \u001B[0;32min\u001B[0m \u001B[0m_raw_face_locations\u001B[0m\u001B[0;34m(\u001B[0m\u001B[0mimg\u001B[0m\u001B[0;34m,\u001B[0m \u001B[0mnumber_of_times_to_upsample\u001B[0m\u001B[0;34m,\u001B[0m \u001B[0;34m\"cnn\"\u001B[0m\u001B[0;34m)\u001B[0m\u001B[0;34m]\u001B[0m\u001B[0;34m\u001B[0m\u001B[0;34m\u001B[0m\u001B[0m\n\u001B[1;32m    120\u001B[0m     \u001B[0;32melse\u001B[0m\u001B[0;34m:\u001B[0m\u001B[0;34m\u001B[0m\u001B[0;34m\u001B[0m\u001B[0m\n\u001B[0;32m--> 121\u001B[0;31m         \u001B[0;32mreturn\u001B[0m \u001B[0;34m[\u001B[0m\u001B[0m_trim_css_to_bounds\u001B[0m\u001B[0;34m(\u001B[0m\u001B[0m_rect_to_css\u001B[0m\u001B[0;34m(\u001B[0m\u001B[0mface\u001B[0m\u001B[0;34m)\u001B[0m\u001B[0;34m,\u001B[0m \u001B[0mimg\u001B[0m\u001B[0;34m.\u001B[0m\u001B[0mshape\u001B[0m\u001B[0;34m)\u001B[0m \u001B[0;32mfor\u001B[0m \u001B[0mface\u001B[0m \u001B[0;32min\u001B[0m \u001B[0m_raw_face_locations\u001B[0m\u001B[0;34m(\u001B[0m\u001B[0mimg\u001B[0m\u001B[0;34m,\u001B[0m \u001B[0mnumber_of_times_to_upsample\u001B[0m\u001B[0;34m,\u001B[0m \u001B[0mmodel\u001B[0m\u001B[0;34m)\u001B[0m\u001B[0;34m]\u001B[0m\u001B[0;34m\u001B[0m\u001B[0;34m\u001B[0m\u001B[0m\n\u001B[0m\u001B[1;32m    122\u001B[0m \u001B[0;34m\u001B[0m\u001B[0m\n\u001B[1;32m    123\u001B[0m \u001B[0;34m\u001B[0m\u001B[0m\n",
      "\u001B[0;31mKeyboardInterrupt\u001B[0m: "
     ]
    }
   ],
   "source": [
    "import cv2\n",
    "from imutils import face_utils\n",
    "import dlib\n",
    "import face_recognition as fr\n",
    "import numpy as np\n",
    "p = \"shape_predictor_68_face_landmarks.dat\"\n",
    "detector = dlib.get_frontal_face_detector()\n",
    "predictor = dlib.shape_predictor(p)\n",
    "\n",
    "# Getting the image\n",
    "image = cv2.imread(\"WIN_20210226_11_48_56_Pro.jpg\")\n",
    "\n",
    "# Converting the image to gray scale\n",
    "gray = cv2.cvtColor(image, cv2.COLOR_BGR2GRAY)\n",
    "\n",
    "face_locations = fr.face_locations(image)\n",
    "face_encodings = fr.face_encodings(image, face_locations)\n",
    "\n",
    "for (top, right, bottom, left), name in zip(face_locations, face_encodings):\n",
    "    x,y,w,h = cv2.rectangle(image, (left, top), (right, bottom), (0, 0, 255), 2)\n",
    "\n",
    "# Get faces into image\n",
    "rects = detector(gray, 0)\n",
    "mask = np.zeros(image.shape, dtype=np.uint8)\n",
    "mask = cv2.cvtColor(mask, cv2.COLOR_BGR2GRAY)\n",
    "# For each detected face, find the landmark.\n",
    "for (i, rect) in enumerate(rects):\n",
    "    # Make the prediction and transform it to numpy array\n",
    "    shape = predictor(gray, rect)\n",
    "    shape = face_utils.shape_to_np(shape)\n",
    "    # Draw on our image, all the finded cordinate points (x,y)\n",
    "    for (x, y) in shape:\n",
    "        ROI = cv2.bitwise_and(image, mask)\n",
    "        cv2.circle(image, (x, y), 2, (0, 255, 0), -1)\n",
    "        x_new,y_new,w_new,h_new = cv2.boundingRect(mask)\n",
    "        result = ROI[y_new:y_new+h_new,x_new:x_new+w_new]\n",
    "        mask = mask[y_new:y_new+h_new,x_new:x_new+w_new]\n",
    "        result[mask==0] = (255,255,255)\n",
    "        cv2.imshow('result', result)\n",
    "        cv2.waitKey()\n",
    "# Show the image\n",
    "cv2.imshow(\"crop\", crop_img)\n",
    "k = cv2.waitKey(5) & 0xFF"
   ],
   "metadata": {
    "collapsed": false,
    "pycharm": {
     "name": "#%%\n"
    }
   }
  },
  {
   "cell_type": "code",
   "execution_count": null,
   "outputs": [],
   "source": [
    "import cv2\n",
    "from imutils import face_utils\n",
    "import dlib\n",
    "import face_recognition as fr\n",
    "import numpy as np\n",
    "p = \"shape_predictor_68_face_landmarks.dat\"\n",
    "detector = dlib.get_frontal_face_detector()\n",
    "predictor = dlib.shape_predictor(p)\n",
    "\n",
    "# Getting the image\n",
    "image = cv2.imread(\"WIN_20210226_11_48_56_Pro.jpg\")\n",
    "mask = np.zeros(image.shape, dtype=np.uint8)\n",
    "gray = cv2.cvtColor(image, cv2.COLOR_BGR2GRAY)\n",
    "rects = detector(gray, 0)\n",
    "for (i, rect) in enumerate(rects):\n",
    "    # Make the prediction and transform it to numpy array\n",
    "    shape = predictor(gray, rect)\n",
    "    shape = face_utils.shape_to_np(shape)\n",
    "    for (x, y) in shape:\n",
    "        cv2.circle(mask, (x,y), 110, (255,255,255), -1)\n",
    "        #cv2.circle(mask, (x, y), 2, (0, 255, 0), -1)\n",
    "        # Bitwise-and for ROI\n",
    "        ROI = cv2.bitwise_and(image, mask)\n",
    "\n",
    "        # Crop mask and turn background white\n",
    "        mask = cv2.cvtColor(mask, cv2.COLOR_BGR2GRAY)\n",
    "        x,y,w,h = cv2.boundingRect(mask)\n",
    "        result = ROI[y:y+h,x:x+w]\n",
    "        mask = mask[y:y+h,x:x+w]\n",
    "        result[mask==0] = (255,255,255)\n",
    "\n",
    "        cv2.imshow('result', result)\n",
    "        cv2.waitKey()\n"
   ],
   "metadata": {
    "collapsed": false,
    "pycharm": {
     "name": "#%%\n"
    }
   }
  },
  {
   "cell_type": "code",
   "execution_count": 6,
   "outputs": [
    {
     "name": "stdout",
     "output_type": "stream",
     "text": [
      "Number of faces detected: 1\n"
     ]
    }
   ],
   "source": [
    "import cv2\n",
    "from imutils import face_utils\n",
    "import dlib\n",
    "import face_recognition as fr\n",
    "import numpy as np\n",
    "from matplotlib import pyplot as plt\n",
    "\n",
    "# Load in color image for face detection\n",
    "image = cv2.imread('WIN_20210227_10_32_53_Pro.jpg')\n",
    "\n",
    "# Convert the image to RGB colorspace\n",
    "image = cv2.cvtColor(image, cv2.COLOR_BGR2RGB)\n",
    "\n",
    "# Make a copy of the original image to draw face detections on\n",
    "image_copy = np.copy(image)\n",
    "\n",
    "# Convert the image to gray\n",
    "gray_image = cv2.cvtColor(image, cv2.COLOR_RGB2GRAY)\n",
    "\n",
    "# Detect faces in the image using pre-trained face dectector\n",
    "face_cascade = cv2.CascadeClassifier(cv2.data.haarcascades + 'haarcascade_frontalface_default.xml')\n",
    "faces = face_cascade.detectMultiScale(gray_image, 1.25, 6)\n",
    "\n",
    "# Print number of faces found\n",
    "print('Number of faces detected:', len(faces))\n",
    "\n",
    "# Get the bounding box for each detected face\n",
    "face_crop = []\n",
    "for f in faces:\n",
    "    x, y, w, h = [ v for v in f ]\n",
    "    cv2.rectangle(image_copy, (x,y), (x+w, y+h), (255,0,0), 3)\n",
    "    # Define the region of interest in the image\n",
    "    face_crop.append(gray_image[y:y+h, x:x+w])\n",
    "\n",
    "# Display the face crops\n",
    "for face in face_crop:\n",
    "    cv2.imshow('face',face)\n",
    "    cv2.waitKey(0)"
   ],
   "metadata": {
    "collapsed": false,
    "pycharm": {
     "name": "#%%\n"
    }
   }
  },
  {
   "cell_type": "code",
   "execution_count": 1,
   "outputs": [
    {
     "ename": "IndexError",
     "evalue": "list index out of range",
     "output_type": "error",
     "traceback": [
      "\u001B[0;31m---------------------------------------------------------------------------\u001B[0m",
      "\u001B[0;31mIndexError\u001B[0m                                Traceback (most recent call last)",
      "\u001B[0;32m<ipython-input-1-51ec500caa85>\u001B[0m in \u001B[0;36m<module>\u001B[0;34m()\u001B[0m\n\u001B[1;32m     46\u001B[0m \u001B[0;34m\u001B[0m\u001B[0m\n\u001B[1;32m     47\u001B[0m         \u001B[0;31m# visualize all facial landmarks with a transparent overlay\u001B[0m\u001B[0;34m\u001B[0m\u001B[0;34m\u001B[0m\u001B[0;34m\u001B[0m\u001B[0m\n\u001B[0;32m---> 48\u001B[0;31m         \u001B[0moutput\u001B[0m \u001B[0;34m=\u001B[0m \u001B[0mface_utils\u001B[0m\u001B[0;34m.\u001B[0m\u001B[0mvisualize_facial_landmarks\u001B[0m\u001B[0;34m(\u001B[0m\u001B[0mimage\u001B[0m\u001B[0;34m,\u001B[0m \u001B[0mshape\u001B[0m\u001B[0;34m)\u001B[0m\u001B[0;34m\u001B[0m\u001B[0;34m\u001B[0m\u001B[0m\n\u001B[0m\u001B[1;32m     49\u001B[0m         \u001B[0;31m#cv2.imshow(\"Image\", output)\u001B[0m\u001B[0;34m\u001B[0m\u001B[0;34m\u001B[0m\u001B[0;34m\u001B[0m\u001B[0m\n\u001B[1;32m     50\u001B[0m         \u001B[0;31m#cv2.waitKey(0)\u001B[0m\u001B[0;34m\u001B[0m\u001B[0;34m\u001B[0m\u001B[0;34m\u001B[0m\u001B[0m\n",
      "\u001B[0;32md:\\studies\\bar_ilan\\year 3\\final_project\\koios\\venv\\lib\\site-packages\\imutils\\face_utils\\helpers.py\u001B[0m in \u001B[0;36mvisualize_facial_landmarks\u001B[0;34m(image, shape, colors, alpha)\u001B[0m\n\u001B[1;32m     81\u001B[0m                                 \u001B[0mptA\u001B[0m \u001B[0;34m=\u001B[0m \u001B[0mtuple\u001B[0m\u001B[0;34m(\u001B[0m\u001B[0mpts\u001B[0m\u001B[0;34m[\u001B[0m\u001B[0ml\u001B[0m \u001B[0;34m-\u001B[0m \u001B[0;36m1\u001B[0m\u001B[0;34m]\u001B[0m\u001B[0;34m)\u001B[0m\u001B[0;34m\u001B[0m\u001B[0;34m\u001B[0m\u001B[0m\n\u001B[1;32m     82\u001B[0m                                 \u001B[0mptB\u001B[0m \u001B[0;34m=\u001B[0m \u001B[0mtuple\u001B[0m\u001B[0;34m(\u001B[0m\u001B[0mpts\u001B[0m\u001B[0;34m[\u001B[0m\u001B[0ml\u001B[0m\u001B[0;34m]\u001B[0m\u001B[0;34m)\u001B[0m\u001B[0;34m\u001B[0m\u001B[0;34m\u001B[0m\u001B[0m\n\u001B[0;32m---> 83\u001B[0;31m                                 \u001B[0mcv2\u001B[0m\u001B[0;34m.\u001B[0m\u001B[0mline\u001B[0m\u001B[0;34m(\u001B[0m\u001B[0moverlay\u001B[0m\u001B[0;34m,\u001B[0m \u001B[0mptA\u001B[0m\u001B[0;34m,\u001B[0m \u001B[0mptB\u001B[0m\u001B[0;34m,\u001B[0m \u001B[0mcolors\u001B[0m\u001B[0;34m[\u001B[0m\u001B[0mi\u001B[0m\u001B[0;34m]\u001B[0m\u001B[0;34m,\u001B[0m \u001B[0;36m2\u001B[0m\u001B[0;34m)\u001B[0m\u001B[0;34m\u001B[0m\u001B[0;34m\u001B[0m\u001B[0m\n\u001B[0m\u001B[1;32m     84\u001B[0m \u001B[0;34m\u001B[0m\u001B[0m\n\u001B[1;32m     85\u001B[0m                 \u001B[0;31m# otherwise, compute the convex hull of the facial\u001B[0m\u001B[0;34m\u001B[0m\u001B[0;34m\u001B[0m\u001B[0;34m\u001B[0m\u001B[0m\n",
      "\u001B[0;31mIndexError\u001B[0m: list index out of range"
     ]
    }
   ],
   "source": [
    "# import the necessary packages\n",
    "from imutils import face_utils\n",
    "import numpy as np\n",
    "import imutils\n",
    "import dlib\n",
    "import cv2\n",
    "\n",
    "# initialize dlib's face detector (HOG-based) and then create\n",
    "# the facial landmark predictor\n",
    "p = \"shape_predictor_68_face_landmarks.dat\"\n",
    "detector = dlib.get_frontal_face_detector()\n",
    "predictor = dlib.shape_predictor(p)\n",
    "# load the input image, resize it, and convert it to grayscale\n",
    "image = cv2.imread('WIN_20210227_10_32_53_Pro.jpg')\n",
    "image = imutils.resize(image, width=500)\n",
    "gray = cv2.cvtColor(image, cv2.COLOR_BGR2GRAY)\n",
    "# detect faces in the grayscale image\n",
    "rects = detector(gray, 1)\n",
    "\n",
    "# loop over the face detections\n",
    "for (i, rect) in enumerate(rects):\n",
    "    # determine the facial landmarks for the face region, then\n",
    "    # convert the landmark (x, y)-coordinates to a NumPy array\n",
    "    shape = predictor(gray, rect)\n",
    "    shape = face_utils.shape_to_np(shape)\n",
    "    # loop over the face parts individually\n",
    "    for (name, (i, j)) in face_utils.FACIAL_LANDMARKS_IDXS.items():\n",
    "        # clone the original image so we can draw on it, then\n",
    "        # display the name of the face part on the image\n",
    "        clone = image.copy()\n",
    "        cv2.putText(clone, name, (10, 30), cv2.FONT_HERSHEY_SIMPLEX,\n",
    "                    0.7, (0, 0, 255), 2)\n",
    "        # loop over the subset of facial landmarks, drawing the specific face part\n",
    "        #counter=0\n",
    "        for (x, y) in shape[i:j]:\n",
    "            cv2.circle(clone, (x, y), 1, (0, 0, 255), -1)# extract the ROI of the face region as a separate image\n",
    "            (x, y, w, h) = cv2.boundingRect(np.array([shape[i:j]]))\n",
    "            roi = image[y:y + h, x:x + w]\n",
    "            roi = imutils.resize(roi, width=250, inter=cv2.INTER_CUBIC)\n",
    "            # show the particular face part\n",
    "            cv2.imshow(\"ROI\", roi)\n",
    "            cv2.imshow(\"Image\", clone)\n",
    "            cv2.waitKey(0)\n",
    "            #counter+=1\n",
    "\n",
    "        # visualize all facial landmarks with a transparent overlay\n",
    "        output = face_utils.visualize_facial_landmarks(image, shape)\n",
    "        #cv2.imshow(\"Image\", output)\n",
    "        #cv2.waitKey(0)"
   ],
   "metadata": {
    "collapsed": false,
    "pycharm": {
     "name": "#%%\n"
    }
   }
  }
 ],
 "metadata": {
  "kernelspec": {
   "display_name": "Python 3",
   "language": "python",
   "name": "python3"
  },
  "language_info": {
   "codemirror_mode": {
    "name": "ipython",
    "version": 3
   },
   "file_extension": ".py",
   "mimetype": "text/x-python",
   "name": "python",
   "nbconvert_exporter": "python",
   "pygments_lexer": "ipython3",
   "version": "3.7.4"
  }
 },
 "nbformat": 4,
 "nbformat_minor": 1
}