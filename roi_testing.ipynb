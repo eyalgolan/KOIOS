{
 "cells": [
  {
   "cell_type": "markdown",
   "metadata": {},
   "source": [
    "# Testing the paper's roi detection method.\n"
   ]
  },
  {
   "cell_type": "code",
   "execution_count": null,
   "metadata": {
    "pycharm": {
     "is_executing": true,
     "name": "#%%\n"
    }
   },
   "outputs": [],
   "source": [
    "import cv2\n",
    "from imutils import face_utils\n",
    "import dlib\n",
    "import face_recognition as fr\n",
    "import numpy as np\n",
    "p = \"shape_predictor_68_face_landmarks.dat\"\n",
    "detector = dlib.get_frontal_face_detector()\n",
    "predictor = dlib.shape_predictor(p)\n",
    "\n",
    "# Getting the image\n",
    "image = cv2.imread(\"WIN_20210226_11_48_56_Pro.jpg\")\n",
    "\n",
    "# Converting the image to gray scale\n",
    "gray = cv2.cvtColor(image, cv2.COLOR_BGR2GRAY)\n",
    "\n",
    "face_locations = fr.face_locations(image)\n",
    "face_encodings = fr.face_encodings(image, face_locations)\n",
    "\n",
    "for (top, right, bottom, left), name in zip(face_locations, face_encodings):\n",
    "    x,y,w,h = cv2.rectangle(image, (left, top), (right, bottom), (0, 0, 255), 2)\n",
    "\n",
    "# Get faces into image\n",
    "rects = detector(gray, 0)\n",
    "mask = np.zeros(image.shape, dtype=np.uint8)\n",
    "mask = cv2.cvtColor(mask, cv2.COLOR_BGR2GRAY)\n",
    "# For each detected face, find the landmark.\n",
    "for (i, rect) in enumerate(rects):\n",
    "    # Make the prediction and transform it to numpy array\n",
    "    shape = predictor(gray, rect)\n",
    "    shape = face_utils.shape_to_np(shape)\n",
    "    # Draw on our image, all the finded cordinate points (x,y)\n",
    "    for (x, y) in shape:\n",
    "        ROI = cv2.bitwise_and(image, mask)\n",
    "        cv2.circle(image, (x, y), 2, (0, 255, 0), -1)\n",
    "        x_new,y_new,w_new,h_new = cv2.boundingRect(mask)\n",
    "        result = ROI[y_new:y_new+h_new,x_new:x_new+w_new]\n",
    "        mask = mask[y_new:y_new+h_new,x_new:x_new+w_new]\n",
    "        result[mask==0] = (255,255,255)\n",
    "        cv2.imshow('result', result)\n",
    "        cv2.waitKey()\n",
    "# Show the image\n",
    "cv2.imshow(\"crop\", crop_img)\n",
    "k = cv2.waitKey(5) & 0xFF"
   ]
  },
  {
   "cell_type": "code",
   "execution_count": null,
   "metadata": {
    "pycharm": {
     "is_executing": true,
     "name": "#%%\n"
    }
   },
   "outputs": [],
   "source": [
    "import cv2\n",
    "from imutils import face_utils\n",
    "import dlib\n",
    "import face_recognition as fr\n",
    "import numpy as np\n",
    "p = \"shape_predictor_68_face_landmarks.dat\"\n",
    "detector = dlib.get_frontal_face_detector()\n",
    "predictor = dlib.shape_predictor(p)\n",
    "\n",
    "# Getting the image\n",
    "image = cv2.imread(\"WIN_20210226_11_48_56_Pro.jpg\")\n",
    "mask = np.zeros(image.shape, dtype=np.uint8)\n",
    "gray = cv2.cvtColor(image, cv2.COLOR_BGR2GRAY)\n",
    "rects = detector(gray, 0)\n",
    "for (i, rect) in enumerate(rects):\n",
    "    # Make the prediction and transform it to numpy array\n",
    "    shape = predictor(gray, rect)\n",
    "    shape = face_utils.shape_to_np(shape)\n",
    "    for (x, y) in shape:\n",
    "        cv2.circle(mask, (x,y), 110, (255,255,255), -1)\n",
    "        #cv2.circle(mask, (x, y), 2, (0, 255, 0), -1)\n",
    "        # Bitwise-and for ROI\n",
    "        ROI = cv2.bitwise_and(image, mask)\n",
    "\n",
    "        # Crop mask and turn background white\n",
    "        mask = cv2.cvtColor(mask, cv2.COLOR_BGR2GRAY)\n",
    "        x,y,w,h = cv2.boundingRect(mask)\n",
    "        result = ROI[y:y+h,x:x+w]\n",
    "        mask = mask[y:y+h,x:x+w]\n",
    "        result[mask==0] = (255,255,255)\n",
    "\n",
    "        cv2.imshow('result', result)\n",
    "        cv2.waitKey()\n"
   ]
  },
  {
   "cell_type": "code",
   "execution_count": null,
   "metadata": {
    "pycharm": {
     "is_executing": true,
     "name": "#%%\n"
    }
   },
   "outputs": [],
   "source": [
    "import cv2\n",
    "from imutils import face_utils\n",
    "import dlib\n",
    "import face_recognition as fr\n",
    "import numpy as np\n",
    "from matplotlib import pyplot as plt\n",
    "\n",
    "# Load in color image for face detection\n",
    "image = cv2.imread('WIN_20210227_10_32_53_Pro.jpg')\n",
    "\n",
    "# Convert the image to RGB colorspace\n",
    "image = cv2.cvtColor(image, cv2.COLOR_BGR2RGB)\n",
    "\n",
    "# Make a copy of the original image to draw face detections on\n",
    "image_copy = np.copy(image)\n",
    "\n",
    "# Convert the image to gray\n",
    "gray_image = cv2.cvtColor(image, cv2.COLOR_RGB2GRAY)\n",
    "\n",
    "# Detect faces in the image using pre-trained face dectector\n",
    "face_cascade = cv2.CascadeClassifier(cv2.data.haarcascades + 'haarcascade_frontalface_default.xml')\n",
    "faces = face_cascade.detectMultiScale(gray_image, 1.25, 6)\n",
    "\n",
    "# Print number of faces found\n",
    "print('Number of faces detected:', len(faces))\n",
    "\n",
    "# Get the bounding box for each detected face\n",
    "face_crop = []\n",
    "for f in faces:\n",
    "    x, y, w, h = [ v for v in f ]\n",
    "    cv2.rectangle(image_copy, (x,y), (x+w, y+h), (255,0,0), 3)\n",
    "    # Define the region of interest in the image\n",
    "    face_crop.append(gray_image[y:y+h, x:x+w])\n",
    "\n",
    "# Display the face crops\n",
    "for face in face_crop:\n",
    "    cv2.imshow('face',face)\n",
    "    cv2.waitKey(0)"
   ]
  },
  {
   "cell_type": "markdown",
   "metadata": {},
   "source": [
    "# Forehead detection"
   ]
  },
  {
   "cell_type": "code",
   "execution_count": null,
   "metadata": {
    "pycharm": {
     "is_executing": true,
     "name": "#%%\n"
    }
   },
   "outputs": [],
   "source": [
    "# import the necessary packages\n",
    "from imutils import face_utils\n",
    "import numpy as np\n",
    "import imutils\n",
    "import dlib\n",
    "import cv2\n",
    "\n",
    "# initialize dlib's face detector (HOG-based) and then create\n",
    "# the facial landmark predictor\n",
    "p = \"shape_predictor_68_face_landmarks.dat\"\n",
    "detector = dlib.get_frontal_face_detector()\n",
    "predictor = dlib.shape_predictor(p)\n",
    "# load the input image, resize it, and convert it to grayscale\n",
    "image = cv2.imread('WIN_20210227_10_32_53_Pro.jpg')\n",
    "image = imutils.resize(image, width=500)\n",
    "gray = cv2.cvtColor(image, cv2.COLOR_BGR2GRAY)\n",
    "# detect faces in the grayscale image\n",
    "rects = detector(gray, 1)\n",
    "\n",
    "# loop over the face detections\n",
    "for (i, rect) in enumerate(rects):\n",
    "    # determine the facial landmarks for the face region, then\n",
    "    # convert the landmark (x, y)-coordinates to a NumPy array\n",
    "    shape = predictor(gray, rect)\n",
    "    shape = face_utils.shape_to_np(shape)\n",
    "    # loop over the face parts individually\n",
    "    for (name, (i, j)) in face_utils.FACIAL_LANDMARKS_IDXS.items():\n",
    "        # clone the original image so we can draw on it, then\n",
    "        # display the name of the face part on the image\n",
    "        a = face_utils.FACIAL_LANDMARKS_IDXS.items()\n",
    "        clone = image.copy()\n",
    "        cv2.putText(clone, name, (10, 30), cv2.FONT_HERSHEY_SIMPLEX,\n",
    "                    0.7, (0, 0, 255), 2)\n",
    "        # loop over the subset of facial landmarks, drawing the specific face part\n",
    "        #counter=0\n",
    "        for (x, y) in shape[i:j]:\n",
    "            cv2.circle(clone, (x, y), 1, (0, 0, 255), -1)# extract the ROI of the face region as a separate image\n",
    "            (x, y, w, h) = cv2.boundingRect(np.array([shape[i:j]]))\n",
    "            roi = image[y:y + h, x:x + w]\n",
    "            roi = imutils.resize(roi, width=250, inter=cv2.INTER_CUBIC)\n",
    "            # show the particular face part\n",
    "            cv2.imshow(\"ROI\", roi)\n",
    "            cv2.imshow(\"Image\", clone)\n",
    "            cv2.waitKey(0)\n",
    "            #counter+=1\n",
    "\n",
    "        # visualize all facial landmarks with a transparent overlay\n",
    "        output = face_utils.visualize_facial_landmarks(image, shape)\n",
    "        #cv2.imshow(\"Image\", output)\n",
    "        #cv2.waitKey(0)"
   ]
  },
  {
   "cell_type": "markdown",
   "metadata": {},
   "source": [
    "# Extract ROI "
   ]
  },
  {
   "cell_type": "code",
   "execution_count": 4,
   "metadata": {
    "pycharm": {
     "name": "#%%\n"
    }
   },
   "outputs": [],
   "source": [
    "import face_recognition, PIL.Image, PIL.ImageDraw,math\n",
    "import numpy as np\n",
    "import cv2\n",
    "\n",
    "frame = \"WIN_20210227_10_32_53_Pro.jpg\"\n",
    "\n",
    "image = face_recognition.load_image_file(frame) # read image.\n",
    "face_locations = face_recognition.face_locations(image) # detects all the faces in image\n",
    "face_landmarks_list = face_recognition.face_landmarks(image)\n",
    "\n",
    "# iterate through all the faces.\n",
    "for face_location in face_locations: \n",
    "    img = PIL.Image.open(frame)\n",
    "    top,right,bottom,left = face_location # extract all face squre points.\n",
    "    diff = math.floor((top - bottom) * 0.2) # 30 percent of the face len (toadd eyebrow top point).\n",
    "    # Finding the forhead.\n",
    "    right_eyebrow_landmarks = np.asarray(face_landmarks_list[0]['right_eyebrow']) # right eyebrow points.\n",
    "    right_eyebrow_landmarks.sort(axis=0)\n",
    "    rightest_point = right_eyebrow_landmarks[-1] # The most right point of the ROI(according to x).\n",
    "    top_right_eyebrow = right_eyebrow_landmarks.min(axis = 0)[1]\n",
    "    left_eyebrow_landmarks = np.asarray(face_landmarks_list[0]['left_eyebrow'])\n",
    "    left_eyebrow_landmarks.sort(axis=0)\n",
    "    leftest_point = left_eyebrow_landmarks[0] # the most left point of ROI.(according to x)\n",
    "    top_left_eyebrow = left_eyebrow_landmarks.min(axis = 0)[1]  \n",
    "    bottom = min(top_right_eyebrow,top_left_eyebrow).item(0) # bottom point of the forehead.\n",
    "    bottom = bottom - (0.05 * bottom) # improve bottom location by 2 percent.  \n",
    "    forehead = img.crop((leftest_point[0], leftest_point[1]+diff, rightest_point[0],bottom)) # adding diff to top to make the forehead bigger.\n",
    "#     forehead.save(\"forehead.jpg\")\n",
    "    forehead.show(\"forehead.jpg\") \n",
    "    \n",
    "    # Finging the second ROI:\n",
    "    upper_mouth = np.asarray(face_landmarks_list[0]['top_lip']) # top_lip landmarks\n",
    "    upper_mouth_min = upper_mouth.min(axis = 0)[1] # The  top - lip upper point.\n",
    "    upper_nose = np.asarray(face_landmarks_list[0]['nose_bridge']) \n",
    "    upper_nose_min = upper_nose.min(axis = 0)[1]  # noise bridge upper point.\n",
    "    upper_nose_min += upper_mouth_min * 0.1 # improving the noise bridge upper point.\n",
    "    nose_to_upper_lip = img.crop((leftest_point[0], upper_nose_min, rightest_point[0], upper_mouth_min))\n",
    "#     nose_to_upper_lip.save(\"nose_to_upper_lip.jpg\")\n",
    "    nose_to_upper_lip.show(\"nose_to_upper_lip.jpg\")\n",
    "    vis = np.concatenate((forehead, nose_to_upper_lip), axis=0)\n",
    "    cv2.imwrite('out.jpg', vis)"
   ]
  }
 ],
 "metadata": {
  "kernelspec": {
   "display_name": "Python 3",
   "language": "python",
   "name": "python3"
  },
  "language_info": {
   "codemirror_mode": {
    "name": "ipython",
    "version": 3
   },
   "file_extension": ".py",
   "mimetype": "text/x-python",
   "name": "python",
   "nbconvert_exporter": "python",
   "pygments_lexer": "ipython3",
   "version": "3.8.5"
  },
  "pycharm": {
   "stem_cell": {
    "cell_type": "raw",
    "source": [],
    "metadata": {
     "collapsed": false
    }
   }
  }
 },
 "nbformat": 4,
 "nbformat_minor": 1
}