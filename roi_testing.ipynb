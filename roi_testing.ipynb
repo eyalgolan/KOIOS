{
 "cells": [
  {
   "cell_type": "markdown",
   "metadata": {
    "pycharm": {
     "is_executing": false,
     "name": "#%% md\n"
    }
   },
   "source": [
    "# Testing the paper's roi detection method.\n"
   ]
  },
  {
   "cell_type": "code",
   "execution_count": 1,
   "metadata": {
    "pycharm": {
     "name": "#%%\n"
    }
   },
   "outputs": [
    {
     "ename": "ValueError",
     "evalue": "too many values to unpack (expected 4)",
     "output_type": "error",
     "traceback": [
      "\u001B[0;31m---------------------------------------------------------------------------\u001B[0m",
      "\u001B[0;31mValueError\u001B[0m                                Traceback (most recent call last)",
      "\u001B[0;32m<ipython-input-1-bbab5b93f8e7>\u001B[0m in \u001B[0;36m<module>\u001B[0;34m()\u001B[0m\n\u001B[1;32m     19\u001B[0m \u001B[0;34m\u001B[0m\u001B[0m\n\u001B[1;32m     20\u001B[0m \u001B[0;32mfor\u001B[0m \u001B[0;34m(\u001B[0m\u001B[0mtop\u001B[0m\u001B[0;34m,\u001B[0m \u001B[0mright\u001B[0m\u001B[0;34m,\u001B[0m \u001B[0mbottom\u001B[0m\u001B[0;34m,\u001B[0m \u001B[0mleft\u001B[0m\u001B[0;34m)\u001B[0m\u001B[0;34m,\u001B[0m \u001B[0mname\u001B[0m \u001B[0;32min\u001B[0m \u001B[0mzip\u001B[0m\u001B[0;34m(\u001B[0m\u001B[0mface_locations\u001B[0m\u001B[0;34m,\u001B[0m \u001B[0mface_encodings\u001B[0m\u001B[0;34m)\u001B[0m\u001B[0;34m:\u001B[0m\u001B[0;34m\u001B[0m\u001B[0;34m\u001B[0m\u001B[0m\n\u001B[0;32m---> 21\u001B[0;31m     \u001B[0mx\u001B[0m\u001B[0;34m,\u001B[0m\u001B[0my\u001B[0m\u001B[0;34m,\u001B[0m\u001B[0mw\u001B[0m\u001B[0;34m,\u001B[0m\u001B[0mh\u001B[0m \u001B[0;34m=\u001B[0m \u001B[0mcv2\u001B[0m\u001B[0;34m.\u001B[0m\u001B[0mrectangle\u001B[0m\u001B[0;34m(\u001B[0m\u001B[0mimage\u001B[0m\u001B[0;34m,\u001B[0m \u001B[0;34m(\u001B[0m\u001B[0mleft\u001B[0m\u001B[0;34m,\u001B[0m \u001B[0mtop\u001B[0m\u001B[0;34m)\u001B[0m\u001B[0;34m,\u001B[0m \u001B[0;34m(\u001B[0m\u001B[0mright\u001B[0m\u001B[0;34m,\u001B[0m \u001B[0mbottom\u001B[0m\u001B[0;34m)\u001B[0m\u001B[0;34m,\u001B[0m \u001B[0;34m(\u001B[0m\u001B[0;36m0\u001B[0m\u001B[0;34m,\u001B[0m \u001B[0;36m0\u001B[0m\u001B[0;34m,\u001B[0m \u001B[0;36m255\u001B[0m\u001B[0;34m)\u001B[0m\u001B[0;34m,\u001B[0m \u001B[0;36m2\u001B[0m\u001B[0;34m)\u001B[0m\u001B[0;34m\u001B[0m\u001B[0;34m\u001B[0m\u001B[0m\n\u001B[0m\u001B[1;32m     22\u001B[0m \u001B[0;34m\u001B[0m\u001B[0m\n\u001B[1;32m     23\u001B[0m \u001B[0;31m# Get faces into image\u001B[0m\u001B[0;34m\u001B[0m\u001B[0;34m\u001B[0m\u001B[0;34m\u001B[0m\u001B[0m\n",
      "\u001B[0;31mValueError\u001B[0m: too many values to unpack (expected 4)"
     ]
    }
   ],
   "source": [
    "import cv2\n",
    "from imutils import face_utils\n",
    "import dlib\n",
    "import face_recognition as fr\n",
    "import numpy as np\n",
    "p = \"shape_predictor_68_face_landmarks.dat\"\n",
    "detector = dlib.get_frontal_face_detector()\n",
    "predictor = dlib.shape_predictor(p)\n",
    "\n",
    "# Getting the image\n",
    "image = cv2.imread(\"WIN_20210226_11_48_56_Pro.jpg\")\n",
    "\n",
    "# Converting the image to gray scale\n",
    "gray = cv2.cvtColor(image, cv2.COLOR_BGR2GRAY)\n",
    "\n",
    "face_locations = fr.face_locations(image)\n",
    "face_encodings = fr.face_encodings(image, face_locations)\n",
    "\n",
    "for (top, right, bottom, left), name in zip(face_locations, face_encodings):\n",
    "    x,y,w,h = cv2.rectangle(image, (left, top), (right, bottom), (0, 0, 255), 2)\n",
    "\n",
    "# Get faces into image\n",
    "rects = detector(gray, 0)\n",
    "mask = np.zeros(image.shape, dtype=np.uint8)\n",
    "mask = cv2.cvtColor(mask, cv2.COLOR_BGR2GRAY)\n",
    "# For each detected face, find the landmark.\n",
    "for (i, rect) in enumerate(rects):\n",
    "    # Make the prediction and transform it to numpy array\n",
    "    shape = predictor(gray, rect)\n",
    "    shape = face_utils.shape_to_np(shape)\n",
    "    # Draw on our image, all the finded cordinate points (x,y)\n",
    "    for (x, y) in shape:\n",
    "        ROI = cv2.bitwise_and(image, mask)\n",
    "        cv2.circle(image, (x, y), 2, (0, 255, 0), -1)\n",
    "        x_new,y_new,w_new,h_new = cv2.boundingRect(mask)\n",
    "        result = ROI[y_new:y_new+h_new,x_new:x_new+w_new]\n",
    "        mask = mask[y_new:y_new+h_new,x_new:x_new+w_new]\n",
    "        result[mask==0] = (255,255,255)\n",
    "        cv2.imshow('result', result)\n",
    "        cv2.waitKey()\n",
    "# Show the image\n",
    "cv2.imshow(\"crop\", crop_img)\n",
    "k = cv2.waitKey(5) & 0xFF"
   ]
  },
  {
   "cell_type": "code",
   "execution_count": 1,
   "metadata": {},
   "outputs": [
    {
     "ename": "error",
     "evalue": "OpenCV(4.4.0) C:\\Users\\appveyor\\AppData\\Local\\Temp\\1\\pip-req-build-6sxsq0tp\\opencv\\modules\\imgproc\\src\\shapedescr.cpp:1044: error: (-215:Assertion failed) img.depth() <= CV_8S && img.channels() == 1 in function 'cv::maskBoundingRect'\n",
     "output_type": "error",
     "traceback": [
      "\u001B[0;31m---------------------------------------------------------------------------\u001B[0m",
      "\u001B[0;31merror\u001B[0m                                     Traceback (most recent call last)",
      "\u001B[0;32m<ipython-input-1-6e9413eaf8f8>\u001B[0m in \u001B[0;36m<module>\u001B[0;34m()\u001B[0m\n\u001B[1;32m     26\u001B[0m         \u001B[0;31m# Crop mask and turn background white\u001B[0m\u001B[0;34m\u001B[0m\u001B[0;34m\u001B[0m\u001B[0;34m\u001B[0m\u001B[0m\n\u001B[1;32m     27\u001B[0m         \u001B[0mmask\u001B[0m \u001B[0;34m=\u001B[0m \u001B[0mcv2\u001B[0m\u001B[0;34m.\u001B[0m\u001B[0mcvtColor\u001B[0m\u001B[0;34m(\u001B[0m\u001B[0mmask\u001B[0m\u001B[0;34m,\u001B[0m \u001B[0mcv2\u001B[0m\u001B[0;34m.\u001B[0m\u001B[0mCOLOR_BGR2GRAY\u001B[0m\u001B[0;34m)\u001B[0m\u001B[0;34m\u001B[0m\u001B[0;34m\u001B[0m\u001B[0m\n\u001B[0;32m---> 28\u001B[0;31m         \u001B[0mx\u001B[0m\u001B[0;34m,\u001B[0m\u001B[0my\u001B[0m\u001B[0;34m,\u001B[0m\u001B[0mw\u001B[0m\u001B[0;34m,\u001B[0m\u001B[0mh\u001B[0m \u001B[0;34m=\u001B[0m \u001B[0mcv2\u001B[0m\u001B[0;34m.\u001B[0m\u001B[0mboundingRect\u001B[0m\u001B[0;34m(\u001B[0m\u001B[0mROI\u001B[0m\u001B[0;34m)\u001B[0m\u001B[0;34m\u001B[0m\u001B[0;34m\u001B[0m\u001B[0m\n\u001B[0m\u001B[1;32m     29\u001B[0m         \u001B[0mresult\u001B[0m \u001B[0;34m=\u001B[0m \u001B[0mROI\u001B[0m\u001B[0;34m[\u001B[0m\u001B[0my\u001B[0m\u001B[0;34m:\u001B[0m\u001B[0my\u001B[0m\u001B[0;34m+\u001B[0m\u001B[0mh\u001B[0m\u001B[0;34m,\u001B[0m\u001B[0mx\u001B[0m\u001B[0;34m:\u001B[0m\u001B[0mx\u001B[0m\u001B[0;34m+\u001B[0m\u001B[0mw\u001B[0m\u001B[0;34m]\u001B[0m\u001B[0;34m\u001B[0m\u001B[0;34m\u001B[0m\u001B[0m\n\u001B[1;32m     30\u001B[0m         \u001B[0mmask\u001B[0m \u001B[0;34m=\u001B[0m \u001B[0mmask\u001B[0m\u001B[0;34m[\u001B[0m\u001B[0my\u001B[0m\u001B[0;34m:\u001B[0m\u001B[0my\u001B[0m\u001B[0;34m+\u001B[0m\u001B[0mh\u001B[0m\u001B[0;34m,\u001B[0m\u001B[0mx\u001B[0m\u001B[0;34m:\u001B[0m\u001B[0mx\u001B[0m\u001B[0;34m+\u001B[0m\u001B[0mw\u001B[0m\u001B[0;34m]\u001B[0m\u001B[0;34m\u001B[0m\u001B[0;34m\u001B[0m\u001B[0m\n",
      "\u001B[0;31merror\u001B[0m: OpenCV(4.4.0) C:\\Users\\appveyor\\AppData\\Local\\Temp\\1\\pip-req-build-6sxsq0tp\\opencv\\modules\\imgproc\\src\\shapedescr.cpp:1044: error: (-215:Assertion failed) img.depth() <= CV_8S && img.channels() == 1 in function 'cv::maskBoundingRect'\n"
     ]
    }
   ],
   "source": [
    "import cv2\n",
    "from imutils import face_utils\n",
    "import dlib\n",
    "import face_recognition as fr\n",
    "import numpy as np\n",
    "p = \"shape_predictor_68_face_landmarks.dat\"\n",
    "detector = dlib.get_frontal_face_detector()\n",
    "predictor = dlib.shape_predictor(p)\n",
    "\n",
    "# Getting the image\n",
    "image = cv2.imread(\"WIN_20210226_11_48_56_Pro.jpg\")\n",
    "mask = np.zeros(image.shape, dtype=np.uint8)\n",
    "gray = cv2.cvtColor(image, cv2.COLOR_BGR2GRAY)\n",
    "rects = detector(gray, 0)\n",
    "for (i, rect) in enumerate(rects):\n",
    "    # Make the prediction and transform it to numpy array\n",
    "    shape = predictor(gray, rect)\n",
    "    shape = face_utils.shape_to_np(shape)\n",
    "    for (x, y) in shape:\n",
    "        cv2.circle(mask, (x,y), 110, (255,255,255), -1)\n",
    "        #cv2.circle(mask, (x, y), 2, (0, 255, 0), -1)\n",
    "        # Bitwise-and for ROI\n",
    "        ROI = cv2.bitwise_and(image, mask)\n",
    "\n",
    "        # Crop mask and turn background white\n",
    "        mask = cv2.cvtColor(mask, cv2.COLOR_BGR2GRAY)\n",
    "        x,y,w,h = cv2.boundingRect(mask)\n",
    "        result = ROI[y:y+h,x:x+w]\n",
    "        mask = mask[y:y+h,x:x+w]\n",
    "        result[mask==0] = (255,255,255)\n",
    "\n",
    "        cv2.imshow('result', result)\n",
    "        cv2.waitKey()\n"
   ]
  },
  {
   "cell_type": "code",
   "execution_count": null,
   "metadata": {
    "pycharm": {
     "is_executing": true
    }
   },
   "outputs": [
    {
     "name": "stdout",
     "output_type": "stream",
     "text": [
      "Number of faces detected: 1\n"
     ]
    }
   ],
   "source": [
    "import cv2\n",
    "from imutils import face_utils\n",
    "import dlib\n",
    "import face_recognition as fr\n",
    "import numpy as np\n",
    "from matplotlib import pyplot as plt\n",
    "\n",
    "# Load in color image for face detection\n",
    "image = cv2.imread('WIN_20210227_10_32_53_Pro.jpg')\n",
    "\n",
    "# Convert the image to RGB colorspace\n",
    "image = cv2.cvtColor(image, cv2.COLOR_BGR2RGB)\n",
    "\n",
    "# Make a copy of the original image to draw face detections on\n",
    "image_copy = np.copy(image)\n",
    "\n",
    "# Convert the image to gray\n",
    "gray_image = cv2.cvtColor(image, cv2.COLOR_RGB2GRAY)\n",
    "\n",
    "# Detect faces in the image using pre-trained face dectector\n",
    "face_cascade = cv2.CascadeClassifier(cv2.data.haarcascades + 'haarcascade_frontalface_default.xml')\n",
    "faces = face_cascade.detectMultiScale(gray_image, 1.25, 6)\n",
    "\n",
    "# Print number of faces found\n",
    "print('Number of faces detected:', len(faces))\n",
    "\n",
    "# Get the bounding box for each detected face\n",
    "face_crop = []\n",
    "for f in faces:\n",
    "    x, y, w, h = [ v for v in f ]\n",
    "    cv2.rectangle(image_copy, (x,y), (x+w, y+h), (255,0,0), 3)\n",
    "    # Define the region of interest in the image\n",
    "    face_crop.append(gray_image[y:y+h, x:x+w])\n",
    "\n",
    "# Display the face crops\n",
    "for face in face_crop:\n",
    "    cv2.imshow('face',face)\n",
    "    cv2.waitKey(0)\n"
   ]
  }
 ],
 "metadata": {
  "kernelspec": {
   "display_name": "Python 3",
   "language": "python",
   "name": "python3"
  },
  "language_info": {
   "codemirror_mode": {
    "name": "ipython",
    "version": 3
   },
   "file_extension": ".py",
   "mimetype": "text/x-python",
   "name": "python",
   "nbconvert_exporter": "python",
   "pygments_lexer": "ipython3",
   "version": "3.7.4"
  }
 },
 "nbformat": 4,
 "nbformat_minor": 1
}