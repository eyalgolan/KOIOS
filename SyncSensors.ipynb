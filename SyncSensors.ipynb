{
 "cells": [
  {
   "cell_type": "markdown",
   "metadata": {},
   "source": [
    "# Synchronize sensor data"
   ]
  },
  {
   "cell_type": "code",
   "execution_count": 2,
   "metadata": {},
   "outputs": [],
   "source": [
    "import logging\n",
    "logging.basicConfig(level=logging.INFO, format='%(levelname)s: %(asctime)s: %(message)s')\n",
    "\n",
    "import os\n",
    "import json\n",
    "from datetime import datetime, timedelta\n",
    "\n",
    "import numpy as np\n",
    "import pandas as pd\n",
    "import matplotlib.pyplot as plt\n",
    "\n",
    "import scipy.signal as sig"
   ]
  },
  {
   "cell_type": "markdown",
   "metadata": {},
   "source": [
    "### Set all the parameters"
   ]
  },
  {
   "cell_type": "code",
   "execution_count": 3,
   "metadata": {},
   "outputs": [],
   "source": [
    "patient = 'P101'\n",
    "#session = 'S002'\n",
    "session = 'S003'\n",
    "input_data_root = 'data_public'\n",
    "output_data_root = 'data_private'\n",
    "output_file = 'all_sensors.csv'"
   ]
  },
  {
   "cell_type": "markdown",
   "metadata": {},
   "source": [
    "### Read external signals"
   ]
  },
  {
   "cell_type": "code",
   "execution_count": 4,
   "metadata": {},
   "outputs": [],
   "source": [
    "def get_video_filename():\n",
    "    \"\"\"\n",
    "\n",
    "    :return:\n",
    "    \"\"\"\n",
    "    data_dict = json.loads(raw_json)\n",
    "    video_filename = data_dict[\"videos\"][\"phone\"][\"files\"][0]\n",
    "    return video_filename\n",
    "def get_filename(in_filename, file_type):\n",
    "    \"\"\"\n",
    "\n",
    "    :param in_filename:\n",
    "    :param file_type:\n",
    "    :return:\n",
    "    \"\"\"\n",
    "    for fname in os.listdir(raw_data_dir):\n",
    "        if in_filename in fname and file_type in fname:\n",
    "            return str(fname)\n",
    "\n",
    "def get_rawdata_json():\n",
    "    \"\"\"\n",
    "\n",
    "    :return:\n",
    "    \"\"\"\n",
    "    name = raw_data_dir\n",
    "\n",
    "    metis = {\"events\": get_filename(\"events\", \"csv\"),\n",
    "             \"sensors\": get_filename(\"sensors\", \"csv\")}\n",
    "    sensors ={\"OH1\":\n",
    "                  {\"ACC\":{\"dir\":\"\",\n",
    "                          \"files\":[get_filename(\"ACC\", \"txt\")]},\n",
    "                   \"PPG\":{\"dir\":\"\",\n",
    "                          \"files\":[get_filename(\"PPG\", \"txt\")]}},\n",
    "              \"H10\":\n",
    "                  {\"ECG\":{\"dir\":\"\",\n",
    "                          \"files\":[get_filename(\"ECG\", \"txt\")]},\n",
    "                   \"ACC\":{\"dir\":\"\",\n",
    "                          \"files\":[get_filename(\"ACC\", \"txt\")]}}}\n",
    "    videos = {\"phone\":\n",
    "                  {\"dir\":\"phone\",\n",
    "                   \"files\":[get_filename(\"P\", \"mp4\")]},\n",
    "              \"face\":\n",
    "                  {\"dir\":\"phone\",\n",
    "                   \"files\":\"\"},\n",
    "              \"body\":\n",
    "                  {\"dir\":\"phone\",\n",
    "                   \"files\":\"\"},\n",
    "              \"face_gopro\":\n",
    "                  {\"dir\":\"phone\",\n",
    "                   \"files\":\"\"}}\n",
    "\n",
    "    data = {\"name\":name,\n",
    "            \"metis\":metis,\n",
    "            \"sensors\":sensors,\n",
    "            \"videos\":videos}\n",
    "\n",
    "    raw_json = json.dumps(data, indent=4)\n",
    "    with open(\"data_file.json\", \"w\") as write_file:\n",
    "        json.dump(data, write_file, indent=4)\n",
    "    return raw_json\n"
   ]
  },
  {
   "cell_type": "code",
   "execution_count": 5,
   "metadata": {},
   "outputs": [
    {
     "name": "stderr",
     "output_type": "stream",
     "text": [
      "INFO: 2021-04-30 23:52:55,859: Obtaining collected data ...\n",
      "INFO: 2021-04-30 23:52:55,866: Total number of sensors: 2\n",
      "INFO: 2021-04-30 23:52:55,867: Sensor: OH1 Data: ACC File: /home/eyalgolan/PycharmProjects/KOIOS/first_video/Polar_OH1_6A32F923_20210427_112816_ACC.txt\n",
      "INFO: 2021-04-30 23:52:56,052: Sensor: OH1 Data: PPG File: /home/eyalgolan/PycharmProjects/KOIOS/first_video/Polar_OH1_6A32F923_20210427_112816_PPG.txt\n",
      "INFO: 2021-04-30 23:52:56,128: Sensor: H10 Data: ECG File: /home/eyalgolan/PycharmProjects/KOIOS/first_video/Polar_H10_5D42182B_20210427_112816_ECG.txt\n",
      "INFO: 2021-04-30 23:52:56,178: Sensor: H10 Data: ACC File: /home/eyalgolan/PycharmProjects/KOIOS/first_video/Polar_OH1_6A32F923_20210427_112816_ACC.txt\n"
     ]
    }
   ],
   "source": [
    "def get_polar_sensor(sensor_file, sensor_cols=None):\n",
    "    \"\"\"\n",
    "\n",
    "    :param sensor_file:\n",
    "    :param sensor_cols:\n",
    "    :return:\n",
    "    \"\"\"\n",
    "    if sensor_cols is None:\n",
    "        df = pd.read_csv(sensor_file, delimiter=\";\")\n",
    "    else:\n",
    "        df = pd.read_csv(sensor_file, delimiter=\";\", names=sensor_cols,\n",
    "                         skiprows=1)\n",
    "    df['timestamp'] = pd.to_datetime(df['Phone timestamp'], unit='ns').dt.round('1ms')\n",
    "    #df['timestamp'] = df['timestamp'] + pd.DateOffset(years=30, days=-1)\n",
    "    df = df.set_index(\"timestamp\")\n",
    "    return df\n",
    "\n",
    "\n",
    "logging.info(\"Obtaining collected data ...\")\n",
    "#raw_data_dir = \"..\\\\dataset\\\\good_sync\\\\perry-movement-3\"\n",
    "raw_data_dir = \"/home/eyalgolan/PycharmProjects/KOIOS/first_video/\"\n",
    "raw_json = get_rawdata_json()\n",
    "data_dict = json.loads(raw_json)\n",
    "n_sensors = len(data_dict[\"sensors\"])\n",
    "\n",
    "logging.info(f'Total number of sensors: {n_sensors}')\n",
    "files, df = {}, {}\n",
    "for sname, sdata in data_dict['sensors'].items():\n",
    "    for dname, ddata in sdata.items():\n",
    "        sensor = (sname, dname)\n",
    "        files[sensor] = os.path.join(raw_data_dir, ddata['dir'], ddata['files'][0])\n",
    "        logging.info(f'Sensor: {sname} Data: {dname} File: {files[sensor]}')\n",
    "        df[sensor] = get_polar_sensor(files[sensor])"
   ]
  },
  {
   "cell_type": "markdown",
   "metadata": {},
   "source": [
    "### Plot external signals"
   ]
  },
  {
   "cell_type": "code",
   "execution_count": 6,
   "metadata": {
    "scrolled": true
   },
   "outputs": [
    {
     "data": {
      "image/png": "[encoded data removed]",
      "text/plain": [
       "<Figure size 720x576 with 4 Axes>"
      ]
     },
     "metadata": {
      "needs_background": "light"
     },
     "output_type": "display_data"
    }
   ],
   "source": [
    "def plot_acc(df, key, fields, ax, title=''):\n",
    "    if key is None:\n",
    "        cdf = df\n",
    "    else:\n",
    "        if key in df:\n",
    "            cdf = df[key]\n",
    "        else: \n",
    "            logging.info(f'Key ({key}) does not exist')\n",
    "            return\n",
    "    for field in fields:\n",
    "        ax.plot(cdf.index, cdf[field], label=field)\n",
    "    ax.legend()\n",
    "    ax.set_title(title)\n",
    "\n",
    "if n_sensors > 0:\n",
    "    fig, ax = plt.subplots(figsize=(10,8), nrows=4, ncols=1, sharex=True)\n",
    "    plot_acc(df,('OH1','ACC'), ['X [mg]', 'Y [mg]', 'Z [mg]'], ax[0],'OH1 accelerometer')\n",
    "    plot_acc(df,('H10','ACC'), ['X [mg]', 'Y [mg]', 'Z [mg]'], ax[1], 'H10 accelerometer')\n",
    "    plot_acc(df,('OH1','PPG'), ['channel 0', 'channel 1', 'channel 2'], ax[2], 'OH1 PPG')\n",
    "    plot_acc(df,('H10','ECG'), ['ecg [uV]'], ax[3], 'H10 ECG')"
   ]
  },
  {
   "cell_type": "markdown",
   "metadata": {},
   "source": [
    "### Read phone sensors"
   ]
  },
  {
   "cell_type": "code",
   "execution_count": 103,
   "metadata": {},
   "outputs": [
    {
     "data": {
      "text/html": [
       "<div>\n",
       "<style scoped>\n",
       "    .dataframe tbody tr th:only-of-type {\n",
       "        vertical-align: middle;\n",
       "    }\n",
       "\n",
       "    .dataframe tbody tr th {\n",
       "        vertical-align: top;\n",
       "    }\n",
       "\n",
       "    .dataframe thead th {\n",
       "        text-align: right;\n",
       "    }\n",
       "</style>\n",
       "<table border=\"1\" class=\"dataframe\">\n",
       "  <thead>\n",
       "    <tr style=\"text-align: right;\">\n",
       "      <th></th>\n",
       "      <th>Sensor</th>\n",
       "      <th>X</th>\n",
       "      <th>Y</th>\n",
       "      <th>Z</th>\n",
       "      <th>DT</th>\n",
       "    </tr>\n",
       "  </thead>\n",
       "  <tbody>\n",
       "  </tbody>\n",
       "</table>\n",
       "</div>"
      ],
      "text/plain": [
       "Empty DataFrame\n",
       "Columns: [Sensor, X, Y, Z, DT]\n",
       "Index: []"
      ]
     },
     "execution_count": 103,
     "metadata": {},
     "output_type": "execute_result"
    }
   ],
   "source": [
    "sensor_cols = [\"Time\", \"Junk1\", \"Sensor\", \"X\", \"Y\", \"Z\", \"UX\", \"UY\", \"UZ\", \"Junk2\" ]\n",
    "data_dict = json.loads(raw_json)\n",
    "sensor_files = data_dict['metis']['sensors']\n",
    "\n",
    "if isinstance(sensor_files, list):\n",
    "    frames = []\n",
    "    for i,f in enumerate(sensor_files):\n",
    "        frames.append(pd.read_csv(os.path.join(raw_data_dir,f), skiprows=1, names=sensor_cols, engine=\"python\", usecols=[i for i in range(10)]))\n",
    "        sdf = pd.concat(frames, ignore_index = True)\n",
    "else:\n",
    "    sdf = pd.read_csv(os.path.join(raw_data_dir, sensor_files), skiprows=1, names=sensor_cols, engine=\"python\", usecols=[i for i in range(10)])\n",
    "\n",
    "sdf['DT'] = pd.to_datetime(sdf.Time, errors='coerce', format='%Y-%m-%d_%H:%M:%S:%f')\n",
    "#sdf['DT'] = pd.to_datetime(sdf.Time, errors='coerce', format='%Y-%m-%d %H:%M:%S:%f')\n",
    "sdf = sdf.drop(labels=[\"Junk1\", \"Junk2\",\"Time\"], axis=1)\n",
    "sdf = sdf.drop(labels=[\"UX\", \"UY\",\"UZ\"], axis=1)\n",
    "sdf['Sensor'] = sdf['Sensor'].astype('category')\n",
    "sdf = sdf.dropna()\n",
    "#display(sdf.head(5))\n",
    "sdf"
   ]
  },
  {
   "cell_type": "code",
   "execution_count": 101,
   "metadata": {},
   "outputs": [
    {
     "name": "stderr",
     "output_type": "stream",
     "text": [
      "INFO: 2021-05-01 00:51:42,019: Cleaning accelerometer\n",
      "INFO: 2021-05-01 00:51:42,024: Cleaning magnetometer\n"
     ]
    },
    {
     "name": "stdout",
     "output_type": "stream",
     "text": [
      "<class 'pandas.core.series.Series'>\n",
      "<class 'pandas.core.series.Series'>\n"
     ]
    }
   ],
   "source": [
    "def clean_sensor(sensor_df, idx):\n",
    "    logging.info(f'Original number of samples: {sensor_df.shape[0]}')\n",
    "    # Leave unique values per sample\n",
    "    sensor_df = sensor_df.groupby('DT').mean()\n",
    "    logging.info(f'After duplicate removal, number of samples: {sensor_df.shape[0]}')\n",
    "    # Add missing data\n",
    "    cidx = idx.union(sensor_df.index)\n",
    "    sensor_df = sensor_df.reindex(cidx).interpolate(method='linear')\n",
    "    sensor_df = sensor_df.loc[idx]\n",
    "    logging.info(f'After interpolation to 100 samples/sec, number of samples: {sensor_df.shape[0]}')\n",
    "    return sensor_df\n",
    "\n",
    "idx = pd.date_range(start=sdf.iloc[0]['DT'], end=sdf.iloc[-1]['DT'],freq='.01S')\n",
    "sdf = sdf.set_index('DT')\n",
    "logging.info('Cleaning accelerometer')\n",
    "acc = clean_sensor(sdf.loc[sdf[\"Sensor\"]==\"ICM42605M Accelerometer\",['DT','X','Y','Z']], idx)\n",
    "logging.info('Cleaning magnetometer')\n",
    "mag = clean_sensor(sdf.loc[sdf[\"Sensor\"]==\"AK09918 Magnetometer\",['DT','X','Y','Z']], idx)\n",
    "mag = mag.reindex(index=acc.index, method='nearest')\n",
    "logging.info('Cleaning gyroscope')\n",
    "gyr = clean_sensor(sdf.loc[sdf[\"Sensor\"]==\"ICM42605M Gyroscope\",['DT','X','Y','Z']], idx)\n",
    "gyr = gyr.reindex(index=acc.index, method='nearest')\n",
    "\n",
    "sdf = sdf.set_index('DT')\n",
    "#display(sdf.head(5))"
   ]
  },
  {
   "cell_type": "code",
   "execution_count": null,
   "metadata": {},
   "outputs": [],
   "source": [
    "sensors = ['acc', 'gyr', 'mag']\n",
    "axes = ['x', 'y', 'z']\n",
    "pdf=pd.concat([acc, gyr,mag],axis=1)\n",
    "pdf.columns = pd.MultiIndex.from_product([sensors, axes], names=['Sensor', 'Axis'])\n",
    "\n",
    "#display(pdf.head(5))"
   ]
  },
  {
   "cell_type": "code",
   "execution_count": null,
   "metadata": {},
   "outputs": [],
   "source": [
    "fig, ax = plt.subplots(figsize=(10,8), nrows=3, ncols=1, sharex=True)\n",
    "plot_acc(pdf, None, [('acc','x'), ('acc','y'), ('acc','z')], ax=ax[0], title='Phone accelerometer')\n",
    "plot_acc(df, ('OH1','ACC'), ['X [mg]', 'Y [mg]', 'Z [mg]'], ax=ax[1],title='OH1 accelerometer')\n",
    "plot_acc(df, ('H10','ACC'), ['X [mg]', 'Y [mg]', 'Z [mg]'], ax=ax[2], title='H10 accelerometer')"
   ]
  },
  {
   "cell_type": "code",
   "execution_count": null,
   "metadata": {},
   "outputs": [],
   "source": [
    "if n_sensors == 0:\n",
    "    output_path = os.path.join(output_data_root,patient,session,'ProcData',output_file) \n",
    "    pdf.to_csv(output_path)\n",
    "    logging.info(f'Saved file {output_path}')"
   ]
  },
  {
   "cell_type": "markdown",
   "metadata": {},
   "source": [
    "### Find offset of signals"
   ]
  },
  {
   "cell_type": "code",
   "execution_count": null,
   "metadata": {},
   "outputs": [],
   "source": [
    "# Find commom period\n",
    "b = np.max((df['OH1','ACC'].index[0], df['H10','ACC'].index[0], pdf.index[0]))\n",
    "e = np.min((df['OH1','ACC'].index[-1], df['H10','ACC'].index[-1], pdf.index[-1]))\n",
    "\n",
    "fig, ax = plt.subplots(figsize=(10,6), nrows=2, ncols=1)\n",
    "\n",
    "x, cdf = {}, {}\n",
    "cdf['phone'] = pdf[(pdf.index>b) & (pdf.index<e)]\n",
    "x['phone'] = np.sqrt(cdf['phone'][('acc','x')]**2+cdf['phone'][('acc','y')]**2+cdf['phone'][('acc','z')]**2)\n",
    "for key in ['OH1', 'H10']:\n",
    "    cdf[key] = df[key,'ACC'].reindex(index=cdf['phone'].index, method='nearest')\n",
    "    x[key] = np.sqrt(cdf[key]['X [mg]']**2+cdf[key]['Y [mg]']**2+cdf[key]['Z [mg]']**2)\n",
    "logging.info(f'Phone cut {cdf[\"phone\"].shape[0]} OH1 cut {cdf[\"OH1\"].shape[0]} H10 cut {cdf[\"H10\"].shape[0]}')\n",
    "\n",
    "bh, ah = sig.butter(4, 1/(100/2),'highpass')\n",
    "bl, al = sig.butter(4, 10/(100/2),'lowpass')\n",
    "for i in ['phone', 'OH1', 'H10']:\n",
    "    #x[i] -= np.mean(x[i])\n",
    "    x[i] = sig.filtfilt(bh, ah, x[i])\n",
    "    x[i] = np.absolute(x[i])\n",
    "    x[i] = sig.filtfilt(bl, al, x[i])\n",
    "    ax[0].plot(x[i], label=i)\n",
    "ax[0].legend()\n",
    "\n",
    "offset = {}\n",
    "for pair in (('phone', 'OH1'), ('phone', 'H10'), ('H10', 'OH1')):\n",
    "    l = ax[1].xcorr(x[pair[0]], x[pair[1]], maxlags=1000, usevlines=False, label=f'{pair[0]} vs. {pair[1]}', marker='.', linestyle='-')\n",
    "    offset[pair] = l[0][l[1].argmax()]\n",
    "    logging.info(f'Offset {pair[0]} vs. {pair[1]} is: {offset[pair]}')\n",
    "ax[1].legend()"
   ]
  },
  {
   "cell_type": "code",
   "execution_count": null,
   "metadata": {},
   "outputs": [],
   "source": [
    "for key in df.keys():\n",
    "    off = offset['phone', key[0]]\n",
    "    logging.info(f'Sensor {key[0]} Data {key[1]} Offset: {off}')\n",
    "    df[key]['adj_timestamp'] = df[key].index + timedelta(milliseconds=0.0+off*10)\n",
    "    df[key] = df[key].set_index('adj_timestamp')"
   ]
  },
  {
   "cell_type": "code",
   "execution_count": null,
   "metadata": {},
   "outputs": [],
   "source": [
    "for key in df.keys():\n",
    "    idx = pdf.index[(pdf.index>=df[key].index[0]) & (pdf.index<=df[key].index[-1])]\n",
    "    aidx = idx.union(df[key].index)\n",
    "    interp_df = df[key].reindex(aidx).interpolate(method='linear')\n",
    "    index_df = interp_df.loc[idx]\n",
    "    for column in df[key].columns:\n",
    "        pdf[f'{key[0]}-{key[1]}', column] = index_df[column]"
   ]
  },
  {
   "cell_type": "code",
   "execution_count": null,
   "metadata": {
    "pycharm": {
     "name": "#%%\n"
    }
   },
   "outputs": [],
   "source": [
    "pdf.to_csv(\"..\\\\dataset\\\\good_sync\\\\perry-movement-3\\\\\" + output_file)"
   ]
  },
  {
   "cell_type": "code",
   "execution_count": null,
   "metadata": {
    "pycharm": {
     "name": "#%%\n"
    }
   },
   "outputs": [],
   "source": [
    "#print(pdf[('OH1-PPG', 'X [mg]')])\n",
    "#fig, ax = plt.subplots(figsize=(10,8), nrows=3, ncols=1, sharex=True)\n",
    "#plot_acc(pdf, None, [('acc','x'), ('acc','y'), ('acc','z')], ax=ax[0], title='Phone accelerometer')\n",
    "#plot_acc(pdf, 'OH1-ACC', ['X [mg]', 'Y [mg]', 'Z [mg]'], ax=ax[1],title='OH1 accelerometer')\n",
    "#plot_acc(pdf, 'OH1-PPG', ['X [mg]', 'Y [mg]', 'Z [mg]'], ax=ax[2], title='H10 accelerometer')"
   ]
  }
 ],
 "metadata": {
  "kernelspec": {
   "display_name": "Python 3",
   "language": "python",
   "name": "python3"
  },
  "language_info": {
   "codemirror_mode": {
    "name": "ipython",
    "version": 3
   },
   "file_extension": ".py",
   "mimetype": "text/x-python",
   "name": "python",
   "nbconvert_exporter": "python",
   "pygments_lexer": "ipython3",
   "version": "3.8.5"
  }
 },
 "nbformat": 4,
 "nbformat_minor": 4
}